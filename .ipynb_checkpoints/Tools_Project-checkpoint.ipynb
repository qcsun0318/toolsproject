{
 "cells": [
  {
   "cell_type": "code",
   "execution_count": 18,
   "metadata": {},
   "outputs": [],
   "source": [
    "# scraping libraries to read html code\n",
    "import requests\n",
    "from bs4 import BeautifulSoup\n",
    "import json"
   ]
  },
  {
   "cell_type": "code",
   "execution_count": 19,
   "metadata": {},
   "outputs": [],
   "source": [
    "# pandas library to create dataframe\n",
    "# re for match\n",
    "import pandas as pd\n",
    "import numpy as np\n",
    "import re"
   ]
  },
  {
   "cell_type": "code",
   "execution_count": 20,
   "metadata": {},
   "outputs": [],
   "source": [
    "# standard library to count frequency \n",
    "import collections "
   ]
  },
  {
   "cell_type": "code",
   "execution_count": 6,
   "metadata": {
    "slideshow": {
     "slide_type": "-"
    }
   },
   "outputs": [
    {
     "name": "stdout",
     "output_type": "stream",
     "text": [
      "What do you want to eat ? pizza\n",
      "Where are you ? new york\n"
     ]
    },
    {
     "data": {
      "text/plain": [
       "'https://www.yelp.com/search?find_desc=pizza&find_loc=new york'"
      ]
     },
     "execution_count": 6,
     "metadata": {},
     "output_type": "execute_result"
    }
   ],
   "source": [
    "# Direct to initial results\n",
    "url = 'https://www.yelp.com/search?find_desc='\n",
    "keyword = input('What do you want to eat ? ')\n",
    "address = input('Where are you ? ')\n",
    "\n",
    "url = 'https://www.yelp.com/search?find_desc='+ keyword + '&find_loc=' + address \n",
    "url"
   ]
  },
  {
   "cell_type": "code",
   "execution_count": 7,
   "metadata": {},
   "outputs": [
    {
     "data": {
      "text/plain": [
       "200"
      ]
     },
     "execution_count": 7,
     "metadata": {},
     "output_type": "execute_result"
    }
   ],
   "source": [
    "# Checking if the url is \"valid\", the status code should be 200\n",
    "response = requests.get(url)\n",
    "response.status_code"
   ]
  },
  {
   "cell_type": "code",
   "execution_count": 17,
   "metadata": {},
   "outputs": [],
   "source": [
    "# extract the html code from the web page = https://www.yelp.com/search?find_desc=Restaurants&find_loc=New+York,+NY&start=30\n",
    "results_page = BeautifulSoup(response.content,'lxml')"
   ]
  },
  {
   "cell_type": "code",
   "execution_count": null,
   "metadata": {},
   "outputs": [],
   "source": [
    "# creating a list of businesses with the html code of the business as elements of the list\n",
    "businesses = results_page.find_all('a',class_ = \"biz-name js-analytics-click\")"
   ]
  },
  {
   "cell_type": "code",
   "execution_count": null,
   "metadata": {},
   "outputs": [],
   "source": [
    "# selecting the first element (a particular restaurant in our case) of the list businesses and looking in the\n",
    "#ignore the first element of the businesses list, it is an ad by yelp, regular list start from the second (index = 1)\n",
    "# html code for its name\n",
    "business = businesses[1]\n",
    "name = business.find('span').get_text()\n",
    "\n",
    "# getting the link to the yelp page this particular restaurant\n",
    "link = 'https://www.yelp.com' + business.get('href')"
   ]
  },
  {
   "cell_type": "code",
   "execution_count": null,
   "metadata": {},
   "outputs": [],
   "source": [
    "print(name,link)"
   ]
  },
  {
   "cell_type": "code",
   "execution_count": null,
   "metadata": {},
   "outputs": [],
   "source": [
    "# extracting the html code of the web page associated with the first business of our list businesses\n",
    "response_business = requests.get(link)\n",
    "results_business_page = BeautifulSoup(response_business.content,'lxml')"
   ]
  },
  {
   "cell_type": "code",
   "execution_count": null,
   "metadata": {},
   "outputs": [],
   "source": [
    "# looking in the html page of the restaurant for latitude and longitude coordinates of the restaurant\n",
    "# the json object json_map contains these coordinates\n",
    "json_map = results_business_page.find('div', class_ = \"lightbox-map hidden\").get('data-map-state')\n",
    "\n",
    "# we can convert this json object to a python dictionnary using the following method\n",
    "dict_map = json.loads(json_map)\n",
    "\n",
    "# the relevant keys in this dict are \"markers\", \"location\" and \"latitude\" and \"longitude\"\n",
    "latitude = dict_map[\"markers\"][1][\"location\"][\"latitude\"]\n",
    "longitude = dict_map[\"markers\"][1][\"location\"][\"longitude\"]"
   ]
  },
  {
   "cell_type": "code",
   "execution_count": null,
   "metadata": {},
   "outputs": [],
   "source": [
    "json_map"
   ]
  },
  {
   "cell_type": "code",
   "execution_count": null,
   "metadata": {},
   "outputs": [],
   "source": [
    "print(latitude,longitude)"
   ]
  },
  {
   "cell_type": "code",
   "execution_count": null,
   "metadata": {},
   "outputs": [],
   "source": [
    "# The category can be found in the 'a' tag under \"span\", class_ = 'category-str-list' tag, \n",
    "category= results_business_page.find(\"span\", class_ = 'category-str-list').find('a').get_text()"
   ]
  },
  {
   "cell_type": "code",
   "execution_count": null,
   "metadata": {},
   "outputs": [],
   "source": [
    "category"
   ]
  },
  {
   "cell_type": "code",
   "execution_count": null,
   "metadata": {},
   "outputs": [],
   "source": [
    "# the price range ('$','$$','$$$', or '$$$$') can be found in the \"span\", class_ = 'business-attribute price-range' tag\n",
    "# the price range is not always available, that is why we need to catch errors \n",
    "# if necessary (hence the try: except) structure\n",
    "\n",
    "try:\n",
    "    price_range = results_business_page.find(\"span\", class_ = 'business-attribute price-range').get_text()\n",
    "except:\n",
    "    price_range = None"
   ]
  },
  {
   "cell_type": "code",
   "execution_count": null,
   "metadata": {},
   "outputs": [],
   "source": [
    "print(price_range)"
   ]
  },
  {
   "cell_type": "code",
   "execution_count": null,
   "metadata": {},
   "outputs": [],
   "source": [
    "# the ratings associated to a particular restaurant are in the \"div\", itemprop = 'aggregateRating' tag\n",
    "# the rating value (between 0 and 5) can be accessed through ratings (= results_business_page.find(\"div\", \n",
    "# itemprop = 'aggregateRating') at the tag \"meta\" and the attribute 'content'\n",
    "# the number of reviews is available through ratings at the 'span' tag\n",
    "\n",
    "ratings = results_business_page.find(\"div\", itemprop = 'aggregateRating')\n",
    "rating_value = ratings.find(\"meta\").get('content')\n",
    "review_count = ratings.find(\"span\").get_text()"
   ]
  },
  {
   "cell_type": "code",
   "execution_count": null,
   "metadata": {},
   "outputs": [],
   "source": [
    "print(rating_value,review_count)"
   ]
  },
  {
   "cell_type": "code",
   "execution_count": null,
   "metadata": {},
   "outputs": [],
   "source": [
    "# the phone number can be accessed at the tag 'span',itemprop = \"telephone\"\n",
    "# phone numbers are not always available so we need to catch errors using the try:... except: structure\n",
    "\n",
    "try:\n",
    "    phone_number = results_business_page.find('span',itemprop = \"telephone\").get_text().strip()\n",
    "except:\n",
    "    phone_number = None   "
   ]
  },
  {
   "cell_type": "code",
   "execution_count": null,
   "metadata": {},
   "outputs": [],
   "source": [
    "print(phone_number)"
   ]
  },
  {
   "cell_type": "code",
   "execution_count": null,
   "metadata": {},
   "outputs": [],
   "source": [
    "# We want to know if the restaurant is currently open: this information is \n",
    "# given at the 'span', class_ = \"nowrap extra open\" tag. This information is not always \n",
    "# available that is why we use the try: ... except:... structure\n",
    "\n",
    "try:\n",
    "    open_ = results_business_page.find('span', class_ = \"nowrap extra open\").get_text()\n",
    "except:\n",
    "    open_ = None"
   ]
  },
  {
   "cell_type": "code",
   "execution_count": null,
   "metadata": {},
   "outputs": [],
   "source": [
    "print(open_)"
   ]
  },
  {
   "cell_type": "code",
   "execution_count": null,
   "metadata": {},
   "outputs": [],
   "source": [
    "try:\n",
    "    addr = results_business_page.find('strong', class_ = \"street-address\").get_text().strip()\n",
    "except:\n",
    "    addr = None\n",
    "addr"
   ]
  },
  {
   "cell_type": "code",
   "execution_count": null,
   "metadata": {},
   "outputs": [],
   "source": [
    "try:\n",
    "    web = results_business_page.find('span', class_ = \"biz-website js-biz-website js-add-url-tagging\").find('a').get_text()\n",
    "except:\n",
    "    web = None\n",
    "web"
   ]
  },
  {
   "cell_type": "code",
   "execution_count": 4,
   "metadata": {},
   "outputs": [],
   "source": [
    "#want to put all infomations we want to get from one business into one funtion\n",
    "#input: specific restaurant url link\n",
    "#output: all details we tested above\n",
    "def get_info(link):\n",
    "    response_business = requests.get(link)\n",
    "    results_business_page = BeautifulSoup(response_business.content,'lxml')\n",
    "    \n",
    "    try:\n",
    "        addr = results_business_page.find('strong', class_ = \"street-address\").get_text().strip()\n",
    "    except:\n",
    "        addr = None\n",
    "\n",
    "    try:\n",
    "        json_map = results_business_page.find('div', class_ = \"lightbox-map hidden\").get('data-map-state')\n",
    "        dict_map = json.loads(json_map)\n",
    "        lat = dict_map[\"markers\"][1][\"location\"][\"latitude\"]\n",
    "        lon = dict_map[\"markers\"][1][\"location\"][\"longitude\"]\n",
    "    except: \n",
    "        json_map = None \n",
    "\n",
    "    try: \n",
    "        category = results_business_page.find(\"span\", class_ = 'category-str-list').find('a').get_text()\n",
    "    except:\n",
    "        category = None\n",
    "        \n",
    "    try:\n",
    "        price_range = results_business_page.find(\"span\", class_ = 'business-attribute price-range').get_text()\n",
    "    except:\n",
    "        price_range = None\n",
    "        \n",
    "    try: \n",
    "        rating_value = results_business_page.find(\"div\", {'itemprop' : \"aggregateRating\"}).find(\"meta\").get('content')\n",
    "    except: \n",
    "        rating_value = None\n",
    "          \n",
    "    try:\n",
    "        phone_number = results_business_page.find('span',itemprop = \"telephone\").get_text().strip()\n",
    "    except:\n",
    "        phone_number = None\n",
    "        \n",
    "    try:\n",
    "        open_ = results_business_page.find('span', class_ = \"nowrap extra open\").get_text()\n",
    "    except:\n",
    "        open_ = 'closed now'\n",
    "        \n",
    "    try:\n",
    "        web = results_business_page.find('span', class_ = \"biz-website js-biz-website js-add-url-tagging\").find('a').get_text()\n",
    "    except:\n",
    "        web = None\n",
    "    \n",
    "    try:\n",
    "        moreinfo = results_business_page.find_all('dl')\n",
    "        delivery = \"No\"\n",
    "        for i in moreinfo[1:]:\n",
    "            try:\n",
    "                attr = i.find('dt',{'class':\"attribute-key\"}).get_text().strip()\n",
    "                yon = i.find('dd').get_text().strip()\n",
    "                if attr == 'Delivery':\n",
    "                    delivery = yon\n",
    "                    break\n",
    "            except:\n",
    "                delivery = delivery\n",
    "\n",
    "    except:\n",
    "        delivery = None\n",
    "        \n",
    "    return(addr,category,price_range,rating_value,phone_number,open_,web,delivery,lat,lon)\n",
    "    "
   ]
  },
  {
   "cell_type": "code",
   "execution_count": null,
   "metadata": {},
   "outputs": [],
   "source": [
    "#Get a list of url links of all businesses (or maybe the first 30)\n",
    "#so that we could compile a list of details on, for example, the first 30 search-result restaurants\n",
    "link_list = []\n",
    "\n",
    "for i in range(1,len(businesses)):\n",
    "    business = businesses[i]\n",
    "    link = 'https://www.yelp.com' + business.get('href')\n",
    "    link_list.append(link)"
   ]
  },
  {
   "cell_type": "code",
   "execution_count": null,
   "metadata": {},
   "outputs": [],
   "source": [
    "#Create a list of restaurant names\n",
    "name_list=[]\n",
    "for i in range(1,len(businesses)):\n",
    "    business = businesses[i]\n",
    "    name = business.find('span').get_text()\n",
    "    name_list.append(name)"
   ]
  },
  {
   "cell_type": "code",
   "execution_count": null,
   "metadata": {},
   "outputs": [],
   "source": [
    "#Create a list of all restaurants' information\n",
    "info_list=[]\n",
    "\n",
    "for i in range(len(link_list)):\n",
    "    info_list.append(get_info(link_list[i]))"
   ]
  },
  {
   "cell_type": "code",
   "execution_count": 5,
   "metadata": {},
   "outputs": [],
   "source": [
    "def get_businesses():\n",
    "    global keyword\n",
    "    keyword = input('What do you want to eat ? ')\n",
    "    global address\n",
    "    address = input('Where are you ? ')\n",
    "    limit = input('How many results do you want? ')\n",
    "    filters = input('Do you want to sort by \\n 1: price low to high  \\n 2: price high to low  \\n 3: ratings? \\n Please enter the number 1/2/3:')\n",
    "    \n",
    "    #first page - figure out numbers of results per page\n",
    "    url = 'https://www.yelp.com/search?find_desc='+ keyword + '&find_loc=' + address \n",
    "    response = requests.get(url)\n",
    "    try:\n",
    "        results_page = BeautifulSoup(response.content,'lxml')\n",
    "    except:\n",
    "        print(\"we didn't get back result page from yelp correctly\")\n",
    "    noperpage = results_page.find('span',{'class':'pagination-results-window'}).get_text().strip()[10:12]\n",
    "    noperpage = int(noperpage)\n",
    "    businesses = results_page.find_all('a',{'data-analytics-label':\"biz-name\"})[1:]\n",
    "    global cuisine_styles\n",
    "    cuisine_styles = results_page.find_all('span',class_=\"category-str-list\")\n",
    "    \n",
    "    #start loop from the second page to get enough number of restaurants\n",
    "    loop_range = (int(limit)-1)//noperpage\n",
    "    for pagination in range(1, loop_range+1):\n",
    "        url = 'https://www.yelp.com/search?find_desc='+ keyword + '&find_loc=' + address + '&start=' + str(pagination*noperpage)\n",
    "        response = requests.get(url)\n",
    "        try:\n",
    "            results_page = BeautifulSoup(response.content,'lxml')\n",
    "        except:\n",
    "            print(\"we didn't get back result page from yelp correctly\")\n",
    "        \n",
    "        businesses.extend(results_page.find_all('a',{'data-analytics-label':\"biz-name\"})[1:])\n",
    "    businesses = businesses[:int(limit)]\n",
    "    \n",
    "    #generate details by get_info and format in dataframe\n",
    "    business_list = []\n",
    "    for business in businesses:\n",
    "        name = business.find('span').get_text()\n",
    "        link = 'https://www.yelp.com' + business.get('href')\n",
    "        addr,category,price_range,rating_value,phone_number,open_,web,delivery,lat,lon= get_info(link)\n",
    "        business_list.append([name,addr,open_,price_range,rating_value,category,phone_number,web,delivery,lat,lon])\n",
    "    df = pd.DataFrame(business_list[:int(limit)+1], columns = ['name','address','open or closed','price range','rating value','category','phone','website','delivery service','lat','lon'])\n",
    "    \n",
    "    #sortby...\n",
    "    pattern = r'rat'\n",
    "    match = bool(re.search(pattern, filters))\n",
    "    if match or filters == '3':\n",
    "        df = df.sort_values(by='rating value',ascending=False)\n",
    "    \n",
    "    elif filters == 'price low to high' or filters == '1':\n",
    "        df['length'] = df['price range'].apply(lambda x: len(x))\n",
    "        df = df.sort_values(by='length',ascending=True)\n",
    "        df = df.drop('length', axis=1)\n",
    "        \n",
    "    elif filters == 'price high to low' or filters == '2':\n",
    "        df['length'] = df['price range'].apply(lambda x: len(x))\n",
    "        df = df.sort_values(by='length',ascending=False)\n",
    "        df = df.drop('length', axis=1)\n",
    "    \n",
    "    return(df)"
   ]
  },
  {
   "cell_type": "code",
   "execution_count": 6,
   "metadata": {},
   "outputs": [
    {
     "name": "stdout",
     "output_type": "stream",
     "text": [
      "What do you want to eat ? lobster\n",
      "Where are you ? boston\n",
      "How many results do you want? 12\n",
      "Do you want to sort by \n",
      " 1: price low to high  \n",
      " 2: price high to low  \n",
      " 3: ratings? \n",
      " Please enter the number 1/2/3:2\n"
     ]
    }
   ],
   "source": [
    "res = get_businesses()"
   ]
  },
  {
   "cell_type": "code",
   "execution_count": 7,
   "metadata": {},
   "outputs": [
    {
     "data": {
      "text/html": [
       "<div>\n",
       "<style scoped>\n",
       "    .dataframe tbody tr th:only-of-type {\n",
       "        vertical-align: middle;\n",
       "    }\n",
       "\n",
       "    .dataframe tbody tr th {\n",
       "        vertical-align: top;\n",
       "    }\n",
       "\n",
       "    .dataframe thead th {\n",
       "        text-align: right;\n",
       "    }\n",
       "</style>\n",
       "<table border=\"1\" class=\"dataframe\">\n",
       "  <thead>\n",
       "    <tr style=\"text-align: right;\">\n",
       "      <th></th>\n",
       "      <th>name</th>\n",
       "      <th>address</th>\n",
       "      <th>open or closed</th>\n",
       "      <th>price range</th>\n",
       "      <th>rating value</th>\n",
       "      <th>category</th>\n",
       "      <th>phone</th>\n",
       "      <th>website</th>\n",
       "      <th>delivery service</th>\n",
       "      <th>lat</th>\n",
       "      <th>lon</th>\n",
       "    </tr>\n",
       "  </thead>\n",
       "  <tbody>\n",
       "    <tr>\n",
       "      <th>1</th>\n",
       "      <td>Neptune Oyster</td>\n",
       "      <td>63 Salem StBoston, MA 02113</td>\n",
       "      <td>closed now</td>\n",
       "      <td>$$$</td>\n",
       "      <td>4.5</td>\n",
       "      <td>Seafood</td>\n",
       "      <td>(617) 742-3474</td>\n",
       "      <td>neptuneoyster.com</td>\n",
       "      <td>No</td>\n",
       "      <td>42.363271</td>\n",
       "      <td>-71.056058</td>\n",
       "    </tr>\n",
       "    <tr>\n",
       "      <th>5</th>\n",
       "      <td>Island Creek Oyster Bar</td>\n",
       "      <td>500 Commonwealth AveBoston, MA 02215</td>\n",
       "      <td>closed now</td>\n",
       "      <td>$$$</td>\n",
       "      <td>4.5</td>\n",
       "      <td>Seafood</td>\n",
       "      <td>(617) 532-5300</td>\n",
       "      <td>islandcreekoysterbar.com</td>\n",
       "      <td>No</td>\n",
       "      <td>42.348682</td>\n",
       "      <td>-71.095118</td>\n",
       "    </tr>\n",
       "    <tr>\n",
       "      <th>7</th>\n",
       "      <td>Atlantic Fish</td>\n",
       "      <td>761 Boylston StBoston, MA 02116</td>\n",
       "      <td>closed now</td>\n",
       "      <td>$$$</td>\n",
       "      <td>4.0</td>\n",
       "      <td>Seafood</td>\n",
       "      <td>(617) 267-4000</td>\n",
       "      <td>atlanticfishco.com</td>\n",
       "      <td>Yes</td>\n",
       "      <td>42.349222</td>\n",
       "      <td>-71.081127</td>\n",
       "    </tr>\n",
       "    <tr>\n",
       "      <th>11</th>\n",
       "      <td>Row 34</td>\n",
       "      <td>383 Congress StBoston, MA 02210</td>\n",
       "      <td>closed now</td>\n",
       "      <td>$$$</td>\n",
       "      <td>4.0</td>\n",
       "      <td>American (New)</td>\n",
       "      <td>(617) 553-5900</td>\n",
       "      <td>row34.com</td>\n",
       "      <td>No</td>\n",
       "      <td>42.349581</td>\n",
       "      <td>-71.047504</td>\n",
       "    </tr>\n",
       "    <tr>\n",
       "      <th>0</th>\n",
       "      <td>Luke’s Lobster Back Bay</td>\n",
       "      <td>75 Exeter StreetBoston, MA 02116</td>\n",
       "      <td>closed now</td>\n",
       "      <td>$$</td>\n",
       "      <td>4.0</td>\n",
       "      <td>Seafood</td>\n",
       "      <td>(857) 350-4626</td>\n",
       "      <td>lukeslobster.com</td>\n",
       "      <td>Yes</td>\n",
       "      <td>42.348838</td>\n",
       "      <td>-71.079455</td>\n",
       "    </tr>\n",
       "    <tr>\n",
       "      <th>2</th>\n",
       "      <td>Yankee Lobster</td>\n",
       "      <td>300 Northern AveBoston, MA 02210</td>\n",
       "      <td>closed now</td>\n",
       "      <td>$$</td>\n",
       "      <td>4.0</td>\n",
       "      <td>Seafood</td>\n",
       "      <td>(617) 345-9799</td>\n",
       "      <td>yankeelobstercompany.com</td>\n",
       "      <td>No</td>\n",
       "      <td>42.347922</td>\n",
       "      <td>-71.035988</td>\n",
       "    </tr>\n",
       "    <tr>\n",
       "      <th>3</th>\n",
       "      <td>James Hook &amp; Co</td>\n",
       "      <td>15-17 Northern AveBoston, MA 02110</td>\n",
       "      <td>closed now</td>\n",
       "      <td>$$</td>\n",
       "      <td>4.0</td>\n",
       "      <td>Seafood</td>\n",
       "      <td>(617) 423-5501</td>\n",
       "      <td>jameshooklobster.com</td>\n",
       "      <td>No</td>\n",
       "      <td>42.354962</td>\n",
       "      <td>-71.050974</td>\n",
       "    </tr>\n",
       "    <tr>\n",
       "      <th>4</th>\n",
       "      <td>Alive &amp; Kicking Lobsters</td>\n",
       "      <td>269 Putnam AveCambridge, MA 02139</td>\n",
       "      <td>closed now</td>\n",
       "      <td>$$</td>\n",
       "      <td>4.5</td>\n",
       "      <td>Seafood</td>\n",
       "      <td>(617) 876-0451</td>\n",
       "      <td>aliveandkickinglobsters.com</td>\n",
       "      <td>No</td>\n",
       "      <td>42.362676</td>\n",
       "      <td>-71.113820</td>\n",
       "    </tr>\n",
       "    <tr>\n",
       "      <th>6</th>\n",
       "      <td>Pauli’s</td>\n",
       "      <td>65 Salem StBoston, MA 02113</td>\n",
       "      <td>closed now</td>\n",
       "      <td>$$</td>\n",
       "      <td>4.5</td>\n",
       "      <td>Sandwiches</td>\n",
       "      <td>(857) 284-7064</td>\n",
       "      <td>paulisnorthend.com</td>\n",
       "      <td>Yes</td>\n",
       "      <td>42.363244</td>\n",
       "      <td>-71.056085</td>\n",
       "    </tr>\n",
       "    <tr>\n",
       "      <th>8</th>\n",
       "      <td>North End Fish Market</td>\n",
       "      <td>99 Salem StBoston, MA 02113</td>\n",
       "      <td>closed now</td>\n",
       "      <td>$$</td>\n",
       "      <td>4.5</td>\n",
       "      <td>Sushi Bars</td>\n",
       "      <td>(857) 362-7477</td>\n",
       "      <td>northendfish.com</td>\n",
       "      <td>Yes</td>\n",
       "      <td>42.363922</td>\n",
       "      <td>-71.055526</td>\n",
       "    </tr>\n",
       "    <tr>\n",
       "      <th>9</th>\n",
       "      <td>Lobstah On A Roll</td>\n",
       "      <td>537A Columbus AveBoston, MA 02118</td>\n",
       "      <td>closed now</td>\n",
       "      <td>$$</td>\n",
       "      <td>4.5</td>\n",
       "      <td>Seafood</td>\n",
       "      <td>(617) 903-4005</td>\n",
       "      <td>Lobstahonaroll.com</td>\n",
       "      <td>Yes</td>\n",
       "      <td>42.341714</td>\n",
       "      <td>-71.080790</td>\n",
       "    </tr>\n",
       "    <tr>\n",
       "      <th>10</th>\n",
       "      <td>Boston Chowda</td>\n",
       "      <td>1 Faneuil Hall Market PlBoston, MA 02109</td>\n",
       "      <td>closed now</td>\n",
       "      <td>$$</td>\n",
       "      <td>4.0</td>\n",
       "      <td>Seafood</td>\n",
       "      <td>(617) 742-4441</td>\n",
       "      <td>bostonchowda.com</td>\n",
       "      <td>Yes</td>\n",
       "      <td>42.360065</td>\n",
       "      <td>-71.055374</td>\n",
       "    </tr>\n",
       "  </tbody>\n",
       "</table>\n",
       "</div>"
      ],
      "text/plain": [
       "                        name                                   address  \\\n",
       "1             Neptune Oyster               63 Salem StBoston, MA 02113   \n",
       "5    Island Creek Oyster Bar      500 Commonwealth AveBoston, MA 02215   \n",
       "7              Atlantic Fish           761 Boylston StBoston, MA 02116   \n",
       "11                    Row 34           383 Congress StBoston, MA 02210   \n",
       "0    Luke’s Lobster Back Bay          75 Exeter StreetBoston, MA 02116   \n",
       "2             Yankee Lobster          300 Northern AveBoston, MA 02210   \n",
       "3            James Hook & Co        15-17 Northern AveBoston, MA 02110   \n",
       "4   Alive & Kicking Lobsters         269 Putnam AveCambridge, MA 02139   \n",
       "6                    Pauli’s               65 Salem StBoston, MA 02113   \n",
       "8      North End Fish Market               99 Salem StBoston, MA 02113   \n",
       "9          Lobstah On A Roll         537A Columbus AveBoston, MA 02118   \n",
       "10             Boston Chowda  1 Faneuil Hall Market PlBoston, MA 02109   \n",
       "\n",
       "   open or closed price range rating value        category           phone  \\\n",
       "1      closed now         $$$          4.5         Seafood  (617) 742-3474   \n",
       "5      closed now         $$$          4.5         Seafood  (617) 532-5300   \n",
       "7      closed now         $$$          4.0         Seafood  (617) 267-4000   \n",
       "11     closed now         $$$          4.0  American (New)  (617) 553-5900   \n",
       "0      closed now          $$          4.0         Seafood  (857) 350-4626   \n",
       "2      closed now          $$          4.0         Seafood  (617) 345-9799   \n",
       "3      closed now          $$          4.0         Seafood  (617) 423-5501   \n",
       "4      closed now          $$          4.5         Seafood  (617) 876-0451   \n",
       "6      closed now          $$          4.5      Sandwiches  (857) 284-7064   \n",
       "8      closed now          $$          4.5      Sushi Bars  (857) 362-7477   \n",
       "9      closed now          $$          4.5         Seafood  (617) 903-4005   \n",
       "10     closed now          $$          4.0         Seafood  (617) 742-4441   \n",
       "\n",
       "                        website delivery service        lat        lon  \n",
       "1             neptuneoyster.com               No  42.363271 -71.056058  \n",
       "5      islandcreekoysterbar.com               No  42.348682 -71.095118  \n",
       "7            atlanticfishco.com              Yes  42.349222 -71.081127  \n",
       "11                    row34.com               No  42.349581 -71.047504  \n",
       "0              lukeslobster.com              Yes  42.348838 -71.079455  \n",
       "2      yankeelobstercompany.com               No  42.347922 -71.035988  \n",
       "3          jameshooklobster.com               No  42.354962 -71.050974  \n",
       "4   aliveandkickinglobsters.com               No  42.362676 -71.113820  \n",
       "6            paulisnorthend.com              Yes  42.363244 -71.056085  \n",
       "8              northendfish.com              Yes  42.363922 -71.055526  \n",
       "9            Lobstahonaroll.com              Yes  42.341714 -71.080790  \n",
       "10             bostonchowda.com              Yes  42.360065 -71.055374  "
      ]
     },
     "execution_count": 7,
     "metadata": {},
     "output_type": "execute_result"
    }
   ],
   "source": [
    "# print(filters)\n",
    "# print(re.search(pattern, filters))\n",
    "res"
   ]
  },
  {
   "cell_type": "code",
   "execution_count": 15,
   "metadata": {},
   "outputs": [
    {
     "name": "stdout",
     "output_type": "stream",
     "text": [
      "Requirement already up-to-date: folium in /Users/zijun/anaconda3/lib/python3.6/site-packages (0.7.0)\n",
      "Requirement not upgraded as not directly required: branca>=0.3.0 in /Users/zijun/anaconda3/lib/python3.6/site-packages (from folium) (0.3.1)\n",
      "Requirement not upgraded as not directly required: numpy in /Users/zijun/anaconda3/lib/python3.6/site-packages (from folium) (1.14.3)\n",
      "Requirement not upgraded as not directly required: six in /Users/zijun/anaconda3/lib/python3.6/site-packages (from folium) (1.11.0)\n",
      "Requirement not upgraded as not directly required: requests in /Users/zijun/anaconda3/lib/python3.6/site-packages (from folium) (2.18.4)\n",
      "Requirement not upgraded as not directly required: jinja2 in /Users/zijun/anaconda3/lib/python3.6/site-packages (from folium) (2.10)\n",
      "Requirement not upgraded as not directly required: chardet<3.1.0,>=3.0.2 in /Users/zijun/anaconda3/lib/python3.6/site-packages (from requests->folium) (3.0.4)\n",
      "Requirement not upgraded as not directly required: idna<2.7,>=2.5 in /Users/zijun/anaconda3/lib/python3.6/site-packages (from requests->folium) (2.6)\n",
      "Requirement not upgraded as not directly required: urllib3<1.23,>=1.21.1 in /Users/zijun/anaconda3/lib/python3.6/site-packages (from requests->folium) (1.22)\n",
      "Requirement not upgraded as not directly required: certifi>=2017.4.17 in /Users/zijun/anaconda3/lib/python3.6/site-packages (from requests->folium) (2018.8.24)\n",
      "Requirement not upgraded as not directly required: MarkupSafe>=0.23 in /Users/zijun/anaconda3/lib/python3.6/site-packages (from jinja2->folium) (1.0)\n",
      "\u001b[31mdistributed 1.21.8 requires msgpack, which is not installed.\u001b[0m\n",
      "\u001b[33mYou are using pip version 10.0.1, however version 18.1 is available.\n",
      "You should consider upgrading via the 'pip install --upgrade pip' command.\u001b[0m\n"
     ]
    }
   ],
   "source": [
    "!pip install folium --upgrade"
   ]
  },
  {
   "cell_type": "code",
   "execution_count": 8,
   "metadata": {},
   "outputs": [],
   "source": [
    "import folium\n",
    "m = folium.Map(location=[40.75, -73.9625727],zoom_start=11.5)"
   ]
  },
  {
   "cell_type": "code",
   "execution_count": 9,
   "metadata": {
    "scrolled": true
   },
   "outputs": [
    {
     "data": {
      "text/html": [
       "<div style=\"width:100%;\"><div style=\"position:relative;width:100%;height:0;padding-bottom:60%;\"><iframe src=\"data:text/html;charset=utf-8;base64,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\" style=\"position:absolute;width:100%;height:100%;left:0;top:0;border:none !important;\" allowfullscreen webkitallowfullscreen mozallowfullscreen></iframe></div></div>"
      ],
      "text/plain": [
       "<folium.folium.Map at 0x118a3afd0>"
      ]
     },
     "execution_count": 9,
     "metadata": {},
     "output_type": "execute_result"
    }
   ],
   "source": [
    "# a marker is created for any restaurant: red for critical situation and orange for not critical\n",
    "for k in range(len(res)):\n",
    "    folium.Marker([res['lat'].iloc[k],res['lon'].iloc[k]],popup=res['name'].iloc[k]).add_to(m)\n",
    "m"
   ]
  },
  {
   "cell_type": "code",
   "execution_count": 19,
   "metadata": {},
   "outputs": [
    {
     "data": {
      "text/plain": [
       "['Pizza',\n",
       " 'Italian',\n",
       " 'Pizza',\n",
       " 'Pizza',\n",
       " 'Pizza',\n",
       " 'Italian',\n",
       " 'Pizza',\n",
       " 'Pizza',\n",
       " 'Italian',\n",
       " 'Pizza',\n",
       " 'Pizza',\n",
       " 'Pizza',\n",
       " 'Italian',\n",
       " 'Pizza',\n",
       " 'Pizza',\n",
       " 'Italian',\n",
       " 'Beer Bar',\n",
       " 'Pizza',\n",
       " 'Pizza',\n",
       " 'Pizza',\n",
       " 'Diners',\n",
       " 'Pizza',\n",
       " 'Italian',\n",
       " 'Pizza',\n",
       " 'Pizza',\n",
       " 'Pizza',\n",
       " 'Wine Bars',\n",
       " 'Beer Bar',\n",
       " 'Pizza',\n",
       " 'Pizza',\n",
       " 'Italian',\n",
       " 'Pizza',\n",
       " 'Italian',\n",
       " 'Pizza',\n",
       " 'Bars',\n",
       " 'American (New)',\n",
       " 'Pizza',\n",
       " 'Pizza',\n",
       " 'Italian',\n",
       " 'Pizza',\n",
       " 'Italian',\n",
       " 'Wine Bars',\n",
       " 'Pizza',\n",
       " 'Bars',\n",
       " 'Italian',\n",
       " 'Pizza',\n",
       " 'Pizza',\n",
       " 'Vegan',\n",
       " 'Italian',\n",
       " 'Pizza',\n",
       " 'Salad',\n",
       " 'Italian',\n",
       " 'Pizza',\n",
       " 'Pizza']"
      ]
     },
     "execution_count": 19,
     "metadata": {},
     "output_type": "execute_result"
    }
   ],
   "source": [
    "#Now, start to find the style of the search results so that we can make relevant recommendations later\n",
    "\n",
    "cuisine_styles = results_page.find_all('span',class_=\"category-str-list\")\n",
    "#print(cuisine_styles)\n",
    "# print(cuisine_styles[4].find('a').get_text())\n",
    "\n",
    "styles = []\n",
    "for i in range(len(cuisine_styles)):\n",
    "    style = [x.get_text() for  x  in cuisine_styles[i].find_all('a')]\n",
    "    styles.extend(style)\n",
    "\n",
    "styles"
   ]
  },
  {
   "cell_type": "code",
   "execution_count": 47,
   "metadata": {},
   "outputs": [
    {
     "name": "stdout",
     "output_type": "stream",
     "text": [
      "[('Pizza', 31), ('Italian', 13)]\n",
      "italian\n"
     ]
    }
   ],
   "source": [
    "# from several random keyword searching, we found that only the first two cuisine styles have significant counts\n",
    "# e.g. out of the 30 results, the 3rd most common style appears around only 5 times\n",
    "count = collections.Counter(styles).most_common(2)\n",
    "print(count)\n",
    "\n",
    "# Get a new keyword\n",
    "if keyword == count[0][0].casefold():\n",
    "    keyword2 = count[1][0].casefold()\n",
    "else:\n",
    "    keyword2 = count[0][0].casefold()\n",
    "\n",
    "print(keyword2)"
   ]
  },
  {
   "cell_type": "code",
   "execution_count": 13,
   "metadata": {},
   "outputs": [],
   "source": [
    "# Give users an opportunity to see recommendations relevant cuisine\n",
    "# e.g. if originally searched for \"pizza\" but did not like the recommendations\n",
    "# this function returns 10 more recommendations of \"Italian\" restaurants\n",
    "def further_rec():\n",
    "    reaction = input('Are you satisfied with your recommendations? (yes/no)')\n",
    "    \n",
    "    if reaction == 'yes':\n",
    "        return 'Bon Appetit!'\n",
    "    else:\n",
    "        # Moved cuisine_styles to get_business() and make it global for access in this function\n",
    "        styles = []\n",
    "        for i in range(len(cuisine_styles)):\n",
    "            style = [x.get_text() for  x  in cuisine_styles[i].find_all('a')]\n",
    "            styles.extend(style)\n",
    "\n",
    "        count = collections.Counter(styles).most_common(2)\n",
    "        if keyword == count[0][0].casefold():\n",
    "            keyword2 = count[1][0].casefold()\n",
    "        else:\n",
    "            keyword2 = count[0][0].casefold()\n",
    "\n",
    "        url = 'https://www.yelp.com/search?find_desc='+ keyword2 + '&find_loc=' + address\n",
    "        # new keyword but same address as from get_business()\n",
    "        response = requests.get(url)\n",
    "        try:\n",
    "            results_page = BeautifulSoup(response.content,'lxml')\n",
    "        except:\n",
    "            print(\"we didn't get back result page from yelp correctly\")\n",
    "                \n",
    "        businesses = results_page.find_all('a',{'data-analytics-label':\"biz-name\"})[1:]\n",
    "        business_list = []\n",
    "        for business in businesses:\n",
    "            name = business.find('span').get_text()\n",
    "            link = 'https://www.yelp.com' + business.get('href')\n",
    "            addr,category,price_range,rating_value,phone_number,open_,web,delivery,lat,lon= get_info(link)\n",
    "            business_list.append([name,open_,price_range,rating_value,category,phone_number,web,delivery,lat,lon])\n",
    "                                 \n",
    "        df = pd.DataFrame(business_list[:11], columns = ['name','open or closed','price range','rating value','category','phone','website','delivery service','lat','lon'])\n",
    "        print('Take a look at the following 10 restaurants!')                                   \n",
    "        return df"
   ]
  },
  {
   "cell_type": "code",
   "execution_count": 14,
   "metadata": {},
   "outputs": [
    {
     "name": "stdout",
     "output_type": "stream",
     "text": [
      "Are you satisfied with your recommendations? (yes/no)no\n",
      "Take a look at the following 10 restaurants!\n"
     ]
    },
    {
     "data": {
      "text/html": [
       "<div>\n",
       "<style scoped>\n",
       "    .dataframe tbody tr th:only-of-type {\n",
       "        vertical-align: middle;\n",
       "    }\n",
       "\n",
       "    .dataframe tbody tr th {\n",
       "        vertical-align: top;\n",
       "    }\n",
       "\n",
       "    .dataframe thead th {\n",
       "        text-align: right;\n",
       "    }\n",
       "</style>\n",
       "<table border=\"1\" class=\"dataframe\">\n",
       "  <thead>\n",
       "    <tr style=\"text-align: right;\">\n",
       "      <th></th>\n",
       "      <th>name</th>\n",
       "      <th>open or closed</th>\n",
       "      <th>price range</th>\n",
       "      <th>rating value</th>\n",
       "      <th>category</th>\n",
       "      <th>phone</th>\n",
       "      <th>website</th>\n",
       "      <th>delivery service</th>\n",
       "      <th>lat</th>\n",
       "      <th>lon</th>\n",
       "    </tr>\n",
       "  </thead>\n",
       "  <tbody>\n",
       "    <tr>\n",
       "      <th>0</th>\n",
       "      <td>Vanguard Wine Bar</td>\n",
       "      <td>closed now</td>\n",
       "      <td>$$</td>\n",
       "      <td>4.0</td>\n",
       "      <td>Wine Bars</td>\n",
       "      <td>(212) 799-9463</td>\n",
       "      <td>vanguard-nyc.com</td>\n",
       "      <td>No</td>\n",
       "      <td>40.776280</td>\n",
       "      <td>-73.983222</td>\n",
       "    </tr>\n",
       "    <tr>\n",
       "      <th>1</th>\n",
       "      <td>Vin Sur Vingt</td>\n",
       "      <td>closed now</td>\n",
       "      <td>$$</td>\n",
       "      <td>4.5</td>\n",
       "      <td>Wine Bars</td>\n",
       "      <td>(646) 895-9944</td>\n",
       "      <td>vsvwinebars.com</td>\n",
       "      <td>No</td>\n",
       "      <td>40.784938</td>\n",
       "      <td>-73.972925</td>\n",
       "    </tr>\n",
       "    <tr>\n",
       "      <th>2</th>\n",
       "      <td>Lilly’s Cocktail and Wine</td>\n",
       "      <td>Open now</td>\n",
       "      <td>$$</td>\n",
       "      <td>4.0</td>\n",
       "      <td>American (New)</td>\n",
       "      <td>(212) 799-4140</td>\n",
       "      <td>lillys-cocktail-and-wine.busi…</td>\n",
       "      <td>No</td>\n",
       "      <td>40.777025</td>\n",
       "      <td>-73.978458</td>\n",
       "    </tr>\n",
       "    <tr>\n",
       "      <th>3</th>\n",
       "      <td>Amelie</td>\n",
       "      <td>Open now</td>\n",
       "      <td>$$$</td>\n",
       "      <td>4.5</td>\n",
       "      <td>French</td>\n",
       "      <td>(646) 422-7167</td>\n",
       "      <td>ameliewinebar.com</td>\n",
       "      <td>Yes</td>\n",
       "      <td>40.788773</td>\n",
       "      <td>-73.974670</td>\n",
       "    </tr>\n",
       "    <tr>\n",
       "      <th>4</th>\n",
       "      <td>Le Pif</td>\n",
       "      <td>Open now</td>\n",
       "      <td>$$</td>\n",
       "      <td>4.0</td>\n",
       "      <td>French</td>\n",
       "      <td>(212) 799-2253</td>\n",
       "      <td>lepifwinebars.com</td>\n",
       "      <td>No</td>\n",
       "      <td>40.777484</td>\n",
       "      <td>-73.981793</td>\n",
       "    </tr>\n",
       "    <tr>\n",
       "      <th>5</th>\n",
       "      <td>Pour</td>\n",
       "      <td>Open now</td>\n",
       "      <td>$$</td>\n",
       "      <td>4.0</td>\n",
       "      <td>Beer, Wine &amp; Spirits</td>\n",
       "      <td>(212) 501-7687</td>\n",
       "      <td>pourwines.com</td>\n",
       "      <td>No</td>\n",
       "      <td>40.780591</td>\n",
       "      <td>-73.979965</td>\n",
       "    </tr>\n",
       "    <tr>\n",
       "      <th>6</th>\n",
       "      <td>Vino Levantino</td>\n",
       "      <td>closed now</td>\n",
       "      <td>$$</td>\n",
       "      <td>4.0</td>\n",
       "      <td>Mediterranean</td>\n",
       "      <td>(212) 280-3333</td>\n",
       "      <td>vinolevantino.com</td>\n",
       "      <td>Yes</td>\n",
       "      <td>40.792948</td>\n",
       "      <td>-73.972078</td>\n",
       "    </tr>\n",
       "    <tr>\n",
       "      <th>7</th>\n",
       "      <td>Da Capo Columbus</td>\n",
       "      <td>Open now</td>\n",
       "      <td>$$</td>\n",
       "      <td>4.0</td>\n",
       "      <td>Italian</td>\n",
       "      <td>(646) 882-0197</td>\n",
       "      <td>dacaponyc.com</td>\n",
       "      <td>Yes</td>\n",
       "      <td>40.779635</td>\n",
       "      <td>-73.977485</td>\n",
       "    </tr>\n",
       "    <tr>\n",
       "      <th>8</th>\n",
       "      <td>The Milling Room</td>\n",
       "      <td>Open now</td>\n",
       "      <td>$$$</td>\n",
       "      <td>4.0</td>\n",
       "      <td>American (New)</td>\n",
       "      <td>(212) 595-0380</td>\n",
       "      <td>themillingroom.com</td>\n",
       "      <td>No</td>\n",
       "      <td>40.783747</td>\n",
       "      <td>-73.974468</td>\n",
       "    </tr>\n",
       "    <tr>\n",
       "      <th>9</th>\n",
       "      <td>Bin 71</td>\n",
       "      <td>Open now</td>\n",
       "      <td>$$</td>\n",
       "      <td>3.5</td>\n",
       "      <td>Wine Bars</td>\n",
       "      <td>(212) 362-5446</td>\n",
       "      <td>bin71.com</td>\n",
       "      <td>No</td>\n",
       "      <td>40.776459</td>\n",
       "      <td>-73.979252</td>\n",
       "    </tr>\n",
       "    <tr>\n",
       "      <th>10</th>\n",
       "      <td>Buceo 95</td>\n",
       "      <td>closed now</td>\n",
       "      <td>$$$</td>\n",
       "      <td>4.0</td>\n",
       "      <td>Tapas Bars</td>\n",
       "      <td>(212) 662-7010</td>\n",
       "      <td>buceo95.com</td>\n",
       "      <td>No</td>\n",
       "      <td>40.793571</td>\n",
       "      <td>-73.971058</td>\n",
       "    </tr>\n",
       "  </tbody>\n",
       "</table>\n",
       "</div>"
      ],
      "text/plain": [
       "                         name open or closed price range rating value  \\\n",
       "0           Vanguard Wine Bar     closed now          $$          4.0   \n",
       "1               Vin Sur Vingt     closed now          $$          4.5   \n",
       "2   Lilly’s Cocktail and Wine       Open now          $$          4.0   \n",
       "3                      Amelie       Open now         $$$          4.5   \n",
       "4                      Le Pif       Open now          $$          4.0   \n",
       "5                        Pour       Open now          $$          4.0   \n",
       "6              Vino Levantino     closed now          $$          4.0   \n",
       "7            Da Capo Columbus       Open now          $$          4.0   \n",
       "8            The Milling Room       Open now         $$$          4.0   \n",
       "9                      Bin 71       Open now          $$          3.5   \n",
       "10                   Buceo 95     closed now         $$$          4.0   \n",
       "\n",
       "                category           phone                         website  \\\n",
       "0              Wine Bars  (212) 799-9463                vanguard-nyc.com   \n",
       "1              Wine Bars  (646) 895-9944                 vsvwinebars.com   \n",
       "2         American (New)  (212) 799-4140  lillys-cocktail-and-wine.busi…   \n",
       "3                 French  (646) 422-7167               ameliewinebar.com   \n",
       "4                 French  (212) 799-2253               lepifwinebars.com   \n",
       "5   Beer, Wine & Spirits  (212) 501-7687                   pourwines.com   \n",
       "6          Mediterranean  (212) 280-3333               vinolevantino.com   \n",
       "7                Italian  (646) 882-0197                   dacaponyc.com   \n",
       "8         American (New)  (212) 595-0380              themillingroom.com   \n",
       "9              Wine Bars  (212) 362-5446                       bin71.com   \n",
       "10            Tapas Bars  (212) 662-7010                     buceo95.com   \n",
       "\n",
       "   delivery service        lat        lon  \n",
       "0                No  40.776280 -73.983222  \n",
       "1                No  40.784938 -73.972925  \n",
       "2                No  40.777025 -73.978458  \n",
       "3               Yes  40.788773 -73.974670  \n",
       "4                No  40.777484 -73.981793  \n",
       "5                No  40.780591 -73.979965  \n",
       "6               Yes  40.792948 -73.972078  \n",
       "7               Yes  40.779635 -73.977485  \n",
       "8                No  40.783747 -73.974468  \n",
       "9                No  40.776459 -73.979252  \n",
       "10               No  40.793571 -73.971058  "
      ]
     },
     "execution_count": 14,
     "metadata": {},
     "output_type": "execute_result"
    }
   ],
   "source": [
    "fr = further_rec()\n",
    "fr"
   ]
  },
  {
   "cell_type": "code",
   "execution_count": 18,
   "metadata": {},
   "outputs": [],
   "source": [
    "n = folium.Map(location=[40.8075355, -73.9625727],zoom_start=14)"
   ]
  },
  {
   "cell_type": "code",
   "execution_count": 19,
   "metadata": {},
   "outputs": [
    {
     "data": {
      "text/html": [
       "<div style=\"width:100%;\"><div style=\"position:relative;width:100%;height:0;padding-bottom:60%;\"><iframe src=\"data:text/html;charset=utf-8;base64,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\" style=\"position:absolute;width:100%;height:100%;left:0;top:0;border:none !important;\" allowfullscreen webkitallowfullscreen mozallowfullscreen></iframe></div></div>"
      ],
      "text/plain": [
       "<folium.folium.Map at 0x10c3b7fd0>"
      ]
     },
     "execution_count": 19,
     "metadata": {},
     "output_type": "execute_result"
    }
   ],
   "source": [
    "for k in range(len(fr)):\n",
    "    folium.Marker([fr['lat'].iloc[k],fr['lon'].iloc[k]],popup=fr['name'].iloc[k]).add_to(n)\n",
    "n"
   ]
  },
  {
   "cell_type": "code",
   "execution_count": null,
   "metadata": {},
   "outputs": [],
   "source": [
    "#workspace with saved results page\n",
    "url = 'https://www.yelp.com/search?find_desc=lobster&find_loc=new+york&start=60'\n",
    "response = requests.get(url)\n",
    "try:\n",
    "    results_page = BeautifulSoup(response.content,'lxml')\n",
    "except:\n",
    "    print(\"we didn't get back result page from yelp correctly\")\n",
    "  "
   ]
  },
  {
   "cell_type": "code",
   "execution_count": null,
   "metadata": {},
   "outputs": [],
   "source": [
    "businesses = results_page.find_all('a',{'data-analytics-label':\"biz-name\"})[1:]\n",
    "businesses.extend(businesses)\n",
    "businesses"
   ]
  },
  {
   "cell_type": "code",
   "execution_count": 5,
   "metadata": {},
   "outputs": [],
   "source": [
    "# Yelp is also providing API keys to do some web scraping on there website. We created our own API key to be able\n",
    "# to do some web scraping when limited by the direct html scraping method we were using before\n",
    "\n",
    "with open('./YelpAPIKeys.txt','r') as f:\n",
    "    count = 0\n",
    "    for line in f:\n",
    "        if count == 0:\n",
    "            CLIENT_ID = line.strip()\n",
    "        if count == 1:\n",
    "            API_KEY = line.strip()\n",
    "        count+=1"
   ]
  },
  {
   "cell_type": "code",
   "execution_count": 6,
   "metadata": {},
   "outputs": [
    {
     "name": "stdout",
     "output_type": "stream",
     "text": [
      "lAFFi3W2fS4DEF5N0746Pg -lBWAWUBZqrndjWzjK9RrS3OSpCA_Haz_hjDutky0OjQcLXiLO7AAl4K_JlelcZSRNmysHWMfmHFLpf2QsPtWY1uCRIgSMJbdsqV6oTv8z00qR_lpJTkzzRa5zraW3Yx\n"
     ]
    }
   ],
   "source": [
    "print(CLIENT_ID,API_KEY)"
   ]
  },
  {
   "cell_type": "code",
   "execution_count": 29,
   "metadata": {},
   "outputs": [],
   "source": [
    "CLIENT_ID = 'IUrGaOc4Tcb-CAL7_MZXsQ'\n",
    "API_KEY = 'LLP0K4NgnF3ARH0O8x7pTHQ1-TpGU2aC94R1BIlWQpi5OFr6jwBj5-2U2wFJPnB_uoNtr4YXRMKEj4EXUp5MU2uXmihfv3hMX1WXE69POyI-gEHmcRYa6sSseV3jW3Yx'"
   ]
  },
  {
   "cell_type": "code",
   "execution_count": 30,
   "metadata": {},
   "outputs": [],
   "source": [
    "API_HOST = 'https://api.yelp.com' # this is the API url header\n",
    "SEARCH_PATH = '/v3/businesses/search' # this is the path for an API request to find businesses\n",
    "BUSINESS_PATH = '/v3/businesses/'  # this is the path to get data for a single business"
   ]
  },
  {
   "cell_type": "code",
   "execution_count": 31,
   "metadata": {},
   "outputs": [],
   "source": [
    "# this function creates a list of businesses, given an API key and a location like New York,...\n",
    "\n",
    "def get_restaurants(api_key,location,keyword,number=50):\n",
    "    import requests\n",
    "    \n",
    "    #First we get the access token\n",
    "    #Set up the search data dictionary\n",
    "    search_data = {\n",
    "    'term': \"restaurant\",\n",
    "    'location': location.replace(' ', '+'),\n",
    "    'limit': number,\n",
    "    'categories': keyword\n",
    "    }\n",
    "    url = API_HOST + SEARCH_PATH\n",
    "    headers = {\n",
    "        'Authorization': 'Bearer %s' % api_key,\n",
    "    }\n",
    "    response = requests.request('GET', url, headers=headers, params=search_data).json()\n",
    "    businesses = response.get('businesses')\n",
    "    return businesses"
   ]
  },
  {
   "cell_type": "code",
   "execution_count": 39,
   "metadata": {},
   "outputs": [],
   "source": [
    "restaurants_data = get_restaurants(API_KEY,\"New York\",'pizza',number=50)"
   ]
  },
  {
   "cell_type": "code",
   "execution_count": 40,
   "metadata": {},
   "outputs": [],
   "source": [
    "# This function creates a dataframe based on the data that we extracted from yelp website, \n",
    "# using the function get_restaurants\n",
    "\n",
    "def data_output(restaurants_data):\n",
    "    df = pd.DataFrame(columns = ['name','is_closed','latitude','longitude','price','rating','categories','phone'])\n",
    "    for i in range(len(restaurants_data)):\n",
    "        name = restaurants_data[i]['name']\n",
    "        is_closed = restaurants_data[i]['is_closed']\n",
    "        latitude = restaurants_data[i]['coordinates']['latitude']\n",
    "        longitude = restaurants_data[i]['coordinates']['longitude']\n",
    "        try:\n",
    "            price = restaurants_data[i]['price']\n",
    "        except:\n",
    "            price = None\n",
    "        rating = restaurants_data[i]['rating']\n",
    "        categories = []\n",
    "        for categorie in restaurants_data[i]['categories']:\n",
    "            categories.append(categorie['title'])\n",
    "        phone = restaurants_data[i]['phone']\n",
    "        \n",
    "        df.loc[i] = [name,is_closed,latitude,longitude,price,rating,categories,phone]\n",
    "    df.set_index('name', inplace = True)\n",
    "    return(df)"
   ]
  },
  {
   "cell_type": "code",
   "execution_count": 48,
   "metadata": {},
   "outputs": [],
   "source": [
    "def web_scrapingYelp():\n",
    "    import requests\n",
    "    \n",
    "    keyword = input('What do you want to eat ? ')\n",
    "    address = input('Where are you ? ')\n",
    "    limit = input('How many results do you want? ')\n",
    "\n",
    "    search_data = {\n",
    "    'term': \"restaurant\",\n",
    "    'location': address.replace(' ', '+'),\n",
    "    'limit': limit,\n",
    "    'categories': keyword \n",
    "    }\n",
    "    url = API_HOST + SEARCH_PATH\n",
    "    headers = {\n",
    "        'Authorization': 'Bearer %s' % API_KEY,\n",
    "    }\n",
    "    response = requests.request('GET', url, headers=headers, params=search_data).json()\n",
    "    businesses = response.get('businesses')\n",
    "    \n",
    "    df = data_output(businesses)\n",
    "    return df"
   ]
  },
  {
   "cell_type": "code",
   "execution_count": 49,
   "metadata": {},
   "outputs": [
    {
     "name": "stdout",
     "output_type": "stream",
     "text": [
      "What do you want to eat ? burgers\n",
      "Where are you ? New York\n",
      "How many results do you want? 5\n"
     ]
    },
    {
     "data": {
      "text/html": [
       "<div>\n",
       "<style scoped>\n",
       "    .dataframe tbody tr th:only-of-type {\n",
       "        vertical-align: middle;\n",
       "    }\n",
       "\n",
       "    .dataframe tbody tr th {\n",
       "        vertical-align: top;\n",
       "    }\n",
       "\n",
       "    .dataframe thead th {\n",
       "        text-align: right;\n",
       "    }\n",
       "</style>\n",
       "<table border=\"1\" class=\"dataframe\">\n",
       "  <thead>\n",
       "    <tr style=\"text-align: right;\">\n",
       "      <th></th>\n",
       "      <th>is_closed</th>\n",
       "      <th>latitude</th>\n",
       "      <th>longitude</th>\n",
       "      <th>price</th>\n",
       "      <th>rating</th>\n",
       "      <th>categories</th>\n",
       "      <th>phone</th>\n",
       "    </tr>\n",
       "    <tr>\n",
       "      <th>name</th>\n",
       "      <th></th>\n",
       "      <th></th>\n",
       "      <th></th>\n",
       "      <th></th>\n",
       "      <th></th>\n",
       "      <th></th>\n",
       "      <th></th>\n",
       "    </tr>\n",
       "  </thead>\n",
       "  <tbody>\n",
       "    <tr>\n",
       "      <th>Burger &amp; Lobster</th>\n",
       "      <td>False</td>\n",
       "      <td>40.740070</td>\n",
       "      <td>-73.993440</td>\n",
       "      <td>$$</td>\n",
       "      <td>4.0</td>\n",
       "      <td>[Seafood, Burgers, American (New)]</td>\n",
       "      <td>+16468337532</td>\n",
       "    </tr>\n",
       "    <tr>\n",
       "      <th>Burger &amp; Lobster</th>\n",
       "      <td>False</td>\n",
       "      <td>40.755960</td>\n",
       "      <td>-73.985320</td>\n",
       "      <td>$$</td>\n",
       "      <td>4.0</td>\n",
       "      <td>[Seafood, Burgers]</td>\n",
       "      <td>+19175659044</td>\n",
       "    </tr>\n",
       "    <tr>\n",
       "      <th>Emily</th>\n",
       "      <td>False</td>\n",
       "      <td>40.683519</td>\n",
       "      <td>-73.966413</td>\n",
       "      <td>$$</td>\n",
       "      <td>4.0</td>\n",
       "      <td>[Pizza, Burgers, American (Traditional)]</td>\n",
       "      <td>+13478449588</td>\n",
       "    </tr>\n",
       "    <tr>\n",
       "      <th>Lillie's Victorian Establishment</th>\n",
       "      <td>False</td>\n",
       "      <td>40.761463</td>\n",
       "      <td>-73.986052</td>\n",
       "      <td>$$</td>\n",
       "      <td>4.0</td>\n",
       "      <td>[Bars, Gastropubs, Burgers]</td>\n",
       "      <td>+12129574530</td>\n",
       "    </tr>\n",
       "    <tr>\n",
       "      <th>Black Tap Craft Burger &amp; Beers</th>\n",
       "      <td>False</td>\n",
       "      <td>40.763470</td>\n",
       "      <td>-73.979780</td>\n",
       "      <td>$$</td>\n",
       "      <td>4.0</td>\n",
       "      <td>[Burgers, Beer, Wine &amp; Spirits, Bars]</td>\n",
       "      <td>+12123154356</td>\n",
       "    </tr>\n",
       "  </tbody>\n",
       "</table>\n",
       "</div>"
      ],
      "text/plain": [
       "                                 is_closed   latitude  longitude price  \\\n",
       "name                                                                     \n",
       "Burger & Lobster                     False  40.740070 -73.993440    $$   \n",
       "Burger & Lobster                     False  40.755960 -73.985320    $$   \n",
       "Emily                                False  40.683519 -73.966413    $$   \n",
       "Lillie's Victorian Establishment     False  40.761463 -73.986052    $$   \n",
       "Black Tap Craft Burger & Beers       False  40.763470 -73.979780    $$   \n",
       "\n",
       "                                  rating  \\\n",
       "name                                       \n",
       "Burger & Lobster                     4.0   \n",
       "Burger & Lobster                     4.0   \n",
       "Emily                                4.0   \n",
       "Lillie's Victorian Establishment     4.0   \n",
       "Black Tap Craft Burger & Beers       4.0   \n",
       "\n",
       "                                                                categories  \\\n",
       "name                                                                         \n",
       "Burger & Lobster                        [Seafood, Burgers, American (New)]   \n",
       "Burger & Lobster                                        [Seafood, Burgers]   \n",
       "Emily                             [Pizza, Burgers, American (Traditional)]   \n",
       "Lillie's Victorian Establishment               [Bars, Gastropubs, Burgers]   \n",
       "Black Tap Craft Burger & Beers       [Burgers, Beer, Wine & Spirits, Bars]   \n",
       "\n",
       "                                         phone  \n",
       "name                                            \n",
       "Burger & Lobster                  +16468337532  \n",
       "Burger & Lobster                  +19175659044  \n",
       "Emily                             +13478449588  \n",
       "Lillie's Victorian Establishment  +12129574530  \n",
       "Black Tap Craft Burger & Beers    +12123154356  "
      ]
     },
     "execution_count": 49,
     "metadata": {},
     "output_type": "execute_result"
    }
   ],
   "source": [
    "web_scrapingYelp()\n"
   ]
  },
  {
   "cell_type": "code",
   "execution_count": null,
   "metadata": {},
   "outputs": [],
   "source": []
  },
  {
   "cell_type": "code",
   "execution_count": null,
   "metadata": {},
   "outputs": [],
   "source": []
  }
 ],
 "metadata": {
  "kernelspec": {
   "display_name": "Python 3",
   "language": "python",
   "name": "python3"
  },
  "language_info": {
   "codemirror_mode": {
    "name": "ipython",
    "version": 3
   },
   "file_extension": ".py",
   "mimetype": "text/x-python",
   "name": "python",
   "nbconvert_exporter": "python",
   "pygments_lexer": "ipython3",
   "version": "3.7.0"
  }
 },
 "nbformat": 4,
 "nbformat_minor": 2
}
