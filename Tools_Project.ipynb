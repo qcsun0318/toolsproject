{
 "cells": [
  {
   "cell_type": "code",
   "execution_count": 107,
   "metadata": {},
   "outputs": [],
   "source": [
    "#This is the notebook for tools_project"
   ]
  },
  {
   "cell_type": "code",
   "execution_count": 108,
   "metadata": {},
   "outputs": [],
   "source": [
    "# scraping libraries to read html code\n",
    "import requests\n",
    "from bs4 import BeautifulSoup\n",
    "import json"
   ]
  },
  {
   "cell_type": "code",
   "execution_count": 109,
   "metadata": {},
   "outputs": [],
   "source": [
    "# pandas library to create dataframe\n",
    "import pandas as pd\n",
    "import numpy as np"
   ]
  },
  {
   "cell_type": "code",
   "execution_count": 110,
   "metadata": {},
   "outputs": [
    {
     "name": "stdout",
     "output_type": "stream",
     "text": [
      "What do you want to eat ? pizza\n",
      "Where are you ? new york\n"
     ]
    },
    {
     "data": {
      "text/plain": [
       "'https://www.yelp.com/search?find_desc=pizza&find_loc=new york'"
      ]
     },
     "execution_count": 110,
     "metadata": {},
     "output_type": "execute_result"
    }
   ],
   "source": [
    "# Direct to initial results\n",
    "url = 'https://www.yelp.com/search?find_desc='\n",
    "keyword = input('What do you want to eat ? ')\n",
    "address = input('Where are you ? ')\n",
    "\n",
    "url = 'https://www.yelp.com/search?find_desc='+ keyword + '&find_loc=' + address \n",
    "url"
   ]
  },
  {
   "cell_type": "code",
   "execution_count": 114,
   "metadata": {},
   "outputs": [
    {
     "data": {
      "text/plain": [
       "200"
      ]
     },
     "execution_count": 114,
     "metadata": {},
     "output_type": "execute_result"
    }
   ],
   "source": [
    "# Checking if the url is \"valid\", the status code should be 200\n",
    "response = requests.get(url)\n",
    "response.status_code"
   ]
  },
  {
   "cell_type": "code",
   "execution_count": 112,
   "metadata": {},
   "outputs": [],
   "source": [
    "# extract the html code from the web page = https://www.yelp.com/search?find_desc=Restaurants&find_loc=New+York,+NY&start=30\n",
    "results_page = BeautifulSoup(response.content,'lxml')"
   ]
  },
  {
   "cell_type": "code",
   "execution_count": 113,
   "metadata": {},
   "outputs": [],
   "source": [
    "# creating a list of businesses with the html code of the business as elements of the list\n",
    "businesses = results_page.find_all('a',class_ = \"biz-name js-analytics-click\")"
   ]
  },
  {
   "cell_type": "code",
   "execution_count": 115,
   "metadata": {},
   "outputs": [],
   "source": [
    "# selecting the first element (a particular restaurant in our case) of the list businesses and looking in the\n",
    "#ignore the first element of the businesses list, it is an ad by yelp, regular list start from the second (index = 1)\n",
    "# html code for its name\n",
    "business = businesses[1]\n",
    "name = business.find('span').get_text()\n",
    "\n",
    "# getting the link to the yelp page this particular restaurant\n",
    "link = 'https://www.yelp.com' + business.get('href')"
   ]
  },
  {
   "cell_type": "code",
   "execution_count": 116,
   "metadata": {},
   "outputs": [
    {
     "name": "stdout",
     "output_type": "stream",
     "text": [
      "Juliana’s Pizza https://www.yelp.com/biz/julianas-pizza-brooklyn-5?osq=pizza\n"
     ]
    }
   ],
   "source": [
    "print(name,link)"
   ]
  },
  {
   "cell_type": "code",
   "execution_count": 117,
   "metadata": {},
   "outputs": [],
   "source": [
    "# extracting the html code of the web page associated with the first business of our list businesses\n",
    "response_business = requests.get(link)\n",
    "results_business_page = BeautifulSoup(response_business.content,'lxml')"
   ]
  },
  {
   "cell_type": "code",
   "execution_count": 118,
   "metadata": {},
   "outputs": [],
   "source": [
    "# looking in the html page of the restaurant for latitude and longitude coordinates of the restaurant\n",
    "# the json object json_map contains these coordinates\n",
    "json_map = results_business_page.find('div', class_ = \"lightbox-map hidden\").get('data-map-state')\n",
    "\n",
    "# we can convert this json object to a python dictionnary using the following method\n",
    "dict_map = json.loads(json_map)\n",
    "\n",
    "# the relevant keys in this dict are \"markers\", \"location\" and \"latitude\" and \"longitude\"\n",
    "latitude = dict_map[\"markers\"][1][\"location\"][\"latitude\"]\n",
    "longitude = dict_map[\"markers\"][1][\"location\"][\"longitude\"]"
   ]
  },
  {
   "cell_type": "code",
   "execution_count": 78,
   "metadata": {},
   "outputs": [
    {
     "data": {
      "text/plain": [
       "'{\"serviceAreas\": [], \"moMapPossible\": true, \"scrollwheelZoom\": false, \"zoomControlPosition\": \"top_right\", \"minZoomlevel\": null, \"isFullBleed\": false, \"maxZoomlevel\": null, \"zoom\": 15, \"library\": \"google\", \"fitToGeobox\": false, \"hoods\": [], \"adPinColor\": null, \"markers\": [{\"location\": null, \"key\": \"directions_marker\", \"icon\": {\"name\": \"directions\", \"anchorOffset\": [12, 32], \"activeOrigin\": [0, 0], \"scaledSize\": [24, 32], \"regularUri\": \"https://s3-media4.fl.yelpcdn.com/assets/srv0/yelp_maps/79f63ebc20db/assets/img/directions@2x.png\", \"size\": [24, 32], \"activeUri\": \"https://s3-media4.fl.yelpcdn.com/assets/srv0/yelp_maps/7249ab345ac8/assets/img/directions_highlighted@2x.png\", \"regularOrigin\": [0, 0]}}, {\"resourceType\": \"business\", \"url\": \"/biz/ramen-hood-new-york\", \"resourceId\": \"oy_FqW6XO8S06pg6nHbhog\", \"shouldOpenInNewTab\": false, \"location\": {\"latitude\": 40.7223112701284, \"longitude\": -73.9973774072879}, \"key\": \"starred_business\", \"hovercardId\": \"xJJUNXIR1JECvREs7j-Mzg\", \"icon\": {\"name\": \"starred\", \"anchorOffset\": [12, 32], \"activeOrigin\": [0, 0], \"scaledSize\": [24, 32], \"regularUri\": \"https://s3-media4.fl.yelpcdn.com/assets/srv0/yelp_maps/7ffd8e34c576/assets/img/annotation_star@2x.png\", \"size\": [24, 32], \"activeUri\": \"https://s3-media3.fl.yelpcdn.com/assets/srv0/yelp_maps/63e0e17c0579/assets/img/annotation_star_highlighted@2x.png\", \"regularOrigin\": [0, 0]}}, {\"location\": null, \"key\": \"current_location\", \"icon\": {\"name\": \"current_location\", \"anchorOffset\": [23, 23], \"activeOrigin\": [0, 0], \"scaledSize\": [46, 46], \"regularUri\": \"https://s3-media2.fl.yelpcdn.com/assets/srv0/yelp_maps/56b9eee3f027/assets/img/current_location_dot@2x.png\", \"size\": [46, 46], \"activeUri\": \"https://s3-media2.fl.yelpcdn.com/assets/srv0/yelp_maps/56b9eee3f027/assets/img/current_location_dot@2x.png\", \"regularOrigin\": [0, 0]}}], \"shouldDrawCheckbox\": false, \"overlayWidth\": 335, \"topBizBounds\": null, \"market\": null, \"center\": {\"latitude\": 40.7223112701284, \"longitude\": -73.9973774072879}}'"
      ]
     },
     "execution_count": 78,
     "metadata": {},
     "output_type": "execute_result"
    }
   ],
   "source": [
    "json_map"
   ]
  },
  {
   "cell_type": "code",
   "execution_count": 79,
   "metadata": {},
   "outputs": [
    {
     "name": "stdout",
     "output_type": "stream",
     "text": [
      "40.7223112701284 -73.9973774072879\n"
     ]
    }
   ],
   "source": [
    "print(latitude,longitude)"
   ]
  },
  {
   "cell_type": "code",
   "execution_count": 80,
   "metadata": {},
   "outputs": [],
   "source": [
    "# The category can be found in the 'a' tag under \"span\", class_ = 'category-str-list' tag, \n",
    "category= results_business_page.find(\"span\", class_ = 'category-str-list').find('a').get_text()"
   ]
  },
  {
   "cell_type": "code",
   "execution_count": 81,
   "metadata": {},
   "outputs": [
    {
     "data": {
      "text/plain": [
       "'Ramen'"
      ]
     },
     "execution_count": 81,
     "metadata": {},
     "output_type": "execute_result"
    }
   ],
   "source": [
    "category"
   ]
  },
  {
   "cell_type": "code",
   "execution_count": 82,
   "metadata": {},
   "outputs": [],
   "source": [
    "# the price range ('$','$$','$$$', or '$$$$') can be found in the \"span\", class_ = 'business-attribute price-range' tag\n",
    "# the price range is not always available, that is why we need to catch errors \n",
    "# if necessary (hence the try: except) structure\n",
    "\n",
    "try:\n",
    "    price_range = results_business_page.find(\"span\", class_ = 'business-attribute price-range').get_text()\n",
    "except:\n",
    "    price_range = None"
   ]
  },
  {
   "cell_type": "code",
   "execution_count": 83,
   "metadata": {},
   "outputs": [
    {
     "name": "stdout",
     "output_type": "stream",
     "text": [
      "$$\n"
     ]
    }
   ],
   "source": [
    "print(price_range)"
   ]
  },
  {
   "cell_type": "code",
   "execution_count": 84,
   "metadata": {},
   "outputs": [],
   "source": [
    "# the ratings associated to a particular restaurant are in the \"div\", itemprop = 'aggregateRating' tag\n",
    "# the rating value (between 0 and 5) can be accessed through ratings (= results_business_page.find(\"div\", \n",
    "# itemprop = 'aggregateRating') at the tag \"meta\" and the attribute 'content'\n",
    "# the number of reviews is available through ratings at the 'span' tag\n",
    "\n",
    "ratings = results_business_page.find(\"div\", itemprop = 'aggregateRating')\n",
    "rating_value = ratings.find(\"meta\").get('content')\n",
    "review_count = ratings.find(\"span\").get_text()"
   ]
  },
  {
   "cell_type": "code",
   "execution_count": 85,
   "metadata": {},
   "outputs": [
    {
     "name": "stdout",
     "output_type": "stream",
     "text": [
      "4.5 31\n"
     ]
    }
   ],
   "source": [
    "print(rating_value,review_count)"
   ]
  },
  {
   "cell_type": "code",
   "execution_count": 86,
   "metadata": {},
   "outputs": [],
   "source": [
    "# the phone number can be accessed at the tag 'span',itemprop = \"telephone\"\n",
    "# phone numbers are not always available so we need to catch errors using the try:... except: structure\n",
    "\n",
    "try:\n",
    "    phone_number = results_business_page.find('span',itemprop = \"telephone\").get_text().strip()\n",
    "except:\n",
    "    phone_number = None   "
   ]
  },
  {
   "cell_type": "code",
   "execution_count": 87,
   "metadata": {},
   "outputs": [
    {
     "name": "stdout",
     "output_type": "stream",
     "text": [
      "\n"
     ]
    }
   ],
   "source": [
    "print(phone_number)"
   ]
  },
  {
   "cell_type": "code",
   "execution_count": 88,
   "metadata": {},
   "outputs": [],
   "source": [
    "# We want to know if the restaurant is currently open: this information is \n",
    "# given at the 'span', class_ = \"nowrap extra open\" tag. This information is not always \n",
    "# available that is why we use the try: ... except:... structure\n",
    "\n",
    "try:\n",
    "    open_ = results_business_page.find('span', class_ = \"nowrap extra open\").get_text()\n",
    "except:\n",
    "    open_ = None"
   ]
  },
  {
   "cell_type": "code",
   "execution_count": 89,
   "metadata": {},
   "outputs": [
    {
     "name": "stdout",
     "output_type": "stream",
     "text": [
      "None\n"
     ]
    }
   ],
   "source": [
    "print(open_)"
   ]
  },
  {
   "cell_type": "code",
   "execution_count": 119,
   "metadata": {},
   "outputs": [
    {
     "data": {
      "text/plain": [
       "\"62 Spring StChef's Club CounterNew York, NY 10012\""
      ]
     },
     "execution_count": 119,
     "metadata": {},
     "output_type": "execute_result"
    }
   ],
   "source": [
    "try:\n",
    "    addr = results_business_page.find('strong', class_ = \"street-address\").get_text().strip()\n",
    "except:\n",
    "    addr = None\n",
    "addr"
   ]
  },
  {
   "cell_type": "code",
   "execution_count": 91,
   "metadata": {},
   "outputs": [
    {
     "data": {
      "text/plain": [
       "'chefsclubcounter.com'"
      ]
     },
     "execution_count": 91,
     "metadata": {},
     "output_type": "execute_result"
    }
   ],
   "source": [
    "try:\n",
    "    web = results_business_page.find('span', class_ = \"biz-website js-biz-website js-add-url-tagging\").find('a').get_text()\n",
    "except:\n",
    "    web = None\n",
    "web"
   ]
  },
  {
   "cell_type": "code",
   "execution_count": 82,
   "metadata": {},
   "outputs": [],
   "source": [
    "#want to put all infomations we want to get from one business into one funtion\n",
    "#input: url link\n",
    "#output: all details we tested above\n",
    "def get_info(link):\n",
    "    response_business = requests.get(link)\n",
    "    results_business_page = BeautifulSoup(response_business.content,'lxml')\n",
    "    \n",
    "    try:\n",
    "        addr = results_business_page.find('strong', class_ = \"street-address\").get_text().strip()\n",
    "    except:\n",
    "        addr = None\n",
    "\n",
    "#     try:\n",
    "#         json_map = results_business_page.find('div', class_ = \"lightbox-map hidden\").get('data-map-state')\n",
    "#         dict_map = json.loads(json_map)\n",
    "#         lat = dict_map[\"markers\"][1][\"location\"][\"latitude\"]\n",
    "#         lon = dict_map[\"markers\"][1][\"location\"][\"longitude\"]\n",
    "#     except: \n",
    "#         json_map = None \n",
    "\n",
    "    try: \n",
    "        category = results_business_page.find(\"span\", class_ = 'category-str-list').find('a').get_text()\n",
    "    except:\n",
    "        category = None\n",
    "        \n",
    "    try:\n",
    "        price_range = results_business_page.find(\"span\", class_ = 'business-attribute price-range').get_text()\n",
    "    except:\n",
    "        price_range = None\n",
    "        \n",
    "    try: \n",
    "        rating_value = results_business_page.find(\"div\", {'itemprop' : \"aggregateRating\"}).find(\"meta\").get('content')\n",
    "    except: \n",
    "        rating_value = None\n",
    "        \n",
    "#     try:\n",
    "#         review_count = results_business_page.find(\"div\", {'itemprop' : \"aggregateRating\"}).find(\"span\").get_text()\n",
    "#     except: \n",
    "#         rating_count = None\n",
    "    \n",
    "    try:\n",
    "        phone_number = results_business_page.find('span',itemprop = \"telephone\").get_text().strip()\n",
    "    except:\n",
    "        phone_number = None\n",
    "        \n",
    "    try:\n",
    "        open_ = results_business_page.find('span', class_ = \"nowrap extra open\").get_text()\n",
    "    except:\n",
    "        open_ = 'closed now'\n",
    "        \n",
    "    try:\n",
    "        web = results_business_page.find('span', class_ = \"biz-website js-biz-website js-add-url-tagging\").find('a').get_text()\n",
    "    except:\n",
    "        web = None\n",
    "        \n",
    "    return(addr,category,price_range,rating_value,phone_number,open_,web)\n",
    "    "
   ]
  },
  {
   "cell_type": "code",
   "execution_count": 18,
   "metadata": {},
   "outputs": [
    {
     "data": {
      "text/plain": [
       "('133 Wythe AveBrooklyn, NY 11211',\n",
       " 40.719747,\n",
       " -73.959993,\n",
       " 'Moroccan',\n",
       " '$$',\n",
       " '4.5',\n",
       " '1004',\n",
       " '(718) 486-9222',\n",
       " 'Open now',\n",
       " 'cafemogador.com/williamsburg')"
      ]
     },
     "execution_count": 18,
     "metadata": {},
     "output_type": "execute_result"
    }
   ],
   "source": [
    "#test the function on cafe mogador\n",
    "restaurant_url = \"https://www.yelp.com/biz/cafe-mogador-brooklyn?osq=Restaurants\"\n",
    "get_info(restaurant_url)"
   ]
  },
  {
   "cell_type": "code",
   "execution_count": 94,
   "metadata": {},
   "outputs": [],
   "source": [
    "#Get a list of url links of all businesses (or maybe the first 30)\n",
    "#so that we could compile a list of details on, for example, the first 30 search-result restaurants\n",
    "link_list = []\n",
    "\n",
    "for i in range(1,len(businesses)):\n",
    "    business = businesses[i]\n",
    "    link = 'https://www.yelp.com' + business.get('href')\n",
    "    link_list.append(link)"
   ]
  },
  {
   "cell_type": "code",
   "execution_count": 96,
   "metadata": {},
   "outputs": [],
   "source": [
    "#Create a list of restaurant names\n",
    "name_list=[]\n",
    "for i in range(1,len(businesses)):\n",
    "    business = businesses[i]\n",
    "    name = business.find('span').get_text()\n",
    "    name_list.append(name)"
   ]
  },
  {
   "cell_type": "code",
   "execution_count": 98,
   "metadata": {},
   "outputs": [],
   "source": [
    "#Create a list of all restaurants' information\n",
    "info_list=[]\n",
    "\n",
    "for i in range(len(link_list)):\n",
    "    info_list.append(get_info(link_list[i]))"
   ]
  },
  {
   "cell_type": "code",
   "execution_count": 100,
   "metadata": {},
   "outputs": [],
   "source": [
    "#Create a dictionary showing the information of each restaurant\n",
    "business_info={}\n",
    "\n",
    "for i in range(len(name_list)):\n",
    "    business_info[name_list[i]] = info_list[i]        "
   ]
  },
  {
   "cell_type": "code",
   "execution_count": 127,
   "metadata": {},
   "outputs": [
    {
     "name": "stdout",
     "output_type": "stream",
     "text": [
      "0\n",
      "1\n",
      "2\n",
      "3\n",
      "4\n",
      "5\n",
      "6\n",
      "7\n",
      "8\n",
      "9\n",
      "10\n",
      "11\n",
      "12\n",
      "13\n",
      "14\n",
      "15\n",
      "16\n",
      "17\n"
     ]
    }
   ],
   "source": [
    "for page_index in range(18):\n",
    "    print (page_index)"
   ]
  },
  {
   "cell_type": "code",
   "execution_count": 134,
   "metadata": {},
   "outputs": [],
   "source": [
    "def get_businesses():\n",
    "    business_list = []\n",
    "    \n",
    "    keyword = input('What do you want to eat ? ')\n",
    "    address = input('Where are you ? ')\n",
    "    limit = input('How many results do you want?')\n",
    "    \n",
    "    loop_range = (int(limit)-1)//10\n",
    "    for page_index in range(loop_range+1):\n",
    "        url = 'https://www.yelp.com/search?find_desc='+ keyword + '&find_loc=' + address + '&start=' + str(page_index*10)\n",
    "        response = requests.get(url)\n",
    "        try:\n",
    "            results_page = BeautifulSoup(response.content,'lxml')\n",
    "        except:\n",
    "            print(\"we didn't get back result page from yelp correctly\")\n",
    "        \n",
    "        businesses = results_page.find_all('a',{'data-analytics-label':\"biz-name\"})\n",
    "        business_list = []\n",
    "        for business in businesses:\n",
    "            name = business.find('span').get_text()\n",
    "            link = 'https://www.yelp.com' + business.get('href')\n",
    "            addr,category,price_range,rating_value,phone_number,open_,web= get_info(link)\n",
    "            business_list.append([name,open_,price_range,rating_value,category,phone_number,web])\n",
    "\n",
    "    df = pd.DataFrame(business_list[1:int(limit)+1], columns = ['name','open or closed','price range','rating value','category','phone','website'])\n",
    "                         \n",
    "    return(df)"
   ]
  },
  {
   "cell_type": "code",
   "execution_count": 133,
   "metadata": {},
   "outputs": [
    {
     "name": "stdout",
     "output_type": "stream",
     "text": [
      "What do you want to eat ? pizza \n",
      "Where are you ? boston\n",
      "How many results do you want?23\n"
     ]
    },
    {
     "data": {
      "text/html": [
       "<div>\n",
       "<style scoped>\n",
       "    .dataframe tbody tr th:only-of-type {\n",
       "        vertical-align: middle;\n",
       "    }\n",
       "\n",
       "    .dataframe tbody tr th {\n",
       "        vertical-align: top;\n",
       "    }\n",
       "\n",
       "    .dataframe thead th {\n",
       "        text-align: right;\n",
       "    }\n",
       "</style>\n",
       "<table border=\"1\" class=\"dataframe\">\n",
       "  <thead>\n",
       "    <tr style=\"text-align: right;\">\n",
       "      <th></th>\n",
       "      <th>name</th>\n",
       "      <th>open or closed</th>\n",
       "      <th>price range</th>\n",
       "      <th>rating value</th>\n",
       "      <th>category</th>\n",
       "      <th>phone</th>\n",
       "      <th>website</th>\n",
       "    </tr>\n",
       "  </thead>\n",
       "  <tbody>\n",
       "    <tr>\n",
       "      <th>0</th>\n",
       "      <td>The Brewer’s Fork</td>\n",
       "      <td>closed now</td>\n",
       "      <td>$$</td>\n",
       "      <td>4.5</td>\n",
       "      <td>Pizza</td>\n",
       "      <td>(617) 337-5703</td>\n",
       "      <td>thebrewersfork.com</td>\n",
       "    </tr>\n",
       "    <tr>\n",
       "      <th>1</th>\n",
       "      <td>Crush Pizza</td>\n",
       "      <td>closed now</td>\n",
       "      <td>$$</td>\n",
       "      <td>3.5</td>\n",
       "      <td>Pizza</td>\n",
       "      <td>(857) 350-4222</td>\n",
       "      <td>crushpizza.com</td>\n",
       "    </tr>\n",
       "    <tr>\n",
       "      <th>2</th>\n",
       "      <td>Woody’s Grill and Tap</td>\n",
       "      <td>closed now</td>\n",
       "      <td>$$</td>\n",
       "      <td>4.0</td>\n",
       "      <td>Bars</td>\n",
       "      <td>(617) 375-9663</td>\n",
       "      <td>woodysfenway.com</td>\n",
       "    </tr>\n",
       "    <tr>\n",
       "      <th>3</th>\n",
       "      <td>Stoked Wood Fired Pizza</td>\n",
       "      <td>closed now</td>\n",
       "      <td>$</td>\n",
       "      <td>4.5</td>\n",
       "      <td>Food Trucks</td>\n",
       "      <td>(617) 879-0707</td>\n",
       "      <td>stokedpizzaco.com</td>\n",
       "    </tr>\n",
       "    <tr>\n",
       "      <th>4</th>\n",
       "      <td>Rina’s Pizzeria &amp; Cafe</td>\n",
       "      <td>closed now</td>\n",
       "      <td>$</td>\n",
       "      <td>4.0</td>\n",
       "      <td>Italian</td>\n",
       "      <td>(617) 456-5700</td>\n",
       "      <td>rinasnorthend.com</td>\n",
       "    </tr>\n",
       "    <tr>\n",
       "      <th>5</th>\n",
       "      <td>Pastoral - Artisan Pizza, Kitchen &amp; Bar</td>\n",
       "      <td>Open now</td>\n",
       "      <td>$$</td>\n",
       "      <td>3.5</td>\n",
       "      <td>Pizza</td>\n",
       "      <td>(617) 345-0005</td>\n",
       "      <td>pastoralfortpoint.com</td>\n",
       "    </tr>\n",
       "    <tr>\n",
       "      <th>6</th>\n",
       "      <td>Casa Razdora</td>\n",
       "      <td>closed now</td>\n",
       "      <td>$</td>\n",
       "      <td>4.5</td>\n",
       "      <td>Italian</td>\n",
       "      <td>(617) 338-6700</td>\n",
       "      <td>casarazdora.com</td>\n",
       "    </tr>\n",
       "    <tr>\n",
       "      <th>7</th>\n",
       "      <td>Orá Trattorizza</td>\n",
       "      <td>closed now</td>\n",
       "      <td>$$</td>\n",
       "      <td>4.0</td>\n",
       "      <td>Italian</td>\n",
       "      <td>(857) 239-8437</td>\n",
       "      <td>oratrattorizza.com</td>\n",
       "    </tr>\n",
       "    <tr>\n",
       "      <th>8</th>\n",
       "      <td>Area Four</td>\n",
       "      <td>closed now</td>\n",
       "      <td>$$</td>\n",
       "      <td>4.0</td>\n",
       "      <td>Pizza</td>\n",
       "      <td>(617) 758-4444</td>\n",
       "      <td>areafour.com</td>\n",
       "    </tr>\n",
       "    <tr>\n",
       "      <th>9</th>\n",
       "      <td>Pizza Stop</td>\n",
       "      <td>closed now</td>\n",
       "      <td>$</td>\n",
       "      <td>4.0</td>\n",
       "      <td>Pizza</td>\n",
       "      <td>(617) 427-4054</td>\n",
       "      <td>None</td>\n",
       "    </tr>\n",
       "    <tr>\n",
       "      <th>10</th>\n",
       "      <td>Upper Crust Pizzeria</td>\n",
       "      <td>closed now</td>\n",
       "      <td>$</td>\n",
       "      <td>3.5</td>\n",
       "      <td>Pizza</td>\n",
       "      <td>(617) 723-9600</td>\n",
       "      <td>theuppercrustpizzeria.com</td>\n",
       "    </tr>\n",
       "    <tr>\n",
       "      <th>11</th>\n",
       "      <td>Benevento’s</td>\n",
       "      <td>closed now</td>\n",
       "      <td>$$</td>\n",
       "      <td>4.0</td>\n",
       "      <td>Italian</td>\n",
       "      <td>(617) 523-4111</td>\n",
       "      <td>beneventosboston.com</td>\n",
       "    </tr>\n",
       "    <tr>\n",
       "      <th>12</th>\n",
       "      <td>Dragon Pizza</td>\n",
       "      <td>closed now</td>\n",
       "      <td>$$</td>\n",
       "      <td>4.5</td>\n",
       "      <td>Pizza</td>\n",
       "      <td>(617) 764-5026</td>\n",
       "      <td>None</td>\n",
       "    </tr>\n",
       "    <tr>\n",
       "      <th>13</th>\n",
       "      <td>New York Pizza</td>\n",
       "      <td>Open now</td>\n",
       "      <td>$</td>\n",
       "      <td>3.0</td>\n",
       "      <td>Pizza</td>\n",
       "      <td>(617) 482-3459</td>\n",
       "      <td>newyorkpizzaboston.com</td>\n",
       "    </tr>\n",
       "    <tr>\n",
       "      <th>14</th>\n",
       "      <td>Blaze Fast-Fire’d Pizza</td>\n",
       "      <td>closed now</td>\n",
       "      <td>$</td>\n",
       "      <td>4.5</td>\n",
       "      <td>Pizza</td>\n",
       "      <td>(857) 220-9400</td>\n",
       "      <td>blazepizza.com</td>\n",
       "    </tr>\n",
       "    <tr>\n",
       "      <th>15</th>\n",
       "      <td>Stoked Wood Fired Pizza</td>\n",
       "      <td>closed now</td>\n",
       "      <td>$$</td>\n",
       "      <td>4.5</td>\n",
       "      <td>Pizza</td>\n",
       "      <td>(617) 879-0707</td>\n",
       "      <td>stokedpizzaco.com</td>\n",
       "    </tr>\n",
       "    <tr>\n",
       "      <th>16</th>\n",
       "      <td>Felcaro Pizzeria</td>\n",
       "      <td>Open now</td>\n",
       "      <td>$</td>\n",
       "      <td>3.0</td>\n",
       "      <td>Pizza</td>\n",
       "      <td>(617) 742-0011</td>\n",
       "      <td>felcaropizza.com</td>\n",
       "    </tr>\n",
       "    <tr>\n",
       "      <th>17</th>\n",
       "      <td>Haymarket Pizza</td>\n",
       "      <td>closed now</td>\n",
       "      <td>$</td>\n",
       "      <td>4.0</td>\n",
       "      <td>Pizza</td>\n",
       "      <td>(617) 723-8585</td>\n",
       "      <td>None</td>\n",
       "    </tr>\n",
       "    <tr>\n",
       "      <th>18</th>\n",
       "      <td>DaCoopas Pizza and Subs</td>\n",
       "      <td>closed now</td>\n",
       "      <td>$</td>\n",
       "      <td>4.0</td>\n",
       "      <td>Pizza</td>\n",
       "      <td>(617) 567-3399</td>\n",
       "      <td>dacoopas.com</td>\n",
       "    </tr>\n",
       "    <tr>\n",
       "      <th>19</th>\n",
       "      <td>OTTO Pizza</td>\n",
       "      <td>closed now</td>\n",
       "      <td>$$</td>\n",
       "      <td>3.5</td>\n",
       "      <td>Pizza</td>\n",
       "      <td>(617) 232-0447</td>\n",
       "      <td>ottoportland.com</td>\n",
       "    </tr>\n",
       "    <tr>\n",
       "      <th>20</th>\n",
       "      <td>Sal’s Pizza</td>\n",
       "      <td>closed now</td>\n",
       "      <td>$</td>\n",
       "      <td>3.5</td>\n",
       "      <td>Pizza</td>\n",
       "      <td>(617) 227-1010</td>\n",
       "      <td>sals-pizza.com</td>\n",
       "    </tr>\n",
       "    <tr>\n",
       "      <th>21</th>\n",
       "      <td>Oath Pizza - Fenway</td>\n",
       "      <td>closed now</td>\n",
       "      <td>$$</td>\n",
       "      <td>4.0</td>\n",
       "      <td>Pizza</td>\n",
       "      <td>(857) 990-3757</td>\n",
       "      <td>oathpizza.com/fenway</td>\n",
       "    </tr>\n",
       "    <tr>\n",
       "      <th>22</th>\n",
       "      <td>Andrew Square House of Pizza</td>\n",
       "      <td>closed now</td>\n",
       "      <td>$</td>\n",
       "      <td>4.0</td>\n",
       "      <td>Pizza</td>\n",
       "      <td>(617) 268-1940</td>\n",
       "      <td>None</td>\n",
       "    </tr>\n",
       "    <tr>\n",
       "      <th>23</th>\n",
       "      <td>Pizzeria 260</td>\n",
       "      <td>closed now</td>\n",
       "      <td>$</td>\n",
       "      <td>3.5</td>\n",
       "      <td>Italian</td>\n",
       "      <td>(617) 268-9600</td>\n",
       "      <td>pizzeria260.com</td>\n",
       "    </tr>\n",
       "    <tr>\n",
       "      <th>24</th>\n",
       "      <td>Monica’s Mercato Pizza</td>\n",
       "      <td>closed now</td>\n",
       "      <td>$$</td>\n",
       "      <td>4.5</td>\n",
       "      <td>Pizza</td>\n",
       "      <td>(617) 459-4706</td>\n",
       "      <td>None</td>\n",
       "    </tr>\n",
       "    <tr>\n",
       "      <th>25</th>\n",
       "      <td>Leone’s Sub &amp; Pizza</td>\n",
       "      <td>closed now</td>\n",
       "      <td>$</td>\n",
       "      <td>4.5</td>\n",
       "      <td>Sandwiches</td>\n",
       "      <td>(617) 776-2511</td>\n",
       "      <td>sub.leonessubandpizza.com</td>\n",
       "    </tr>\n",
       "    <tr>\n",
       "      <th>26</th>\n",
       "      <td>Mirisola’s</td>\n",
       "      <td>closed now</td>\n",
       "      <td>$</td>\n",
       "      <td>4.5</td>\n",
       "      <td>Italian</td>\n",
       "      <td>(617) 269-9701</td>\n",
       "      <td>None</td>\n",
       "    </tr>\n",
       "    <tr>\n",
       "      <th>27</th>\n",
       "      <td>Boston Pizza Grill</td>\n",
       "      <td>Open now</td>\n",
       "      <td>$$</td>\n",
       "      <td>3.5</td>\n",
       "      <td>Pizza</td>\n",
       "      <td>(617) 265-2222</td>\n",
       "      <td>bostonpizzagrill.com</td>\n",
       "    </tr>\n",
       "    <tr>\n",
       "      <th>28</th>\n",
       "      <td>IL Mondo Pizzeria</td>\n",
       "      <td>Open now</td>\n",
       "      <td>$</td>\n",
       "      <td>3.0</td>\n",
       "      <td>Pizza</td>\n",
       "      <td>(617) 277-7161</td>\n",
       "      <td>ilmondopizza.com</td>\n",
       "    </tr>\n",
       "    <tr>\n",
       "      <th>29</th>\n",
       "      <td>MAST’</td>\n",
       "      <td>closed now</td>\n",
       "      <td>$$</td>\n",
       "      <td>3.5</td>\n",
       "      <td>Pizza</td>\n",
       "      <td>(617) 936-3800</td>\n",
       "      <td>mastboston.com</td>\n",
       "    </tr>\n",
       "  </tbody>\n",
       "</table>\n",
       "</div>"
      ],
      "text/plain": [
       "                                       name open or closed price range  \\\n",
       "0                         The Brewer’s Fork     closed now          $$   \n",
       "1                               Crush Pizza     closed now          $$   \n",
       "2                     Woody’s Grill and Tap     closed now          $$   \n",
       "3                   Stoked Wood Fired Pizza     closed now           $   \n",
       "4                    Rina’s Pizzeria & Cafe     closed now           $   \n",
       "5   Pastoral - Artisan Pizza, Kitchen & Bar       Open now          $$   \n",
       "6                              Casa Razdora     closed now           $   \n",
       "7                           Orá Trattorizza     closed now          $$   \n",
       "8                                 Area Four     closed now          $$   \n",
       "9                                Pizza Stop     closed now           $   \n",
       "10                     Upper Crust Pizzeria     closed now           $   \n",
       "11                              Benevento’s     closed now          $$   \n",
       "12                             Dragon Pizza     closed now          $$   \n",
       "13                           New York Pizza       Open now           $   \n",
       "14                  Blaze Fast-Fire’d Pizza     closed now           $   \n",
       "15                  Stoked Wood Fired Pizza     closed now          $$   \n",
       "16                         Felcaro Pizzeria       Open now           $   \n",
       "17                          Haymarket Pizza     closed now           $   \n",
       "18                  DaCoopas Pizza and Subs     closed now           $   \n",
       "19                               OTTO Pizza     closed now          $$   \n",
       "20                              Sal’s Pizza     closed now           $   \n",
       "21                      Oath Pizza - Fenway     closed now          $$   \n",
       "22             Andrew Square House of Pizza     closed now           $   \n",
       "23                             Pizzeria 260     closed now           $   \n",
       "24                   Monica’s Mercato Pizza     closed now          $$   \n",
       "25                      Leone’s Sub & Pizza     closed now           $   \n",
       "26                               Mirisola’s     closed now           $   \n",
       "27                       Boston Pizza Grill       Open now          $$   \n",
       "28                        IL Mondo Pizzeria       Open now           $   \n",
       "29                                    MAST’     closed now          $$   \n",
       "\n",
       "   rating value     category           phone                    website  \n",
       "0           4.5        Pizza  (617) 337-5703         thebrewersfork.com  \n",
       "1           3.5        Pizza  (857) 350-4222             crushpizza.com  \n",
       "2           4.0         Bars  (617) 375-9663           woodysfenway.com  \n",
       "3           4.5  Food Trucks  (617) 879-0707          stokedpizzaco.com  \n",
       "4           4.0      Italian  (617) 456-5700          rinasnorthend.com  \n",
       "5           3.5        Pizza  (617) 345-0005      pastoralfortpoint.com  \n",
       "6           4.5      Italian  (617) 338-6700            casarazdora.com  \n",
       "7           4.0      Italian  (857) 239-8437         oratrattorizza.com  \n",
       "8           4.0        Pizza  (617) 758-4444               areafour.com  \n",
       "9           4.0        Pizza  (617) 427-4054                       None  \n",
       "10          3.5        Pizza  (617) 723-9600  theuppercrustpizzeria.com  \n",
       "11          4.0      Italian  (617) 523-4111       beneventosboston.com  \n",
       "12          4.5        Pizza  (617) 764-5026                       None  \n",
       "13          3.0        Pizza  (617) 482-3459     newyorkpizzaboston.com  \n",
       "14          4.5        Pizza  (857) 220-9400             blazepizza.com  \n",
       "15          4.5        Pizza  (617) 879-0707          stokedpizzaco.com  \n",
       "16          3.0        Pizza  (617) 742-0011           felcaropizza.com  \n",
       "17          4.0        Pizza  (617) 723-8585                       None  \n",
       "18          4.0        Pizza  (617) 567-3399               dacoopas.com  \n",
       "19          3.5        Pizza  (617) 232-0447           ottoportland.com  \n",
       "20          3.5        Pizza  (617) 227-1010             sals-pizza.com  \n",
       "21          4.0        Pizza  (857) 990-3757       oathpizza.com/fenway  \n",
       "22          4.0        Pizza  (617) 268-1940                       None  \n",
       "23          3.5      Italian  (617) 268-9600            pizzeria260.com  \n",
       "24          4.5        Pizza  (617) 459-4706                       None  \n",
       "25          4.5   Sandwiches  (617) 776-2511  sub.leonessubandpizza.com  \n",
       "26          4.5      Italian  (617) 269-9701                       None  \n",
       "27          3.5        Pizza  (617) 265-2222       bostonpizzagrill.com  \n",
       "28          3.0        Pizza  (617) 277-7161           ilmondopizza.com  \n",
       "29          3.5        Pizza  (617) 936-3800             mastboston.com  "
      ]
     },
     "execution_count": 133,
     "metadata": {},
     "output_type": "execute_result"
    }
   ],
   "source": [
    "get_businesses()"
   ]
  },
  {
   "cell_type": "code",
   "execution_count": 89,
   "metadata": {},
   "outputs": [
    {
     "data": {
      "text/plain": [
       "[['Ellis Cafe', 'closed now', None, None, None, None, None],\n",
       " ['Burger & Lobster',\n",
       "  'closed now',\n",
       "  '$$',\n",
       "  '4.0',\n",
       "  'Seafood',\n",
       "  '(646) 833-7532',\n",
       "  'burgerandlobster.com/en/locat…'],\n",
       " ['Diesel & Duke',\n",
       "  'closed now',\n",
       "  '$$',\n",
       "  '4.5',\n",
       "  'Burgers',\n",
       "  '(201) 222-1322',\n",
       "  'eatdiesel.com'],\n",
       " ['Walburgers',\n",
       "  'closed now',\n",
       "  '$$',\n",
       "  '2.5',\n",
       "  'Burgers',\n",
       "  '(718) 942-4450',\n",
       "  'wahlburgersrestaurant.com'],\n",
       " ['Burgerology',\n",
       "  'closed now',\n",
       "  '$$',\n",
       "  '3.5',\n",
       "  'Burgers',\n",
       "  '(917) 745-0299',\n",
       "  'burgerologyastoria.com'],\n",
       " ['The Burgary',\n",
       "  'closed now',\n",
       "  '$$',\n",
       "  '4.5',\n",
       "  'Burgers',\n",
       "  '(212) 529-6900',\n",
       "  'theburgary.com'],\n",
       " ['Black Iron Burger',\n",
       "  'closed now',\n",
       "  '$$',\n",
       "  '4.0',\n",
       "  'Burgers',\n",
       "  '(347) 380-4731',\n",
       "  'blackironburger.com'],\n",
       " ['Juanchi’s Burger',\n",
       "  'closed now',\n",
       "  '$$',\n",
       "  '4.5',\n",
       "  'Gastropubs',\n",
       "  '(929) 295-0147',\n",
       "  'juanchisburgersbk.com'],\n",
       " ['dumont burger',\n",
       "  'closed now',\n",
       "  '$$',\n",
       "  '4.5',\n",
       "  'Burgers',\n",
       "  '(718) 388-0771',\n",
       "  'dumontburgerny.com'],\n",
       " ['Benson’s NYC',\n",
       "  'Open now',\n",
       "  '$$',\n",
       "  '4.5',\n",
       "  'American (New)',\n",
       "  '(646) 791-5765',\n",
       "  'bensonsnyc.com'],\n",
       " ['Standard Burger',\n",
       "  'closed now',\n",
       "  '$',\n",
       "  '3.5',\n",
       "  'Burgers',\n",
       "  '(718) 921-5500',\n",
       "  'standardburgers.com/best-burg…']]"
      ]
     },
     "execution_count": 89,
     "metadata": {},
     "output_type": "execute_result"
    }
   ],
   "source": [
    "#workspace\n",
    "url = \"https://www.yelp.com/search?find_desc=burger+&find_loc=new+york\"\n",
    "response = requests.get(url)\n",
    "results_page = BeautifulSoup(response.content,'lxml')\n",
    "businesses = results_page.find_all('a',{'data-analytics-label':\"biz-name\"})\n",
    "business_list = []\n",
    "for business in businesses:\n",
    "    name = business.find('span').get_text()\n",
    "    link = 'https://www.yelp.com' + business.get('href')\n",
    "    addr,category,price_range,rating_value,phone_number,open_,web= get_info(link)\n",
    "    #[name,open_,latitude,longitude,price_range,rating_value,review_count,category,phone_number,web]        \n",
    "    #df.loc[i] = [name,open_,latitude,longitude,price_range,rating_value,review_count,category,phone_number,web]\n",
    "    business_list.append([name,open_,price_range,rating_value,category,phone_number,web])\n",
    "business_list\n"
   ]
  },
  {
   "cell_type": "code",
   "execution_count": null,
   "metadata": {},
   "outputs": [],
   "source": []
  },
  {
   "cell_type": "code",
   "execution_count": null,
   "metadata": {},
   "outputs": [],
   "source": []
  }
 ],
 "metadata": {
  "kernelspec": {
   "display_name": "Python 3",
   "language": "python",
   "name": "python3"
  },
  "language_info": {
   "codemirror_mode": {
    "name": "ipython",
    "version": 3
   },
   "file_extension": ".py",
   "mimetype": "text/x-python",
   "name": "python",
   "nbconvert_exporter": "python",
   "pygments_lexer": "ipython3",
   "version": "3.6.5"
  }
 },
 "nbformat": 4,
 "nbformat_minor": 2
}
