{
 "cells": [
  {
   "cell_type": "code",
   "execution_count": 4,
   "metadata": {},
   "outputs": [],
   "source": [
    "# scraping libraries to read html code\n",
    "import requests\n",
    "from bs4 import BeautifulSoup\n",
    "import json"
   ]
  },
  {
   "cell_type": "code",
   "execution_count": 5,
   "metadata": {},
   "outputs": [],
   "source": [
    "# pandas library to create dataframe\n",
    "# re for match\n",
    "import pandas as pd\n",
    "import numpy as np\n",
    "import re"
   ]
  },
  {
   "cell_type": "code",
   "execution_count": 6,
   "metadata": {},
   "outputs": [],
   "source": [
    "# standard library to count frequency \n",
    "import collections "
   ]
  },
  {
   "cell_type": "code",
   "execution_count": 6,
   "metadata": {
    "slideshow": {
     "slide_type": "-"
    }
   },
   "outputs": [
    {
     "name": "stdout",
     "output_type": "stream",
     "text": [
      "What do you want to eat ? pizza\n",
      "Where are you ? new york\n"
     ]
    },
    {
     "data": {
      "text/plain": [
       "'https://www.yelp.com/search?find_desc=pizza&find_loc=new york'"
      ]
     },
     "execution_count": 6,
     "metadata": {},
     "output_type": "execute_result"
    }
   ],
   "source": [
    "# Direct to initial results\n",
    "url = 'https://www.yelp.com/search?find_desc='\n",
    "keyword = input('What do you want to eat ? ')\n",
    "address = input('Where are you ? ')\n",
    "\n",
    "url = 'https://www.yelp.com/search?find_desc='+ keyword + '&find_loc=' + address \n",
    "url"
   ]
  },
  {
   "cell_type": "code",
   "execution_count": 7,
   "metadata": {},
   "outputs": [
    {
     "data": {
      "text/plain": [
       "200"
      ]
     },
     "execution_count": 7,
     "metadata": {},
     "output_type": "execute_result"
    }
   ],
   "source": [
    "# Checking if the url is \"valid\", the status code should be 200\n",
    "response = requests.get(url)\n",
    "response.status_code"
   ]
  },
  {
   "cell_type": "code",
   "execution_count": 17,
   "metadata": {},
   "outputs": [],
   "source": [
    "# extract the html code from the web page = https://www.yelp.com/search?find_desc=Restaurants&find_loc=New+York,+NY&start=30\n",
    "results_page = BeautifulSoup(response.content,'lxml')"
   ]
  },
  {
   "cell_type": "code",
   "execution_count": null,
   "metadata": {},
   "outputs": [],
   "source": [
    "# creating a list of businesses with the html code of the business as elements of the list\n",
    "businesses = results_page.find_all('a',class_ = \"biz-name js-analytics-click\")"
   ]
  },
  {
   "cell_type": "code",
   "execution_count": null,
   "metadata": {},
   "outputs": [],
   "source": [
    "# selecting the first element (a particular restaurant in our case) of the list businesses and looking in the\n",
    "#ignore the first element of the businesses list, it is an ad by yelp, regular list start from the second (index = 1)\n",
    "# html code for its name\n",
    "business = businesses[1]\n",
    "name = business.find('span').get_text()\n",
    "\n",
    "# getting the link to the yelp page this particular restaurant\n",
    "link = 'https://www.yelp.com' + business.get('href')"
   ]
  },
  {
   "cell_type": "code",
   "execution_count": null,
   "metadata": {},
   "outputs": [],
   "source": [
    "print(name,link)"
   ]
  },
  {
   "cell_type": "code",
   "execution_count": null,
   "metadata": {},
   "outputs": [],
   "source": [
    "# extracting the html code of the web page associated with the first business of our list businesses\n",
    "response_business = requests.get(link)\n",
    "results_business_page = BeautifulSoup(response_business.content,'lxml')"
   ]
  },
  {
   "cell_type": "code",
   "execution_count": null,
   "metadata": {},
   "outputs": [],
   "source": [
    "# looking in the html page of the restaurant for latitude and longitude coordinates of the restaurant\n",
    "# the json object json_map contains these coordinates\n",
    "json_map = results_business_page.find('div', class_ = \"lightbox-map hidden\").get('data-map-state')\n",
    "\n",
    "# we can convert this json object to a python dictionnary using the following method\n",
    "dict_map = json.loads(json_map)\n",
    "\n",
    "# the relevant keys in this dict are \"markers\", \"location\" and \"latitude\" and \"longitude\"\n",
    "latitude = dict_map[\"markers\"][1][\"location\"][\"latitude\"]\n",
    "longitude = dict_map[\"markers\"][1][\"location\"][\"longitude\"]"
   ]
  },
  {
   "cell_type": "code",
   "execution_count": null,
   "metadata": {},
   "outputs": [],
   "source": [
    "json_map"
   ]
  },
  {
   "cell_type": "code",
   "execution_count": null,
   "metadata": {},
   "outputs": [],
   "source": [
    "print(latitude,longitude)"
   ]
  },
  {
   "cell_type": "code",
   "execution_count": null,
   "metadata": {},
   "outputs": [],
   "source": [
    "# The category can be found in the 'a' tag under \"span\", class_ = 'category-str-list' tag, \n",
    "category= results_business_page.find(\"span\", class_ = 'category-str-list').find('a').get_text()"
   ]
  },
  {
   "cell_type": "code",
   "execution_count": null,
   "metadata": {},
   "outputs": [],
   "source": [
    "category"
   ]
  },
  {
   "cell_type": "code",
   "execution_count": null,
   "metadata": {},
   "outputs": [],
   "source": [
    "# the price range ('$','$$','$$$', or '$$$$') can be found in the \"span\", class_ = 'business-attribute price-range' tag\n",
    "# the price range is not always available, that is why we need to catch errors \n",
    "# if necessary (hence the try: except) structure\n",
    "\n",
    "try:\n",
    "    price_range = results_business_page.find(\"span\", class_ = 'business-attribute price-range').get_text()\n",
    "except:\n",
    "    price_range = None"
   ]
  },
  {
   "cell_type": "code",
   "execution_count": null,
   "metadata": {},
   "outputs": [],
   "source": [
    "print(price_range)"
   ]
  },
  {
   "cell_type": "code",
   "execution_count": null,
   "metadata": {},
   "outputs": [],
   "source": [
    "# the ratings associated to a particular restaurant are in the \"div\", itemprop = 'aggregateRating' tag\n",
    "# the rating value (between 0 and 5) can be accessed through ratings (= results_business_page.find(\"div\", \n",
    "# itemprop = 'aggregateRating') at the tag \"meta\" and the attribute 'content'\n",
    "# the number of reviews is available through ratings at the 'span' tag\n",
    "\n",
    "ratings = results_business_page.find(\"div\", itemprop = 'aggregateRating')\n",
    "rating_value = ratings.find(\"meta\").get('content')\n",
    "review_count = ratings.find(\"span\").get_text()"
   ]
  },
  {
   "cell_type": "code",
   "execution_count": null,
   "metadata": {},
   "outputs": [],
   "source": [
    "print(rating_value,review_count)"
   ]
  },
  {
   "cell_type": "code",
   "execution_count": null,
   "metadata": {},
   "outputs": [],
   "source": [
    "# the phone number can be accessed at the tag 'span',itemprop = \"telephone\"\n",
    "# phone numbers are not always available so we need to catch errors using the try:... except: structure\n",
    "\n",
    "try:\n",
    "    phone_number = results_business_page.find('span',itemprop = \"telephone\").get_text().strip()\n",
    "except:\n",
    "    phone_number = None   "
   ]
  },
  {
   "cell_type": "code",
   "execution_count": null,
   "metadata": {},
   "outputs": [],
   "source": [
    "print(phone_number)"
   ]
  },
  {
   "cell_type": "code",
   "execution_count": null,
   "metadata": {},
   "outputs": [],
   "source": [
    "# We want to know if the restaurant is currently open: this information is \n",
    "# given at the 'span', class_ = \"nowrap extra open\" tag. This information is not always \n",
    "# available that is why we use the try: ... except:... structure\n",
    "\n",
    "try:\n",
    "    open_ = results_business_page.find('span', class_ = \"nowrap extra open\").get_text()\n",
    "except:\n",
    "    open_ = None"
   ]
  },
  {
   "cell_type": "code",
   "execution_count": null,
   "metadata": {},
   "outputs": [],
   "source": [
    "print(open_)"
   ]
  },
  {
   "cell_type": "code",
   "execution_count": null,
   "metadata": {},
   "outputs": [],
   "source": [
    "try:\n",
    "    addr = results_business_page.find('strong', class_ = \"street-address\").get_text().strip()\n",
    "except:\n",
    "    addr = None\n",
    "addr"
   ]
  },
  {
   "cell_type": "code",
   "execution_count": null,
   "metadata": {},
   "outputs": [],
   "source": [
    "try:\n",
    "    web = results_business_page.find('span', class_ = \"biz-website js-biz-website js-add-url-tagging\").find('a').get_text()\n",
    "except:\n",
    "    web = None\n",
    "web"
   ]
  },
  {
   "cell_type": "code",
   "execution_count": 7,
   "metadata": {},
   "outputs": [],
   "source": [
    "#want to put all infomations we want to get from one business into one funtion\n",
    "#input: specific restaurant url link\n",
    "#output: all details we tested above\n",
    "def get_info(link):\n",
    "    response_business = requests.get(link)\n",
    "    results_business_page = BeautifulSoup(response_business.content,'lxml')\n",
    "    \n",
    "    try:\n",
    "        addr = results_business_page.find('strong', class_ = \"street-address\").get_text().strip()\n",
    "    except:\n",
    "        addr = None\n",
    "\n",
    "    try:\n",
    "        json_map = results_business_page.find('div', class_ = \"lightbox-map hidden\").get('data-map-state')\n",
    "        dict_map = json.loads(json_map)\n",
    "        lat = dict_map[\"markers\"][1][\"location\"][\"latitude\"]\n",
    "        lon = dict_map[\"markers\"][1][\"location\"][\"longitude\"]\n",
    "    except: \n",
    "        json_map = None \n",
    "\n",
    "    try: \n",
    "        category = results_business_page.find(\"span\", class_ = 'category-str-list').find('a').get_text()\n",
    "    except:\n",
    "        category = None\n",
    "        \n",
    "    try:\n",
    "        price_range = results_business_page.find(\"span\", class_ = 'business-attribute price-range').get_text()\n",
    "    except:\n",
    "        price_range = None\n",
    "        \n",
    "    try: \n",
    "        rating_value = results_business_page.find(\"div\", {'itemprop' : \"aggregateRating\"}).find(\"meta\").get('content')\n",
    "    except: \n",
    "        rating_value = None\n",
    "          \n",
    "    try:\n",
    "        phone_number = results_business_page.find('span',itemprop = \"telephone\").get_text().strip()\n",
    "    except:\n",
    "        phone_number = None\n",
    "        \n",
    "    try:\n",
    "        open_ = results_business_page.find('span', class_ = \"nowrap extra open\").get_text()\n",
    "    except:\n",
    "        open_ = 'closed now'\n",
    "        \n",
    "    try:\n",
    "        web = results_business_page.find('span', class_ = \"biz-website js-biz-website js-add-url-tagging\").find('a').get_text()\n",
    "    except:\n",
    "        web = None\n",
    "    \n",
    "    try:\n",
    "        moreinfo = results_business_page.find_all('dl')\n",
    "        delivery = \"No\"\n",
    "        for i in moreinfo[1:]:\n",
    "            try:\n",
    "                attr = i.find('dt',{'class':\"attribute-key\"}).get_text().strip()\n",
    "                yon = i.find('dd').get_text().strip()\n",
    "                if attr == 'Delivery':\n",
    "                    delivery = yon\n",
    "                    break\n",
    "            except:\n",
    "                delivery = delivery\n",
    "\n",
    "    except:\n",
    "        delivery = None\n",
    "        \n",
    "    return(addr,category,price_range,rating_value,phone_number,open_,web,delivery,lat,lon)\n",
    "    "
   ]
  },
  {
   "cell_type": "code",
   "execution_count": null,
   "metadata": {},
   "outputs": [],
   "source": [
    "#Get a list of url links of all businesses (or maybe the first 30)\n",
    "#so that we could compile a list of details on, for example, the first 30 search-result restaurants\n",
    "link_list = []\n",
    "\n",
    "for i in range(1,len(businesses)):\n",
    "    business = businesses[i]\n",
    "    link = 'https://www.yelp.com' + business.get('href')\n",
    "    link_list.append(link)"
   ]
  },
  {
   "cell_type": "code",
   "execution_count": null,
   "metadata": {},
   "outputs": [],
   "source": [
    "#Create a list of restaurant names\n",
    "name_list=[]\n",
    "for i in range(1,len(businesses)):\n",
    "    business = businesses[i]\n",
    "    name = business.find('span').get_text()\n",
    "    name_list.append(name)"
   ]
  },
  {
   "cell_type": "code",
   "execution_count": null,
   "metadata": {},
   "outputs": [],
   "source": [
    "#Create a list of all restaurants' information\n",
    "info_list=[]\n",
    "\n",
    "for i in range(len(link_list)):\n",
    "    info_list.append(get_info(link_list[i]))"
   ]
  },
  {
   "cell_type": "code",
   "execution_count": 8,
   "metadata": {},
   "outputs": [],
   "source": [
    "def get_businesses():\n",
    "    global keyword\n",
    "    keyword = input('What do you want to eat ? ')\n",
    "    global address\n",
    "    address = input('Where are you ? ')\n",
    "    limit = input('How many results do you want? ')\n",
    "    filters = input('Do you want to sort by \\n 1: price low to high  \\n 2: price high to low  \\n 3: ratings? \\n Please enter the number 1/2/3:')\n",
    "    \n",
    "    #first page - figure out numbers of results per page\n",
    "    url = 'https://www.yelp.com/search?find_desc='+ keyword + '&find_loc=' + address \n",
    "    response = requests.get(url)\n",
    "    try:\n",
    "        results_page = BeautifulSoup(response.content,'lxml')\n",
    "    except:\n",
    "        print(\"we didn't get back result page from yelp correctly\")\n",
    "    noperpage = results_page.find('span',{'class':'pagination-results-window'}).get_text().strip()[10:12]\n",
    "    noperpage = int(noperpage)\n",
    "    businesses = results_page.find_all('a',{'data-analytics-label':\"biz-name\"})[1:]\n",
    "    global cuisine_styles\n",
    "    cuisine_styles = results_page.find_all('span',class_=\"category-str-list\")\n",
    "    \n",
    "    #start loop from the second page to get enough number of restaurants\n",
    "    loop_range = (int(limit)-1)//noperpage\n",
    "    for pagination in range(1, loop_range+1):\n",
    "        url = 'https://www.yelp.com/search?find_desc='+ keyword + '&find_loc=' + address + '&start=' + str(pagination*noperpage)\n",
    "        response = requests.get(url)\n",
    "        try:\n",
    "            results_page = BeautifulSoup(response.content,'lxml')\n",
    "        except:\n",
    "            print(\"we didn't get back result page from yelp correctly\")\n",
    "        \n",
    "        businesses.extend(results_page.find_all('a',{'data-analytics-label':\"biz-name\"})[1:])\n",
    "    businesses = businesses[:int(limit)]\n",
    "    \n",
    "    #generate details by get_info and format in dataframe\n",
    "    business_list = []\n",
    "    for business in businesses:\n",
    "        name = business.find('span').get_text()\n",
    "        link = 'https://www.yelp.com' + business.get('href')\n",
    "        addr,category,price_range,rating_value,phone_number,open_,web,delivery,lat,lon= get_info(link)\n",
    "        business_list.append([name,addr,open_,price_range,rating_value,category,phone_number,web,delivery,lat,lon])\n",
    "    df = pd.DataFrame(business_list[:int(limit)+1], columns = ['name','address','open or closed','price range','rating value','category','phone','website','delivery service','lat','lon'])\n",
    "    \n",
    "    #sortby...\n",
    "    pattern = r'rat'\n",
    "    match = bool(re.search(pattern, filters))\n",
    "    if match or filters == '3':\n",
    "        df = df.sort_values(by='rating value',ascending=False)\n",
    "    \n",
    "    elif filters == 'price low to high' or filters == '1':\n",
    "        df['length'] = df['price range'].apply(lambda x: len(x))\n",
    "        df = df.sort_values(by='length',ascending=True)\n",
    "        df = df.drop('length', axis=1)\n",
    "        \n",
    "    elif filters == 'price high to low' or filters == '2':\n",
    "        df['length'] = df['price range'].apply(lambda x: len(x))\n",
    "        df = df.sort_values(by='length',ascending=False)\n",
    "        df = df.drop('length', axis=1)\n",
    "    \n",
    "    return(df)"
   ]
  },
  {
   "cell_type": "code",
   "execution_count": 9,
   "metadata": {},
   "outputs": [
    {
     "name": "stdout",
     "output_type": "stream",
     "text": [
      "What do you want to eat ? french\n",
      "Where are you ? upper west side\n",
      "How many results do you want? 13\n",
      "Do you want to sort by \n",
      " 1: price low to high  \n",
      " 2: price high to low  \n",
      " 3: ratings? \n",
      " Please enter the number 1/2/33\n"
     ]
    }
   ],
   "source": [
    "res = get_businesses()"
   ]
  },
  {
   "cell_type": "code",
   "execution_count": 10,
   "metadata": {},
   "outputs": [
    {
     "data": {
      "text/html": [
       "<div>\n",
       "<style scoped>\n",
       "    .dataframe tbody tr th:only-of-type {\n",
       "        vertical-align: middle;\n",
       "    }\n",
       "\n",
       "    .dataframe tbody tr th {\n",
       "        vertical-align: top;\n",
       "    }\n",
       "\n",
       "    .dataframe thead th {\n",
       "        text-align: right;\n",
       "    }\n",
       "</style>\n",
       "<table border=\"1\" class=\"dataframe\">\n",
       "  <thead>\n",
       "    <tr style=\"text-align: right;\">\n",
       "      <th></th>\n",
       "      <th>name</th>\n",
       "      <th>address</th>\n",
       "      <th>open or closed</th>\n",
       "      <th>price range</th>\n",
       "      <th>rating value</th>\n",
       "      <th>category</th>\n",
       "      <th>phone</th>\n",
       "      <th>website</th>\n",
       "      <th>delivery service</th>\n",
       "      <th>lat</th>\n",
       "      <th>lon</th>\n",
       "    </tr>\n",
       "  </thead>\n",
       "  <tbody>\n",
       "    <tr>\n",
       "      <th>0</th>\n",
       "      <td>Amelie</td>\n",
       "      <td>566 Amsterdam AveNew York, NY 10024</td>\n",
       "      <td>Open now</td>\n",
       "      <td>$$$</td>\n",
       "      <td>4.5</td>\n",
       "      <td>French</td>\n",
       "      <td>(646) 422-7167</td>\n",
       "      <td>ameliewinebar.com</td>\n",
       "      <td>Yes</td>\n",
       "      <td>40.788773</td>\n",
       "      <td>-73.974670</td>\n",
       "    </tr>\n",
       "    <tr>\n",
       "      <th>2</th>\n",
       "      <td>La Sirène</td>\n",
       "      <td>416 Amsterdam AveNew York, NY 10024</td>\n",
       "      <td>closed now</td>\n",
       "      <td>$$$</td>\n",
       "      <td>4.5</td>\n",
       "      <td>French</td>\n",
       "      <td>(917) 261-5279</td>\n",
       "      <td>lasirenenyc.com</td>\n",
       "      <td>No</td>\n",
       "      <td>40.783788</td>\n",
       "      <td>-73.978097</td>\n",
       "    </tr>\n",
       "    <tr>\n",
       "      <th>4</th>\n",
       "      <td>Vin Sur Vingt</td>\n",
       "      <td>66 W 84th StNew York, NY 10024</td>\n",
       "      <td>closed now</td>\n",
       "      <td>$$</td>\n",
       "      <td>4.5</td>\n",
       "      <td>Wine Bars</td>\n",
       "      <td>(646) 895-9944</td>\n",
       "      <td>vsvwinebars.com</td>\n",
       "      <td>No</td>\n",
       "      <td>40.784938</td>\n",
       "      <td>-73.972925</td>\n",
       "    </tr>\n",
       "    <tr>\n",
       "      <th>11</th>\n",
       "      <td>Jean-Georges</td>\n",
       "      <td>1 Central Park WNew York, NY 10023</td>\n",
       "      <td>Open now</td>\n",
       "      <td>$$$$</td>\n",
       "      <td>4.5</td>\n",
       "      <td>French</td>\n",
       "      <td>(212) 299-3900</td>\n",
       "      <td>jean-georgesrestaurant.com</td>\n",
       "      <td>Yes</td>\n",
       "      <td>40.769112</td>\n",
       "      <td>-73.981429</td>\n",
       "    </tr>\n",
       "    <tr>\n",
       "      <th>1</th>\n",
       "      <td>Le Pif</td>\n",
       "      <td>2058 Broadway AveNew York, NY 10023</td>\n",
       "      <td>Open now</td>\n",
       "      <td>$$</td>\n",
       "      <td>4.0</td>\n",
       "      <td>French</td>\n",
       "      <td>(212) 799-2253</td>\n",
       "      <td>lepifwinebars.com</td>\n",
       "      <td>No</td>\n",
       "      <td>40.777484</td>\n",
       "      <td>-73.981793</td>\n",
       "    </tr>\n",
       "    <tr>\n",
       "      <th>3</th>\n",
       "      <td>La Mirabelle</td>\n",
       "      <td>102 W 86th StNew York, NY 10024</td>\n",
       "      <td>closed now</td>\n",
       "      <td>$$$</td>\n",
       "      <td>4.0</td>\n",
       "      <td>French</td>\n",
       "      <td>(212) 496-0458</td>\n",
       "      <td>lamirabellenyc.com</td>\n",
       "      <td>No</td>\n",
       "      <td>40.786350</td>\n",
       "      <td>-73.972615</td>\n",
       "    </tr>\n",
       "    <tr>\n",
       "      <th>5</th>\n",
       "      <td>Cafe Luxembourg</td>\n",
       "      <td>200 W 70th StNew York, NY 10023</td>\n",
       "      <td>Open now</td>\n",
       "      <td>$$$</td>\n",
       "      <td>4.0</td>\n",
       "      <td>American (New)</td>\n",
       "      <td>(212) 873-7411</td>\n",
       "      <td>cafeluxembourg.com</td>\n",
       "      <td>No</td>\n",
       "      <td>40.777425</td>\n",
       "      <td>-73.983110</td>\n",
       "    </tr>\n",
       "    <tr>\n",
       "      <th>6</th>\n",
       "      <td>Tessa</td>\n",
       "      <td>349 Amsterdam AveNew York, NY 10024</td>\n",
       "      <td>Open now</td>\n",
       "      <td>$$$</td>\n",
       "      <td>4.0</td>\n",
       "      <td>Mediterranean</td>\n",
       "      <td>(212) 390-1974</td>\n",
       "      <td>tessanyc.com</td>\n",
       "      <td>No</td>\n",
       "      <td>40.781406</td>\n",
       "      <td>-73.979180</td>\n",
       "    </tr>\n",
       "    <tr>\n",
       "      <th>12</th>\n",
       "      <td>Nougatine at Jean-Georges</td>\n",
       "      <td>1 Central Park WNew York, NY 10023</td>\n",
       "      <td>Open now</td>\n",
       "      <td>$$$</td>\n",
       "      <td>4.0</td>\n",
       "      <td>French</td>\n",
       "      <td>(212) 299-3900</td>\n",
       "      <td>jean-georgesrestaurant.com</td>\n",
       "      <td>No</td>\n",
       "      <td>40.769025</td>\n",
       "      <td>-73.981626</td>\n",
       "    </tr>\n",
       "    <tr>\n",
       "      <th>7</th>\n",
       "      <td>La Boite en Bois</td>\n",
       "      <td>75 W 68th StNew York, NY 10023</td>\n",
       "      <td>Open now</td>\n",
       "      <td>$$$</td>\n",
       "      <td>3.5</td>\n",
       "      <td>French</td>\n",
       "      <td>(212) 874-2705</td>\n",
       "      <td>laboitenyc.com</td>\n",
       "      <td>Yes</td>\n",
       "      <td>40.774899</td>\n",
       "      <td>-73.980260</td>\n",
       "    </tr>\n",
       "    <tr>\n",
       "      <th>8</th>\n",
       "      <td>Nice Matin</td>\n",
       "      <td>201 W 79th StNew York, NY 10024</td>\n",
       "      <td>Open now</td>\n",
       "      <td>$$</td>\n",
       "      <td>3.5</td>\n",
       "      <td>French</td>\n",
       "      <td>(212) 873-6423</td>\n",
       "      <td>nicematinnyc.com</td>\n",
       "      <td>No</td>\n",
       "      <td>40.783427</td>\n",
       "      <td>-73.978495</td>\n",
       "    </tr>\n",
       "    <tr>\n",
       "      <th>9</th>\n",
       "      <td>Bistro Cassis Restaurant</td>\n",
       "      <td>225 Columbus AveNew York, NY 10023</td>\n",
       "      <td>Open now</td>\n",
       "      <td>$$$</td>\n",
       "      <td>3.5</td>\n",
       "      <td>French</td>\n",
       "      <td>(212) 579-3966</td>\n",
       "      <td>bistrocassisny.com</td>\n",
       "      <td>No</td>\n",
       "      <td>40.776209</td>\n",
       "      <td>-73.979268</td>\n",
       "    </tr>\n",
       "    <tr>\n",
       "      <th>10</th>\n",
       "      <td>Bar Boulud</td>\n",
       "      <td>1900 BroadwayNew York, NY 10023</td>\n",
       "      <td>Open now</td>\n",
       "      <td>$$$</td>\n",
       "      <td>3.5</td>\n",
       "      <td>French</td>\n",
       "      <td>(212) 595-0303</td>\n",
       "      <td>barboulud.com/nyc</td>\n",
       "      <td>No</td>\n",
       "      <td>40.771844</td>\n",
       "      <td>-73.981881</td>\n",
       "    </tr>\n",
       "  </tbody>\n",
       "</table>\n",
       "</div>"
      ],
      "text/plain": [
       "                         name                              address  \\\n",
       "0                      Amelie  566 Amsterdam AveNew York, NY 10024   \n",
       "2                   La Sirène  416 Amsterdam AveNew York, NY 10024   \n",
       "4               Vin Sur Vingt       66 W 84th StNew York, NY 10024   \n",
       "11               Jean-Georges   1 Central Park WNew York, NY 10023   \n",
       "1                      Le Pif  2058 Broadway AveNew York, NY 10023   \n",
       "3                La Mirabelle      102 W 86th StNew York, NY 10024   \n",
       "5             Cafe Luxembourg      200 W 70th StNew York, NY 10023   \n",
       "6                       Tessa  349 Amsterdam AveNew York, NY 10024   \n",
       "12  Nougatine at Jean-Georges   1 Central Park WNew York, NY 10023   \n",
       "7            La Boite en Bois       75 W 68th StNew York, NY 10023   \n",
       "8                  Nice Matin      201 W 79th StNew York, NY 10024   \n",
       "9    Bistro Cassis Restaurant   225 Columbus AveNew York, NY 10023   \n",
       "10                 Bar Boulud      1900 BroadwayNew York, NY 10023   \n",
       "\n",
       "   open or closed price range rating value        category           phone  \\\n",
       "0        Open now         $$$          4.5          French  (646) 422-7167   \n",
       "2      closed now         $$$          4.5          French  (917) 261-5279   \n",
       "4      closed now          $$          4.5       Wine Bars  (646) 895-9944   \n",
       "11       Open now        $$$$          4.5          French  (212) 299-3900   \n",
       "1        Open now          $$          4.0          French  (212) 799-2253   \n",
       "3      closed now         $$$          4.0          French  (212) 496-0458   \n",
       "5        Open now         $$$          4.0  American (New)  (212) 873-7411   \n",
       "6        Open now         $$$          4.0   Mediterranean  (212) 390-1974   \n",
       "12       Open now         $$$          4.0          French  (212) 299-3900   \n",
       "7        Open now         $$$          3.5          French  (212) 874-2705   \n",
       "8        Open now          $$          3.5          French  (212) 873-6423   \n",
       "9        Open now         $$$          3.5          French  (212) 579-3966   \n",
       "10       Open now         $$$          3.5          French  (212) 595-0303   \n",
       "\n",
       "                       website delivery service        lat        lon  \n",
       "0            ameliewinebar.com              Yes  40.788773 -73.974670  \n",
       "2              lasirenenyc.com               No  40.783788 -73.978097  \n",
       "4              vsvwinebars.com               No  40.784938 -73.972925  \n",
       "11  jean-georgesrestaurant.com              Yes  40.769112 -73.981429  \n",
       "1            lepifwinebars.com               No  40.777484 -73.981793  \n",
       "3           lamirabellenyc.com               No  40.786350 -73.972615  \n",
       "5           cafeluxembourg.com               No  40.777425 -73.983110  \n",
       "6                 tessanyc.com               No  40.781406 -73.979180  \n",
       "12  jean-georgesrestaurant.com               No  40.769025 -73.981626  \n",
       "7               laboitenyc.com              Yes  40.774899 -73.980260  \n",
       "8             nicematinnyc.com               No  40.783427 -73.978495  \n",
       "9           bistrocassisny.com               No  40.776209 -73.979268  \n",
       "10           barboulud.com/nyc               No  40.771844 -73.981881  "
      ]
     },
     "execution_count": 10,
     "metadata": {},
     "output_type": "execute_result"
    }
   ],
   "source": [
    "# print(filters)\n",
    "# print(re.search(pattern, filters))\n",
    "res"
   ]
  },
  {
   "cell_type": "code",
   "execution_count": 15,
   "metadata": {},
   "outputs": [
    {
     "name": "stdout",
     "output_type": "stream",
     "text": [
      "Requirement already up-to-date: folium in /Users/zijun/anaconda3/lib/python3.6/site-packages (0.7.0)\n",
      "Requirement not upgraded as not directly required: branca>=0.3.0 in /Users/zijun/anaconda3/lib/python3.6/site-packages (from folium) (0.3.1)\n",
      "Requirement not upgraded as not directly required: numpy in /Users/zijun/anaconda3/lib/python3.6/site-packages (from folium) (1.14.3)\n",
      "Requirement not upgraded as not directly required: six in /Users/zijun/anaconda3/lib/python3.6/site-packages (from folium) (1.11.0)\n",
      "Requirement not upgraded as not directly required: requests in /Users/zijun/anaconda3/lib/python3.6/site-packages (from folium) (2.18.4)\n",
      "Requirement not upgraded as not directly required: jinja2 in /Users/zijun/anaconda3/lib/python3.6/site-packages (from folium) (2.10)\n",
      "Requirement not upgraded as not directly required: chardet<3.1.0,>=3.0.2 in /Users/zijun/anaconda3/lib/python3.6/site-packages (from requests->folium) (3.0.4)\n",
      "Requirement not upgraded as not directly required: idna<2.7,>=2.5 in /Users/zijun/anaconda3/lib/python3.6/site-packages (from requests->folium) (2.6)\n",
      "Requirement not upgraded as not directly required: urllib3<1.23,>=1.21.1 in /Users/zijun/anaconda3/lib/python3.6/site-packages (from requests->folium) (1.22)\n",
      "Requirement not upgraded as not directly required: certifi>=2017.4.17 in /Users/zijun/anaconda3/lib/python3.6/site-packages (from requests->folium) (2018.8.24)\n",
      "Requirement not upgraded as not directly required: MarkupSafe>=0.23 in /Users/zijun/anaconda3/lib/python3.6/site-packages (from jinja2->folium) (1.0)\n",
      "\u001b[31mdistributed 1.21.8 requires msgpack, which is not installed.\u001b[0m\n",
      "\u001b[33mYou are using pip version 10.0.1, however version 18.1 is available.\n",
      "You should consider upgrading via the 'pip install --upgrade pip' command.\u001b[0m\n"
     ]
    }
   ],
   "source": [
    "!pip install folium --upgrade"
   ]
  },
  {
   "cell_type": "code",
   "execution_count": 11,
   "metadata": {},
   "outputs": [],
   "source": [
    "import folium\n",
    "m = folium.Map(location=[40.8075355, -73.9625727],zoom_start=14)"
   ]
  },
  {
   "cell_type": "code",
   "execution_count": 12,
   "metadata": {
    "scrolled": true
   },
   "outputs": [
    {
     "data": {
      "text/html": [
       "<div style=\"width:100%;\"><div style=\"position:relative;width:100%;height:0;padding-bottom:60%;\"><iframe src=\"data:text/html;charset=utf-8;base64,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\" style=\"position:absolute;width:100%;height:100%;left:0;top:0;border:none !important;\" allowfullscreen webkitallowfullscreen mozallowfullscreen></iframe></div></div>"
      ],
      "text/plain": [
       "<folium.folium.Map at 0x10bb397f0>"
      ]
     },
     "execution_count": 12,
     "metadata": {},
     "output_type": "execute_result"
    }
   ],
   "source": [
    "# a marker is created for any restaurant: red for critical situation and orange for not critical\n",
    "for k in range(len(res)):\n",
    "    folium.Marker([res['lat'].iloc[k],res['lon'].iloc[k]],popup=res['name'].iloc[k]).add_to(m)\n",
    "m"
   ]
  },
  {
   "cell_type": "code",
   "execution_count": 19,
   "metadata": {},
   "outputs": [
    {
     "data": {
      "text/plain": [
       "['Pizza',\n",
       " 'Italian',\n",
       " 'Pizza',\n",
       " 'Pizza',\n",
       " 'Pizza',\n",
       " 'Italian',\n",
       " 'Pizza',\n",
       " 'Pizza',\n",
       " 'Italian',\n",
       " 'Pizza',\n",
       " 'Pizza',\n",
       " 'Pizza',\n",
       " 'Italian',\n",
       " 'Pizza',\n",
       " 'Pizza',\n",
       " 'Italian',\n",
       " 'Beer Bar',\n",
       " 'Pizza',\n",
       " 'Pizza',\n",
       " 'Pizza',\n",
       " 'Diners',\n",
       " 'Pizza',\n",
       " 'Italian',\n",
       " 'Pizza',\n",
       " 'Pizza',\n",
       " 'Pizza',\n",
       " 'Wine Bars',\n",
       " 'Beer Bar',\n",
       " 'Pizza',\n",
       " 'Pizza',\n",
       " 'Italian',\n",
       " 'Pizza',\n",
       " 'Italian',\n",
       " 'Pizza',\n",
       " 'Bars',\n",
       " 'American (New)',\n",
       " 'Pizza',\n",
       " 'Pizza',\n",
       " 'Italian',\n",
       " 'Pizza',\n",
       " 'Italian',\n",
       " 'Wine Bars',\n",
       " 'Pizza',\n",
       " 'Bars',\n",
       " 'Italian',\n",
       " 'Pizza',\n",
       " 'Pizza',\n",
       " 'Vegan',\n",
       " 'Italian',\n",
       " 'Pizza',\n",
       " 'Salad',\n",
       " 'Italian',\n",
       " 'Pizza',\n",
       " 'Pizza']"
      ]
     },
     "execution_count": 19,
     "metadata": {},
     "output_type": "execute_result"
    }
   ],
   "source": [
    "#Now, start to find the style of the search results so that we can make relevant recommendations later\n",
    "\n",
    "cuisine_styles = results_page.find_all('span',class_=\"category-str-list\")\n",
    "#print(cuisine_styles)\n",
    "# print(cuisine_styles[4].find('a').get_text())\n",
    "\n",
    "styles = []\n",
    "for i in range(len(cuisine_styles)):\n",
    "    style = [x.get_text() for  x  in cuisine_styles[i].find_all('a')]\n",
    "    styles.extend(style)\n",
    "\n",
    "styles"
   ]
  },
  {
   "cell_type": "code",
   "execution_count": 47,
   "metadata": {},
   "outputs": [
    {
     "name": "stdout",
     "output_type": "stream",
     "text": [
      "[('Pizza', 31), ('Italian', 13)]\n",
      "italian\n"
     ]
    }
   ],
   "source": [
    "# from several random keyword searching, we found that only the first two cuisine styles have significant counts\n",
    "# e.g. out of the 30 results, the 3rd most common style appears around only 5 times\n",
    "count = collections.Counter(styles).most_common(2)\n",
    "print(count)\n",
    "\n",
    "# Get a new keyword\n",
    "if keyword == count[0][0].casefold():\n",
    "    keyword2 = count[1][0].casefold()\n",
    "else:\n",
    "    keyword2 = count[0][0].casefold()\n",
    "\n",
    "print(keyword2)"
   ]
  },
  {
   "cell_type": "code",
   "execution_count": 13,
   "metadata": {},
   "outputs": [],
   "source": [
    "# Give users an opportunity to see recommendations relevant cuisine\n",
    "# e.g. if originally searched for \"pizza\" but did not like the recommendations\n",
    "# this function returns 10 more recommendations of \"Italian\" restaurants\n",
    "def further_rec():\n",
    "    reaction = input('Are you satisfied with your recommendations? (yes/no)')\n",
    "    \n",
    "    if reaction == 'yes':\n",
    "        return 'Bon Appetit!'\n",
    "    else:\n",
    "        # Moved cuisine_styles to get_business() and make it global for access in this function\n",
    "        styles = []\n",
    "        for i in range(len(cuisine_styles)):\n",
    "            style = [x.get_text() for  x  in cuisine_styles[i].find_all('a')]\n",
    "            styles.extend(style)\n",
    "\n",
    "        count = collections.Counter(styles).most_common(2)\n",
    "        if keyword == count[0][0].casefold():\n",
    "            keyword2 = count[1][0].casefold()\n",
    "        else:\n",
    "            keyword2 = count[0][0].casefold()\n",
    "\n",
    "        url = 'https://www.yelp.com/search?find_desc='+ keyword2 + '&find_loc=' + address\n",
    "        # new keyword but same address as from get_business()\n",
    "        response = requests.get(url)\n",
    "        try:\n",
    "            results_page = BeautifulSoup(response.content,'lxml')\n",
    "        except:\n",
    "            print(\"we didn't get back result page from yelp correctly\")\n",
    "                \n",
    "        businesses = results_page.find_all('a',{'data-analytics-label':\"biz-name\"})[1:]\n",
    "        business_list = []\n",
    "        for business in businesses:\n",
    "            name = business.find('span').get_text()\n",
    "            link = 'https://www.yelp.com' + business.get('href')\n",
    "            addr,category,price_range,rating_value,phone_number,open_,web,delivery,lat,lon= get_info(link)\n",
    "            business_list.append([name,open_,price_range,rating_value,category,phone_number,web,delivery,lat,lon])\n",
    "                                 \n",
    "        df = pd.DataFrame(business_list[:11], columns = ['name','open or closed','price range','rating value','category','phone','website','delivery service','lat','lon'])\n",
    "        print('Take a look at the following 10 restaurants!')                                   \n",
    "        return df"
   ]
  },
  {
   "cell_type": "code",
   "execution_count": 14,
   "metadata": {},
   "outputs": [
    {
     "name": "stdout",
     "output_type": "stream",
     "text": [
      "Are you satisfied with your recommendations? (yes/no)no\n",
      "Take a look at the following 10 restaurants!\n"
     ]
    },
    {
     "data": {
      "text/html": [
       "<div>\n",
       "<style scoped>\n",
       "    .dataframe tbody tr th:only-of-type {\n",
       "        vertical-align: middle;\n",
       "    }\n",
       "\n",
       "    .dataframe tbody tr th {\n",
       "        vertical-align: top;\n",
       "    }\n",
       "\n",
       "    .dataframe thead th {\n",
       "        text-align: right;\n",
       "    }\n",
       "</style>\n",
       "<table border=\"1\" class=\"dataframe\">\n",
       "  <thead>\n",
       "    <tr style=\"text-align: right;\">\n",
       "      <th></th>\n",
       "      <th>name</th>\n",
       "      <th>open or closed</th>\n",
       "      <th>price range</th>\n",
       "      <th>rating value</th>\n",
       "      <th>category</th>\n",
       "      <th>phone</th>\n",
       "      <th>website</th>\n",
       "      <th>delivery service</th>\n",
       "      <th>lat</th>\n",
       "      <th>lon</th>\n",
       "    </tr>\n",
       "  </thead>\n",
       "  <tbody>\n",
       "    <tr>\n",
       "      <th>0</th>\n",
       "      <td>Vanguard Wine Bar</td>\n",
       "      <td>closed now</td>\n",
       "      <td>$$</td>\n",
       "      <td>4.0</td>\n",
       "      <td>Wine Bars</td>\n",
       "      <td>(212) 799-9463</td>\n",
       "      <td>vanguard-nyc.com</td>\n",
       "      <td>No</td>\n",
       "      <td>40.776280</td>\n",
       "      <td>-73.983222</td>\n",
       "    </tr>\n",
       "    <tr>\n",
       "      <th>1</th>\n",
       "      <td>Vin Sur Vingt</td>\n",
       "      <td>closed now</td>\n",
       "      <td>$$</td>\n",
       "      <td>4.5</td>\n",
       "      <td>Wine Bars</td>\n",
       "      <td>(646) 895-9944</td>\n",
       "      <td>vsvwinebars.com</td>\n",
       "      <td>No</td>\n",
       "      <td>40.784938</td>\n",
       "      <td>-73.972925</td>\n",
       "    </tr>\n",
       "    <tr>\n",
       "      <th>2</th>\n",
       "      <td>Lilly’s Cocktail and Wine</td>\n",
       "      <td>Open now</td>\n",
       "      <td>$$</td>\n",
       "      <td>4.0</td>\n",
       "      <td>American (New)</td>\n",
       "      <td>(212) 799-4140</td>\n",
       "      <td>lillys-cocktail-and-wine.busi…</td>\n",
       "      <td>No</td>\n",
       "      <td>40.777025</td>\n",
       "      <td>-73.978458</td>\n",
       "    </tr>\n",
       "    <tr>\n",
       "      <th>3</th>\n",
       "      <td>Amelie</td>\n",
       "      <td>Open now</td>\n",
       "      <td>$$$</td>\n",
       "      <td>4.5</td>\n",
       "      <td>French</td>\n",
       "      <td>(646) 422-7167</td>\n",
       "      <td>ameliewinebar.com</td>\n",
       "      <td>Yes</td>\n",
       "      <td>40.788773</td>\n",
       "      <td>-73.974670</td>\n",
       "    </tr>\n",
       "    <tr>\n",
       "      <th>4</th>\n",
       "      <td>Le Pif</td>\n",
       "      <td>Open now</td>\n",
       "      <td>$$</td>\n",
       "      <td>4.0</td>\n",
       "      <td>French</td>\n",
       "      <td>(212) 799-2253</td>\n",
       "      <td>lepifwinebars.com</td>\n",
       "      <td>No</td>\n",
       "      <td>40.777484</td>\n",
       "      <td>-73.981793</td>\n",
       "    </tr>\n",
       "    <tr>\n",
       "      <th>5</th>\n",
       "      <td>Pour</td>\n",
       "      <td>Open now</td>\n",
       "      <td>$$</td>\n",
       "      <td>4.0</td>\n",
       "      <td>Beer, Wine &amp; Spirits</td>\n",
       "      <td>(212) 501-7687</td>\n",
       "      <td>pourwines.com</td>\n",
       "      <td>No</td>\n",
       "      <td>40.780591</td>\n",
       "      <td>-73.979965</td>\n",
       "    </tr>\n",
       "    <tr>\n",
       "      <th>6</th>\n",
       "      <td>Vino Levantino</td>\n",
       "      <td>closed now</td>\n",
       "      <td>$$</td>\n",
       "      <td>4.0</td>\n",
       "      <td>Mediterranean</td>\n",
       "      <td>(212) 280-3333</td>\n",
       "      <td>vinolevantino.com</td>\n",
       "      <td>Yes</td>\n",
       "      <td>40.792948</td>\n",
       "      <td>-73.972078</td>\n",
       "    </tr>\n",
       "    <tr>\n",
       "      <th>7</th>\n",
       "      <td>Da Capo Columbus</td>\n",
       "      <td>Open now</td>\n",
       "      <td>$$</td>\n",
       "      <td>4.0</td>\n",
       "      <td>Italian</td>\n",
       "      <td>(646) 882-0197</td>\n",
       "      <td>dacaponyc.com</td>\n",
       "      <td>Yes</td>\n",
       "      <td>40.779635</td>\n",
       "      <td>-73.977485</td>\n",
       "    </tr>\n",
       "    <tr>\n",
       "      <th>8</th>\n",
       "      <td>The Milling Room</td>\n",
       "      <td>Open now</td>\n",
       "      <td>$$$</td>\n",
       "      <td>4.0</td>\n",
       "      <td>American (New)</td>\n",
       "      <td>(212) 595-0380</td>\n",
       "      <td>themillingroom.com</td>\n",
       "      <td>No</td>\n",
       "      <td>40.783747</td>\n",
       "      <td>-73.974468</td>\n",
       "    </tr>\n",
       "    <tr>\n",
       "      <th>9</th>\n",
       "      <td>Bin 71</td>\n",
       "      <td>Open now</td>\n",
       "      <td>$$</td>\n",
       "      <td>3.5</td>\n",
       "      <td>Wine Bars</td>\n",
       "      <td>(212) 362-5446</td>\n",
       "      <td>bin71.com</td>\n",
       "      <td>No</td>\n",
       "      <td>40.776459</td>\n",
       "      <td>-73.979252</td>\n",
       "    </tr>\n",
       "    <tr>\n",
       "      <th>10</th>\n",
       "      <td>Buceo 95</td>\n",
       "      <td>closed now</td>\n",
       "      <td>$$$</td>\n",
       "      <td>4.0</td>\n",
       "      <td>Tapas Bars</td>\n",
       "      <td>(212) 662-7010</td>\n",
       "      <td>buceo95.com</td>\n",
       "      <td>No</td>\n",
       "      <td>40.793571</td>\n",
       "      <td>-73.971058</td>\n",
       "    </tr>\n",
       "  </tbody>\n",
       "</table>\n",
       "</div>"
      ],
      "text/plain": [
       "                         name open or closed price range rating value  \\\n",
       "0           Vanguard Wine Bar     closed now          $$          4.0   \n",
       "1               Vin Sur Vingt     closed now          $$          4.5   \n",
       "2   Lilly’s Cocktail and Wine       Open now          $$          4.0   \n",
       "3                      Amelie       Open now         $$$          4.5   \n",
       "4                      Le Pif       Open now          $$          4.0   \n",
       "5                        Pour       Open now          $$          4.0   \n",
       "6              Vino Levantino     closed now          $$          4.0   \n",
       "7            Da Capo Columbus       Open now          $$          4.0   \n",
       "8            The Milling Room       Open now         $$$          4.0   \n",
       "9                      Bin 71       Open now          $$          3.5   \n",
       "10                   Buceo 95     closed now         $$$          4.0   \n",
       "\n",
       "                category           phone                         website  \\\n",
       "0              Wine Bars  (212) 799-9463                vanguard-nyc.com   \n",
       "1              Wine Bars  (646) 895-9944                 vsvwinebars.com   \n",
       "2         American (New)  (212) 799-4140  lillys-cocktail-and-wine.busi…   \n",
       "3                 French  (646) 422-7167               ameliewinebar.com   \n",
       "4                 French  (212) 799-2253               lepifwinebars.com   \n",
       "5   Beer, Wine & Spirits  (212) 501-7687                   pourwines.com   \n",
       "6          Mediterranean  (212) 280-3333               vinolevantino.com   \n",
       "7                Italian  (646) 882-0197                   dacaponyc.com   \n",
       "8         American (New)  (212) 595-0380              themillingroom.com   \n",
       "9              Wine Bars  (212) 362-5446                       bin71.com   \n",
       "10            Tapas Bars  (212) 662-7010                     buceo95.com   \n",
       "\n",
       "   delivery service        lat        lon  \n",
       "0                No  40.776280 -73.983222  \n",
       "1                No  40.784938 -73.972925  \n",
       "2                No  40.777025 -73.978458  \n",
       "3               Yes  40.788773 -73.974670  \n",
       "4                No  40.777484 -73.981793  \n",
       "5                No  40.780591 -73.979965  \n",
       "6               Yes  40.792948 -73.972078  \n",
       "7               Yes  40.779635 -73.977485  \n",
       "8                No  40.783747 -73.974468  \n",
       "9                No  40.776459 -73.979252  \n",
       "10               No  40.793571 -73.971058  "
      ]
     },
     "execution_count": 14,
     "metadata": {},
     "output_type": "execute_result"
    }
   ],
   "source": [
    "fr = further_rec()\n",
    "fr"
   ]
  },
  {
   "cell_type": "code",
   "execution_count": null,
   "metadata": {},
   "outputs": [],
   "source": []
  },
  {
   "cell_type": "code",
   "execution_count": null,
   "metadata": {},
   "outputs": [],
   "source": [
    "#workspace with saved results page\n",
    "url = 'https://www.yelp.com/search?find_desc=lobster&find_loc=new+york&start=60'\n",
    "response = requests.get(url)\n",
    "try:\n",
    "    results_page = BeautifulSoup(response.content,'lxml')\n",
    "except:\n",
    "    print(\"we didn't get back result page from yelp correctly\")\n",
    "  "
   ]
  },
  {
   "cell_type": "code",
   "execution_count": null,
   "metadata": {},
   "outputs": [],
   "source": [
    "businesses = results_page.find_all('a',{'data-analytics-label':\"biz-name\"})[1:]\n",
    "businesses.extend(businesses)\n",
    "businesses"
   ]
  },
  {
   "cell_type": "code",
   "execution_count": null,
   "metadata": {},
   "outputs": [],
   "source": [
    "# Yelp is also providing API keys to do some web scraping on there website. We created our own API key to be able\n",
    "# to do some web scraping when limited by the direct html scraping method we were using before\n",
    "\n",
    "with open('./YelpAPIKeys.txt','r') as f:\n",
    "    count = 0\n",
    "    for line in f:\n",
    "        if count == 0:\n",
    "            CLIENT_ID = line.strip()\n",
    "        if count == 1:\n",
    "            API_KEY = line.strip()\n",
    "        count+=1"
   ]
  },
  {
   "cell_type": "code",
   "execution_count": null,
   "metadata": {},
   "outputs": [],
   "source": [
    "print(CLIENT_ID,API_KEY)"
   ]
  },
  {
   "cell_type": "code",
   "execution_count": null,
   "metadata": {},
   "outputs": [],
   "source": [
    "API_HOST = 'https://api.yelp.com' # this is the API url header\n",
    "SEARCH_PATH = '/v3/businesses/search' # this is the path for an API request to find businesses\n",
    "BUSINESS_PATH = '/v3/businesses/'  # this is the path to get data for a single business"
   ]
  },
  {
   "cell_type": "code",
   "execution_count": null,
   "metadata": {},
   "outputs": [],
   "source": [
    "# this function creates a list of businesses, given an API key and a location like New York,...\n",
    "\n",
    "def get_restaurants(api_key,location,number=50):\n",
    "    import requests\n",
    "    \n",
    "    #First we get the access token\n",
    "    #Set up the search data dictionary\n",
    "    search_data = {\n",
    "    'term': \"restaurant\",\n",
    "    'location': location.replace(' ', '+'),\n",
    "    'limit': number\n",
    "    }\n",
    "    url = API_HOST + SEARCH_PATH\n",
    "    headers = {\n",
    "        'Authorization': 'Bearer %s' % api_key,\n",
    "    }\n",
    "    response = requests.request('GET', url, headers=headers, params=search_data).json()\n",
    "    businesses = response.get('businesses')\n",
    "    return businesses"
   ]
  },
  {
   "cell_type": "code",
   "execution_count": null,
   "metadata": {},
   "outputs": [],
   "source": [
    "get_restaurants(API_KEY,\"New York\",number=5)"
   ]
  },
  {
   "cell_type": "code",
   "execution_count": null,
   "metadata": {},
   "outputs": [],
   "source": [
    "restaurants_data"
   ]
  },
  {
   "cell_type": "code",
   "execution_count": null,
   "metadata": {},
   "outputs": [],
   "source": [
    "# This function creates a dataframe based on the data that we extracted from yelp website, \n",
    "# using the function get_restaurants\n",
    "\n",
    "def data_output(restaurants_data):\n",
    "    df = pd.DataFrame(columns = ['name','is_closed','latitude','longitude','price','rating','categories','phone'])\n",
    "    for i in range(len(restaurants_data)):\n",
    "        name = restaurants_data[i]['name']\n",
    "        is_closed = restaurants_data[i]['is_closed']\n",
    "        latitude = restaurants_data[i]['coordinates']['latitude']\n",
    "        longitude = restaurants_data[i]['coordinates']['longitude']\n",
    "        try:\n",
    "            price = restaurants_data[i]['price']\n",
    "        except:\n",
    "            price = None\n",
    "        rating = restaurants_data[i]['rating']\n",
    "        categories = []\n",
    "        for categorie in restaurants_data[i]['categories']:\n",
    "            categories.append(categorie['title'])\n",
    "        phone = restaurants_data[i]['phone']\n",
    "        \n",
    "        df.loc[i] = [name,is_closed,latitude,longitude,price,rating,categories,phone]\n",
    "    df.set_index('name', inplace = True)\n",
    "    return(df)"
   ]
  },
  {
   "cell_type": "code",
   "execution_count": null,
   "metadata": {},
   "outputs": [],
   "source": [
    "res = data_output(restaurants_data)"
   ]
  },
  {
   "cell_type": "code",
   "execution_count": null,
   "metadata": {},
   "outputs": [],
   "source": [
    "res"
   ]
  },
  {
   "cell_type": "code",
   "execution_count": null,
   "metadata": {},
   "outputs": [],
   "source": [
    "def web_scrapingYelp():\n",
    "    import requests\n",
    "    \n",
    "    address = input('Where are you ? ')\n",
    "    limit = input('How many results do you want? ')\n",
    "\n",
    "    search_data = {\n",
    "    'term': \"restaurant\",\n",
    "    'location': address.replace(' ', '+'),\n",
    "    'limit': limit\n",
    "    }\n",
    "    url = API_HOST + SEARCH_PATH\n",
    "    headers = {\n",
    "        'Authorization': 'Bearer %s' % API_KEY,\n",
    "    }\n",
    "    response = requests.request('GET', url, headers=headers, params=search_data).json()\n",
    "    businesses = response.get('businesses')\n",
    "    \n",
    "    df = pd.DataFrame(columns = ['name','is_closed','latitude','longitude','price','rating','categories','phone'])\n",
    "    for i in range(len(businesses)):\n",
    "        name = businesses[i]['name']\n",
    "        is_closed = businesses[i]['is_closed']\n",
    "        latitude = businesses[i]['coordinates']['latitude']\n",
    "        longitude = businesses[i]['coordinates']['longitude']\n",
    "        try:\n",
    "            price = businesses[i]['price']\n",
    "        except:\n",
    "            price = None\n",
    "        rating = businesses[i]['rating']\n",
    "        categories = []\n",
    "        for categorie in businesses[i]['categories']:\n",
    "            categories.append(categorie['title'])\n",
    "        phone = businesses[i]['phone']\n",
    "        \n",
    "        df.loc[i] = [name,is_closed,latitude,longitude,price,rating,categories,phone]\n",
    "    \n",
    "    df.set_index('name', inplace = True)\n",
    "    \n",
    "    return(df)"
   ]
  },
  {
   "cell_type": "code",
   "execution_count": null,
   "metadata": {},
   "outputs": [],
   "source": [
    "web_scrapingYelp()\n"
   ]
  },
  {
   "cell_type": "code",
   "execution_count": null,
   "metadata": {},
   "outputs": [],
   "source": []
  }
 ],
 "metadata": {
  "kernelspec": {
   "display_name": "Python 3",
   "language": "python",
   "name": "python3"
  },
  "language_info": {
   "codemirror_mode": {
    "name": "ipython",
    "version": 3
   },
   "file_extension": ".py",
   "mimetype": "text/x-python",
   "name": "python",
   "nbconvert_exporter": "python",
   "pygments_lexer": "ipython3",
   "version": "3.6.5"
  }
 },
 "nbformat": 4,
 "nbformat_minor": 2
}
