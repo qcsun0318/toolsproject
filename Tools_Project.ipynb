{
 "cells": [
  {
   "cell_type": "code",
   "execution_count": null,
   "metadata": {},
   "outputs": [],
   "source": [
    "#This is the notebook for tools_project"
   ]
  },
  {
   "cell_type": "code",
   "execution_count": 1,
   "metadata": {},
   "outputs": [],
   "source": [
    "# scraping libraries to read html code\n",
    "import requests\n",
    "from bs4 import BeautifulSoup\n",
    "import json"
   ]
  },
  {
   "cell_type": "code",
   "execution_count": 2,
   "metadata": {},
   "outputs": [],
   "source": [
    "# pandas library to create dataframe\n",
    "import pandas as pd\n",
    "import numpy as np"
   ]
  },
  {
   "cell_type": "code",
   "execution_count": 73,
   "metadata": {},
   "outputs": [
    {
     "name": "stdout",
     "output_type": "stream",
     "text": [
      "What do you want to eat now ? Pizza\n",
      "Where are you ? Boston,MA\n"
     ]
    },
    {
     "data": {
      "text/plain": [
       "'https://www.yelp.com/search?find_desc=Pizza&find_loc=Boston,MA'"
      ]
     },
     "execution_count": 73,
     "metadata": {},
     "output_type": "execute_result"
    }
   ],
   "source": [
    "# Direct to initial results\n",
    "url = 'https://www.yelp.com/search?find_desc='\n",
    "keyword = input('What do you want to eat now ? ')\n",
    "address = input('Where are you ? ')\n",
    "\n",
    "url = 'https://www.yelp.com/search?find_desc='+ keyword + '&find_loc=' + address \n",
    "url"
   ]
  },
  {
   "cell_type": "code",
   "execution_count": 74,
   "metadata": {},
   "outputs": [
    {
     "data": {
      "text/plain": [
       "200"
      ]
     },
     "execution_count": 74,
     "metadata": {},
     "output_type": "execute_result"
    }
   ],
   "source": [
    "# Checking if the url is \"valid\", the status code should be 200\n",
    "response = requests.get(url)\n",
    "response.status_code"
   ]
  },
  {
   "cell_type": "code",
   "execution_count": 75,
   "metadata": {},
   "outputs": [],
   "source": [
    "# extract the html code from the web page = https://www.yelp.com/search?find_desc=Restaurants&find_loc=New+York,+NY&start=30\n",
    "results_page = BeautifulSoup(response.content,'lxml')"
   ]
  },
  {
   "cell_type": "code",
   "execution_count": 76,
   "metadata": {},
   "outputs": [],
   "source": [
    "# creating a list of businesses with the html code of the business as elements of the list\n",
    "businesses = results_page.find_all('a',class_ = \"biz-name js-analytics-click\")"
   ]
  },
  {
   "cell_type": "code",
   "execution_count": 77,
   "metadata": {},
   "outputs": [
    {
     "data": {
      "text/plain": [
       "[<a class=\"biz-name js-analytics-click\" data-analytics-label=\"biz-name\" data-hovercard-id=\"WKxSOCh9LmgW4x4vtO2IFg\" href=\"/adredir?ad_business_id=byf1dUfz_sqd2plTUB8tUQ&amp;campaign_id=RjztkfihebFegKUCkufGPA&amp;click_origin=search_results&amp;placement=above_search&amp;redirect_url=https%3A%2F%2Fwww.yelp.com%2Fbiz%2Fgood-eats-pizza-and-subs-roxbury-crossing&amp;request_id=c7d9719172d53ed9&amp;signature=c32661327e31bc9c3c786e62d75ec607efdf6f38cf270665fae044eff150d40c&amp;slot=0\"><span>Good Eats Pizza &amp; Subs</span></a>,\n",
       " <a class=\"biz-name js-analytics-click\" data-analytics-label=\"biz-name\" data-hovercard-id=\"jVjZK3MWODpF2fsmAnswgw\" href=\"/biz/regina-pizzeria-boston-28?osq=Pizza\"><span>Regina Pizzeria</span></a>,\n",
       " <a class=\"biz-name js-analytics-click\" data-analytics-label=\"biz-name\" data-hovercard-id=\"XrH8_WcbTVzqALJtOPAiPA\" href=\"/biz/santarpios-pizza-boston-2?osq=Pizza\"><span>Santarpio’s Pizza</span></a>,\n",
       " <a class=\"biz-name js-analytics-click\" data-analytics-label=\"biz-name\" data-hovercard-id=\"XZrPOHI6xkIibiJUO_aDuw\" href=\"/biz/dirty-water-dough-boston-6?osq=Pizza\"><span>Dirty Water Dough</span></a>,\n",
       " <a class=\"biz-name js-analytics-click\" data-analytics-label=\"biz-name\" data-hovercard-id=\"IkEePhotl6uOq6fAXJ2ncw\" href=\"/biz/galleria-umberto-boston?osq=Pizza\"><span>Galleria Umberto</span></a>,\n",
       " <a class=\"biz-name js-analytics-click\" data-analytics-label=\"biz-name\" data-hovercard-id=\"KWeq_w4Jepeg2jklA7Ue1w\" href=\"/biz/ernestos-boston?osq=Pizza\"><span>Ernesto’s</span></a>,\n",
       " <a class=\"biz-name js-analytics-click\" data-analytics-label=\"biz-name\" data-hovercard-id=\"-q4avwo8AKWvMros1bs5fA\" href=\"/biz/picco-boston-2?osq=Pizza\"><span>Picco</span></a>,\n",
       " <a class=\"biz-name js-analytics-click\" data-analytics-label=\"biz-name\" data-hovercard-id=\"emcpx58f6cO0G8MWE97P0w\" href=\"/biz/the-salty-pig-boston?osq=Pizza\"><span>The Salty Pig</span></a>,\n",
       " <a class=\"biz-name js-analytics-click\" data-analytics-label=\"biz-name\" data-hovercard-id=\"w6gPlM0Ip8xqcIz5tWk08w\" href=\"/biz/boston-kitchen-pizza-boston?osq=Pizza\"><span>Boston Kitchen Pizza</span></a>,\n",
       " <a class=\"biz-name js-analytics-click\" data-analytics-label=\"biz-name\" data-hovercard-id=\"313jbE6sVd0B_Sp11WWfYg\" href=\"/biz/locale-boston?osq=Pizza\"><span>Locale</span></a>,\n",
       " <a class=\"biz-name js-analytics-click\" data-analytics-label=\"biz-name\" data-hovercard-id=\"jbcmMIJEQ7C0LnCOiRqjxQ\" href=\"/biz/figs-by-todd-english-boston-2?osq=Pizza\"><span>Figs by Todd English</span></a>,\n",
       " <a class=\"biz-name js-analytics-click\" data-analytics-label=\"biz-name\" data-hovercard-id=\"Tf1jYK43xdOmiE0FjPqXsg\" href=\"/biz/penguin-pizza-boston?osq=Pizza\"><span>Penguin Pizza</span></a>,\n",
       " <a class=\"biz-name js-analytics-click\" data-analytics-label=\"biz-name\" data-hovercard-id=\"zteYD-ADfgeEHIEd3-QMng\" href=\"/biz/all-star-pizza-bar-boston?osq=Pizza\"><span>All Star Pizza Bar</span></a>,\n",
       " <a class=\"biz-name js-analytics-click\" data-analytics-label=\"biz-name\" data-hovercard-id=\"E66jO_yLXlUKNXidnWSN9Q\" href=\"/biz/dragon-pizza-somerville?osq=Pizza\"><span>Dragon Pizza</span></a>,\n",
       " <a class=\"biz-name js-analytics-click\" data-analytics-label=\"biz-name\" data-hovercard-id=\"6vYjwLPj55w37KCj7zylQw\" href=\"/biz/regina-pizzeria-boston-8?osq=Pizza\"><span>Regina Pizzeria</span></a>,\n",
       " <a class=\"biz-name js-analytics-click\" data-analytics-label=\"biz-name\" data-hovercard-id=\"MXtV_kKRHkgP-Ya3WZOl3A\" href=\"/biz/woodys-grill-and-tap-boston-2?osq=Pizza\"><span>Woody’s Grill and Tap</span></a>,\n",
       " <a class=\"biz-name js-analytics-click\" data-analytics-label=\"biz-name\" data-hovercard-id=\"dDR13Y9bTmSFL8pGlitdvA\" href=\"/biz/blaze-fast-fired-pizza-boston-2?osq=Pizza\"><span>Blaze Fast Fire’d Pizza</span></a>,\n",
       " <a class=\"biz-name js-analytics-click\" data-analytics-label=\"biz-name\" data-hovercard-id=\"UaagGsU_pr1XYoXUqzqT-A\" href=\"/biz/florina-pizzeria-and-paninoteca-boston?osq=Pizza\"><span>Florina Pizzeria &amp; Paninoteca</span></a>,\n",
       " <a class=\"biz-name js-analytics-click\" data-analytics-label=\"biz-name\" data-hovercard-id=\"OFAmjnQGnG98AfrgA1IRtQ\" href=\"/biz/blaze-fast-fired-pizza-boston-4?osq=Pizza\"><span>Blaze Fast Fire’d Pizza</span></a>,\n",
       " <a class=\"biz-name js-analytics-click\" data-analytics-label=\"biz-name\" data-hovercard-id=\"PafDWXQw4q_7PtJMVTkeFA\" href=\"/biz/oath-pizza-south-station-boston-2?osq=Pizza\"><span>Oath Pizza - South Station</span></a>,\n",
       " <a class=\"biz-name js-analytics-click\" data-analytics-label=\"biz-name\" data-hovercard-id=\"RPHmGxvB7IW6da8Tc3k37Q\" href=\"/biz/ciao-pizza-and-pasta-chelsea-2?osq=Pizza\"><span>Ciao! Pizza &amp; Pasta</span></a>,\n",
       " <a class=\"biz-name js-analytics-click\" data-analytics-label=\"biz-name\" data-hovercard-id=\"pWsId27fdPAGaSHkTvkqkw\" href=\"/biz/new-york-pizza-boston-5?osq=Pizza\"><span>New York Pizza</span></a>,\n",
       " <a class=\"biz-name js-analytics-click\" data-analytics-label=\"biz-name\" data-hovercard-id=\"5obSaEDitcpJHwM6lfi_iQ\" href=\"/biz/pizza-stop-boston-2?osq=Pizza\"><span>Pizza Stop</span></a>,\n",
       " <a class=\"biz-name js-analytics-click\" data-analytics-label=\"biz-name\" data-hovercard-id=\"YPdYOYqK87bseEt0om91OQ\" href=\"/biz/hot-box-somerville?osq=Pizza\"><span>Hot Box</span></a>,\n",
       " <a class=\"biz-name js-analytics-click\" data-analytics-label=\"biz-name\" data-hovercard-id=\"eJlWx8-5nsocCCuKtM3ojw\" href=\"/biz/the-brewers-fork-boston?osq=Pizza\"><span>The Brewer’s Fork</span></a>,\n",
       " <a class=\"biz-name js-analytics-click\" data-analytics-label=\"biz-name\" data-hovercard-id=\"a1Dpr9fGT17BQQ8N_Gafog\" href=\"/biz/italian-express-pizzeria-boston-2?osq=Pizza\"><span>Italian Express Pizzeria</span></a>,\n",
       " <a class=\"biz-name js-analytics-click\" data-analytics-label=\"biz-name\" data-hovercard-id=\"PkmA167Vwcw7u9Guhf7Inw\" href=\"/biz/pastoral-artisan-pizza-kitchen-and-bar-boston?osq=Pizza\"><span>Pastoral - Artisan Pizza, Kitchen &amp; Bar</span></a>,\n",
       " <a class=\"biz-name js-analytics-click\" data-analytics-label=\"biz-name\" data-hovercard-id=\"1-buudY7ueOWJgu2wQUoaQ\" href=\"/biz/upper-crust-pizzeria-boston-2?osq=Pizza\"><span>Upper Crust Pizzeria</span></a>,\n",
       " <a class=\"biz-name js-analytics-click\" data-analytics-label=\"biz-name\" data-hovercard-id=\"ffkDCrUIvCSSOuY4BaDZeg\" href=\"/biz/rinas-pizzeria-and-cafe-boston-2?osq=Pizza\"><span>Rina’s Pizzeria &amp; Cafe</span></a>,\n",
       " <a class=\"biz-name js-analytics-click\" data-analytics-label=\"biz-name\" data-hovercard-id=\"0LMca6VLPXktYi-TYvyOLQ\" href=\"/biz/crush-pizza-boston-2?osq=Pizza\"><span>Crush Pizza</span></a>,\n",
       " <a class=\"biz-name js-analytics-click\" data-analytics-label=\"biz-name\" data-hovercard-id=\"5iD_TArYOKCWWyWkMRD6rA\" href=\"/biz/stoked-wood-fired-pizza-boston-3?osq=Pizza\"><span>Stoked Wood Fired Pizza</span></a>]"
      ]
     },
     "execution_count": 77,
     "metadata": {},
     "output_type": "execute_result"
    }
   ],
   "source": [
    "businesses"
   ]
  },
  {
   "cell_type": "code",
   "execution_count": 78,
   "metadata": {},
   "outputs": [],
   "source": [
    "# selecting the first element (a particular restaurant in our case) of the list businesses and looking in the\n",
    "#ignore the first element of the businesses list, it is an ad by yelp, regular list start from the second (index = 1)\n",
    "# html code for its name\n",
    "business = businesses[1]\n",
    "name = business.find('span').get_text()\n",
    "\n",
    "# getting the link to the yelp page this perticular restaurant\n",
    "link = 'https://www.yelp.com' + business.get('href')"
   ]
  },
  {
   "cell_type": "code",
   "execution_count": null,
   "metadata": {},
   "outputs": [],
   "source": [
    "print(name,link)"
   ]
  },
  {
   "cell_type": "code",
   "execution_count": 79,
   "metadata": {},
   "outputs": [],
   "source": [
    "# extracting the html code of the web page associated with the first business of our list businesses\n",
    "response_business = requests.get(link)\n",
    "results_business_page = BeautifulSoup(response_business.content,'lxml')"
   ]
  },
  {
   "cell_type": "code",
   "execution_count": 20,
   "metadata": {},
   "outputs": [],
   "source": [
    "# looking in the html page of the restaurant for latitude and longitude coordinates of the restaurant\n",
    "# the json object json_map contains these coordinates\n",
    "json_map = results_business_page.find('div', class_ = \"lightbox-map hidden\").get('data-map-state')\n",
    "\n",
    "# we can convert this json object to a python dictionnary using the following method\n",
    "dict_map = json.loads(json_map)\n",
    "\n",
    "# the relevant keys in this dict are \"markers\", \"location\" and \"latitude\" and \"longitude\"\n",
    "latitude = dict_map[\"markers\"][1][\"location\"][\"latitude\"]\n",
    "longitude = dict_map[\"markers\"][1][\"location\"][\"longitude\"]"
   ]
  },
  {
   "cell_type": "code",
   "execution_count": null,
   "metadata": {},
   "outputs": [],
   "source": [
    "json_map"
   ]
  },
  {
   "cell_type": "code",
   "execution_count": null,
   "metadata": {},
   "outputs": [],
   "source": [
    "print(latitude,longitude)"
   ]
  },
  {
   "cell_type": "code",
   "execution_count": 21,
   "metadata": {},
   "outputs": [],
   "source": [
    "# The category can be found in the 'a' tag under \"span\", class_ = 'category-str-list' tag, \n",
    "category= results_business_page.find(\"span\", class_ = 'category-str-list').find('a').get_text()"
   ]
  },
  {
   "cell_type": "code",
   "execution_count": null,
   "metadata": {},
   "outputs": [],
   "source": [
    "category"
   ]
  },
  {
   "cell_type": "code",
   "execution_count": 22,
   "metadata": {},
   "outputs": [],
   "source": [
    "# the price range ('$','$$','$$$', or '$$$$') can be found in the \"span\", class_ = 'business-attribute price-range' tag\n",
    "# the price range is not always available, that is why we need to catch errors \n",
    "# if necessary (hence the try: except) structure\n",
    "\n",
    "try:\n",
    "    price_range = results_business_page.find(\"span\", class_ = 'business-attribute price-range').get_text()\n",
    "except:\n",
    "    price_range = None"
   ]
  },
  {
   "cell_type": "code",
   "execution_count": null,
   "metadata": {},
   "outputs": [],
   "source": [
    "print(price_range)"
   ]
  },
  {
   "cell_type": "code",
   "execution_count": 23,
   "metadata": {},
   "outputs": [],
   "source": [
    "# the ratings associated to a particular restaurant are in the \"div\", itemprop = 'aggregateRating' tag\n",
    "# the rating value (between 0 and 5) can be accessed through ratings (= results_business_page.find(\"div\", \n",
    "# itemprop = 'aggregateRating') at the tag \"meta\" and the attribute 'content'\n",
    "# the number of reviews is available through ratings at the 'span' tag\n",
    "\n",
    "ratings = results_business_page.find(\"div\", itemprop = 'aggregateRating')\n",
    "rating_value = ratings.find(\"meta\").get('content')\n",
    "review_count = ratings.find(\"span\").get_text()"
   ]
  },
  {
   "cell_type": "code",
   "execution_count": null,
   "metadata": {},
   "outputs": [],
   "source": [
    "print(rating_value,review_count)"
   ]
  },
  {
   "cell_type": "code",
   "execution_count": 24,
   "metadata": {},
   "outputs": [],
   "source": [
    "# the phone number can be accessed at the tag 'span',itemprop = \"telephone\"\n",
    "# phone numbers are not always available so we need to catch errors using the try:... except: structure\n",
    "\n",
    "try:\n",
    "    phone_number = results_business_page.find('span',itemprop = \"telephone\").get_text().strip()\n",
    "except:\n",
    "    phone_number = None   "
   ]
  },
  {
   "cell_type": "code",
   "execution_count": null,
   "metadata": {},
   "outputs": [],
   "source": [
    "print(phone_number)"
   ]
  },
  {
   "cell_type": "code",
   "execution_count": 25,
   "metadata": {},
   "outputs": [],
   "source": [
    "# We want to know if the restaurant is currently open: this information is \n",
    "# given at the 'span', class_ = \"nowrap extra open\" tag. This information is not always \n",
    "# available that is why we use the try: ... except:... structure\n",
    "\n",
    "try:\n",
    "    open_ = results_business_page.find('span', class_ = \"nowrap extra open\").get_text()\n",
    "except:\n",
    "    open_ = None"
   ]
  },
  {
   "cell_type": "code",
   "execution_count": null,
   "metadata": {},
   "outputs": [],
   "source": [
    "print(open_)"
   ]
  },
  {
   "cell_type": "code",
   "execution_count": 26,
   "metadata": {},
   "outputs": [
    {
     "data": {
      "text/plain": [
       "'66 Hereford StBoston, MA 02115'"
      ]
     },
     "execution_count": 26,
     "metadata": {},
     "output_type": "execute_result"
    }
   ],
   "source": [
    "try:\n",
    "    addr = results_business_page.find('strong', class_ = \"street-address\").get_text().strip()\n",
    "except:\n",
    "    addr = None\n",
    "addr"
   ]
  },
  {
   "cell_type": "code",
   "execution_count": 27,
   "metadata": {},
   "outputs": [
    {
     "data": {
      "text/plain": [
       "'santouka.co.jp'"
      ]
     },
     "execution_count": 27,
     "metadata": {},
     "output_type": "execute_result"
    }
   ],
   "source": [
    "try:\n",
    "    web = results_business_page.find('span', class_ = \"biz-website js-biz-website js-add-url-tagging\").find('a').get_text()\n",
    "except:\n",
    "    web = None\n",
    "web"
   ]
  },
  {
   "cell_type": "code",
   "execution_count": 80,
   "metadata": {},
   "outputs": [],
   "source": [
    "#want to put all infomations we want to get from one business in to one funtion\n",
    "#input: url link\n",
    "#output: all details we tested above\n",
    "def get_info(link):\n",
    "    response_business = requests.get(link)\n",
    "    results_business_page = BeautifulSoup(response_business.content,'lxml')\n",
    "    \n",
    "    try:\n",
    "        addr = results_business_page.find('strong', class_ = \"street-address\").get_text().strip()\n",
    "    except:\n",
    "        addr = None\n",
    "\n",
    "    json_map = results_business_page.find('div', class_ = \"lightbox-map hidden\").get('data-map-state')\n",
    "    dict_map = json.loads(json_map)\n",
    "    latitude = dict_map[\"markers\"][1][\"location\"][\"latitude\"]\n",
    "    longitude = dict_map[\"markers\"][1][\"location\"][\"longitude\"]\n",
    "\n",
    "    category= results_business_page.find(\"span\", class_ = 'category-str-list').find('a').get_text()\n",
    "        \n",
    "    try:\n",
    "        price_range = results_business_page.find(\"span\", class_ = 'business-attribute price-range').get_text()\n",
    "    except:\n",
    "        price_range = None\n",
    "        \n",
    "    ratings = results_business_page.find(\"div\", itemprop = 'aggregateRating')\n",
    "    rating_value = ratings.find(\"meta\").get('content')\n",
    "    review_count = ratings.find(\"span\").get_text()\n",
    "    \n",
    "    try:\n",
    "        phone_number = results_business_page.find('span',itemprop = \"telephone\").get_text().strip()\n",
    "    except:\n",
    "        phone_number = None\n",
    "        \n",
    "    try:\n",
    "        open_ = results_business_page.find('span', class_ = \"nowrap extra open\").get_text()\n",
    "    except:\n",
    "        open_ = None\n",
    "    try:\n",
    "        web = results_business_page.find('span', class_ = \"biz-website js-biz-website js-add-url-tagging\").find('a').get_text()\n",
    "    except:\n",
    "        web = None\n",
    "        \n",
    "    return(addr,latitude,longitude,category,price_range,rating_value,review_count,phone_number,open_,web)\n",
    "    "
   ]
  },
  {
   "cell_type": "code",
   "execution_count": null,
   "metadata": {},
   "outputs": [],
   "source": [
    "#test the function on cafe mogador\n",
    "restaurant_url = \"https://www.yelp.com/biz/cafe-mogador-brooklyn?osq=Restaurants\"\n",
    "get_info(restaurant_url)"
   ]
  },
  {
   "cell_type": "code",
   "execution_count": 81,
   "metadata": {},
   "outputs": [],
   "source": [
    "#Get a list of url links of all businesses (or maybe the first 30)\n",
    "#so that we could compile a list of details on, for example, the first 30 search-result restaurants\n",
    "link_list = []\n",
    "\n",
    "for i in range(1,len(businesses)):\n",
    "    business = businesses[i]\n",
    "    link = 'https://www.yelp.com' + business.get('href')\n",
    "    link_list.append(link)"
   ]
  },
  {
   "cell_type": "code",
   "execution_count": null,
   "metadata": {},
   "outputs": [],
   "source": [
    "link_list"
   ]
  },
  {
   "cell_type": "code",
   "execution_count": 82,
   "metadata": {},
   "outputs": [],
   "source": [
    "#Create a list of restaurant names\n",
    "name_list=[]\n",
    "for i in range(1,len(businesses)):\n",
    "    business = businesses[i]\n",
    "    name = business.find('span').get_text()\n",
    "    name_list.append(name)"
   ]
  },
  {
   "cell_type": "code",
   "execution_count": 83,
   "metadata": {},
   "outputs": [
    {
     "data": {
      "text/plain": [
       "['Regina Pizzeria',\n",
       " 'Santarpio’s Pizza',\n",
       " 'Dirty Water Dough',\n",
       " 'Galleria Umberto',\n",
       " 'Ernesto’s',\n",
       " 'Picco',\n",
       " 'The Salty Pig',\n",
       " 'Boston Kitchen Pizza',\n",
       " 'Locale',\n",
       " 'Figs by Todd English',\n",
       " 'Penguin Pizza',\n",
       " 'All Star Pizza Bar',\n",
       " 'Dragon Pizza',\n",
       " 'Regina Pizzeria',\n",
       " 'Woody’s Grill and Tap',\n",
       " 'Blaze Fast Fire’d Pizza',\n",
       " 'Florina Pizzeria & Paninoteca',\n",
       " 'Blaze Fast Fire’d Pizza',\n",
       " 'Oath Pizza - South Station',\n",
       " 'Ciao! Pizza & Pasta',\n",
       " 'New York Pizza',\n",
       " 'Pizza Stop',\n",
       " 'Hot Box',\n",
       " 'The Brewer’s Fork',\n",
       " 'Italian Express Pizzeria',\n",
       " 'Pastoral - Artisan Pizza, Kitchen & Bar',\n",
       " 'Upper Crust Pizzeria',\n",
       " 'Rina’s Pizzeria & Cafe',\n",
       " 'Crush Pizza',\n",
       " 'Stoked Wood Fired Pizza']"
      ]
     },
     "execution_count": 83,
     "metadata": {},
     "output_type": "execute_result"
    }
   ],
   "source": [
    "name_list"
   ]
  },
  {
   "cell_type": "code",
   "execution_count": 87,
   "metadata": {},
   "outputs": [],
   "source": [
    "#Create a list of all restaurants' information\n",
    "info_list=[]\n",
    "\n",
    "for i in range(len(link_list)):\n",
    "    info_list.append(get_info(link_list[i]))"
   ]
  },
  {
   "cell_type": "code",
   "execution_count": null,
   "metadata": {},
   "outputs": [],
   "source": [
    "#Create a dictionary showing the information of each restaurant\n",
    "business_info={}\n",
    "\n",
    "for i in range(len(name_list)):\n",
    "    business_info[name_list[i]] = info_list[i]        "
   ]
  },
  {
   "cell_type": "code",
   "execution_count": null,
   "metadata": {},
   "outputs": [],
   "source": [
    "business_info"
   ]
  }
 ],
 "metadata": {
  "kernelspec": {
   "display_name": "Python 3",
   "language": "python",
   "name": "python3"
  },
  "language_info": {
   "codemirror_mode": {
    "name": "ipython",
    "version": 3
   },
   "file_extension": ".py",
   "mimetype": "text/x-python",
   "name": "python",
   "nbconvert_exporter": "python",
   "pygments_lexer": "ipython3",
   "version": "3.6.5"
  }
 },
 "nbformat": 4,
 "nbformat_minor": 2
}
