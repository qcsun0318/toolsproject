{
 "cells": [
  {
   "cell_type": "code",
   "execution_count": null,
   "metadata": {},
   "outputs": [],
   "source": [
    "#This is the notebook for tools_project"
   ]
  },
  {
   "cell_type": "code",
   "execution_count": 1,
   "metadata": {},
   "outputs": [],
   "source": [
    "# scraping libraries to read html code\n",
    "import requests\n",
    "from bs4 import BeautifulSoup\n",
    "import json"
   ]
  },
  {
   "cell_type": "code",
   "execution_count": 2,
   "metadata": {},
   "outputs": [],
   "source": [
    "# pandas library to create dataframe\n",
    "import pandas as pd\n",
    "import numpy as np"
   ]
  },
  {
   "cell_type": "code",
   "execution_count": 4,
   "metadata": {},
   "outputs": [
    {
     "name": "stdout",
     "output_type": "stream",
     "text": [
      "What do you want to eat now ? Ramen\n",
      "Where are you ? New York\n"
     ]
    },
    {
     "data": {
      "text/plain": [
       "'https://www.yelp.com/search?find_desc=Ramen&find_loc=New York'"
      ]
     },
     "execution_count": 4,
     "metadata": {},
     "output_type": "execute_result"
    }
   ],
   "source": [
    "# Direct to initial results\n",
    "url = 'https://www.yelp.com/search?find_desc='\n",
    "keyword = input('What do you want to eat ? ')\n",
    "address = input('Where are you ? ')\n",
    "\n",
    "url = 'https://www.yelp.com/search?find_desc='+ keyword + '&find_loc=' + address \n",
    "url"
   ]
  },
  {
   "cell_type": "code",
   "execution_count": 5,
   "metadata": {},
   "outputs": [
    {
     "data": {
      "text/plain": [
       "200"
      ]
     },
     "execution_count": 5,
     "metadata": {},
     "output_type": "execute_result"
    }
   ],
   "source": [
    "# Checking if the url is \"valid\", the status code should be 200\n",
    "response = requests.get(url)\n",
    "response.status_code"
   ]
  },
  {
   "cell_type": "code",
   "execution_count": 6,
   "metadata": {},
   "outputs": [],
   "source": [
    "# extract the html code from the web page = https://www.yelp.com/search?find_desc=Restaurants&find_loc=New+York,+NY&start=30\n",
    "results_page = BeautifulSoup(response.content,'lxml')"
   ]
  },
  {
   "cell_type": "code",
   "execution_count": 7,
   "metadata": {},
   "outputs": [],
   "source": [
    "# creating a list of businesses with the html code of the business as elements of the list\n",
    "businesses = results_page.find_all('a',class_ = \"biz-name js-analytics-click\")"
   ]
  },
  {
   "cell_type": "code",
   "execution_count": 8,
   "metadata": {},
   "outputs": [
    {
     "data": {
      "text/plain": [
       "[<a class=\"biz-name js-analytics-click\" data-analytics-label=\"biz-name\" data-hovercard-id=\"61undF7jnmIEldA6cBlfcQ\" href=\"/adredir?ad_business_id=-Q8MYIWoE4EsGQtudIOY0w&amp;campaign_id=PLn3A76M7MyMA9deIl4atQ&amp;click_origin=search_results&amp;placement=above_search&amp;redirect_url=https%3A%2F%2Fwww.yelp.com%2Fbiz%2Fbua-thai-ramen-and-robata-grill-new-york&amp;request_id=f9536fe4cd959630&amp;signature=049898ff9b1998ec2ac452d9bfccb7e3aa268778c4708e06d3cf36479c560d18&amp;slot=0\"><span>Bua Thai Ramen &amp; Robata Grill</span></a>,\n",
       " <a class=\"biz-name js-analytics-click\" data-analytics-label=\"biz-name\" data-hovercard-id=\"oyXabgScXfAcX5TnyRJHpw\" href=\"/biz/menkoi-sato-new-york-2?osq=Ramen\"><span>Menkoi Sato</span></a>,\n",
       " <a class=\"biz-name js-analytics-click\" data-analytics-label=\"biz-name\" data-hovercard-id=\"WXGLNKrunAEuV0QVBYwiKQ\" href=\"/biz/totto-ramen-new-york-12?osq=Ramen\"><span>Totto Ramen</span></a>,\n",
       " <a class=\"biz-name js-analytics-click\" data-analytics-label=\"biz-name\" data-hovercard-id=\"xJJUNXIR1JECvREs7j-Mzg\" href=\"/biz/ramen-hood-new-york?osq=Ramen\"><span>Ramen Hood</span></a>,\n",
       " <a class=\"biz-name js-analytics-click\" data-analytics-label=\"biz-name\" data-hovercard-id=\"IvrqVf9bvFOXQsdOgq-47Q\" href=\"/biz/teppen-ramen-new-york-2?osq=Ramen\"><span>Teppen Ramen</span></a>,\n",
       " <a class=\"biz-name js-analytics-click\" data-analytics-label=\"biz-name\" data-hovercard-id=\"sw4Nv1WvQFEoJkofvruTjQ\" href=\"/biz/ramen-spot-brooklyn-4?osq=Ramen\"><span>Ramen Spot</span></a>,\n",
       " <a class=\"biz-name js-analytics-click\" data-analytics-label=\"biz-name\" data-hovercard-id=\"dzIqS1W6xuk3BBO60GiRMg\" href=\"/biz/ippudo-ny-new-york-7?osq=Ramen\"><span>Ippudo NY</span></a>,\n",
       " <a class=\"biz-name js-analytics-click\" data-analytics-label=\"biz-name\" data-hovercard-id=\"9zjBn4cFHwymREAl4KXLvg\" href=\"/biz/tenichi-ramen-cobble-hill-brooklyn?osq=Ramen\"><span>Tenichi Ramen Cobble Hill</span></a>,\n",
       " <a class=\"biz-name js-analytics-click\" data-analytics-label=\"biz-name\" data-hovercard-id=\"EXXvSgi6HcM2vzE-iJFsWA\" href=\"/biz/ramen-mafia-brooklyn?osq=Ramen\"><span>Ramen Mafia</span></a>,\n",
       " <a class=\"biz-name js-analytics-click\" data-analytics-label=\"biz-name\" data-hovercard-id=\"V7ok0aCVdpvzBbqh-U-PUw\" href=\"/biz/oki-pok%C3%A9-and-ramen-new-york?osq=Ramen\"><span>Oki Poké &amp; Ramen</span></a>,\n",
       " <a class=\"biz-name js-analytics-click\" data-analytics-label=\"biz-name\" data-hovercard-id=\"4AVuFmmOwyg2p_ynbIWZjA\" href=\"/biz/ippudo-westside-new-york?osq=Ramen\"><span>Ippudo Westside</span></a>,\n",
       " <a class=\"biz-name js-analytics-click\" data-analytics-label=\"biz-name\" data-hovercard-id=\"du04B4tj_Rl82zgXiY9R-g\" href=\"/biz/momosan-ramen-and-sake-new-york-2?osq=Ramen\"><span>Momosan Ramen &amp; Sake</span></a>,\n",
       " <a class=\"biz-name js-analytics-click\" data-analytics-label=\"biz-name\" data-hovercard-id=\"LhmeIEcRH5-ADC4hDDAVyg\" href=\"/biz/ramen-ya-new-york-5?osq=Ramen\"><span>Ramen-Ya</span></a>,\n",
       " <a class=\"biz-name js-analytics-click\" data-analytics-label=\"biz-name\" data-hovercard-id=\"cFz_fyU62eHCIq-RA2jyNA\" href=\"/biz/tonchin-new-york-new-york?osq=Ramen\"><span>TONCHIN NEW YORK</span></a>,\n",
       " <a class=\"biz-name js-analytics-click\" data-analytics-label=\"biz-name\" data-hovercard-id=\"6-5UDYDPmaVjgVdt-YqNbw\" href=\"/biz/ramen-lab-new-york-2?osq=Ramen\"><span>Ramen Lab</span></a>,\n",
       " <a class=\"biz-name js-analytics-click\" data-analytics-label=\"biz-name\" data-hovercard-id=\"du7niIb4gNy08ZHeNpiEMA\" href=\"/biz/minca-new-york?osq=Ramen\"><span>Minca</span></a>,\n",
       " <a class=\"biz-name js-analytics-click\" data-analytics-label=\"biz-name\" data-hovercard-id=\"ztfkExJe8lAd43Te5ViyPA\" href=\"/biz/three-bowls-noodle-house-woodside?osq=Ramen\"><span>Three Bowls Noodle House</span></a>,\n",
       " <a class=\"biz-name js-analytics-click\" data-analytics-label=\"biz-name\" data-hovercard-id=\"cNaxQq2VFOH9_sswuM_ghA\" href=\"/biz/hashi-ramen-and-izakaya-flushing-4?osq=Ramen\"><span>Hashi Ramen &amp; Izakaya</span></a>,\n",
       " <a class=\"biz-name js-analytics-click\" data-analytics-label=\"biz-name\" data-hovercard-id=\"nUQXUKH7NF2eGUUSP9AP6w\" href=\"/biz/chuko-brooklyn-2?osq=Ramen\"><span>Chuko</span></a>,\n",
       " <a class=\"biz-name js-analytics-click\" data-analytics-label=\"biz-name\" data-hovercard-id=\"dxTzW__lOWk29vLSnBPWaA\" href=\"/biz/jun-men-ramen-bar-new-york?osq=Ramen\"><span>Jun-Men Ramen Bar</span></a>,\n",
       " <a class=\"biz-name js-analytics-click\" data-analytics-label=\"biz-name\" data-hovercard-id=\"Uaug7aFw42bqNJwTinnQeQ\" href=\"/biz/zundo-ya-new-york?osq=Ramen\"><span>Zundo-Ya</span></a>,\n",
       " <a class=\"biz-name js-analytics-click\" data-analytics-label=\"biz-name\" data-hovercard-id=\"vd93s2ZxK6T-scqIRNv4cg\" href=\"/biz/mu-ramen-long-island-city-2?osq=Ramen\"><span>Mu Ramen</span></a>,\n",
       " <a class=\"biz-name js-analytics-click\" data-analytics-label=\"biz-name\" data-hovercard-id=\"4tH_U4Bghitn5lkCvppsiA\" href=\"/biz/shinshi-ramen-new-york?osq=Ramen\"><span>Shinshi Ramen</span></a>,\n",
       " <a class=\"biz-name js-analytics-click\" data-analytics-label=\"biz-name\" data-hovercard-id=\"zrrlwFXlfnc-b-VsxLGxRw\" href=\"/biz/tamashii-ramen-astoria?osq=Ramen\"><span>Tamashii Ramen</span></a>,\n",
       " <a class=\"biz-name js-analytics-click\" data-analytics-label=\"biz-name\" data-hovercard-id=\"1AiIr8MlMFKht5EmdEqlzA\" href=\"/biz/nishida-sho-ten-new-york-2?osq=Ramen\"><span>Nishida Sho-ten</span></a>,\n",
       " <a class=\"biz-name js-analytics-click\" data-analytics-label=\"biz-name\" data-hovercard-id=\"rk-AHp1zdX2g9etg4CzUKw\" href=\"/biz/hinomaru-ramen-astoria-2?osq=Ramen\"><span>HinoMaru Ramen</span></a>,\n",
       " <a class=\"biz-name js-analytics-click\" data-analytics-label=\"biz-name\" data-hovercard-id=\"S3ae7wAnOzkcr9hRfV2ePA\" href=\"/biz/mei-jin-ramen-new-york?osq=Ramen\"><span>Mei Jin Ramen</span></a>,\n",
       " <a class=\"biz-name js-analytics-click\" data-analytics-label=\"biz-name\" data-hovercard-id=\"5AxNprMi4djdc8_LYFmclw\" href=\"/biz/kogane-ramen-brooklyn-heights?osq=Ramen\"><span>Kogane Ramen</span></a>,\n",
       " <a class=\"biz-name js-analytics-click\" data-analytics-label=\"biz-name\" data-hovercard-id=\"8k3ZaOS35jkJY5OLpZ266g\" href=\"/biz/totto-ramen-midtown-east-new-york-2?osq=Ramen\"><span>Totto Ramen - Midtown East</span></a>,\n",
       " <a class=\"biz-name js-analytics-click\" data-analytics-label=\"biz-name\" data-hovercard-id=\"3vdchIx8-3WBUIehnQiatg\" href=\"/biz/jin-sushi-and-ramen-fresh-meadows?osq=Ramen\"><span>Jin Sushi &amp; Ramen</span></a>,\n",
       " <a class=\"biz-name js-analytics-click\" data-analytics-label=\"biz-name\" data-hovercard-id=\"RlK9T_b0FlkLNJAhpYLwoQ\" href=\"/biz/shuya-cafe-de-ramen-astoria?osq=Ramen\"><span>Shuya Cafe de Ramen</span></a>]"
      ]
     },
     "execution_count": 8,
     "metadata": {},
     "output_type": "execute_result"
    }
   ],
   "source": [
    "businesses"
   ]
  },
  {
   "cell_type": "code",
   "execution_count": 10,
   "metadata": {},
   "outputs": [],
   "source": [
    "# selecting the first element (a particular restaurant in our case) of the list businesses and looking in the\n",
    "#ignore the first element of the businesses list, it is an ad by yelp, regular list start from the second (index = 1)\n",
    "# html code for its name\n",
    "business = businesses[1]\n",
    "name = business.find('span').get_text()\n",
    "\n",
    "# getting the link to the yelp page this particular restaurant\n",
    "link = 'https://www.yelp.com' + business.get('href')"
   ]
  },
  {
   "cell_type": "code",
   "execution_count": 11,
   "metadata": {},
   "outputs": [
    {
     "name": "stdout",
     "output_type": "stream",
     "text": [
      "Menkoi Sato https://www.yelp.com/biz/menkoi-sato-new-york-2?osq=Ramen\n"
     ]
    }
   ],
   "source": [
    "print(name,link)"
   ]
  },
  {
   "cell_type": "code",
   "execution_count": 13,
   "metadata": {},
   "outputs": [],
   "source": [
    "# extracting the html code of the web page associated with the first business of our list businesses\n",
    "response_business = requests.get(link)\n",
    "results_business_page = BeautifulSoup(response_business.content,'lxml')"
   ]
  },
  {
   "cell_type": "code",
   "execution_count": 14,
   "metadata": {},
   "outputs": [],
   "source": [
    "# looking in the html page of the restaurant for latitude and longitude coordinates of the restaurant\n",
    "# the json object json_map contains these coordinates\n",
    "json_map = results_business_page.find('div', class_ = \"lightbox-map hidden\").get('data-map-state')\n",
    "\n",
    "# we can convert this json object to a python dictionnary using the following method\n",
    "dict_map = json.loads(json_map)\n",
    "\n",
    "# the relevant keys in this dict are \"markers\", \"location\" and \"latitude\" and \"longitude\"\n",
    "latitude = dict_map[\"markers\"][1][\"location\"][\"latitude\"]\n",
    "longitude = dict_map[\"markers\"][1][\"location\"][\"longitude\"]"
   ]
  },
  {
   "cell_type": "code",
   "execution_count": 15,
   "metadata": {},
   "outputs": [
    {
     "data": {
      "text/plain": [
       "'{\"serviceAreas\": [], \"moMapPossible\": true, \"scrollwheelZoom\": false, \"zoomControlPosition\": \"top_right\", \"minZoomlevel\": null, \"isFullBleed\": false, \"maxZoomlevel\": null, \"zoom\": 15, \"library\": \"google\", \"fitToGeobox\": false, \"hoods\": [], \"adPinColor\": null, \"markers\": [{\"location\": null, \"key\": \"directions_marker\", \"icon\": {\"name\": \"directions\", \"anchorOffset\": [12, 32], \"activeOrigin\": [0, 0], \"scaledSize\": [24, 32], \"regularUri\": \"https://s3-media4.fl.yelpcdn.com/assets/srv0/yelp_maps/79f63ebc20db/assets/img/directions@2x.png\", \"size\": [24, 32], \"activeUri\": \"https://s3-media4.fl.yelpcdn.com/assets/srv0/yelp_maps/7249ab345ac8/assets/img/directions_highlighted@2x.png\", \"regularOrigin\": [0, 0]}}, {\"resourceType\": \"business\", \"url\": \"/biz/menkoi-sato-new-york-2\", \"resourceId\": \"s2ii7iNxb0-hGVxHf0yexw\", \"shouldOpenInNewTab\": false, \"location\": {\"latitude\": 40.7316536618558, \"longitude\": -74.0017022376845}, \"key\": \"starred_business\", \"hovercardId\": \"oyXabgScXfAcX5TnyRJHpw\", \"icon\": {\"name\": \"starred\", \"anchorOffset\": [12, 32], \"activeOrigin\": [0, 0], \"scaledSize\": [24, 32], \"regularUri\": \"https://s3-media4.fl.yelpcdn.com/assets/srv0/yelp_maps/7ffd8e34c576/assets/img/annotation_star@2x.png\", \"size\": [24, 32], \"activeUri\": \"https://s3-media3.fl.yelpcdn.com/assets/srv0/yelp_maps/63e0e17c0579/assets/img/annotation_star_highlighted@2x.png\", \"regularOrigin\": [0, 0]}}, {\"location\": null, \"key\": \"current_location\", \"icon\": {\"name\": \"current_location\", \"anchorOffset\": [23, 23], \"activeOrigin\": [0, 0], \"scaledSize\": [46, 46], \"regularUri\": \"https://s3-media2.fl.yelpcdn.com/assets/srv0/yelp_maps/56b9eee3f027/assets/img/current_location_dot@2x.png\", \"size\": [46, 46], \"activeUri\": \"https://s3-media2.fl.yelpcdn.com/assets/srv0/yelp_maps/56b9eee3f027/assets/img/current_location_dot@2x.png\", \"regularOrigin\": [0, 0]}}], \"shouldDrawCheckbox\": false, \"overlayWidth\": 335, \"topBizBounds\": null, \"market\": null, \"center\": {\"latitude\": 40.7316536618558, \"longitude\": -74.0017022376845}}'"
      ]
     },
     "execution_count": 15,
     "metadata": {},
     "output_type": "execute_result"
    }
   ],
   "source": [
    "json_map"
   ]
  },
  {
   "cell_type": "code",
   "execution_count": 16,
   "metadata": {},
   "outputs": [
    {
     "name": "stdout",
     "output_type": "stream",
     "text": [
      "40.7316536618558 -74.0017022376845\n"
     ]
    }
   ],
   "source": [
    "print(latitude,longitude)"
   ]
  },
  {
   "cell_type": "code",
   "execution_count": 17,
   "metadata": {},
   "outputs": [],
   "source": [
    "# The category can be found in the 'a' tag under \"span\", class_ = 'category-str-list' tag, \n",
    "category= results_business_page.find(\"span\", class_ = 'category-str-list').find('a').get_text()"
   ]
  },
  {
   "cell_type": "code",
   "execution_count": 18,
   "metadata": {},
   "outputs": [
    {
     "data": {
      "text/plain": [
       "'Ramen'"
      ]
     },
     "execution_count": 18,
     "metadata": {},
     "output_type": "execute_result"
    }
   ],
   "source": [
    "category"
   ]
  },
  {
   "cell_type": "code",
   "execution_count": 19,
   "metadata": {},
   "outputs": [],
   "source": [
    "# the price range ('$','$$','$$$', or '$$$$') can be found in the \"span\", class_ = 'business-attribute price-range' tag\n",
    "# the price range is not always available, that is why we need to catch errors \n",
    "# if necessary (hence the try: except) structure\n",
    "\n",
    "try:\n",
    "    price_range = results_business_page.find(\"span\", class_ = 'business-attribute price-range').get_text()\n",
    "except:\n",
    "    price_range = None"
   ]
  },
  {
   "cell_type": "code",
   "execution_count": 20,
   "metadata": {},
   "outputs": [
    {
     "name": "stdout",
     "output_type": "stream",
     "text": [
      "$$\n"
     ]
    }
   ],
   "source": [
    "print(price_range)"
   ]
  },
  {
   "cell_type": "code",
   "execution_count": 21,
   "metadata": {},
   "outputs": [],
   "source": [
    "# the ratings associated to a particular restaurant are in the \"div\", itemprop = 'aggregateRating' tag\n",
    "# the rating value (between 0 and 5) can be accessed through ratings (= results_business_page.find(\"div\", \n",
    "# itemprop = 'aggregateRating') at the tag \"meta\" and the attribute 'content'\n",
    "# the number of reviews is available through ratings at the 'span' tag\n",
    "\n",
    "ratings = results_business_page.find(\"div\", itemprop = 'aggregateRating')\n",
    "rating_value = ratings.find(\"meta\").get('content')\n",
    "review_count = ratings.find(\"span\").get_text()"
   ]
  },
  {
   "cell_type": "code",
   "execution_count": 22,
   "metadata": {},
   "outputs": [
    {
     "name": "stdout",
     "output_type": "stream",
     "text": [
      "4.5 72\n"
     ]
    }
   ],
   "source": [
    "print(rating_value,review_count)"
   ]
  },
  {
   "cell_type": "code",
   "execution_count": 23,
   "metadata": {},
   "outputs": [],
   "source": [
    "# the phone number can be accessed at the tag 'span',itemprop = \"telephone\"\n",
    "# phone numbers are not always available so we need to catch errors using the try:... except: structure\n",
    "\n",
    "try:\n",
    "    phone_number = results_business_page.find('span',itemprop = \"telephone\").get_text().strip()\n",
    "except:\n",
    "    phone_number = None   "
   ]
  },
  {
   "cell_type": "code",
   "execution_count": 24,
   "metadata": {},
   "outputs": [
    {
     "name": "stdout",
     "output_type": "stream",
     "text": [
      "(212) 727-1050\n"
     ]
    }
   ],
   "source": [
    "print(phone_number)"
   ]
  },
  {
   "cell_type": "code",
   "execution_count": 25,
   "metadata": {},
   "outputs": [],
   "source": [
    "# We want to know if the restaurant is currently open: this information is \n",
    "# given at the 'span', class_ = \"nowrap extra open\" tag. This information is not always \n",
    "# available that is why we use the try: ... except:... structure\n",
    "\n",
    "try:\n",
    "    open_ = results_business_page.find('span', class_ = \"nowrap extra open\").get_text()\n",
    "except:\n",
    "    open_ = None"
   ]
  },
  {
   "cell_type": "code",
   "execution_count": 26,
   "metadata": {},
   "outputs": [
    {
     "name": "stdout",
     "output_type": "stream",
     "text": [
      "Open now\n"
     ]
    }
   ],
   "source": [
    "print(open_)"
   ]
  },
  {
   "cell_type": "code",
   "execution_count": 30,
   "metadata": {},
   "outputs": [
    {
     "data": {
      "text/plain": [
       "'7 Cornelia StNew York, NY 10014'"
      ]
     },
     "execution_count": 30,
     "metadata": {},
     "output_type": "execute_result"
    }
   ],
   "source": [
    "try:\n",
    "    addr = results_business_page.find('strong', class_ = \"street-address\").get_text().strip()\n",
    "except:\n",
    "    addr = None\n",
    "addr"
   ]
  },
  {
   "cell_type": "code",
   "execution_count": 36,
   "metadata": {},
   "outputs": [],
   "source": [
    "try:\n",
    "    web = results_business_page.find('span', class_ = \"biz-website js-biz-website js-add-url-tagging\").find('a').get_text()\n",
    "except:\n",
    "    web = None\n",
    "web"
   ]
  },
  {
   "cell_type": "code",
   "execution_count": 37,
   "metadata": {},
   "outputs": [],
   "source": [
    "#want to put all infomations we want to get from one business into one funtion\n",
    "#input: url link\n",
    "#output: all details we tested above\n",
    "def get_info(link):\n",
    "    response_business = requests.get(link)\n",
    "    results_business_page = BeautifulSoup(response_business.content,'lxml')\n",
    "    \n",
    "    try:\n",
    "        addr = results_business_page.find('strong', class_ = \"street-address\").get_text().strip()\n",
    "    except:\n",
    "        addr = None\n",
    "\n",
    "    json_map = results_business_page.find('div', class_ = \"lightbox-map hidden\").get('data-map-state')\n",
    "    dict_map = json.loads(json_map)\n",
    "    latitude = dict_map[\"markers\"][1][\"location\"][\"latitude\"]\n",
    "    longitude = dict_map[\"markers\"][1][\"location\"][\"longitude\"]\n",
    "\n",
    "    category= results_business_page.find(\"span\", class_ = 'category-str-list').find('a').get_text()\n",
    "        \n",
    "    try:\n",
    "        price_range = results_business_page.find(\"span\", class_ = 'business-attribute price-range').get_text()\n",
    "    except:\n",
    "        price_range = None\n",
    "        \n",
    "    ratings = results_business_page.find(\"div\", itemprop = 'aggregateRating')\n",
    "    rating_value = ratings.find(\"meta\").get('content')\n",
    "    review_count = ratings.find(\"span\").get_text()\n",
    "    \n",
    "    try:\n",
    "        phone_number = results_business_page.find('span',itemprop = \"telephone\").get_text().strip()\n",
    "    except:\n",
    "        phone_number = None\n",
    "        \n",
    "    try:\n",
    "        open_ = results_business_page.find('span', class_ = \"nowrap extra open\").get_text()\n",
    "    except:\n",
    "        open_ = None\n",
    "    try:\n",
    "        web = results_business_page.find('span', class_ = \"biz-website js-biz-website js-add-url-tagging\").find('a').get_text()\n",
    "    except:\n",
    "        web = None\n",
    "        \n",
    "    return(addr,latitude,longitude,category,price_range,rating_value,review_count,phone_number,open_,web)\n",
    "    "
   ]
  },
  {
   "cell_type": "code",
   "execution_count": 38,
   "metadata": {},
   "outputs": [
    {
     "data": {
      "text/plain": [
       "('133 Wythe AveBrooklyn, NY 11211',\n",
       " 40.719747,\n",
       " -73.959993,\n",
       " 'Moroccan',\n",
       " '$$',\n",
       " '4.5',\n",
       " '1004',\n",
       " '(718) 486-9222',\n",
       " 'Open now',\n",
       " 'cafemogador.com/williamsburg')"
      ]
     },
     "execution_count": 38,
     "metadata": {},
     "output_type": "execute_result"
    }
   ],
   "source": [
    "#test the function on cafe mogador\n",
    "restaurant_url = \"https://www.yelp.com/biz/cafe-mogador-brooklyn?osq=Restaurants\"\n",
    "get_info(restaurant_url)"
   ]
  },
  {
   "cell_type": "code",
   "execution_count": 39,
   "metadata": {},
   "outputs": [],
   "source": [
    "#Get a list of url links of all businesses (or maybe the first 30)\n",
    "#so that we could compile a list of details on, for example, the first 30 search-result restaurants\n",
    "link_list = []\n",
    "\n",
    "for i in range(1,len(businesses)):\n",
    "    business = businesses[i]\n",
    "    link = 'https://www.yelp.com' + business.get('href')\n",
    "    link_list.append(link)"
   ]
  },
  {
   "cell_type": "code",
   "execution_count": 40,
   "metadata": {},
   "outputs": [
    {
     "data": {
      "text/plain": [
       "['https://www.yelp.com/biz/menkoi-sato-new-york-2?osq=Ramen',\n",
       " 'https://www.yelp.com/biz/totto-ramen-new-york-12?osq=Ramen',\n",
       " 'https://www.yelp.com/biz/ramen-hood-new-york?osq=Ramen',\n",
       " 'https://www.yelp.com/biz/teppen-ramen-new-york-2?osq=Ramen',\n",
       " 'https://www.yelp.com/biz/ramen-spot-brooklyn-4?osq=Ramen',\n",
       " 'https://www.yelp.com/biz/ippudo-ny-new-york-7?osq=Ramen',\n",
       " 'https://www.yelp.com/biz/tenichi-ramen-cobble-hill-brooklyn?osq=Ramen',\n",
       " 'https://www.yelp.com/biz/ramen-mafia-brooklyn?osq=Ramen',\n",
       " 'https://www.yelp.com/biz/oki-pok%C3%A9-and-ramen-new-york?osq=Ramen',\n",
       " 'https://www.yelp.com/biz/ippudo-westside-new-york?osq=Ramen',\n",
       " 'https://www.yelp.com/biz/momosan-ramen-and-sake-new-york-2?osq=Ramen',\n",
       " 'https://www.yelp.com/biz/ramen-ya-new-york-5?osq=Ramen',\n",
       " 'https://www.yelp.com/biz/tonchin-new-york-new-york?osq=Ramen',\n",
       " 'https://www.yelp.com/biz/ramen-lab-new-york-2?osq=Ramen',\n",
       " 'https://www.yelp.com/biz/minca-new-york?osq=Ramen',\n",
       " 'https://www.yelp.com/biz/three-bowls-noodle-house-woodside?osq=Ramen',\n",
       " 'https://www.yelp.com/biz/hashi-ramen-and-izakaya-flushing-4?osq=Ramen',\n",
       " 'https://www.yelp.com/biz/chuko-brooklyn-2?osq=Ramen',\n",
       " 'https://www.yelp.com/biz/jun-men-ramen-bar-new-york?osq=Ramen',\n",
       " 'https://www.yelp.com/biz/zundo-ya-new-york?osq=Ramen',\n",
       " 'https://www.yelp.com/biz/mu-ramen-long-island-city-2?osq=Ramen',\n",
       " 'https://www.yelp.com/biz/shinshi-ramen-new-york?osq=Ramen',\n",
       " 'https://www.yelp.com/biz/tamashii-ramen-astoria?osq=Ramen',\n",
       " 'https://www.yelp.com/biz/nishida-sho-ten-new-york-2?osq=Ramen',\n",
       " 'https://www.yelp.com/biz/hinomaru-ramen-astoria-2?osq=Ramen',\n",
       " 'https://www.yelp.com/biz/mei-jin-ramen-new-york?osq=Ramen',\n",
       " 'https://www.yelp.com/biz/kogane-ramen-brooklyn-heights?osq=Ramen',\n",
       " 'https://www.yelp.com/biz/totto-ramen-midtown-east-new-york-2?osq=Ramen',\n",
       " 'https://www.yelp.com/biz/jin-sushi-and-ramen-fresh-meadows?osq=Ramen',\n",
       " 'https://www.yelp.com/biz/shuya-cafe-de-ramen-astoria?osq=Ramen']"
      ]
     },
     "execution_count": 40,
     "metadata": {},
     "output_type": "execute_result"
    }
   ],
   "source": [
    "link_list"
   ]
  },
  {
   "cell_type": "code",
   "execution_count": 41,
   "metadata": {},
   "outputs": [],
   "source": [
    "#Create a list of restaurant names\n",
    "name_list=[]\n",
    "for i in range(1,len(businesses)):\n",
    "    business = businesses[i]\n",
    "    name = business.find('span').get_text()\n",
    "    name_list.append(name)"
   ]
  },
  {
   "cell_type": "code",
   "execution_count": 42,
   "metadata": {},
   "outputs": [
    {
     "data": {
      "text/plain": [
       "['Menkoi Sato',\n",
       " 'Totto Ramen',\n",
       " 'Ramen Hood',\n",
       " 'Teppen Ramen',\n",
       " 'Ramen Spot',\n",
       " 'Ippudo NY',\n",
       " 'Tenichi Ramen Cobble Hill',\n",
       " 'Ramen Mafia',\n",
       " 'Oki Poké & Ramen',\n",
       " 'Ippudo Westside',\n",
       " 'Momosan Ramen & Sake',\n",
       " 'Ramen-Ya',\n",
       " 'TONCHIN NEW YORK',\n",
       " 'Ramen Lab',\n",
       " 'Minca',\n",
       " 'Three Bowls Noodle House',\n",
       " 'Hashi Ramen & Izakaya',\n",
       " 'Chuko',\n",
       " 'Jun-Men Ramen Bar',\n",
       " 'Zundo-Ya',\n",
       " 'Mu Ramen',\n",
       " 'Shinshi Ramen',\n",
       " 'Tamashii Ramen',\n",
       " 'Nishida Sho-ten',\n",
       " 'HinoMaru Ramen',\n",
       " 'Mei Jin Ramen',\n",
       " 'Kogane Ramen',\n",
       " 'Totto Ramen - Midtown East',\n",
       " 'Jin Sushi & Ramen',\n",
       " 'Shuya Cafe de Ramen']"
      ]
     },
     "execution_count": 42,
     "metadata": {},
     "output_type": "execute_result"
    }
   ],
   "source": [
    "name_list"
   ]
  },
  {
   "cell_type": "code",
   "execution_count": 43,
   "metadata": {},
   "outputs": [],
   "source": [
    "#Create a list of all restaurants' information\n",
    "info_list=[]\n",
    "\n",
    "for i in range(len(link_list)):\n",
    "    info_list.append(get_info(link_list[i]))"
   ]
  },
  {
   "cell_type": "code",
   "execution_count": 46,
   "metadata": {},
   "outputs": [
    {
     "data": {
      "text/plain": [
       "[('7 Cornelia StNew York, NY 10014',\n",
       "  40.7316536618558,\n",
       "  -74.0017022376845,\n",
       "  'Ramen',\n",
       "  '$$',\n",
       "  '4.5',\n",
       "  '72',\n",
       "  '(212) 727-1050',\n",
       "  'Open now',\n",
       "  None),\n",
       " ('366 W 52nd StNew York, NY 10019',\n",
       "  40.7643285462369,\n",
       "  -73.9876558773155,\n",
       "  'Ramen',\n",
       "  '$$',\n",
       "  '4.0',\n",
       "  '5001',\n",
       "  '(212) 582-0052',\n",
       "  'Open now',\n",
       "  'tottoramen.com'),\n",
       " (\"62 Spring StChef's Club CounterNew York, NY 10012\",\n",
       "  40.7223112701284,\n",
       "  -73.9973774072879,\n",
       "  'Ramen',\n",
       "  '$$',\n",
       "  '4.5',\n",
       "  '31',\n",
       "  '',\n",
       "  None,\n",
       "  'chefsclubcounter.com'),\n",
       " ('159 E 55th StNew York, NY 10022',\n",
       "  40.7592651,\n",
       "  -73.9688038,\n",
       "  'Ramen',\n",
       "  '$$',\n",
       "  '4.5',\n",
       "  '222',\n",
       "  '(212) 355-2974',\n",
       "  'Open now',\n",
       "  'teppenramen.com'),\n",
       " ('760 Manhattan AveBrooklyn, NY 11222',\n",
       "  40.7268634,\n",
       "  -73.9523341,\n",
       "  'Ramen',\n",
       "  '$$',\n",
       "  '4.5',\n",
       "  '23',\n",
       "  '(718) 809-2527',\n",
       "  'Open now',\n",
       "  None),\n",
       " ('65 4th AveNew York, NY 10003',\n",
       "  40.730948,\n",
       "  -73.990287,\n",
       "  'Ramen',\n",
       "  '$$',\n",
       "  '4.0',\n",
       "  '9559',\n",
       "  '',\n",
       "  'Open now',\n",
       "  'ippudony.com'),\n",
       " ('116 Smith StBrooklyn, NY 11201',\n",
       "  40.6878049,\n",
       "  -73.9899744,\n",
       "  'Ramen',\n",
       "  '$$',\n",
       "  '4.0',\n",
       "  '26',\n",
       "  '(929) 295-0060',\n",
       "  'Open now',\n",
       "  'ten-ichi-ramen-cobble-hill.bu…'),\n",
       " ('208 Franklin StBrooklyn, NY 11222',\n",
       "  40.7326251,\n",
       "  -73.9578179,\n",
       "  'Ramen',\n",
       "  '$$',\n",
       "  '4.5',\n",
       "  '27',\n",
       "  '(347) 599-1212',\n",
       "  'Open now',\n",
       "  None),\n",
       " ('135 E 45th StNew York, NY 10017',\n",
       "  40.7532576637017,\n",
       "  -73.9739739314382,\n",
       "  'Poke',\n",
       "  '$$',\n",
       "  '4.5',\n",
       "  '17',\n",
       "  '(212) 922-1900',\n",
       "  'Open now',\n",
       "  'okipokeramen.com'),\n",
       " ('321 W 51st StNew York, NY 10019',\n",
       "  40.7634897,\n",
       "  -73.9865956,\n",
       "  'Ramen',\n",
       "  '$$',\n",
       "  '4.0',\n",
       "  '3284',\n",
       "  '',\n",
       "  'Open now',\n",
       "  'ippudony.com'),\n",
       " ('342 Lexington AveNew York, NY 10016',\n",
       "  40.7499315,\n",
       "  -73.9774703,\n",
       "  'Ramen',\n",
       "  '$$',\n",
       "  '4.0',\n",
       "  '1328',\n",
       "  '(646) 201-5529',\n",
       "  'Open now',\n",
       "  'momosanramen.com'),\n",
       " ('181 W 4th StNew York, NY 10014',\n",
       "  40.732536,\n",
       "  -74.001681,\n",
       "  'Ramen',\n",
       "  '$$',\n",
       "  '4.0',\n",
       "  '869',\n",
       "  '(212) 989-5440',\n",
       "  'Open now',\n",
       "  'ramenya.nyc'),\n",
       " ('13 W 36th StNew York, NY 10018',\n",
       "  40.7502727,\n",
       "  -73.9844951,\n",
       "  'Ramen',\n",
       "  '$$',\n",
       "  '4.5',\n",
       "  '497',\n",
       "  '(646) 692-9912',\n",
       "  'Open now',\n",
       "  'tonchinnewyork.com'),\n",
       " ('70 Kenmare StNew York, NY 10012',\n",
       "  40.7209918,\n",
       "  -73.9963582,\n",
       "  'Ramen',\n",
       "  '$$',\n",
       "  '4.0',\n",
       "  '291',\n",
       "  '(646) 613-7522',\n",
       "  None,\n",
       "  'ramen-lab.com'),\n",
       " ('536 E 5th StNew York, NY 10009',\n",
       "  40.723998,\n",
       "  -73.982949,\n",
       "  'Ramen',\n",
       "  '$$',\n",
       "  '4.0',\n",
       "  '1580',\n",
       "  '(212) 505-8001',\n",
       "  'Open now',\n",
       "  'newyorkramen.com/minca'),\n",
       " ('63-28 Roosevelt AveWoodside, NY 11377',\n",
       "  40.7457838,\n",
       "  -73.9003601,\n",
       "  'Noodles',\n",
       "  '$$',\n",
       "  '4.0',\n",
       "  '29',\n",
       "  '(718) 406-9907',\n",
       "  'Open now',\n",
       "  None),\n",
       " ('192-12 Northern BlvdFlushing, NY 11358',\n",
       "  40.7578101754189,\n",
       "  -73.7891612201929,\n",
       "  'Ramen',\n",
       "  '$$',\n",
       "  '4.0',\n",
       "  '1004',\n",
       "  '(718) 224-2961',\n",
       "  'Open now',\n",
       "  None),\n",
       " ('565 Vanderbilt AveBrooklyn, NY 11238',\n",
       "  40.680784,\n",
       "  -73.967455,\n",
       "  'Asian Fusion',\n",
       "  '$$',\n",
       "  '4.0',\n",
       "  '994',\n",
       "  '(347) 425-9570',\n",
       "  'Open now',\n",
       "  'chukobk.com'),\n",
       " ('249 9th AveNew York, NY 10001',\n",
       "  40.748209,\n",
       "  -74.00047,\n",
       "  'Ramen',\n",
       "  '$$',\n",
       "  '4.0',\n",
       "  '528',\n",
       "  '(646) 852-6787',\n",
       "  'Open now',\n",
       "  'junmenramen.com'),\n",
       " ('84 E 10th StNew York, NY 10003',\n",
       "  40.7308664,\n",
       "  -73.989951,\n",
       "  'Ramen',\n",
       "  '$$',\n",
       "  '4.0',\n",
       "  '650',\n",
       "  '(917) 639-3549',\n",
       "  'Open now',\n",
       "  'zundo-ya.com'),\n",
       " ('12-09 Jackson AveLong Island City, NY 11101',\n",
       "  40.743797,\n",
       "  -73.950631,\n",
       "  'Ramen',\n",
       "  '$$',\n",
       "  '4.0',\n",
       "  '1029',\n",
       "  '(718) 707-0098',\n",
       "  None,\n",
       "  'muramennyc.com'),\n",
       " ('235 E 53rd StNew York, NY 10022',\n",
       "  40.7572969,\n",
       "  -73.9679199,\n",
       "  'Ramen',\n",
       "  '$$',\n",
       "  '4.5',\n",
       "  '130',\n",
       "  '(646) 669-7812',\n",
       "  'Open now',\n",
       "  'Shinshiramenny.com'),\n",
       " ('2905 BroadwayAstoria, NY 11106',\n",
       "  40.7628026,\n",
       "  -73.926578,\n",
       "  'Ramen',\n",
       "  '$$',\n",
       "  '4.0',\n",
       "  '625',\n",
       "  '(718) 278-5888',\n",
       "  'Open now',\n",
       "  'tamashiiny.com'),\n",
       " ('302 E 49th StNew York, NY 10017',\n",
       "  40.753969,\n",
       "  -73.968722,\n",
       "  'Ramen',\n",
       "  '$$',\n",
       "  '4.0',\n",
       "  '657',\n",
       "  '(212) 308-0791',\n",
       "  'Open now',\n",
       "  'nishidasho-ten.com'),\n",
       " ('33-18 Ditmars BlvdAstoria, NY 11105',\n",
       "  40.774889916651,\n",
       "  -73.9092001318932,\n",
       "  'Ramen',\n",
       "  '$$',\n",
       "  '4.0',\n",
       "  '766',\n",
       "  '(718) 777-0228',\n",
       "  'Open now',\n",
       "  'hinomaruramen.com'),\n",
       " ('1574 2nd AveNew York, NY 10028',\n",
       "  40.7750381,\n",
       "  -73.9535392,\n",
       "  'Ramen',\n",
       "  '$$',\n",
       "  '4.0',\n",
       "  '561',\n",
       "  '(212) 327-2800',\n",
       "  'Open now',\n",
       "  None),\n",
       " ('76 Henry StBrooklyn Heights, NY 11201',\n",
       "  40.6986157,\n",
       "  -73.9927212,\n",
       "  'Ramen',\n",
       "  '$$',\n",
       "  '4.0',\n",
       "  '267',\n",
       "  '(718) 875-2828',\n",
       "  'Open now',\n",
       "  'koganeramen.com'),\n",
       " ('248 E 52nd StNew York, NY 10022',\n",
       "  40.7562184833974,\n",
       "  -73.9679722894107,\n",
       "  'Ramen',\n",
       "  '$$',\n",
       "  '4.0',\n",
       "  '952',\n",
       "  '(212) 421-0052',\n",
       "  'Open now',\n",
       "  'tottoramen.com'),\n",
       " ('181-24 Union TurnpikeFresh Meadows, NY 11366',\n",
       "  40.7273001,\n",
       "  -73.786513,\n",
       "  'Sushi Bars',\n",
       "  '$$',\n",
       "  '4.0',\n",
       "  '26',\n",
       "  '(718) 820-8895',\n",
       "  'Open now',\n",
       "  None),\n",
       " ('42-13 BroadwayAstoria, NY 11103',\n",
       "  40.758007205736,\n",
       "  -73.9167939666258,\n",
       "  'Ramen',\n",
       "  '$$',\n",
       "  '4.5',\n",
       "  '203',\n",
       "  '(718) 777-0430',\n",
       "  'Open now',\n",
       "  None)]"
      ]
     },
     "execution_count": 46,
     "metadata": {},
     "output_type": "execute_result"
    }
   ],
   "source": [
    "info_list"
   ]
  },
  {
   "cell_type": "code",
   "execution_count": 44,
   "metadata": {},
   "outputs": [],
   "source": [
    "#Create a dictionary showing the information of each restaurant\n",
    "business_info={}\n",
    "\n",
    "for i in range(len(name_list)):\n",
    "    business_info[name_list[i]] = info_list[i]        "
   ]
  },
  {
   "cell_type": "code",
   "execution_count": 45,
   "metadata": {},
   "outputs": [
    {
     "data": {
      "text/plain": [
       "{'Menkoi Sato': ('7 Cornelia StNew York, NY 10014',\n",
       "  40.7316536618558,\n",
       "  -74.0017022376845,\n",
       "  'Ramen',\n",
       "  '$$',\n",
       "  '4.5',\n",
       "  '72',\n",
       "  '(212) 727-1050',\n",
       "  'Open now',\n",
       "  None),\n",
       " 'Totto Ramen': ('366 W 52nd StNew York, NY 10019',\n",
       "  40.7643285462369,\n",
       "  -73.9876558773155,\n",
       "  'Ramen',\n",
       "  '$$',\n",
       "  '4.0',\n",
       "  '5001',\n",
       "  '(212) 582-0052',\n",
       "  'Open now',\n",
       "  'tottoramen.com'),\n",
       " 'Ramen Hood': (\"62 Spring StChef's Club CounterNew York, NY 10012\",\n",
       "  40.7223112701284,\n",
       "  -73.9973774072879,\n",
       "  'Ramen',\n",
       "  '$$',\n",
       "  '4.5',\n",
       "  '31',\n",
       "  '',\n",
       "  None,\n",
       "  'chefsclubcounter.com'),\n",
       " 'Teppen Ramen': ('159 E 55th StNew York, NY 10022',\n",
       "  40.7592651,\n",
       "  -73.9688038,\n",
       "  'Ramen',\n",
       "  '$$',\n",
       "  '4.5',\n",
       "  '222',\n",
       "  '(212) 355-2974',\n",
       "  'Open now',\n",
       "  'teppenramen.com'),\n",
       " 'Ramen Spot': ('760 Manhattan AveBrooklyn, NY 11222',\n",
       "  40.7268634,\n",
       "  -73.9523341,\n",
       "  'Ramen',\n",
       "  '$$',\n",
       "  '4.5',\n",
       "  '23',\n",
       "  '(718) 809-2527',\n",
       "  'Open now',\n",
       "  None),\n",
       " 'Ippudo NY': ('65 4th AveNew York, NY 10003',\n",
       "  40.730948,\n",
       "  -73.990287,\n",
       "  'Ramen',\n",
       "  '$$',\n",
       "  '4.0',\n",
       "  '9559',\n",
       "  '',\n",
       "  'Open now',\n",
       "  'ippudony.com'),\n",
       " 'Tenichi Ramen Cobble Hill': ('116 Smith StBrooklyn, NY 11201',\n",
       "  40.6878049,\n",
       "  -73.9899744,\n",
       "  'Ramen',\n",
       "  '$$',\n",
       "  '4.0',\n",
       "  '26',\n",
       "  '(929) 295-0060',\n",
       "  'Open now',\n",
       "  'ten-ichi-ramen-cobble-hill.bu…'),\n",
       " 'Ramen Mafia': ('208 Franklin StBrooklyn, NY 11222',\n",
       "  40.7326251,\n",
       "  -73.9578179,\n",
       "  'Ramen',\n",
       "  '$$',\n",
       "  '4.5',\n",
       "  '27',\n",
       "  '(347) 599-1212',\n",
       "  'Open now',\n",
       "  None),\n",
       " 'Oki Poké & Ramen': ('135 E 45th StNew York, NY 10017',\n",
       "  40.7532576637017,\n",
       "  -73.9739739314382,\n",
       "  'Poke',\n",
       "  '$$',\n",
       "  '4.5',\n",
       "  '17',\n",
       "  '(212) 922-1900',\n",
       "  'Open now',\n",
       "  'okipokeramen.com'),\n",
       " 'Ippudo Westside': ('321 W 51st StNew York, NY 10019',\n",
       "  40.7634897,\n",
       "  -73.9865956,\n",
       "  'Ramen',\n",
       "  '$$',\n",
       "  '4.0',\n",
       "  '3284',\n",
       "  '',\n",
       "  'Open now',\n",
       "  'ippudony.com'),\n",
       " 'Momosan Ramen & Sake': ('342 Lexington AveNew York, NY 10016',\n",
       "  40.7499315,\n",
       "  -73.9774703,\n",
       "  'Ramen',\n",
       "  '$$',\n",
       "  '4.0',\n",
       "  '1328',\n",
       "  '(646) 201-5529',\n",
       "  'Open now',\n",
       "  'momosanramen.com'),\n",
       " 'Ramen-Ya': ('181 W 4th StNew York, NY 10014',\n",
       "  40.732536,\n",
       "  -74.001681,\n",
       "  'Ramen',\n",
       "  '$$',\n",
       "  '4.0',\n",
       "  '869',\n",
       "  '(212) 989-5440',\n",
       "  'Open now',\n",
       "  'ramenya.nyc'),\n",
       " 'TONCHIN NEW YORK': ('13 W 36th StNew York, NY 10018',\n",
       "  40.7502727,\n",
       "  -73.9844951,\n",
       "  'Ramen',\n",
       "  '$$',\n",
       "  '4.5',\n",
       "  '497',\n",
       "  '(646) 692-9912',\n",
       "  'Open now',\n",
       "  'tonchinnewyork.com'),\n",
       " 'Ramen Lab': ('70 Kenmare StNew York, NY 10012',\n",
       "  40.7209918,\n",
       "  -73.9963582,\n",
       "  'Ramen',\n",
       "  '$$',\n",
       "  '4.0',\n",
       "  '291',\n",
       "  '(646) 613-7522',\n",
       "  None,\n",
       "  'ramen-lab.com'),\n",
       " 'Minca': ('536 E 5th StNew York, NY 10009',\n",
       "  40.723998,\n",
       "  -73.982949,\n",
       "  'Ramen',\n",
       "  '$$',\n",
       "  '4.0',\n",
       "  '1580',\n",
       "  '(212) 505-8001',\n",
       "  'Open now',\n",
       "  'newyorkramen.com/minca'),\n",
       " 'Three Bowls Noodle House': ('63-28 Roosevelt AveWoodside, NY 11377',\n",
       "  40.7457838,\n",
       "  -73.9003601,\n",
       "  'Noodles',\n",
       "  '$$',\n",
       "  '4.0',\n",
       "  '29',\n",
       "  '(718) 406-9907',\n",
       "  'Open now',\n",
       "  None),\n",
       " 'Hashi Ramen & Izakaya': ('192-12 Northern BlvdFlushing, NY 11358',\n",
       "  40.7578101754189,\n",
       "  -73.7891612201929,\n",
       "  'Ramen',\n",
       "  '$$',\n",
       "  '4.0',\n",
       "  '1004',\n",
       "  '(718) 224-2961',\n",
       "  'Open now',\n",
       "  None),\n",
       " 'Chuko': ('565 Vanderbilt AveBrooklyn, NY 11238',\n",
       "  40.680784,\n",
       "  -73.967455,\n",
       "  'Asian Fusion',\n",
       "  '$$',\n",
       "  '4.0',\n",
       "  '994',\n",
       "  '(347) 425-9570',\n",
       "  'Open now',\n",
       "  'chukobk.com'),\n",
       " 'Jun-Men Ramen Bar': ('249 9th AveNew York, NY 10001',\n",
       "  40.748209,\n",
       "  -74.00047,\n",
       "  'Ramen',\n",
       "  '$$',\n",
       "  '4.0',\n",
       "  '528',\n",
       "  '(646) 852-6787',\n",
       "  'Open now',\n",
       "  'junmenramen.com'),\n",
       " 'Zundo-Ya': ('84 E 10th StNew York, NY 10003',\n",
       "  40.7308664,\n",
       "  -73.989951,\n",
       "  'Ramen',\n",
       "  '$$',\n",
       "  '4.0',\n",
       "  '650',\n",
       "  '(917) 639-3549',\n",
       "  'Open now',\n",
       "  'zundo-ya.com'),\n",
       " 'Mu Ramen': ('12-09 Jackson AveLong Island City, NY 11101',\n",
       "  40.743797,\n",
       "  -73.950631,\n",
       "  'Ramen',\n",
       "  '$$',\n",
       "  '4.0',\n",
       "  '1029',\n",
       "  '(718) 707-0098',\n",
       "  None,\n",
       "  'muramennyc.com'),\n",
       " 'Shinshi Ramen': ('235 E 53rd StNew York, NY 10022',\n",
       "  40.7572969,\n",
       "  -73.9679199,\n",
       "  'Ramen',\n",
       "  '$$',\n",
       "  '4.5',\n",
       "  '130',\n",
       "  '(646) 669-7812',\n",
       "  'Open now',\n",
       "  'Shinshiramenny.com'),\n",
       " 'Tamashii Ramen': ('2905 BroadwayAstoria, NY 11106',\n",
       "  40.7628026,\n",
       "  -73.926578,\n",
       "  'Ramen',\n",
       "  '$$',\n",
       "  '4.0',\n",
       "  '625',\n",
       "  '(718) 278-5888',\n",
       "  'Open now',\n",
       "  'tamashiiny.com'),\n",
       " 'Nishida Sho-ten': ('302 E 49th StNew York, NY 10017',\n",
       "  40.753969,\n",
       "  -73.968722,\n",
       "  'Ramen',\n",
       "  '$$',\n",
       "  '4.0',\n",
       "  '657',\n",
       "  '(212) 308-0791',\n",
       "  'Open now',\n",
       "  'nishidasho-ten.com'),\n",
       " 'HinoMaru Ramen': ('33-18 Ditmars BlvdAstoria, NY 11105',\n",
       "  40.774889916651,\n",
       "  -73.9092001318932,\n",
       "  'Ramen',\n",
       "  '$$',\n",
       "  '4.0',\n",
       "  '766',\n",
       "  '(718) 777-0228',\n",
       "  'Open now',\n",
       "  'hinomaruramen.com'),\n",
       " 'Mei Jin Ramen': ('1574 2nd AveNew York, NY 10028',\n",
       "  40.7750381,\n",
       "  -73.9535392,\n",
       "  'Ramen',\n",
       "  '$$',\n",
       "  '4.0',\n",
       "  '561',\n",
       "  '(212) 327-2800',\n",
       "  'Open now',\n",
       "  None),\n",
       " 'Kogane Ramen': ('76 Henry StBrooklyn Heights, NY 11201',\n",
       "  40.6986157,\n",
       "  -73.9927212,\n",
       "  'Ramen',\n",
       "  '$$',\n",
       "  '4.0',\n",
       "  '267',\n",
       "  '(718) 875-2828',\n",
       "  'Open now',\n",
       "  'koganeramen.com'),\n",
       " 'Totto Ramen - Midtown East': ('248 E 52nd StNew York, NY 10022',\n",
       "  40.7562184833974,\n",
       "  -73.9679722894107,\n",
       "  'Ramen',\n",
       "  '$$',\n",
       "  '4.0',\n",
       "  '952',\n",
       "  '(212) 421-0052',\n",
       "  'Open now',\n",
       "  'tottoramen.com'),\n",
       " 'Jin Sushi & Ramen': ('181-24 Union TurnpikeFresh Meadows, NY 11366',\n",
       "  40.7273001,\n",
       "  -73.786513,\n",
       "  'Sushi Bars',\n",
       "  '$$',\n",
       "  '4.0',\n",
       "  '26',\n",
       "  '(718) 820-8895',\n",
       "  'Open now',\n",
       "  None),\n",
       " 'Shuya Cafe de Ramen': ('42-13 BroadwayAstoria, NY 11103',\n",
       "  40.758007205736,\n",
       "  -73.9167939666258,\n",
       "  'Ramen',\n",
       "  '$$',\n",
       "  '4.5',\n",
       "  '203',\n",
       "  '(718) 777-0430',\n",
       "  'Open now',\n",
       "  None)}"
      ]
     },
     "execution_count": 45,
     "metadata": {},
     "output_type": "execute_result"
    }
   ],
   "source": [
    "business_info"
   ]
  },
  {
   "cell_type": "code",
   "execution_count": 64,
   "metadata": {},
   "outputs": [],
   "source": [
    "def get_businesses(limit = 200):\n",
    "    \n",
    "    keyword = input('What do you want to eat ? ')\n",
    "    address = input('Where are you ? ')\n",
    "        \n",
    "    \n",
    "    url = 'https://www.yelp.com/search?find_desc='+ keyword + '&find_loc=' + address \n",
    "    print(url)\n",
    "    response = requests.get(url)\n",
    "    results_page = BeautifulSoup(response.content,'lxml')\n",
    "    businesses = results_page.find_all('a',class_ = \"biz-name js-analytics-click\")\n",
    "    i = 0\n",
    "    for business in businesses:\n",
    "        name = business.find('span').get_text()\n",
    "        link = 'https://www.yelp.com' + business.get('href')\n",
    "        info_list2 = get_info(link)\n",
    "        i += 1\n"
   ]
  },
  {
   "cell_type": "code",
   "execution_count": 65,
   "metadata": {},
   "outputs": [
    {
     "name": "stdout",
     "output_type": "stream",
     "text": [
      "What do you want to eat ? burger\n",
      "Where are you ? boston\n",
      "https://www.yelp.com/search?find_desc=burger&find_loc=boston\n"
     ]
    },
    {
     "ename": "AttributeError",
     "evalue": "'NoneType' object has no attribute 'get'",
     "output_type": "error",
     "traceback": [
      "\u001b[0;31m---------------------------------------------------------------------------\u001b[0m",
      "\u001b[0;31mAttributeError\u001b[0m                            Traceback (most recent call last)",
      "\u001b[0;32m<ipython-input-65-00d212a7b293>\u001b[0m in \u001b[0;36m<module>\u001b[0;34m()\u001b[0m\n\u001b[0;32m----> 1\u001b[0;31m \u001b[0mget_businesses\u001b[0m\u001b[0;34m(\u001b[0m\u001b[0;34m)\u001b[0m\u001b[0;34m\u001b[0m\u001b[0m\n\u001b[0m",
      "\u001b[0;32m<ipython-input-64-bb2021ce0736>\u001b[0m in \u001b[0;36mget_businesses\u001b[0;34m(limit)\u001b[0m\n\u001b[1;32m     14\u001b[0m         \u001b[0mname\u001b[0m \u001b[0;34m=\u001b[0m \u001b[0mbusiness\u001b[0m\u001b[0;34m.\u001b[0m\u001b[0mfind\u001b[0m\u001b[0;34m(\u001b[0m\u001b[0;34m'span'\u001b[0m\u001b[0;34m)\u001b[0m\u001b[0;34m.\u001b[0m\u001b[0mget_text\u001b[0m\u001b[0;34m(\u001b[0m\u001b[0;34m)\u001b[0m\u001b[0;34m\u001b[0m\u001b[0m\n\u001b[1;32m     15\u001b[0m         \u001b[0mlink\u001b[0m \u001b[0;34m=\u001b[0m \u001b[0;34m'https://www.yelp.com'\u001b[0m \u001b[0;34m+\u001b[0m \u001b[0mbusiness\u001b[0m\u001b[0;34m.\u001b[0m\u001b[0mget\u001b[0m\u001b[0;34m(\u001b[0m\u001b[0;34m'href'\u001b[0m\u001b[0;34m)\u001b[0m\u001b[0;34m\u001b[0m\u001b[0m\n\u001b[0;32m---> 16\u001b[0;31m         \u001b[0minfo_list2\u001b[0m \u001b[0;34m=\u001b[0m \u001b[0mget_info\u001b[0m\u001b[0;34m(\u001b[0m\u001b[0mlink\u001b[0m\u001b[0;34m)\u001b[0m\u001b[0;34m\u001b[0m\u001b[0m\n\u001b[0m\u001b[1;32m     17\u001b[0m         \u001b[0mi\u001b[0m \u001b[0;34m+=\u001b[0m \u001b[0;36m1\u001b[0m\u001b[0;34m\u001b[0m\u001b[0m\n",
      "\u001b[0;32m<ipython-input-37-c725bc5a1576>\u001b[0m in \u001b[0;36mget_info\u001b[0;34m(link)\u001b[0m\n\u001b[1;32m     11\u001b[0m         \u001b[0maddr\u001b[0m \u001b[0;34m=\u001b[0m \u001b[0;32mNone\u001b[0m\u001b[0;34m\u001b[0m\u001b[0m\n\u001b[1;32m     12\u001b[0m \u001b[0;34m\u001b[0m\u001b[0m\n\u001b[0;32m---> 13\u001b[0;31m     \u001b[0mjson_map\u001b[0m \u001b[0;34m=\u001b[0m \u001b[0mresults_business_page\u001b[0m\u001b[0;34m.\u001b[0m\u001b[0mfind\u001b[0m\u001b[0;34m(\u001b[0m\u001b[0;34m'div'\u001b[0m\u001b[0;34m,\u001b[0m \u001b[0mclass_\u001b[0m \u001b[0;34m=\u001b[0m \u001b[0;34m\"lightbox-map hidden\"\u001b[0m\u001b[0;34m)\u001b[0m\u001b[0;34m.\u001b[0m\u001b[0mget\u001b[0m\u001b[0;34m(\u001b[0m\u001b[0;34m'data-map-state'\u001b[0m\u001b[0;34m)\u001b[0m\u001b[0;34m\u001b[0m\u001b[0m\n\u001b[0m\u001b[1;32m     14\u001b[0m     \u001b[0mdict_map\u001b[0m \u001b[0;34m=\u001b[0m \u001b[0mjson\u001b[0m\u001b[0;34m.\u001b[0m\u001b[0mloads\u001b[0m\u001b[0;34m(\u001b[0m\u001b[0mjson_map\u001b[0m\u001b[0;34m)\u001b[0m\u001b[0;34m\u001b[0m\u001b[0m\n\u001b[1;32m     15\u001b[0m     \u001b[0mlatitude\u001b[0m \u001b[0;34m=\u001b[0m \u001b[0mdict_map\u001b[0m\u001b[0;34m[\u001b[0m\u001b[0;34m\"markers\"\u001b[0m\u001b[0;34m]\u001b[0m\u001b[0;34m[\u001b[0m\u001b[0;36m1\u001b[0m\u001b[0;34m]\u001b[0m\u001b[0;34m[\u001b[0m\u001b[0;34m\"location\"\u001b[0m\u001b[0;34m]\u001b[0m\u001b[0;34m[\u001b[0m\u001b[0;34m\"latitude\"\u001b[0m\u001b[0;34m]\u001b[0m\u001b[0;34m\u001b[0m\u001b[0m\n",
      "\u001b[0;31mAttributeError\u001b[0m: 'NoneType' object has no attribute 'get'"
     ]
    }
   ],
   "source": [
    "get_businesses()"
   ]
  },
  {
   "cell_type": "code",
   "execution_count": null,
   "metadata": {},
   "outputs": [],
   "source": []
  }
 ],
 "metadata": {
  "kernelspec": {
   "display_name": "Python 3",
   "language": "python",
   "name": "python3"
  },
  "language_info": {
   "codemirror_mode": {
    "name": "ipython",
    "version": 3
   },
   "file_extension": ".py",
   "mimetype": "text/x-python",
   "name": "python",
   "nbconvert_exporter": "python",
   "pygments_lexer": "ipython3",
   "version": "3.6.5"
  }
 },
 "nbformat": 4,
 "nbformat_minor": 2
}
