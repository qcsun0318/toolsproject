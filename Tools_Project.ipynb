{
 "cells": [
  {
   "cell_type": "code",
   "execution_count": null,
   "metadata": {},
   "outputs": [],
   "source": [
    "#This is the notebook for tools_project"
   ]
  },
  {
   "cell_type": "code",
   "execution_count": 1,
   "metadata": {},
   "outputs": [],
   "source": [
    "# scraping libraries to read html code\n",
    "import requests\n",
    "from bs4 import BeautifulSoup\n",
    "import json"
   ]
  },
  {
   "cell_type": "code",
   "execution_count": 2,
   "metadata": {},
   "outputs": [],
   "source": [
    "# pandas library to create dataframe\n",
    "import pandas as pd\n",
    "import numpy as np"
   ]
  },
  {
   "cell_type": "code",
   "execution_count": 69,
   "metadata": {},
   "outputs": [
    {
     "name": "stdout",
     "output_type": "stream",
     "text": [
      "What do you want to eat ? ramen\n",
      "Where are you ? new york\n"
     ]
    },
    {
     "data": {
      "text/plain": [
       "'https://www.yelp.com/search?find_desc=ramen&find_loc=new york'"
      ]
     },
     "execution_count": 69,
     "metadata": {},
     "output_type": "execute_result"
    }
   ],
   "source": [
    "# Direct to initial results\n",
    "url = 'https://www.yelp.com/search?find_desc='\n",
    "keyword = input('What do you want to eat ? ')\n",
    "address = input('Where are you ? ')\n",
    "\n",
    "url = 'https://www.yelp.com/search?find_desc='+ keyword + '&find_loc=' + address \n",
    "url"
   ]
  },
  {
   "cell_type": "code",
   "execution_count": 70,
   "metadata": {},
   "outputs": [
    {
     "data": {
      "text/plain": [
       "200"
      ]
     },
     "execution_count": 70,
     "metadata": {},
     "output_type": "execute_result"
    }
   ],
   "source": [
    "# Checking if the url is \"valid\", the status code should be 200\n",
    "response = requests.get(url)\n",
    "response.status_code"
   ]
  },
  {
   "cell_type": "code",
   "execution_count": 71,
   "metadata": {},
   "outputs": [],
   "source": [
    "# extract the html code from the web page = https://www.yelp.com/search?find_desc=Restaurants&find_loc=New+York,+NY&start=30\n",
    "results_page = BeautifulSoup(response.content,'lxml')"
   ]
  },
  {
   "cell_type": "code",
   "execution_count": 72,
   "metadata": {},
   "outputs": [],
   "source": [
    "# creating a list of businesses with the html code of the business as elements of the list\n",
    "businesses = results_page.find_all('a',class_ = \"biz-name js-analytics-click\")"
   ]
  },
  {
   "cell_type": "code",
   "execution_count": 73,
   "metadata": {},
   "outputs": [
    {
     "data": {
      "text/plain": [
       "[<a class=\"biz-name js-analytics-click\" data-analytics-label=\"biz-name\" data-hovercard-id=\"_ZA2zJZ51LoxIKbwDKQEJw\" href=\"/adredir?ad_business_id=OLY3Ppf7PHFeT0j_O6ptVg&amp;campaign_id=-PWZfTF3CdSDnl6rI5g44A&amp;click_origin=search_results&amp;placement=above_search&amp;redirect_url=https%3A%2F%2Fwww.yelp.com%2Fbiz%2Fzen-6-new-york&amp;request_id=f23301c110c0f051&amp;signature=dc80f1987b57ac450d2589d4cd303838bcc0e948a2cd6381ac21403c516a5271&amp;slot=0\"><span>Zen 6</span></a>,\n",
       " <a class=\"biz-name js-analytics-click\" data-analytics-label=\"biz-name\" data-hovercard-id=\"xJJUNXIR1JECvREs7j-Mzg\" href=\"/biz/ramen-hood-new-york?osq=ramen\"><span>Ramen Hood</span></a>,\n",
       " <a class=\"biz-name js-analytics-click\" data-analytics-label=\"biz-name\" data-hovercard-id=\"dzIqS1W6xuk3BBO60GiRMg\" href=\"/biz/ippudo-ny-new-york-7?osq=ramen\"><span>Ippudo NY</span></a>,\n",
       " <a class=\"biz-name js-analytics-click\" data-analytics-label=\"biz-name\" data-hovercard-id=\"WXGLNKrunAEuV0QVBYwiKQ\" href=\"/biz/totto-ramen-new-york-12?osq=ramen\"><span>Totto Ramen</span></a>,\n",
       " <a class=\"biz-name js-analytics-click\" data-analytics-label=\"biz-name\" data-hovercard-id=\"V7ok0aCVdpvzBbqh-U-PUw\" href=\"/biz/oki-pok%C3%A9-and-ramen-new-york?osq=ramen\"><span>Oki Poké &amp; Ramen</span></a>,\n",
       " <a class=\"biz-name js-analytics-click\" data-analytics-label=\"biz-name\" data-hovercard-id=\"oyXabgScXfAcX5TnyRJHpw\" href=\"/biz/menkoi-sato-new-york-2?osq=ramen\"><span>Menkoi Sato</span></a>,\n",
       " <a class=\"biz-name js-analytics-click\" data-analytics-label=\"biz-name\" data-hovercard-id=\"IvrqVf9bvFOXQsdOgq-47Q\" href=\"/biz/teppen-ramen-new-york-2?osq=ramen\"><span>Teppen Ramen</span></a>,\n",
       " <a class=\"biz-name js-analytics-click\" data-analytics-label=\"biz-name\" data-hovercard-id=\"cFz_fyU62eHCIq-RA2jyNA\" href=\"/biz/tonchin-new-york-new-york?osq=ramen\"><span>TONCHIN NEW YORK</span></a>,\n",
       " <a class=\"biz-name js-analytics-click\" data-analytics-label=\"biz-name\" data-hovercard-id=\"4AVuFmmOwyg2p_ynbIWZjA\" href=\"/biz/ippudo-westside-new-york?osq=ramen\"><span>Ippudo Westside</span></a>,\n",
       " <a class=\"biz-name js-analytics-click\" data-analytics-label=\"biz-name\" data-hovercard-id=\"du7niIb4gNy08ZHeNpiEMA\" href=\"/biz/minca-new-york?osq=ramen\"><span>Minca</span></a>,\n",
       " <a class=\"biz-name js-analytics-click\" data-analytics-label=\"biz-name\" data-hovercard-id=\"EXXvSgi6HcM2vzE-iJFsWA\" href=\"/biz/ramen-mafia-brooklyn?osq=ramen\"><span>Ramen Mafia</span></a>,\n",
       " <a class=\"biz-name js-analytics-click\" data-analytics-label=\"biz-name\" data-hovercard-id=\"LhmeIEcRH5-ADC4hDDAVyg\" href=\"/biz/ramen-ya-new-york-5?osq=ramen\"><span>Ramen-Ya</span></a>,\n",
       " <a class=\"biz-name js-analytics-click\" data-analytics-label=\"biz-name\" data-hovercard-id=\"sw4Nv1WvQFEoJkofvruTjQ\" href=\"/biz/ramen-spot-brooklyn-4?osq=ramen\"><span>Ramen Spot</span></a>,\n",
       " <a class=\"biz-name js-analytics-click\" data-analytics-label=\"biz-name\" data-hovercard-id=\"du04B4tj_Rl82zgXiY9R-g\" href=\"/biz/momosan-ramen-and-sake-new-york-2?osq=ramen\"><span>Momosan Ramen &amp; Sake</span></a>,\n",
       " <a class=\"biz-name js-analytics-click\" data-analytics-label=\"biz-name\" data-hovercard-id=\"GQonpdMoL7U_84gjh4cGXQ\" href=\"/biz/shinka-ramen-and-sake-bar-new-york-3?osq=ramen\"><span>Shinka Ramen &amp; Sake Bar</span></a>,\n",
       " <a class=\"biz-name js-analytics-click\" data-analytics-label=\"biz-name\" data-hovercard-id=\"6-5UDYDPmaVjgVdt-YqNbw\" href=\"/biz/ramen-lab-new-york-2?osq=ramen\"><span>Ramen Lab</span></a>,\n",
       " <a class=\"biz-name js-analytics-click\" data-analytics-label=\"biz-name\" data-hovercard-id=\"sbMctynPu2qYiZrOC_aKjA\" href=\"/biz/jin-ramen-new-york-3?osq=ramen\"><span>Jin Ramen</span></a>,\n",
       " <a class=\"biz-name js-analytics-click\" data-analytics-label=\"biz-name\" data-hovercard-id=\"9zjBn4cFHwymREAl4KXLvg\" href=\"/biz/tenichi-ramen-cobble-hill-brooklyn?osq=ramen\"><span>Tenichi Ramen Cobble Hill</span></a>,\n",
       " <a class=\"biz-name js-analytics-click\" data-analytics-label=\"biz-name\" data-hovercard-id=\"Uaug7aFw42bqNJwTinnQeQ\" href=\"/biz/zundo-ya-new-york?osq=ramen\"><span>Zundo-Ya</span></a>,\n",
       " <a class=\"biz-name js-analytics-click\" data-analytics-label=\"biz-name\" data-hovercard-id=\"GbXXPMVgfZlBGY8-BJW-DA\" href=\"/biz/ramen-ishida-new-york?osq=ramen\"><span>Ramen Ishida</span></a>,\n",
       " <a class=\"biz-name js-analytics-click\" data-analytics-label=\"biz-name\" data-hovercard-id=\"jOMI9gXNLJuvccmtQMucpA\" href=\"/biz/ichiba-ramen-new-york-2?osq=ramen\"><span>Ichiba Ramen</span></a>,\n",
       " <a class=\"biz-name js-analytics-click\" data-analytics-label=\"biz-name\" data-hovercard-id=\"Ot1xBXJAuAXirJcNUCWojA\" href=\"/biz/menya-jiro-brooklyn-brooklyn-2?osq=ramen\"><span>Menya Jiro- Brooklyn</span></a>,\n",
       " <a class=\"biz-name js-analytics-click\" data-analytics-label=\"biz-name\" data-hovercard-id=\"1AiIr8MlMFKht5EmdEqlzA\" href=\"/biz/nishida-sho-ten-new-york-2?osq=ramen\"><span>Nishida Sho-ten</span></a>,\n",
       " <a class=\"biz-name js-analytics-click\" data-analytics-label=\"biz-name\" data-hovercard-id=\"peEeBvGnfrn3AiGYgNPerQ\" href=\"/biz/ichiran-brooklyn-brooklyn?osq=ramen\"><span>ICHIRAN - Brooklyn</span></a>,\n",
       " <a class=\"biz-name js-analytics-click\" data-analytics-label=\"biz-name\" data-hovercard-id=\"iu6E12Z7W7qd9HvQ1nEPgA\" href=\"/biz/zest-ramen-new-york-8?osq=ramen\"><span>Zest Ramen</span></a>,\n",
       " <a class=\"biz-name js-analytics-click\" data-analytics-label=\"biz-name\" data-hovercard-id=\"zrrlwFXlfnc-b-VsxLGxRw\" href=\"/biz/tamashii-ramen-astoria?osq=ramen\"><span>Tamashii Ramen</span></a>,\n",
       " <a class=\"biz-name js-analytics-click\" data-analytics-label=\"biz-name\" data-hovercard-id=\"nUQXUKH7NF2eGUUSP9AP6w\" href=\"/biz/chuko-brooklyn-2?osq=ramen\"><span>Chuko</span></a>,\n",
       " <a class=\"biz-name js-analytics-click\" data-analytics-label=\"biz-name\" data-hovercard-id=\"npxs4Eml8yf-oqF_LY-GDw\" href=\"/biz/ichiran-midtown-new-york?osq=ramen\"><span>ICHIRAN Midtown</span></a>,\n",
       " <a class=\"biz-name js-analytics-click\" data-analytics-label=\"biz-name\" data-hovercard-id=\"dxTzW__lOWk29vLSnBPWaA\" href=\"/biz/jun-men-ramen-bar-new-york?osq=ramen\"><span>Jun-Men Ramen Bar</span></a>,\n",
       " <a class=\"biz-name js-analytics-click\" data-analytics-label=\"biz-name\" data-hovercard-id=\"Sw0RXc1Nj-J-go627nNGYQ\" href=\"/biz/ramen-misoya-new-york?osq=ramen\"><span>Ramen Misoya</span></a>,\n",
       " <a class=\"biz-name js-analytics-click\" data-analytics-label=\"biz-name\" data-hovercard-id=\"8k3ZaOS35jkJY5OLpZ266g\" href=\"/biz/totto-ramen-midtown-east-new-york-2?osq=ramen\"><span>Totto Ramen - Midtown East</span></a>]"
      ]
     },
     "execution_count": 73,
     "metadata": {},
     "output_type": "execute_result"
    }
   ],
   "source": [
    "businesses"
   ]
  },
  {
   "cell_type": "code",
   "execution_count": 74,
   "metadata": {},
   "outputs": [],
   "source": [
    "# selecting the first element (a particular restaurant in our case) of the list businesses and looking in the\n",
    "#ignore the first element of the businesses list, it is an ad by yelp, regular list start from the second (index = 1)\n",
    "# html code for its name\n",
    "business = businesses[1]\n",
    "name = business.find('span').get_text()\n",
    "\n",
    "# getting the link to the yelp page this particular restaurant\n",
    "link = 'https://www.yelp.com' + business.get('href')"
   ]
  },
  {
   "cell_type": "code",
   "execution_count": 75,
   "metadata": {},
   "outputs": [
    {
     "name": "stdout",
     "output_type": "stream",
     "text": [
      "Ramen Hood https://www.yelp.com/biz/ramen-hood-new-york?osq=ramen\n"
     ]
    }
   ],
   "source": [
    "print(name,link)"
   ]
  },
  {
   "cell_type": "code",
   "execution_count": 76,
   "metadata": {},
   "outputs": [],
   "source": [
    "# extracting the html code of the web page associated with the first business of our list businesses\n",
    "response_business = requests.get(link)\n",
    "results_business_page = BeautifulSoup(response_business.content,'lxml')"
   ]
  },
  {
   "cell_type": "code",
   "execution_count": 77,
   "metadata": {},
   "outputs": [],
   "source": [
    "# looking in the html page of the restaurant for latitude and longitude coordinates of the restaurant\n",
    "# the json object json_map contains these coordinates\n",
    "json_map = results_business_page.find('div', class_ = \"lightbox-map hidden\").get('data-map-state')\n",
    "\n",
    "# we can convert this json object to a python dictionnary using the following method\n",
    "dict_map = json.loads(json_map)\n",
    "\n",
    "# the relevant keys in this dict are \"markers\", \"location\" and \"latitude\" and \"longitude\"\n",
    "latitude = dict_map[\"markers\"][1][\"location\"][\"latitude\"]\n",
    "longitude = dict_map[\"markers\"][1][\"location\"][\"longitude\"]"
   ]
  },
  {
   "cell_type": "code",
   "execution_count": 78,
   "metadata": {},
   "outputs": [
    {
     "data": {
      "text/plain": [
       "'{\"serviceAreas\": [], \"moMapPossible\": true, \"scrollwheelZoom\": false, \"zoomControlPosition\": \"top_right\", \"minZoomlevel\": null, \"isFullBleed\": false, \"maxZoomlevel\": null, \"zoom\": 15, \"library\": \"google\", \"fitToGeobox\": false, \"hoods\": [], \"adPinColor\": null, \"markers\": [{\"location\": null, \"key\": \"directions_marker\", \"icon\": {\"name\": \"directions\", \"anchorOffset\": [12, 32], \"activeOrigin\": [0, 0], \"scaledSize\": [24, 32], \"regularUri\": \"https://s3-media4.fl.yelpcdn.com/assets/srv0/yelp_maps/79f63ebc20db/assets/img/directions@2x.png\", \"size\": [24, 32], \"activeUri\": \"https://s3-media4.fl.yelpcdn.com/assets/srv0/yelp_maps/7249ab345ac8/assets/img/directions_highlighted@2x.png\", \"regularOrigin\": [0, 0]}}, {\"resourceType\": \"business\", \"url\": \"/biz/ramen-hood-new-york\", \"resourceId\": \"oy_FqW6XO8S06pg6nHbhog\", \"shouldOpenInNewTab\": false, \"location\": {\"latitude\": 40.7223112701284, \"longitude\": -73.9973774072879}, \"key\": \"starred_business\", \"hovercardId\": \"xJJUNXIR1JECvREs7j-Mzg\", \"icon\": {\"name\": \"starred\", \"anchorOffset\": [12, 32], \"activeOrigin\": [0, 0], \"scaledSize\": [24, 32], \"regularUri\": \"https://s3-media4.fl.yelpcdn.com/assets/srv0/yelp_maps/7ffd8e34c576/assets/img/annotation_star@2x.png\", \"size\": [24, 32], \"activeUri\": \"https://s3-media3.fl.yelpcdn.com/assets/srv0/yelp_maps/63e0e17c0579/assets/img/annotation_star_highlighted@2x.png\", \"regularOrigin\": [0, 0]}}, {\"location\": null, \"key\": \"current_location\", \"icon\": {\"name\": \"current_location\", \"anchorOffset\": [23, 23], \"activeOrigin\": [0, 0], \"scaledSize\": [46, 46], \"regularUri\": \"https://s3-media2.fl.yelpcdn.com/assets/srv0/yelp_maps/56b9eee3f027/assets/img/current_location_dot@2x.png\", \"size\": [46, 46], \"activeUri\": \"https://s3-media2.fl.yelpcdn.com/assets/srv0/yelp_maps/56b9eee3f027/assets/img/current_location_dot@2x.png\", \"regularOrigin\": [0, 0]}}], \"shouldDrawCheckbox\": false, \"overlayWidth\": 335, \"topBizBounds\": null, \"market\": null, \"center\": {\"latitude\": 40.7223112701284, \"longitude\": -73.9973774072879}}'"
      ]
     },
     "execution_count": 78,
     "metadata": {},
     "output_type": "execute_result"
    }
   ],
   "source": [
    "json_map"
   ]
  },
  {
   "cell_type": "code",
   "execution_count": 79,
   "metadata": {},
   "outputs": [
    {
     "name": "stdout",
     "output_type": "stream",
     "text": [
      "40.7223112701284 -73.9973774072879\n"
     ]
    }
   ],
   "source": [
    "print(latitude,longitude)"
   ]
  },
  {
   "cell_type": "code",
   "execution_count": 80,
   "metadata": {},
   "outputs": [],
   "source": [
    "# The category can be found in the 'a' tag under \"span\", class_ = 'category-str-list' tag, \n",
    "category= results_business_page.find(\"span\", class_ = 'category-str-list').find('a').get_text()"
   ]
  },
  {
   "cell_type": "code",
   "execution_count": 81,
   "metadata": {},
   "outputs": [
    {
     "data": {
      "text/plain": [
       "'Ramen'"
      ]
     },
     "execution_count": 81,
     "metadata": {},
     "output_type": "execute_result"
    }
   ],
   "source": [
    "category"
   ]
  },
  {
   "cell_type": "code",
   "execution_count": 82,
   "metadata": {},
   "outputs": [],
   "source": [
    "# the price range ('$','$$','$$$', or '$$$$') can be found in the \"span\", class_ = 'business-attribute price-range' tag\n",
    "# the price range is not always available, that is why we need to catch errors \n",
    "# if necessary (hence the try: except) structure\n",
    "\n",
    "try:\n",
    "    price_range = results_business_page.find(\"span\", class_ = 'business-attribute price-range').get_text()\n",
    "except:\n",
    "    price_range = None"
   ]
  },
  {
   "cell_type": "code",
   "execution_count": 83,
   "metadata": {},
   "outputs": [
    {
     "name": "stdout",
     "output_type": "stream",
     "text": [
      "$$\n"
     ]
    }
   ],
   "source": [
    "print(price_range)"
   ]
  },
  {
   "cell_type": "code",
   "execution_count": 84,
   "metadata": {},
   "outputs": [],
   "source": [
    "# the ratings associated to a particular restaurant are in the \"div\", itemprop = 'aggregateRating' tag\n",
    "# the rating value (between 0 and 5) can be accessed through ratings (= results_business_page.find(\"div\", \n",
    "# itemprop = 'aggregateRating') at the tag \"meta\" and the attribute 'content'\n",
    "# the number of reviews is available through ratings at the 'span' tag\n",
    "\n",
    "ratings = results_business_page.find(\"div\", itemprop = 'aggregateRating')\n",
    "rating_value = ratings.find(\"meta\").get('content')\n",
    "review_count = ratings.find(\"span\").get_text()"
   ]
  },
  {
   "cell_type": "code",
   "execution_count": 85,
   "metadata": {},
   "outputs": [
    {
     "name": "stdout",
     "output_type": "stream",
     "text": [
      "4.5 31\n"
     ]
    }
   ],
   "source": [
    "print(rating_value,review_count)"
   ]
  },
  {
   "cell_type": "code",
   "execution_count": 86,
   "metadata": {},
   "outputs": [],
   "source": [
    "# the phone number can be accessed at the tag 'span',itemprop = \"telephone\"\n",
    "# phone numbers are not always available so we need to catch errors using the try:... except: structure\n",
    "\n",
    "try:\n",
    "    phone_number = results_business_page.find('span',itemprop = \"telephone\").get_text().strip()\n",
    "except:\n",
    "    phone_number = None   "
   ]
  },
  {
   "cell_type": "code",
   "execution_count": 87,
   "metadata": {},
   "outputs": [
    {
     "name": "stdout",
     "output_type": "stream",
     "text": [
      "\n"
     ]
    }
   ],
   "source": [
    "print(phone_number)"
   ]
  },
  {
   "cell_type": "code",
   "execution_count": 88,
   "metadata": {},
   "outputs": [],
   "source": [
    "# We want to know if the restaurant is currently open: this information is \n",
    "# given at the 'span', class_ = \"nowrap extra open\" tag. This information is not always \n",
    "# available that is why we use the try: ... except:... structure\n",
    "\n",
    "try:\n",
    "    open_ = results_business_page.find('span', class_ = \"nowrap extra open\").get_text()\n",
    "except:\n",
    "    open_ = None"
   ]
  },
  {
   "cell_type": "code",
   "execution_count": 89,
   "metadata": {},
   "outputs": [
    {
     "name": "stdout",
     "output_type": "stream",
     "text": [
      "None\n"
     ]
    }
   ],
   "source": [
    "print(open_)"
   ]
  },
  {
   "cell_type": "code",
   "execution_count": 119,
   "metadata": {},
   "outputs": [
    {
     "data": {
      "text/plain": [
       "\"62 Spring StChef's Club CounterNew York, NY 10012\""
      ]
     },
     "execution_count": 119,
     "metadata": {},
     "output_type": "execute_result"
    }
   ],
   "source": [
    "try:\n",
    "    addr = results_business_page.find('strong', class_ = \"street-address\").get_text().strip()\n",
    "except:\n",
    "    addr = None\n",
    "addr"
   ]
  },
  {
   "cell_type": "code",
   "execution_count": 91,
   "metadata": {},
   "outputs": [
    {
     "data": {
      "text/plain": [
       "'chefsclubcounter.com'"
      ]
     },
     "execution_count": 91,
     "metadata": {},
     "output_type": "execute_result"
    }
   ],
   "source": [
    "try:\n",
    "    web = results_business_page.find('span', class_ = \"biz-website js-biz-website js-add-url-tagging\").find('a').get_text()\n",
    "except:\n",
    "    web = None\n",
    "web"
   ]
  },
  {
   "cell_type": "code",
   "execution_count": 82,
   "metadata": {},
   "outputs": [],
   "source": [
    "#want to put all infomations we want to get from one business into one funtion\n",
    "#input: url link\n",
    "#output: all details we tested above\n",
    "def get_info(link):\n",
    "    response_business = requests.get(link)\n",
    "    results_business_page = BeautifulSoup(response_business.content,'lxml')\n",
    "    \n",
    "    try:\n",
    "        addr = results_business_page.find('strong', class_ = \"street-address\").get_text().strip()\n",
    "    except:\n",
    "        addr = None\n",
    "\n",
    "#     try:\n",
    "#         json_map = results_business_page.find('div', class_ = \"lightbox-map hidden\").get('data-map-state')\n",
    "#         dict_map = json.loads(json_map)\n",
    "#         lat = dict_map[\"markers\"][1][\"location\"][\"latitude\"]\n",
    "#         lon = dict_map[\"markers\"][1][\"location\"][\"longitude\"]\n",
    "#     except: \n",
    "#         json_map = None \n",
    "\n",
    "    try: \n",
    "        category = results_business_page.find(\"span\", class_ = 'category-str-list').find('a').get_text()\n",
    "    except:\n",
    "        category = None\n",
    "        \n",
    "    try:\n",
    "        price_range = results_business_page.find(\"span\", class_ = 'business-attribute price-range').get_text()\n",
    "    except:\n",
    "        price_range = None\n",
    "        \n",
    "    try: \n",
    "        rating_value = results_business_page.find(\"div\", {'itemprop' : \"aggregateRating\"}).find(\"meta\").get('content')\n",
    "    except: \n",
    "        rating_value = None\n",
    "        \n",
    "#     try:\n",
    "#         review_count = results_business_page.find(\"div\", {'itemprop' : \"aggregateRating\"}).find(\"span\").get_text()\n",
    "#     except: \n",
    "#         rating_count = None\n",
    "    \n",
    "    try:\n",
    "        phone_number = results_business_page.find('span',itemprop = \"telephone\").get_text().strip()\n",
    "    except:\n",
    "        phone_number = None\n",
    "        \n",
    "    try:\n",
    "        open_ = results_business_page.find('span', class_ = \"nowrap extra open\").get_text()\n",
    "    except:\n",
    "        open_ = 'closed now'\n",
    "        \n",
    "    try:\n",
    "        web = results_business_page.find('span', class_ = \"biz-website js-biz-website js-add-url-tagging\").find('a').get_text()\n",
    "    except:\n",
    "        web = None\n",
    "        \n",
    "    return(addr,category,price_range,rating_value,phone_number,open_,web)\n",
    "    "
   ]
  },
  {
   "cell_type": "code",
   "execution_count": 18,
   "metadata": {},
   "outputs": [
    {
     "data": {
      "text/plain": [
       "('133 Wythe AveBrooklyn, NY 11211',\n",
       " 40.719747,\n",
       " -73.959993,\n",
       " 'Moroccan',\n",
       " '$$',\n",
       " '4.5',\n",
       " '1004',\n",
       " '(718) 486-9222',\n",
       " 'Open now',\n",
       " 'cafemogador.com/williamsburg')"
      ]
     },
     "execution_count": 18,
     "metadata": {},
     "output_type": "execute_result"
    }
   ],
   "source": [
    "#test the function on cafe mogador\n",
    "restaurant_url = \"https://www.yelp.com/biz/cafe-mogador-brooklyn?osq=Restaurants\"\n",
    "get_info(restaurant_url)"
   ]
  },
  {
   "cell_type": "code",
   "execution_count": 94,
   "metadata": {},
   "outputs": [],
   "source": [
    "#Get a list of url links of all businesses (or maybe the first 30)\n",
    "#so that we could compile a list of details on, for example, the first 30 search-result restaurants\n",
    "link_list = []\n",
    "\n",
    "for i in range(1,len(businesses)):\n",
    "    business = businesses[i]\n",
    "    link = 'https://www.yelp.com' + business.get('href')\n",
    "    link_list.append(link)"
   ]
  },
  {
   "cell_type": "code",
   "execution_count": 96,
   "metadata": {},
   "outputs": [],
   "source": [
    "#Create a list of restaurant names\n",
    "name_list=[]\n",
    "for i in range(1,len(businesses)):\n",
    "    business = businesses[i]\n",
    "    name = business.find('span').get_text()\n",
    "    name_list.append(name)"
   ]
  },
  {
   "cell_type": "code",
   "execution_count": 98,
   "metadata": {},
   "outputs": [],
   "source": [
    "#Create a list of all restaurants' information\n",
    "info_list=[]\n",
    "\n",
    "for i in range(len(link_list)):\n",
    "    info_list.append(get_info(link_list[i]))"
   ]
  },
  {
   "cell_type": "code",
   "execution_count": 100,
   "metadata": {},
   "outputs": [],
   "source": [
    "#Create a dictionary showing the information of each restaurant\n",
    "business_info={}\n",
    "\n",
    "for i in range(len(name_list)):\n",
    "    business_info[name_list[i]] = info_list[i]        "
   ]
  },
  {
   "cell_type": "code",
   "execution_count": 19,
   "metadata": {},
   "outputs": [],
   "source": [
    "def get_businesses():\n",
    "    business_list = []\n",
    "    \n",
    "    keyword = input('What do you want to eat ? ')\n",
    "    address = input('Where are you ? ')\n",
    "    \n",
    "    #df = pd.DataFrame(columns = ['name','open or closed','latitude','longitude','price range','rating value','review count','category','phone','website'])\n",
    "                                             \n",
    "    url = 'https://www.yelp.com/search?find_desc='+ keyword + '&find_loc=' + address \n",
    "    response = requests.get(url)\n",
    "    try:\n",
    "        results_page = BeautifulSoup(response.content,'lxml')\n",
    "    except:\n",
    "        print(\"we didn't get back result page from yelp correctly\")\n",
    "        \n",
    "    businesses = results_page.find_all('a',{'data-analytics-label':\"biz-name\"})\n",
    "    business_list = []\n",
    "    for business in businesses:\n",
    "        name = business.find('span').get_text()\n",
    "        link = 'https://www.yelp.com' + business.get('href')\n",
    "        addr,category,price_range,rating_value,phone_number,open_,web= get_info(link)\n",
    "        #df.loc[i] = [name,open_,latitude,longitude,price_range,rating_value,review_count,category,phone_number,web]\n",
    "        business_list.append([name,open_,price_range,rating_value,category,phone_number,web])\n",
    "\n",
    "    return(business_list)"
   ]
  },
  {
   "cell_type": "code",
   "execution_count": 89,
   "metadata": {},
   "outputs": [
    {
     "data": {
      "text/plain": [
       "[['Ellis Cafe', 'closed now', None, None, None, None, None],\n",
       " ['Burger & Lobster',\n",
       "  'closed now',\n",
       "  '$$',\n",
       "  '4.0',\n",
       "  'Seafood',\n",
       "  '(646) 833-7532',\n",
       "  'burgerandlobster.com/en/locat…'],\n",
       " ['Diesel & Duke',\n",
       "  'closed now',\n",
       "  '$$',\n",
       "  '4.5',\n",
       "  'Burgers',\n",
       "  '(201) 222-1322',\n",
       "  'eatdiesel.com'],\n",
       " ['Walburgers',\n",
       "  'closed now',\n",
       "  '$$',\n",
       "  '2.5',\n",
       "  'Burgers',\n",
       "  '(718) 942-4450',\n",
       "  'wahlburgersrestaurant.com'],\n",
       " ['Burgerology',\n",
       "  'closed now',\n",
       "  '$$',\n",
       "  '3.5',\n",
       "  'Burgers',\n",
       "  '(917) 745-0299',\n",
       "  'burgerologyastoria.com'],\n",
       " ['The Burgary',\n",
       "  'closed now',\n",
       "  '$$',\n",
       "  '4.5',\n",
       "  'Burgers',\n",
       "  '(212) 529-6900',\n",
       "  'theburgary.com'],\n",
       " ['Black Iron Burger',\n",
       "  'closed now',\n",
       "  '$$',\n",
       "  '4.0',\n",
       "  'Burgers',\n",
       "  '(347) 380-4731',\n",
       "  'blackironburger.com'],\n",
       " ['Juanchi’s Burger',\n",
       "  'closed now',\n",
       "  '$$',\n",
       "  '4.5',\n",
       "  'Gastropubs',\n",
       "  '(929) 295-0147',\n",
       "  'juanchisburgersbk.com'],\n",
       " ['dumont burger',\n",
       "  'closed now',\n",
       "  '$$',\n",
       "  '4.5',\n",
       "  'Burgers',\n",
       "  '(718) 388-0771',\n",
       "  'dumontburgerny.com'],\n",
       " ['Benson’s NYC',\n",
       "  'Open now',\n",
       "  '$$',\n",
       "  '4.5',\n",
       "  'American (New)',\n",
       "  '(646) 791-5765',\n",
       "  'bensonsnyc.com'],\n",
       " ['Standard Burger',\n",
       "  'closed now',\n",
       "  '$',\n",
       "  '3.5',\n",
       "  'Burgers',\n",
       "  '(718) 921-5500',\n",
       "  'standardburgers.com/best-burg…']]"
      ]
     },
     "execution_count": 89,
     "metadata": {},
     "output_type": "execute_result"
    }
   ],
   "source": [
    "#workspace\n",
    "url = \"https://www.yelp.com/search?find_desc=burger+&find_loc=new+york\"\n",
    "response = requests.get(url)\n",
    "results_page = BeautifulSoup(response.content,'lxml')\n",
    "businesses = results_page.find_all('a',{'data-analytics-label':\"biz-name\"})\n",
    "business_list = []\n",
    "for business in businesses:\n",
    "    name = business.find('span').get_text()\n",
    "    link = 'https://www.yelp.com' + business.get('href')\n",
    "    addr,category,price_range,rating_value,phone_number,open_,web= get_info(link)\n",
    "    #[name,open_,latitude,longitude,price_range,rating_value,review_count,category,phone_number,web]        \n",
    "    #df.loc[i] = [name,open_,latitude,longitude,price_range,rating_value,review_count,category,phone_number,web]\n",
    "    business_list.append([name,open_,price_range,rating_value,category,phone_number,web])\n",
    "business_list\n"
   ]
  },
  {
   "cell_type": "code",
   "execution_count": null,
   "metadata": {},
   "outputs": [],
   "source": [
    "businesses"
   ]
  },
  {
   "cell_type": "code",
   "execution_count": 20,
   "metadata": {},
   "outputs": [
    {
     "name": "stdout",
     "output_type": "stream",
     "text": [
      "What do you want to eat ? burger\n",
      "Where are you ? new york\n"
     ]
    },
    {
     "data": {
      "text/plain": [
       "[]"
      ]
     },
     "execution_count": 20,
     "metadata": {},
     "output_type": "execute_result"
    }
   ],
   "source": [
    "get_businesses()"
   ]
  },
  {
   "cell_type": "code",
   "execution_count": null,
   "metadata": {},
   "outputs": [],
   "source": []
  },
  {
   "cell_type": "code",
   "execution_count": null,
   "metadata": {},
   "outputs": [],
   "source": []
  }
 ],
 "metadata": {
  "kernelspec": {
   "display_name": "Python 3",
   "language": "python",
   "name": "python3"
  },
  "language_info": {
   "codemirror_mode": {
    "name": "ipython",
    "version": 3
   },
   "file_extension": ".py",
   "mimetype": "text/x-python",
   "name": "python",
   "nbconvert_exporter": "python",
   "pygments_lexer": "ipython3",
   "version": "3.6.5"
  }
 },
 "nbformat": 4,
 "nbformat_minor": 2
}
