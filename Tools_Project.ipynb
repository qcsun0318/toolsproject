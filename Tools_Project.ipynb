{
 "cells": [
  {
   "cell_type": "code",
   "execution_count": 1,
   "metadata": {},
   "outputs": [],
   "source": [
    "#This is the notebook for tools_project"
   ]
  },
  {
   "cell_type": "code",
   "execution_count": 22,
   "metadata": {},
   "outputs": [],
   "source": [
    "# scraping libraries to read html code\n",
    "import requests\n",
    "from bs4 import BeautifulSoup\n",
    "import json"
   ]
  },
  {
   "cell_type": "code",
   "execution_count": 23,
   "metadata": {},
   "outputs": [],
   "source": [
    "# pandas library to create dataframe\n",
    "import pandas as pd\n",
    "import numpy as np"
   ]
  },
  {
   "cell_type": "code",
   "execution_count": 14,
   "metadata": {},
   "outputs": [
    {
     "name": "stdout",
     "output_type": "stream",
     "text": [
      "What do you want to eat ? pizza\n",
      "Where are you ? boston\n"
     ]
    },
    {
     "data": {
      "text/plain": [
       "'https://www.yelp.com/search?find_desc=pizza&find_loc=boston'"
      ]
     },
     "execution_count": 14,
     "metadata": {},
     "output_type": "execute_result"
    }
   ],
   "source": [
    "# Direct to initial results\n",
    "url = 'https://www.yelp.com/search?find_desc='\n",
    "keyword = input('What do you want to eat ? ')\n",
    "address = input('Where are you ? ')\n",
    "\n",
    "url = 'https://www.yelp.com/search?find_desc='+ keyword + '&find_loc=' + address \n",
    "url"
   ]
  },
  {
   "cell_type": "code",
   "execution_count": 15,
   "metadata": {},
   "outputs": [
    {
     "data": {
      "text/plain": [
       "200"
      ]
     },
     "execution_count": 15,
     "metadata": {},
     "output_type": "execute_result"
    }
   ],
   "source": [
    "# Checking if the url is \"valid\", the status code should be 200\n",
    "response = requests.get(url)\n",
    "response.status_code"
   ]
  },
  {
   "cell_type": "code",
   "execution_count": 16,
   "metadata": {},
   "outputs": [],
   "source": [
    "# extract the html code from the web page = https://www.yelp.com/search?find_desc=Restaurants&find_loc=New+York,+NY&start=30\n",
    "results_page = BeautifulSoup(response.content,'lxml')"
   ]
  },
  {
   "cell_type": "code",
   "execution_count": 17,
   "metadata": {},
   "outputs": [],
   "source": [
    "# creating a list of businesses with the html code of the business as elements of the list\n",
    "businesses = results_page.find_all('a',class_ = \"biz-name js-analytics-click\")"
   ]
  },
  {
   "cell_type": "code",
   "execution_count": 18,
   "metadata": {},
   "outputs": [],
   "source": [
    "# selecting the first element (a particular restaurant in our case) of the list businesses and looking in the\n",
    "#ignore the first element of the businesses list, it is an ad by yelp, regular list start from the second (index = 1)\n",
    "# html code for its name\n",
    "business = businesses[1]\n",
    "name = business.find('span').get_text()\n",
    "\n",
    "# getting the link to the yelp page this particular restaurant\n",
    "link = 'https://www.yelp.com' + business.get('href')"
   ]
  },
  {
   "cell_type": "code",
   "execution_count": 19,
   "metadata": {},
   "outputs": [
    {
     "name": "stdout",
     "output_type": "stream",
     "text": [
      "Regina Pizzeria https://www.yelp.com/biz/regina-pizzeria-boston-28?osq=pizza\n"
     ]
    }
   ],
   "source": [
    "print(name,link)"
   ]
  },
  {
   "cell_type": "code",
   "execution_count": 20,
   "metadata": {},
   "outputs": [],
   "source": [
    "# extracting the html code of the web page associated with the first business of our list businesses\n",
    "response_business = requests.get(link)\n",
    "results_business_page = BeautifulSoup(response_business.content,'lxml')"
   ]
  },
  {
   "cell_type": "code",
   "execution_count": 21,
   "metadata": {},
   "outputs": [],
   "source": [
    "# looking in the html page of the restaurant for latitude and longitude coordinates of the restaurant\n",
    "# the json object json_map contains these coordinates\n",
    "json_map = results_business_page.find('div', class_ = \"lightbox-map hidden\").get('data-map-state')\n",
    "\n",
    "# we can convert this json object to a python dictionnary using the following method\n",
    "dict_map = json.loads(json_map)\n",
    "\n",
    "# the relevant keys in this dict are \"markers\", \"location\" and \"latitude\" and \"longitude\"\n",
    "latitude = dict_map[\"markers\"][1][\"location\"][\"latitude\"]\n",
    "longitude = dict_map[\"markers\"][1][\"location\"][\"longitude\"]"
   ]
  },
  {
   "cell_type": "code",
   "execution_count": 78,
   "metadata": {},
   "outputs": [
    {
     "data": {
      "text/plain": [
       "'{\"serviceAreas\": [], \"moMapPossible\": true, \"scrollwheelZoom\": false, \"zoomControlPosition\": \"top_right\", \"minZoomlevel\": null, \"isFullBleed\": false, \"maxZoomlevel\": null, \"zoom\": 15, \"library\": \"google\", \"fitToGeobox\": false, \"hoods\": [], \"adPinColor\": null, \"markers\": [{\"location\": null, \"key\": \"directions_marker\", \"icon\": {\"name\": \"directions\", \"anchorOffset\": [12, 32], \"activeOrigin\": [0, 0], \"scaledSize\": [24, 32], \"regularUri\": \"https://s3-media4.fl.yelpcdn.com/assets/srv0/yelp_maps/79f63ebc20db/assets/img/directions@2x.png\", \"size\": [24, 32], \"activeUri\": \"https://s3-media4.fl.yelpcdn.com/assets/srv0/yelp_maps/7249ab345ac8/assets/img/directions_highlighted@2x.png\", \"regularOrigin\": [0, 0]}}, {\"resourceType\": \"business\", \"url\": \"/biz/ramen-hood-new-york\", \"resourceId\": \"oy_FqW6XO8S06pg6nHbhog\", \"shouldOpenInNewTab\": false, \"location\": {\"latitude\": 40.7223112701284, \"longitude\": -73.9973774072879}, \"key\": \"starred_business\", \"hovercardId\": \"xJJUNXIR1JECvREs7j-Mzg\", \"icon\": {\"name\": \"starred\", \"anchorOffset\": [12, 32], \"activeOrigin\": [0, 0], \"scaledSize\": [24, 32], \"regularUri\": \"https://s3-media4.fl.yelpcdn.com/assets/srv0/yelp_maps/7ffd8e34c576/assets/img/annotation_star@2x.png\", \"size\": [24, 32], \"activeUri\": \"https://s3-media3.fl.yelpcdn.com/assets/srv0/yelp_maps/63e0e17c0579/assets/img/annotation_star_highlighted@2x.png\", \"regularOrigin\": [0, 0]}}, {\"location\": null, \"key\": \"current_location\", \"icon\": {\"name\": \"current_location\", \"anchorOffset\": [23, 23], \"activeOrigin\": [0, 0], \"scaledSize\": [46, 46], \"regularUri\": \"https://s3-media2.fl.yelpcdn.com/assets/srv0/yelp_maps/56b9eee3f027/assets/img/current_location_dot@2x.png\", \"size\": [46, 46], \"activeUri\": \"https://s3-media2.fl.yelpcdn.com/assets/srv0/yelp_maps/56b9eee3f027/assets/img/current_location_dot@2x.png\", \"regularOrigin\": [0, 0]}}], \"shouldDrawCheckbox\": false, \"overlayWidth\": 335, \"topBizBounds\": null, \"market\": null, \"center\": {\"latitude\": 40.7223112701284, \"longitude\": -73.9973774072879}}'"
      ]
     },
     "execution_count": 78,
     "metadata": {},
     "output_type": "execute_result"
    }
   ],
   "source": [
    "json_map"
   ]
  },
  {
   "cell_type": "code",
   "execution_count": 79,
   "metadata": {},
   "outputs": [
    {
     "name": "stdout",
     "output_type": "stream",
     "text": [
      "40.7223112701284 -73.9973774072879\n"
     ]
    }
   ],
   "source": [
    "print(latitude,longitude)"
   ]
  },
  {
   "cell_type": "code",
   "execution_count": 80,
   "metadata": {},
   "outputs": [],
   "source": [
    "# The category can be found in the 'a' tag under \"span\", class_ = 'category-str-list' tag, \n",
    "category= results_business_page.find(\"span\", class_ = 'category-str-list').find('a').get_text()"
   ]
  },
  {
   "cell_type": "code",
   "execution_count": 81,
   "metadata": {},
   "outputs": [
    {
     "data": {
      "text/plain": [
       "'Ramen'"
      ]
     },
     "execution_count": 81,
     "metadata": {},
     "output_type": "execute_result"
    }
   ],
   "source": [
    "category"
   ]
  },
  {
   "cell_type": "code",
   "execution_count": 82,
   "metadata": {},
   "outputs": [],
   "source": [
    "# the price range ('$','$$','$$$', or '$$$$') can be found in the \"span\", class_ = 'business-attribute price-range' tag\n",
    "# the price range is not always available, that is why we need to catch errors \n",
    "# if necessary (hence the try: except) structure\n",
    "\n",
    "try:\n",
    "    price_range = results_business_page.find(\"span\", class_ = 'business-attribute price-range').get_text()\n",
    "except:\n",
    "    price_range = None"
   ]
  },
  {
   "cell_type": "code",
   "execution_count": 83,
   "metadata": {},
   "outputs": [
    {
     "name": "stdout",
     "output_type": "stream",
     "text": [
      "$$\n"
     ]
    }
   ],
   "source": [
    "print(price_range)"
   ]
  },
  {
   "cell_type": "code",
   "execution_count": 84,
   "metadata": {},
   "outputs": [],
   "source": [
    "# the ratings associated to a particular restaurant are in the \"div\", itemprop = 'aggregateRating' tag\n",
    "# the rating value (between 0 and 5) can be accessed through ratings (= results_business_page.find(\"div\", \n",
    "# itemprop = 'aggregateRating') at the tag \"meta\" and the attribute 'content'\n",
    "# the number of reviews is available through ratings at the 'span' tag\n",
    "\n",
    "ratings = results_business_page.find(\"div\", itemprop = 'aggregateRating')\n",
    "rating_value = ratings.find(\"meta\").get('content')\n",
    "review_count = ratings.find(\"span\").get_text()"
   ]
  },
  {
   "cell_type": "code",
   "execution_count": 85,
   "metadata": {},
   "outputs": [
    {
     "name": "stdout",
     "output_type": "stream",
     "text": [
      "4.5 31\n"
     ]
    }
   ],
   "source": [
    "print(rating_value,review_count)"
   ]
  },
  {
   "cell_type": "code",
   "execution_count": 86,
   "metadata": {},
   "outputs": [],
   "source": [
    "# the phone number can be accessed at the tag 'span',itemprop = \"telephone\"\n",
    "# phone numbers are not always available so we need to catch errors using the try:... except: structure\n",
    "\n",
    "try:\n",
    "    phone_number = results_business_page.find('span',itemprop = \"telephone\").get_text().strip()\n",
    "except:\n",
    "    phone_number = None   "
   ]
  },
  {
   "cell_type": "code",
   "execution_count": 87,
   "metadata": {},
   "outputs": [
    {
     "name": "stdout",
     "output_type": "stream",
     "text": [
      "\n"
     ]
    }
   ],
   "source": [
    "print(phone_number)"
   ]
  },
  {
   "cell_type": "code",
   "execution_count": 88,
   "metadata": {},
   "outputs": [],
   "source": [
    "# We want to know if the restaurant is currently open: this information is \n",
    "# given at the 'span', class_ = \"nowrap extra open\" tag. This information is not always \n",
    "# available that is why we use the try: ... except:... structure\n",
    "\n",
    "try:\n",
    "    open_ = results_business_page.find('span', class_ = \"nowrap extra open\").get_text()\n",
    "except:\n",
    "    open_ = None"
   ]
  },
  {
   "cell_type": "code",
   "execution_count": 89,
   "metadata": {},
   "outputs": [
    {
     "name": "stdout",
     "output_type": "stream",
     "text": [
      "None\n"
     ]
    }
   ],
   "source": [
    "print(open_)"
   ]
  },
  {
   "cell_type": "code",
   "execution_count": 119,
   "metadata": {},
   "outputs": [
    {
     "data": {
      "text/plain": [
       "\"62 Spring StChef's Club CounterNew York, NY 10012\""
      ]
     },
     "execution_count": 119,
     "metadata": {},
     "output_type": "execute_result"
    }
   ],
   "source": [
    "try:\n",
    "    addr = results_business_page.find('strong', class_ = \"street-address\").get_text().strip()\n",
    "except:\n",
    "    addr = None\n",
    "addr"
   ]
  },
  {
   "cell_type": "code",
   "execution_count": 22,
   "metadata": {},
   "outputs": [
    {
     "data": {
      "text/plain": [
       "'reginapizzeria.com'"
      ]
     },
     "execution_count": 22,
     "metadata": {},
     "output_type": "execute_result"
    }
   ],
   "source": [
    "try:\n",
    "    web = results_business_page.find('span', class_ = \"biz-website js-biz-website js-add-url-tagging\").find('a').get_text()\n",
    "except:\n",
    "    web = None\n",
    "web"
   ]
  },
  {
   "cell_type": "code",
   "execution_count": 24,
   "metadata": {},
   "outputs": [],
   "source": [
    "#want to put all infomations we want to get from one business into one funtion\n",
    "#input: url link\n",
    "#output: all details we tested above\n",
    "def get_info(link):\n",
    "    response_business = requests.get(link)\n",
    "    results_business_page = BeautifulSoup(response_business.content,'lxml')\n",
    "    \n",
    "    try:\n",
    "        addr = results_business_page.find('strong', class_ = \"street-address\").get_text().strip()\n",
    "    except:\n",
    "        addr = None\n",
    "\n",
    "    try:\n",
    "        json_map = results_business_page.find('div', class_ = \"lightbox-map hidden\").get('data-map-state')\n",
    "        dict_map = json.loads(json_map)\n",
    "        lat = dict_map[\"markers\"][1][\"location\"][\"latitude\"]\n",
    "        lon = dict_map[\"markers\"][1][\"location\"][\"longitude\"]\n",
    "    except: \n",
    "        json_map = None \n",
    "\n",
    "    try: \n",
    "        category = results_business_page.find(\"span\", class_ = 'category-str-list').find('a').get_text()\n",
    "    except:\n",
    "        category = None\n",
    "        \n",
    "    try:\n",
    "        price_range = results_business_page.find(\"span\", class_ = 'business-attribute price-range').get_text()\n",
    "    except:\n",
    "        price_range = None\n",
    "        \n",
    "    try: \n",
    "        rating_value = results_business_page.find(\"div\", {'itemprop' : \"aggregateRating\"}).find(\"meta\").get('content')\n",
    "    except: \n",
    "        rating_value = None\n",
    "        \n",
    "#     try:\n",
    "#         review_count = results_business_page.find(\"div\", {'itemprop' : \"aggregateRating\"}).find(\"span\").get_text()\n",
    "#     except: \n",
    "#         rating_count = None\n",
    "    \n",
    "    try:\n",
    "        phone_number = results_business_page.find('span',itemprop = \"telephone\").get_text().strip()\n",
    "    except:\n",
    "        phone_number = None\n",
    "        \n",
    "    try:\n",
    "        open_ = results_business_page.find('span', class_ = \"nowrap extra open\").get_text()\n",
    "    except:\n",
    "        open_ = 'closed now'\n",
    "        \n",
    "    try:\n",
    "        web = results_business_page.find('span', class_ = \"biz-website js-biz-website js-add-url-tagging\").find('a').get_text()\n",
    "    except:\n",
    "        web = None\n",
    "        \n",
    "    return(addr,category,price_range,rating_value,phone_number,open_,web,lat,lon)\n",
    "    "
   ]
  },
  {
   "cell_type": "code",
   "execution_count": 24,
   "metadata": {},
   "outputs": [
    {
     "data": {
      "text/plain": [
       "('32 Spring StNew York, NY 10012',\n",
       " 'Pizza',\n",
       " '$$',\n",
       " '4.0',\n",
       " '(212) 941-7994',\n",
       " 'Open now',\n",
       " 'firstpizza.com',\n",
       " 40.7216368,\n",
       " -73.9957205)"
      ]
     },
     "execution_count": 24,
     "metadata": {},
     "output_type": "execute_result"
    }
   ],
   "source": [
    "#test the function on cafe mogador\n",
    "restaurant_url = \"https://www.yelp.com/biz/lombardis-pizza-new-york?osq=pizza\"\n",
    "get_info(restaurant_url)"
   ]
  },
  {
   "cell_type": "code",
   "execution_count": 94,
   "metadata": {},
   "outputs": [],
   "source": [
    "#Get a list of url links of all businesses (or maybe the first 30)\n",
    "#so that we could compile a list of details on, for example, the first 30 search-result restaurants\n",
    "link_list = []\n",
    "\n",
    "for i in range(1,len(businesses)):\n",
    "    business = businesses[i]\n",
    "    link = 'https://www.yelp.com' + business.get('href')\n",
    "    link_list.append(link)"
   ]
  },
  {
   "cell_type": "code",
   "execution_count": 96,
   "metadata": {},
   "outputs": [],
   "source": [
    "#Create a list of restaurant names\n",
    "name_list=[]\n",
    "for i in range(1,len(businesses)):\n",
    "    business = businesses[i]\n",
    "    name = business.find('span').get_text()\n",
    "    name_list.append(name)"
   ]
  },
  {
   "cell_type": "code",
   "execution_count": 98,
   "metadata": {},
   "outputs": [],
   "source": [
    "#Create a list of all restaurants' information\n",
    "info_list=[]\n",
    "\n",
    "for i in range(len(link_list)):\n",
    "    info_list.append(get_info(link_list[i]))"
   ]
  },
  {
   "cell_type": "code",
   "execution_count": 100,
   "metadata": {},
   "outputs": [],
   "source": [
    "#Create a dictionary showing the information of each restaurant\n",
    "business_info={}\n",
    "\n",
    "for i in range(len(name_list)):\n",
    "    business_info[name_list[i]] = info_list[i]        "
   ]
  },
  {
   "cell_type": "code",
   "execution_count": null,
   "metadata": {},
   "outputs": [],
   "source": [
    "for page_index in range(18):\n",
    "    print (page_index)"
   ]
  },
  {
   "cell_type": "code",
   "execution_count": 28,
   "metadata": {},
   "outputs": [],
   "source": [
    "def get_businesses():\n",
    "    business_list = []\n",
    "    \n",
    "    keyword = input('What do you want to eat ? ')\n",
    "    address = input('Where are you ? ')\n",
    "    limit = input('How many results do you want?')\n",
    "    filters = input('Do you want to sort by price or by rating? ')\n",
    "    \n",
    "    loop_range = (int(limit)-1)//10\n",
    "    for page_index in range(loop_range+1):\n",
    "        url = 'https://www.yelp.com/search?find_desc='+ keyword + '&find_loc=' + address + '&start=' + str(page_index*10)\n",
    "        response = requests.get(url)\n",
    "        try:\n",
    "            results_page = BeautifulSoup(response.content,'lxml')\n",
    "        except:\n",
    "            print(\"we didn't get back result page from yelp correctly\")\n",
    "        \n",
    "        businesses = results_page.find_all('a',{'data-analytics-label':\"biz-name\"})\n",
    "        business_list = []\n",
    "        for business in businesses[1:]:\n",
    "            name = business.find('span').get_text()\n",
    "            link = 'https://www.yelp.com' + business.get('href')\n",
    "            addr,category,price_range,rating_value,phone_number,open_,web,lat,lon= get_info(link)\n",
    "            business_list.append([name,addr,open_,price_range,rating_value,category,phone_number,web,lat,lon])\n",
    "    df = pd.DataFrame(business_list[:int(limit)+1], columns = ['name','address','open or closed','price range','rating value','category','phone','website','lat','lon'])\n",
    "    \n",
    "    if filters == 'rates':\n",
    "        df = df.sort_values(by='rating value',ascending=False)\n",
    "        \n",
    "    elif filters == 'price':\n",
    "        df['length'] = df['price range'].apply(lambda x: len(x))\n",
    "        df = df.sort_values(by='length',ascending=False)\n",
    "        df = df.drop('length', axis=1)\n",
    "    \n",
    "    return(df)"
   ]
  },
  {
   "cell_type": "code",
   "execution_count": 36,
   "metadata": {},
   "outputs": [
    {
     "name": "stdout",
     "output_type": "stream",
     "text": [
      "What do you want to eat ? chinese\n",
      "Where are you ? manhatten\n",
      "How many results do you want?9\n",
      "Do you want to sort by price or by rating? rating\n"
     ]
    }
   ],
   "source": [
    "res = get_businesses()"
   ]
  },
  {
   "cell_type": "code",
   "execution_count": 37,
   "metadata": {},
   "outputs": [
    {
     "data": {
      "text/html": [
       "<div>\n",
       "<style scoped>\n",
       "    .dataframe tbody tr th:only-of-type {\n",
       "        vertical-align: middle;\n",
       "    }\n",
       "\n",
       "    .dataframe tbody tr th {\n",
       "        vertical-align: top;\n",
       "    }\n",
       "\n",
       "    .dataframe thead th {\n",
       "        text-align: right;\n",
       "    }\n",
       "</style>\n",
       "<table border=\"1\" class=\"dataframe\">\n",
       "  <thead>\n",
       "    <tr style=\"text-align: right;\">\n",
       "      <th></th>\n",
       "      <th>name</th>\n",
       "      <th>address</th>\n",
       "      <th>open or closed</th>\n",
       "      <th>price range</th>\n",
       "      <th>rating value</th>\n",
       "      <th>category</th>\n",
       "      <th>phone</th>\n",
       "      <th>website</th>\n",
       "      <th>lat</th>\n",
       "      <th>lon</th>\n",
       "    </tr>\n",
       "  </thead>\n",
       "  <tbody>\n",
       "    <tr>\n",
       "      <th>0</th>\n",
       "      <td>Café China</td>\n",
       "      <td>13 E 37th StNew York, NY 10016</td>\n",
       "      <td>Open now</td>\n",
       "      <td>$$</td>\n",
       "      <td>4.0</td>\n",
       "      <td>Szechuan</td>\n",
       "      <td>(212) 213-2810</td>\n",
       "      <td>cafechinanyc.com</td>\n",
       "      <td>40.749923</td>\n",
       "      <td>-73.981946</td>\n",
       "    </tr>\n",
       "    <tr>\n",
       "      <th>1</th>\n",
       "      <td>Hui Restaurant &amp; Bar</td>\n",
       "      <td>314 E 70th StFL 1New York, NY 10021</td>\n",
       "      <td>Open now</td>\n",
       "      <td>$$</td>\n",
       "      <td>4.5</td>\n",
       "      <td>Bars</td>\n",
       "      <td>(646) 869-0339</td>\n",
       "      <td>huirestaurantandbar.com</td>\n",
       "      <td>40.766929</td>\n",
       "      <td>-73.958518</td>\n",
       "    </tr>\n",
       "    <tr>\n",
       "      <th>2</th>\n",
       "      <td>China Xiang</td>\n",
       "      <td>360 W 42nd StreetNew York, NY 10036</td>\n",
       "      <td>Open now</td>\n",
       "      <td>$$</td>\n",
       "      <td>4.0</td>\n",
       "      <td>Chinese</td>\n",
       "      <td>(212) 967-6088</td>\n",
       "      <td>chinaxiang360.com</td>\n",
       "      <td>40.758290</td>\n",
       "      <td>-73.992511</td>\n",
       "    </tr>\n",
       "    <tr>\n",
       "      <th>3</th>\n",
       "      <td>Xi’an Famous Foods</td>\n",
       "      <td>24 W 45th StNew York, NY 10036</td>\n",
       "      <td>Open now</td>\n",
       "      <td>$</td>\n",
       "      <td>4.0</td>\n",
       "      <td>Chinese</td>\n",
       "      <td>(212) 786-2068</td>\n",
       "      <td>xianfoods.com</td>\n",
       "      <td>40.755795</td>\n",
       "      <td>-73.980813</td>\n",
       "    </tr>\n",
       "    <tr>\n",
       "      <th>4</th>\n",
       "      <td>Zest Szechuan</td>\n",
       "      <td>45 W 39th StNew York, NY 10018</td>\n",
       "      <td>Open now</td>\n",
       "      <td>$$</td>\n",
       "      <td>3.5</td>\n",
       "      <td>Szechuan</td>\n",
       "      <td>(646) 870-0521</td>\n",
       "      <td>zestszechuan.com</td>\n",
       "      <td>40.752733</td>\n",
       "      <td>-73.984451</td>\n",
       "    </tr>\n",
       "    <tr>\n",
       "      <th>5</th>\n",
       "      <td>Radiance</td>\n",
       "      <td>208 E 50th St2nd &amp; 3rd AveNew York, NY 10022</td>\n",
       "      <td>Open now</td>\n",
       "      <td>$$</td>\n",
       "      <td>4.0</td>\n",
       "      <td>Chinese</td>\n",
       "      <td>(212) 888-8060</td>\n",
       "      <td>radiancetea.com</td>\n",
       "      <td>40.755578</td>\n",
       "      <td>-73.970350</td>\n",
       "    </tr>\n",
       "    <tr>\n",
       "      <th>6</th>\n",
       "      <td>Joe’s Shanghai</td>\n",
       "      <td>24 W 56th StNew York, NY 10019</td>\n",
       "      <td>Open now</td>\n",
       "      <td>$$</td>\n",
       "      <td>3.5</td>\n",
       "      <td>Shanghainese</td>\n",
       "      <td>(212) 333-3868</td>\n",
       "      <td>joeshanghairestaurants.com</td>\n",
       "      <td>40.762769</td>\n",
       "      <td>-73.975901</td>\n",
       "    </tr>\n",
       "    <tr>\n",
       "      <th>7</th>\n",
       "      <td>Spice Symphony</td>\n",
       "      <td>150 E 50th StNew York, NY 10022</td>\n",
       "      <td>Open now</td>\n",
       "      <td>$$</td>\n",
       "      <td>4.5</td>\n",
       "      <td>Chinese</td>\n",
       "      <td>(212) 300-4869</td>\n",
       "      <td>spicesymphony.com</td>\n",
       "      <td>40.755905</td>\n",
       "      <td>-73.971570</td>\n",
       "    </tr>\n",
       "    <tr>\n",
       "      <th>8</th>\n",
       "      <td>Jasmine Restaurant</td>\n",
       "      <td>216 E 49th StNew York, NY 10017</td>\n",
       "      <td>Open now</td>\n",
       "      <td>$$</td>\n",
       "      <td>4.0</td>\n",
       "      <td>Shanghainese</td>\n",
       "      <td>(212) 371-2348</td>\n",
       "      <td>jasminerestaurantnyc.com</td>\n",
       "      <td>40.754730</td>\n",
       "      <td>-73.970640</td>\n",
       "    </tr>\n",
       "    <tr>\n",
       "      <th>9</th>\n",
       "      <td>Dim Sum Palace</td>\n",
       "      <td>334 W 46th StNew York, NY 10036</td>\n",
       "      <td>Open now</td>\n",
       "      <td>$$</td>\n",
       "      <td>4.0</td>\n",
       "      <td>Dim Sum</td>\n",
       "      <td>(646) 861-1910</td>\n",
       "      <td>dimsumpalace.com</td>\n",
       "      <td>40.760196</td>\n",
       "      <td>-73.989345</td>\n",
       "    </tr>\n",
       "  </tbody>\n",
       "</table>\n",
       "</div>"
      ],
      "text/plain": [
       "                   name                                       address  \\\n",
       "0            Café China                13 E 37th StNew York, NY 10016   \n",
       "1  Hui Restaurant & Bar           314 E 70th StFL 1New York, NY 10021   \n",
       "2           China Xiang           360 W 42nd StreetNew York, NY 10036   \n",
       "3    Xi’an Famous Foods                24 W 45th StNew York, NY 10036   \n",
       "4         Zest Szechuan                45 W 39th StNew York, NY 10018   \n",
       "5              Radiance  208 E 50th St2nd & 3rd AveNew York, NY 10022   \n",
       "6        Joe’s Shanghai                24 W 56th StNew York, NY 10019   \n",
       "7        Spice Symphony               150 E 50th StNew York, NY 10022   \n",
       "8    Jasmine Restaurant               216 E 49th StNew York, NY 10017   \n",
       "9        Dim Sum Palace               334 W 46th StNew York, NY 10036   \n",
       "\n",
       "  open or closed price range rating value      category           phone  \\\n",
       "0       Open now          $$          4.0      Szechuan  (212) 213-2810   \n",
       "1       Open now          $$          4.5          Bars  (646) 869-0339   \n",
       "2       Open now          $$          4.0       Chinese  (212) 967-6088   \n",
       "3       Open now           $          4.0       Chinese  (212) 786-2068   \n",
       "4       Open now          $$          3.5      Szechuan  (646) 870-0521   \n",
       "5       Open now          $$          4.0       Chinese  (212) 888-8060   \n",
       "6       Open now          $$          3.5  Shanghainese  (212) 333-3868   \n",
       "7       Open now          $$          4.5       Chinese  (212) 300-4869   \n",
       "8       Open now          $$          4.0  Shanghainese  (212) 371-2348   \n",
       "9       Open now          $$          4.0       Dim Sum  (646) 861-1910   \n",
       "\n",
       "                      website        lat        lon  \n",
       "0            cafechinanyc.com  40.749923 -73.981946  \n",
       "1     huirestaurantandbar.com  40.766929 -73.958518  \n",
       "2           chinaxiang360.com  40.758290 -73.992511  \n",
       "3               xianfoods.com  40.755795 -73.980813  \n",
       "4            zestszechuan.com  40.752733 -73.984451  \n",
       "5             radiancetea.com  40.755578 -73.970350  \n",
       "6  joeshanghairestaurants.com  40.762769 -73.975901  \n",
       "7           spicesymphony.com  40.755905 -73.971570  \n",
       "8    jasminerestaurantnyc.com  40.754730 -73.970640  \n",
       "9            dimsumpalace.com  40.760196 -73.989345  "
      ]
     },
     "execution_count": 37,
     "metadata": {},
     "output_type": "execute_result"
    }
   ],
   "source": [
    "res"
   ]
  },
  {
   "cell_type": "code",
   "execution_count": null,
   "metadata": {},
   "outputs": [],
   "source": [
    "import folium\n",
    "m = folium.Map(location=[40.8075355, -73.9625727],zoom_start=14)"
   ]
  },
  {
   "cell_type": "code",
   "execution_count": null,
   "metadata": {},
   "outputs": [],
   "source": [
    "# a marker is created for any restaurant: red for critical situation and orange for not critical\n",
    "for k in range(len(res)):\n",
    "    folium.Marker([res['lat'].iloc[k],res['lon'].iloc[k]],popup=res['name'].iloc[k]).add_to(m)\n",
    "m"
   ]
  },
  {
   "cell_type": "code",
   "execution_count": null,
   "metadata": {},
   "outputs": [],
   "source": [
    "#workspace\n",
    "url = \"https://www.yelp.com/search?find_desc=burger+&find_loc=new+york\"\n",
    "response = requests.get(url)\n",
    "results_page = BeautifulSoup(response.content,'lxml')\n",
    "businesses = results_page.find_all('a',{'data-analytics-label':\"biz-name\"})\n",
    "business_list = []\n",
    "for business in businesses:\n",
    "    name = business.find('span').get_text()\n",
    "    link = 'https://www.yelp.com' + business.get('href')\n",
    "    addr,category,price_range,rating_value,phone_number,open_,web = get_info(link)\n",
    "    #[name,open_,latitude,longitude,price_range,rating_value,review_count,category,phone_number,web]        \n",
    "    #df.loc[i] = [name,open_,latitude,longitude,price_range,rating_value,review_count,category,phone_number,web]\n",
    "    business_list.append([name,open_,price_range,rating_value,category,phone_number,web])\n",
    "business_list\n"
   ]
  },
  {
   "cell_type": "code",
   "execution_count": null,
   "metadata": {},
   "outputs": [],
   "source": []
  },
  {
   "cell_type": "code",
   "execution_count": null,
   "metadata": {},
   "outputs": [],
   "source": []
  }
 ],
 "metadata": {
  "kernelspec": {
   "display_name": "Python 3",
   "language": "python",
   "name": "python3"
  },
  "language_info": {
   "codemirror_mode": {
    "name": "ipython",
    "version": 3
   },
   "file_extension": ".py",
   "mimetype": "text/x-python",
   "name": "python",
   "nbconvert_exporter": "python",
   "pygments_lexer": "ipython3",
   "version": "3.6.5"
  }
 },
 "nbformat": 4,
 "nbformat_minor": 2
}
