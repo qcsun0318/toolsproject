{
 "cells": [
  {
   "cell_type": "code",
   "execution_count": null,
   "metadata": {},
   "outputs": [],
   "source": [
    "#This is the notebook for tools_project"
   ]
  },
  {
   "cell_type": "code",
   "execution_count": 1,
   "metadata": {},
   "outputs": [],
   "source": [
    "# scraping libraries to read html code\n",
    "import requests\n",
    "from bs4 import BeautifulSoup\n",
    "import json"
   ]
  },
  {
   "cell_type": "code",
   "execution_count": 2,
   "metadata": {},
   "outputs": [],
   "source": [
    "# pandas library to create dataframe\n",
    "import pandas as pd\n",
    "import numpy as np"
   ]
  },
  {
   "cell_type": "code",
   "execution_count": 69,
   "metadata": {},
   "outputs": [
    {
     "name": "stdout",
     "output_type": "stream",
     "text": [
      "What do you want to eat ? ramen\n",
      "Where are you ? new york\n"
     ]
    },
    {
     "data": {
      "text/plain": [
       "'https://www.yelp.com/search?find_desc=ramen&find_loc=new york'"
      ]
     },
     "execution_count": 69,
     "metadata": {},
     "output_type": "execute_result"
    }
   ],
   "source": [
    "# Direct to initial results\n",
    "url = 'https://www.yelp.com/search?find_desc='\n",
    "keyword = input('What do you want to eat ? ')\n",
    "address = input('Where are you ? ')\n",
    "\n",
    "url = 'https://www.yelp.com/search?find_desc='+ keyword + '&find_loc=' + address \n",
    "url"
   ]
  },
  {
   "cell_type": "code",
   "execution_count": 70,
   "metadata": {},
   "outputs": [
    {
     "data": {
      "text/plain": [
       "200"
      ]
     },
     "execution_count": 70,
     "metadata": {},
     "output_type": "execute_result"
    }
   ],
   "source": [
    "# Checking if the url is \"valid\", the status code should be 200\n",
    "response = requests.get(url)\n",
    "response.status_code"
   ]
  },
  {
   "cell_type": "code",
   "execution_count": 71,
   "metadata": {},
   "outputs": [],
   "source": [
    "# extract the html code from the web page = https://www.yelp.com/search?find_desc=Restaurants&find_loc=New+York,+NY&start=30\n",
    "results_page = BeautifulSoup(response.content,'lxml')"
   ]
  },
  {
   "cell_type": "code",
   "execution_count": 72,
   "metadata": {},
   "outputs": [],
   "source": [
    "# creating a list of businesses with the html code of the business as elements of the list\n",
    "businesses = results_page.find_all('a',class_ = \"biz-name js-analytics-click\")"
   ]
  },
  {
   "cell_type": "code",
   "execution_count": 73,
   "metadata": {},
   "outputs": [
    {
     "data": {
      "text/plain": [
       "[<a class=\"biz-name js-analytics-click\" data-analytics-label=\"biz-name\" data-hovercard-id=\"_ZA2zJZ51LoxIKbwDKQEJw\" href=\"/adredir?ad_business_id=OLY3Ppf7PHFeT0j_O6ptVg&amp;campaign_id=-PWZfTF3CdSDnl6rI5g44A&amp;click_origin=search_results&amp;placement=above_search&amp;redirect_url=https%3A%2F%2Fwww.yelp.com%2Fbiz%2Fzen-6-new-york&amp;request_id=f23301c110c0f051&amp;signature=dc80f1987b57ac450d2589d4cd303838bcc0e948a2cd6381ac21403c516a5271&amp;slot=0\"><span>Zen 6</span></a>,\n",
       " <a class=\"biz-name js-analytics-click\" data-analytics-label=\"biz-name\" data-hovercard-id=\"xJJUNXIR1JECvREs7j-Mzg\" href=\"/biz/ramen-hood-new-york?osq=ramen\"><span>Ramen Hood</span></a>,\n",
       " <a class=\"biz-name js-analytics-click\" data-analytics-label=\"biz-name\" data-hovercard-id=\"dzIqS1W6xuk3BBO60GiRMg\" href=\"/biz/ippudo-ny-new-york-7?osq=ramen\"><span>Ippudo NY</span></a>,\n",
       " <a class=\"biz-name js-analytics-click\" data-analytics-label=\"biz-name\" data-hovercard-id=\"WXGLNKrunAEuV0QVBYwiKQ\" href=\"/biz/totto-ramen-new-york-12?osq=ramen\"><span>Totto Ramen</span></a>,\n",
       " <a class=\"biz-name js-analytics-click\" data-analytics-label=\"biz-name\" data-hovercard-id=\"V7ok0aCVdpvzBbqh-U-PUw\" href=\"/biz/oki-pok%C3%A9-and-ramen-new-york?osq=ramen\"><span>Oki Poké &amp; Ramen</span></a>,\n",
       " <a class=\"biz-name js-analytics-click\" data-analytics-label=\"biz-name\" data-hovercard-id=\"oyXabgScXfAcX5TnyRJHpw\" href=\"/biz/menkoi-sato-new-york-2?osq=ramen\"><span>Menkoi Sato</span></a>,\n",
       " <a class=\"biz-name js-analytics-click\" data-analytics-label=\"biz-name\" data-hovercard-id=\"IvrqVf9bvFOXQsdOgq-47Q\" href=\"/biz/teppen-ramen-new-york-2?osq=ramen\"><span>Teppen Ramen</span></a>,\n",
       " <a class=\"biz-name js-analytics-click\" data-analytics-label=\"biz-name\" data-hovercard-id=\"cFz_fyU62eHCIq-RA2jyNA\" href=\"/biz/tonchin-new-york-new-york?osq=ramen\"><span>TONCHIN NEW YORK</span></a>,\n",
       " <a class=\"biz-name js-analytics-click\" data-analytics-label=\"biz-name\" data-hovercard-id=\"4AVuFmmOwyg2p_ynbIWZjA\" href=\"/biz/ippudo-westside-new-york?osq=ramen\"><span>Ippudo Westside</span></a>,\n",
       " <a class=\"biz-name js-analytics-click\" data-analytics-label=\"biz-name\" data-hovercard-id=\"du7niIb4gNy08ZHeNpiEMA\" href=\"/biz/minca-new-york?osq=ramen\"><span>Minca</span></a>,\n",
       " <a class=\"biz-name js-analytics-click\" data-analytics-label=\"biz-name\" data-hovercard-id=\"EXXvSgi6HcM2vzE-iJFsWA\" href=\"/biz/ramen-mafia-brooklyn?osq=ramen\"><span>Ramen Mafia</span></a>,\n",
       " <a class=\"biz-name js-analytics-click\" data-analytics-label=\"biz-name\" data-hovercard-id=\"LhmeIEcRH5-ADC4hDDAVyg\" href=\"/biz/ramen-ya-new-york-5?osq=ramen\"><span>Ramen-Ya</span></a>,\n",
       " <a class=\"biz-name js-analytics-click\" data-analytics-label=\"biz-name\" data-hovercard-id=\"sw4Nv1WvQFEoJkofvruTjQ\" href=\"/biz/ramen-spot-brooklyn-4?osq=ramen\"><span>Ramen Spot</span></a>,\n",
       " <a class=\"biz-name js-analytics-click\" data-analytics-label=\"biz-name\" data-hovercard-id=\"du04B4tj_Rl82zgXiY9R-g\" href=\"/biz/momosan-ramen-and-sake-new-york-2?osq=ramen\"><span>Momosan Ramen &amp; Sake</span></a>,\n",
       " <a class=\"biz-name js-analytics-click\" data-analytics-label=\"biz-name\" data-hovercard-id=\"GQonpdMoL7U_84gjh4cGXQ\" href=\"/biz/shinka-ramen-and-sake-bar-new-york-3?osq=ramen\"><span>Shinka Ramen &amp; Sake Bar</span></a>,\n",
       " <a class=\"biz-name js-analytics-click\" data-analytics-label=\"biz-name\" data-hovercard-id=\"6-5UDYDPmaVjgVdt-YqNbw\" href=\"/biz/ramen-lab-new-york-2?osq=ramen\"><span>Ramen Lab</span></a>,\n",
       " <a class=\"biz-name js-analytics-click\" data-analytics-label=\"biz-name\" data-hovercard-id=\"sbMctynPu2qYiZrOC_aKjA\" href=\"/biz/jin-ramen-new-york-3?osq=ramen\"><span>Jin Ramen</span></a>,\n",
       " <a class=\"biz-name js-analytics-click\" data-analytics-label=\"biz-name\" data-hovercard-id=\"9zjBn4cFHwymREAl4KXLvg\" href=\"/biz/tenichi-ramen-cobble-hill-brooklyn?osq=ramen\"><span>Tenichi Ramen Cobble Hill</span></a>,\n",
       " <a class=\"biz-name js-analytics-click\" data-analytics-label=\"biz-name\" data-hovercard-id=\"Uaug7aFw42bqNJwTinnQeQ\" href=\"/biz/zundo-ya-new-york?osq=ramen\"><span>Zundo-Ya</span></a>,\n",
       " <a class=\"biz-name js-analytics-click\" data-analytics-label=\"biz-name\" data-hovercard-id=\"GbXXPMVgfZlBGY8-BJW-DA\" href=\"/biz/ramen-ishida-new-york?osq=ramen\"><span>Ramen Ishida</span></a>,\n",
       " <a class=\"biz-name js-analytics-click\" data-analytics-label=\"biz-name\" data-hovercard-id=\"jOMI9gXNLJuvccmtQMucpA\" href=\"/biz/ichiba-ramen-new-york-2?osq=ramen\"><span>Ichiba Ramen</span></a>,\n",
       " <a class=\"biz-name js-analytics-click\" data-analytics-label=\"biz-name\" data-hovercard-id=\"Ot1xBXJAuAXirJcNUCWojA\" href=\"/biz/menya-jiro-brooklyn-brooklyn-2?osq=ramen\"><span>Menya Jiro- Brooklyn</span></a>,\n",
       " <a class=\"biz-name js-analytics-click\" data-analytics-label=\"biz-name\" data-hovercard-id=\"1AiIr8MlMFKht5EmdEqlzA\" href=\"/biz/nishida-sho-ten-new-york-2?osq=ramen\"><span>Nishida Sho-ten</span></a>,\n",
       " <a class=\"biz-name js-analytics-click\" data-analytics-label=\"biz-name\" data-hovercard-id=\"peEeBvGnfrn3AiGYgNPerQ\" href=\"/biz/ichiran-brooklyn-brooklyn?osq=ramen\"><span>ICHIRAN - Brooklyn</span></a>,\n",
       " <a class=\"biz-name js-analytics-click\" data-analytics-label=\"biz-name\" data-hovercard-id=\"iu6E12Z7W7qd9HvQ1nEPgA\" href=\"/biz/zest-ramen-new-york-8?osq=ramen\"><span>Zest Ramen</span></a>,\n",
       " <a class=\"biz-name js-analytics-click\" data-analytics-label=\"biz-name\" data-hovercard-id=\"zrrlwFXlfnc-b-VsxLGxRw\" href=\"/biz/tamashii-ramen-astoria?osq=ramen\"><span>Tamashii Ramen</span></a>,\n",
       " <a class=\"biz-name js-analytics-click\" data-analytics-label=\"biz-name\" data-hovercard-id=\"nUQXUKH7NF2eGUUSP9AP6w\" href=\"/biz/chuko-brooklyn-2?osq=ramen\"><span>Chuko</span></a>,\n",
       " <a class=\"biz-name js-analytics-click\" data-analytics-label=\"biz-name\" data-hovercard-id=\"npxs4Eml8yf-oqF_LY-GDw\" href=\"/biz/ichiran-midtown-new-york?osq=ramen\"><span>ICHIRAN Midtown</span></a>,\n",
       " <a class=\"biz-name js-analytics-click\" data-analytics-label=\"biz-name\" data-hovercard-id=\"dxTzW__lOWk29vLSnBPWaA\" href=\"/biz/jun-men-ramen-bar-new-york?osq=ramen\"><span>Jun-Men Ramen Bar</span></a>,\n",
       " <a class=\"biz-name js-analytics-click\" data-analytics-label=\"biz-name\" data-hovercard-id=\"Sw0RXc1Nj-J-go627nNGYQ\" href=\"/biz/ramen-misoya-new-york?osq=ramen\"><span>Ramen Misoya</span></a>,\n",
       " <a class=\"biz-name js-analytics-click\" data-analytics-label=\"biz-name\" data-hovercard-id=\"8k3ZaOS35jkJY5OLpZ266g\" href=\"/biz/totto-ramen-midtown-east-new-york-2?osq=ramen\"><span>Totto Ramen - Midtown East</span></a>]"
      ]
     },
     "execution_count": 73,
     "metadata": {},
     "output_type": "execute_result"
    }
   ],
   "source": [
    "businesses"
   ]
  },
  {
   "cell_type": "code",
   "execution_count": 74,
   "metadata": {},
   "outputs": [],
   "source": [
    "# selecting the first element (a particular restaurant in our case) of the list businesses and looking in the\n",
    "#ignore the first element of the businesses list, it is an ad by yelp, regular list start from the second (index = 1)\n",
    "# html code for its name\n",
    "business = businesses[1]\n",
    "name = business.find('span').get_text()\n",
    "\n",
    "# getting the link to the yelp page this particular restaurant\n",
    "link = 'https://www.yelp.com' + business.get('href')"
   ]
  },
  {
   "cell_type": "code",
   "execution_count": 75,
   "metadata": {},
   "outputs": [
    {
     "name": "stdout",
     "output_type": "stream",
     "text": [
      "Ramen Hood https://www.yelp.com/biz/ramen-hood-new-york?osq=ramen\n"
     ]
    }
   ],
   "source": [
    "print(name,link)"
   ]
  },
  {
   "cell_type": "code",
   "execution_count": 76,
   "metadata": {},
   "outputs": [],
   "source": [
    "# extracting the html code of the web page associated with the first business of our list businesses\n",
    "response_business = requests.get(link)\n",
    "results_business_page = BeautifulSoup(response_business.content,'lxml')"
   ]
  },
  {
   "cell_type": "code",
   "execution_count": 77,
   "metadata": {},
   "outputs": [],
   "source": [
    "# looking in the html page of the restaurant for latitude and longitude coordinates of the restaurant\n",
    "# the json object json_map contains these coordinates\n",
    "json_map = results_business_page.find('div', class_ = \"lightbox-map hidden\").get('data-map-state')\n",
    "\n",
    "# we can convert this json object to a python dictionnary using the following method\n",
    "dict_map = json.loads(json_map)\n",
    "\n",
    "# the relevant keys in this dict are \"markers\", \"location\" and \"latitude\" and \"longitude\"\n",
    "latitude = dict_map[\"markers\"][1][\"location\"][\"latitude\"]\n",
    "longitude = dict_map[\"markers\"][1][\"location\"][\"longitude\"]"
   ]
  },
  {
   "cell_type": "code",
   "execution_count": 78,
   "metadata": {},
   "outputs": [
    {
     "data": {
      "text/plain": [
       "'{\"serviceAreas\": [], \"moMapPossible\": true, \"scrollwheelZoom\": false, \"zoomControlPosition\": \"top_right\", \"minZoomlevel\": null, \"isFullBleed\": false, \"maxZoomlevel\": null, \"zoom\": 15, \"library\": \"google\", \"fitToGeobox\": false, \"hoods\": [], \"adPinColor\": null, \"markers\": [{\"location\": null, \"key\": \"directions_marker\", \"icon\": {\"name\": \"directions\", \"anchorOffset\": [12, 32], \"activeOrigin\": [0, 0], \"scaledSize\": [24, 32], \"regularUri\": \"https://s3-media4.fl.yelpcdn.com/assets/srv0/yelp_maps/79f63ebc20db/assets/img/directions@2x.png\", \"size\": [24, 32], \"activeUri\": \"https://s3-media4.fl.yelpcdn.com/assets/srv0/yelp_maps/7249ab345ac8/assets/img/directions_highlighted@2x.png\", \"regularOrigin\": [0, 0]}}, {\"resourceType\": \"business\", \"url\": \"/biz/ramen-hood-new-york\", \"resourceId\": \"oy_FqW6XO8S06pg6nHbhog\", \"shouldOpenInNewTab\": false, \"location\": {\"latitude\": 40.7223112701284, \"longitude\": -73.9973774072879}, \"key\": \"starred_business\", \"hovercardId\": \"xJJUNXIR1JECvREs7j-Mzg\", \"icon\": {\"name\": \"starred\", \"anchorOffset\": [12, 32], \"activeOrigin\": [0, 0], \"scaledSize\": [24, 32], \"regularUri\": \"https://s3-media4.fl.yelpcdn.com/assets/srv0/yelp_maps/7ffd8e34c576/assets/img/annotation_star@2x.png\", \"size\": [24, 32], \"activeUri\": \"https://s3-media3.fl.yelpcdn.com/assets/srv0/yelp_maps/63e0e17c0579/assets/img/annotation_star_highlighted@2x.png\", \"regularOrigin\": [0, 0]}}, {\"location\": null, \"key\": \"current_location\", \"icon\": {\"name\": \"current_location\", \"anchorOffset\": [23, 23], \"activeOrigin\": [0, 0], \"scaledSize\": [46, 46], \"regularUri\": \"https://s3-media2.fl.yelpcdn.com/assets/srv0/yelp_maps/56b9eee3f027/assets/img/current_location_dot@2x.png\", \"size\": [46, 46], \"activeUri\": \"https://s3-media2.fl.yelpcdn.com/assets/srv0/yelp_maps/56b9eee3f027/assets/img/current_location_dot@2x.png\", \"regularOrigin\": [0, 0]}}], \"shouldDrawCheckbox\": false, \"overlayWidth\": 335, \"topBizBounds\": null, \"market\": null, \"center\": {\"latitude\": 40.7223112701284, \"longitude\": -73.9973774072879}}'"
      ]
     },
     "execution_count": 78,
     "metadata": {},
     "output_type": "execute_result"
    }
   ],
   "source": [
    "json_map"
   ]
  },
  {
   "cell_type": "code",
   "execution_count": 79,
   "metadata": {},
   "outputs": [
    {
     "name": "stdout",
     "output_type": "stream",
     "text": [
      "40.7223112701284 -73.9973774072879\n"
     ]
    }
   ],
   "source": [
    "print(latitude,longitude)"
   ]
  },
  {
   "cell_type": "code",
   "execution_count": 80,
   "metadata": {},
   "outputs": [],
   "source": [
    "# The category can be found in the 'a' tag under \"span\", class_ = 'category-str-list' tag, \n",
    "category= results_business_page.find(\"span\", class_ = 'category-str-list').find('a').get_text()"
   ]
  },
  {
   "cell_type": "code",
   "execution_count": 81,
   "metadata": {},
   "outputs": [
    {
     "data": {
      "text/plain": [
       "'Ramen'"
      ]
     },
     "execution_count": 81,
     "metadata": {},
     "output_type": "execute_result"
    }
   ],
   "source": [
    "category"
   ]
  },
  {
   "cell_type": "code",
   "execution_count": 82,
   "metadata": {},
   "outputs": [],
   "source": [
    "# the price range ('$','$$','$$$', or '$$$$') can be found in the \"span\", class_ = 'business-attribute price-range' tag\n",
    "# the price range is not always available, that is why we need to catch errors \n",
    "# if necessary (hence the try: except) structure\n",
    "\n",
    "try:\n",
    "    price_range = results_business_page.find(\"span\", class_ = 'business-attribute price-range').get_text()\n",
    "except:\n",
    "    price_range = None"
   ]
  },
  {
   "cell_type": "code",
   "execution_count": 83,
   "metadata": {},
   "outputs": [
    {
     "name": "stdout",
     "output_type": "stream",
     "text": [
      "$$\n"
     ]
    }
   ],
   "source": [
    "print(price_range)"
   ]
  },
  {
   "cell_type": "code",
   "execution_count": 84,
   "metadata": {},
   "outputs": [],
   "source": [
    "# the ratings associated to a particular restaurant are in the \"div\", itemprop = 'aggregateRating' tag\n",
    "# the rating value (between 0 and 5) can be accessed through ratings (= results_business_page.find(\"div\", \n",
    "# itemprop = 'aggregateRating') at the tag \"meta\" and the attribute 'content'\n",
    "# the number of reviews is available through ratings at the 'span' tag\n",
    "\n",
    "ratings = results_business_page.find(\"div\", itemprop = 'aggregateRating')\n",
    "rating_value = ratings.find(\"meta\").get('content')\n",
    "review_count = ratings.find(\"span\").get_text()"
   ]
  },
  {
   "cell_type": "code",
   "execution_count": 85,
   "metadata": {},
   "outputs": [
    {
     "name": "stdout",
     "output_type": "stream",
     "text": [
      "4.5 31\n"
     ]
    }
   ],
   "source": [
    "print(rating_value,review_count)"
   ]
  },
  {
   "cell_type": "code",
   "execution_count": 86,
   "metadata": {},
   "outputs": [],
   "source": [
    "# the phone number can be accessed at the tag 'span',itemprop = \"telephone\"\n",
    "# phone numbers are not always available so we need to catch errors using the try:... except: structure\n",
    "\n",
    "try:\n",
    "    phone_number = results_business_page.find('span',itemprop = \"telephone\").get_text().strip()\n",
    "except:\n",
    "    phone_number = None   "
   ]
  },
  {
   "cell_type": "code",
   "execution_count": 87,
   "metadata": {},
   "outputs": [
    {
     "name": "stdout",
     "output_type": "stream",
     "text": [
      "\n"
     ]
    }
   ],
   "source": [
    "print(phone_number)"
   ]
  },
  {
   "cell_type": "code",
   "execution_count": 88,
   "metadata": {},
   "outputs": [],
   "source": [
    "# We want to know if the restaurant is currently open: this information is \n",
    "# given at the 'span', class_ = \"nowrap extra open\" tag. This information is not always \n",
    "# available that is why we use the try: ... except:... structure\n",
    "\n",
    "try:\n",
    "    open_ = results_business_page.find('span', class_ = \"nowrap extra open\").get_text()\n",
    "except:\n",
    "    open_ = None"
   ]
  },
  {
   "cell_type": "code",
   "execution_count": 89,
   "metadata": {},
   "outputs": [
    {
     "name": "stdout",
     "output_type": "stream",
     "text": [
      "None\n"
     ]
    }
   ],
   "source": [
    "print(open_)"
   ]
  },
  {
   "cell_type": "code",
   "execution_count": 119,
   "metadata": {},
   "outputs": [
    {
     "data": {
      "text/plain": [
       "\"62 Spring StChef's Club CounterNew York, NY 10012\""
      ]
     },
     "execution_count": 119,
     "metadata": {},
     "output_type": "execute_result"
    }
   ],
   "source": [
    "try:\n",
    "    addr = results_business_page.find('strong', class_ = \"street-address\").get_text().strip()\n",
    "except:\n",
    "    addr = None\n",
    "addr"
   ]
  },
  {
   "cell_type": "code",
   "execution_count": 91,
   "metadata": {},
   "outputs": [
    {
     "data": {
      "text/plain": [
       "'chefsclubcounter.com'"
      ]
     },
     "execution_count": 91,
     "metadata": {},
     "output_type": "execute_result"
    }
   ],
   "source": [
    "try:\n",
    "    web = results_business_page.find('span', class_ = \"biz-website js-biz-website js-add-url-tagging\").find('a').get_text()\n",
    "except:\n",
    "    web = None\n",
    "web"
   ]
  },
  {
   "cell_type": "code",
   "execution_count": 7,
   "metadata": {},
   "outputs": [],
   "source": [
    "#want to put all infomations we want to get from one business into one funtion\n",
    "#input: url link\n",
    "#output: all details we tested above\n",
    "def get_info(link):\n",
    "    response_business = requests.get(link)\n",
    "    results_business_page = BeautifulSoup(response_business.content,'lxml')\n",
    "    \n",
    "    try:\n",
    "        addr = results_business_page.find('strong', class_ = \"street-address\").get_text().strip()\n",
    "    except:\n",
    "        addr = None\n",
    "\n",
    "    json_map = results_business_page.find('div', class_ = \"lightbox-map hidden\").get('data-map-state')\n",
    "    dict_map = json.loads(json_map)\n",
    "    latitude = dict_map[\"markers\"][1][\"location\"][\"latitude\"]\n",
    "    longitude = dict_map[\"markers\"][1][\"location\"][\"longitude\"]\n",
    "\n",
    "    category= results_business_page.find(\"span\", class_ = 'category-str-list').find('a').get_text()\n",
    "        \n",
    "    try:\n",
    "        price_range = results_business_page.find(\"span\", class_ = 'business-attribute price-range').get_text()\n",
    "    except:\n",
    "        price_range = None\n",
    "        \n",
    "    ratings = results_business_page.find(\"div\", itemprop = 'aggregateRating')\n",
    "    rating_value = ratings.find(\"meta\").get('content')\n",
    "    review_count = ratings.find(\"span\").get_text()\n",
    "    \n",
    "    try:\n",
    "        phone_number = results_business_page.find('span',itemprop = \"telephone\").get_text().strip()\n",
    "    except:\n",
    "        phone_number = None\n",
    "        \n",
    "    try:\n",
    "        open_ = results_business_page.find('span', class_ = \"nowrap extra open\").get_text()\n",
    "    except:\n",
    "        open_ = None\n",
    "    try:\n",
    "        web = results_business_page.find('span', class_ = \"biz-website js-biz-website js-add-url-tagging\").find('a').get_text()\n",
    "    except:\n",
    "        web = None\n",
    "        \n",
    "    return(addr,latitude,longitude,category,price_range,rating_value,review_count,phone_number,open_,web)\n",
    "    "
   ]
  },
  {
   "cell_type": "code",
   "execution_count": 93,
   "metadata": {},
   "outputs": [
    {
     "data": {
      "text/plain": [
       "('133 Wythe AveBrooklyn, NY 11211',\n",
       " 40.719747,\n",
       " -73.959993,\n",
       " 'Moroccan',\n",
       " '$$',\n",
       " '4.5',\n",
       " '1004',\n",
       " '(718) 486-9222',\n",
       " 'Open now',\n",
       " 'cafemogador.com/williamsburg')"
      ]
     },
     "execution_count": 93,
     "metadata": {},
     "output_type": "execute_result"
    }
   ],
   "source": [
    "#test the function on cafe mogador\n",
    "restaurant_url = \"https://www.yelp.com/biz/cafe-mogador-brooklyn?osq=Restaurants\"\n",
    "get_info(restaurant_url)"
   ]
  },
  {
   "cell_type": "code",
   "execution_count": 94,
   "metadata": {},
   "outputs": [],
   "source": [
    "#Get a list of url links of all businesses (or maybe the first 30)\n",
    "#so that we could compile a list of details on, for example, the first 30 search-result restaurants\n",
    "link_list = []\n",
    "\n",
    "for i in range(1,len(businesses)):\n",
    "    business = businesses[i]\n",
    "    link = 'https://www.yelp.com' + business.get('href')\n",
    "    link_list.append(link)"
   ]
  },
  {
   "cell_type": "code",
   "execution_count": 95,
   "metadata": {},
   "outputs": [
    {
     "data": {
      "text/plain": [
       "['https://www.yelp.com/biz/ramen-hood-new-york?osq=ramen',\n",
       " 'https://www.yelp.com/biz/ippudo-ny-new-york-7?osq=ramen',\n",
       " 'https://www.yelp.com/biz/totto-ramen-new-york-12?osq=ramen',\n",
       " 'https://www.yelp.com/biz/oki-pok%C3%A9-and-ramen-new-york?osq=ramen',\n",
       " 'https://www.yelp.com/biz/menkoi-sato-new-york-2?osq=ramen',\n",
       " 'https://www.yelp.com/biz/teppen-ramen-new-york-2?osq=ramen',\n",
       " 'https://www.yelp.com/biz/tonchin-new-york-new-york?osq=ramen',\n",
       " 'https://www.yelp.com/biz/ippudo-westside-new-york?osq=ramen',\n",
       " 'https://www.yelp.com/biz/minca-new-york?osq=ramen',\n",
       " 'https://www.yelp.com/biz/ramen-mafia-brooklyn?osq=ramen',\n",
       " 'https://www.yelp.com/biz/ramen-ya-new-york-5?osq=ramen',\n",
       " 'https://www.yelp.com/biz/ramen-spot-brooklyn-4?osq=ramen',\n",
       " 'https://www.yelp.com/biz/momosan-ramen-and-sake-new-york-2?osq=ramen',\n",
       " 'https://www.yelp.com/biz/shinka-ramen-and-sake-bar-new-york-3?osq=ramen',\n",
       " 'https://www.yelp.com/biz/ramen-lab-new-york-2?osq=ramen',\n",
       " 'https://www.yelp.com/biz/jin-ramen-new-york-3?osq=ramen',\n",
       " 'https://www.yelp.com/biz/tenichi-ramen-cobble-hill-brooklyn?osq=ramen',\n",
       " 'https://www.yelp.com/biz/zundo-ya-new-york?osq=ramen',\n",
       " 'https://www.yelp.com/biz/ramen-ishida-new-york?osq=ramen',\n",
       " 'https://www.yelp.com/biz/ichiba-ramen-new-york-2?osq=ramen',\n",
       " 'https://www.yelp.com/biz/menya-jiro-brooklyn-brooklyn-2?osq=ramen',\n",
       " 'https://www.yelp.com/biz/nishida-sho-ten-new-york-2?osq=ramen',\n",
       " 'https://www.yelp.com/biz/ichiran-brooklyn-brooklyn?osq=ramen',\n",
       " 'https://www.yelp.com/biz/zest-ramen-new-york-8?osq=ramen',\n",
       " 'https://www.yelp.com/biz/tamashii-ramen-astoria?osq=ramen',\n",
       " 'https://www.yelp.com/biz/chuko-brooklyn-2?osq=ramen',\n",
       " 'https://www.yelp.com/biz/ichiran-midtown-new-york?osq=ramen',\n",
       " 'https://www.yelp.com/biz/jun-men-ramen-bar-new-york?osq=ramen',\n",
       " 'https://www.yelp.com/biz/ramen-misoya-new-york?osq=ramen',\n",
       " 'https://www.yelp.com/biz/totto-ramen-midtown-east-new-york-2?osq=ramen']"
      ]
     },
     "execution_count": 95,
     "metadata": {},
     "output_type": "execute_result"
    }
   ],
   "source": [
    "link_list"
   ]
  },
  {
   "cell_type": "code",
   "execution_count": 96,
   "metadata": {},
   "outputs": [],
   "source": [
    "#Create a list of restaurant names\n",
    "name_list=[]\n",
    "for i in range(1,len(businesses)):\n",
    "    business = businesses[i]\n",
    "    name = business.find('span').get_text()\n",
    "    name_list.append(name)"
   ]
  },
  {
   "cell_type": "code",
   "execution_count": 97,
   "metadata": {},
   "outputs": [
    {
     "data": {
      "text/plain": [
       "['Ramen Hood',\n",
       " 'Ippudo NY',\n",
       " 'Totto Ramen',\n",
       " 'Oki Poké & Ramen',\n",
       " 'Menkoi Sato',\n",
       " 'Teppen Ramen',\n",
       " 'TONCHIN NEW YORK',\n",
       " 'Ippudo Westside',\n",
       " 'Minca',\n",
       " 'Ramen Mafia',\n",
       " 'Ramen-Ya',\n",
       " 'Ramen Spot',\n",
       " 'Momosan Ramen & Sake',\n",
       " 'Shinka Ramen & Sake Bar',\n",
       " 'Ramen Lab',\n",
       " 'Jin Ramen',\n",
       " 'Tenichi Ramen Cobble Hill',\n",
       " 'Zundo-Ya',\n",
       " 'Ramen Ishida',\n",
       " 'Ichiba Ramen',\n",
       " 'Menya Jiro- Brooklyn',\n",
       " 'Nishida Sho-ten',\n",
       " 'ICHIRAN - Brooklyn',\n",
       " 'Zest Ramen',\n",
       " 'Tamashii Ramen',\n",
       " 'Chuko',\n",
       " 'ICHIRAN Midtown',\n",
       " 'Jun-Men Ramen Bar',\n",
       " 'Ramen Misoya',\n",
       " 'Totto Ramen - Midtown East']"
      ]
     },
     "execution_count": 97,
     "metadata": {},
     "output_type": "execute_result"
    }
   ],
   "source": [
    "name_list"
   ]
  },
  {
   "cell_type": "code",
   "execution_count": 98,
   "metadata": {},
   "outputs": [],
   "source": [
    "#Create a list of all restaurants' information\n",
    "info_list=[]\n",
    "\n",
    "for i in range(len(link_list)):\n",
    "    info_list.append(get_info(link_list[i]))"
   ]
  },
  {
   "cell_type": "code",
   "execution_count": 99,
   "metadata": {},
   "outputs": [
    {
     "data": {
      "text/plain": [
       "[(\"62 Spring StChef's Club CounterNew York, NY 10012\",\n",
       "  40.7223112701284,\n",
       "  -73.9973774072879,\n",
       "  'Ramen',\n",
       "  '$$',\n",
       "  '4.5',\n",
       "  '31',\n",
       "  '',\n",
       "  None,\n",
       "  'chefsclubcounter.com'),\n",
       " ('65 4th AveNew York, NY 10003',\n",
       "  40.730948,\n",
       "  -73.990287,\n",
       "  'Ramen',\n",
       "  '$$',\n",
       "  '4.0',\n",
       "  '9559',\n",
       "  '',\n",
       "  'Open now',\n",
       "  'ippudony.com'),\n",
       " ('366 W 52nd StNew York, NY 10019',\n",
       "  40.7643285462369,\n",
       "  -73.9876558773155,\n",
       "  'Ramen',\n",
       "  '$$',\n",
       "  '4.0',\n",
       "  '5002',\n",
       "  '(212) 582-0052',\n",
       "  'Open now',\n",
       "  'tottoramen.com'),\n",
       " ('135 E 45th StNew York, NY 10017',\n",
       "  40.7532576637017,\n",
       "  -73.9739739314382,\n",
       "  'Poke',\n",
       "  '$$',\n",
       "  '4.5',\n",
       "  '17',\n",
       "  '(212) 922-1900',\n",
       "  'Open now',\n",
       "  'okipokeramen.com'),\n",
       " ('7 Cornelia StNew York, NY 10014',\n",
       "  40.7316536618558,\n",
       "  -74.0017022376845,\n",
       "  'Ramen',\n",
       "  '$$',\n",
       "  '4.5',\n",
       "  '72',\n",
       "  '(212) 727-1050',\n",
       "  'Open now',\n",
       "  None),\n",
       " ('159 E 55th StNew York, NY 10022',\n",
       "  40.7592651,\n",
       "  -73.9688038,\n",
       "  'Ramen',\n",
       "  '$$',\n",
       "  '4.5',\n",
       "  '222',\n",
       "  '(212) 355-2974',\n",
       "  'Open now',\n",
       "  'teppenramen.com'),\n",
       " ('13 W 36th StNew York, NY 10018',\n",
       "  40.7502727,\n",
       "  -73.9844951,\n",
       "  'Ramen',\n",
       "  '$$',\n",
       "  '4.5',\n",
       "  '498',\n",
       "  '(646) 692-9912',\n",
       "  'Open now',\n",
       "  'tonchinnewyork.com'),\n",
       " ('321 W 51st StNew York, NY 10019',\n",
       "  40.7634897,\n",
       "  -73.9865956,\n",
       "  'Ramen',\n",
       "  '$$',\n",
       "  '4.0',\n",
       "  '3284',\n",
       "  '',\n",
       "  'Open now',\n",
       "  'ippudony.com'),\n",
       " ('536 E 5th StNew York, NY 10009',\n",
       "  40.723998,\n",
       "  -73.982949,\n",
       "  'Ramen',\n",
       "  '$$',\n",
       "  '4.0',\n",
       "  '1580',\n",
       "  '(212) 505-8001',\n",
       "  'Open now',\n",
       "  'newyorkramen.com/minca'),\n",
       " ('208 Franklin StBrooklyn, NY 11222',\n",
       "  40.7326251,\n",
       "  -73.9578179,\n",
       "  'Ramen',\n",
       "  '$$',\n",
       "  '4.5',\n",
       "  '27',\n",
       "  '(347) 599-1212',\n",
       "  'Open now',\n",
       "  None),\n",
       " ('181 W 4th StNew York, NY 10014',\n",
       "  40.732536,\n",
       "  -74.001681,\n",
       "  'Ramen',\n",
       "  '$$',\n",
       "  '4.0',\n",
       "  '869',\n",
       "  '(212) 989-5440',\n",
       "  'Open now',\n",
       "  'ramenya.nyc'),\n",
       " ('760 Manhattan AveBrooklyn, NY 11222',\n",
       "  40.7268634,\n",
       "  -73.9523341,\n",
       "  'Ramen',\n",
       "  '$$',\n",
       "  '4.5',\n",
       "  '23',\n",
       "  '(718) 809-2527',\n",
       "  'Open now',\n",
       "  None),\n",
       " ('342 Lexington AveNew York, NY 10016',\n",
       "  40.7499315,\n",
       "  -73.9774703,\n",
       "  'Ramen',\n",
       "  '$$',\n",
       "  '4.0',\n",
       "  '1328',\n",
       "  '(646) 201-5529',\n",
       "  None,\n",
       "  'momosanramen.com'),\n",
       " ('93 Bowery StNew York, NY 10002',\n",
       "  40.7170795322745,\n",
       "  -73.9952574670315,\n",
       "  'Ramen',\n",
       "  '$$',\n",
       "  '4.5',\n",
       "  '145',\n",
       "  '(212) 343-8111',\n",
       "  None,\n",
       "  'shinkaramen.com'),\n",
       " ('70 Kenmare StNew York, NY 10012',\n",
       "  40.7209918,\n",
       "  -73.9963582,\n",
       "  'Ramen',\n",
       "  '$$',\n",
       "  '4.0',\n",
       "  '291',\n",
       "  '(646) 613-7522',\n",
       "  None,\n",
       "  'ramen-lab.com'),\n",
       " ('462 Amsterdam AveNew York, NY 10024',\n",
       "  40.785327,\n",
       "  -73.976952,\n",
       "  'Ramen',\n",
       "  '$$',\n",
       "  '4.0',\n",
       "  '702',\n",
       "  '(646) 657-0755',\n",
       "  None,\n",
       "  'jinramen.com'),\n",
       " ('116 Smith StBrooklyn, NY 11201',\n",
       "  40.6878049,\n",
       "  -73.9899744,\n",
       "  'Ramen',\n",
       "  '$$',\n",
       "  '4.0',\n",
       "  '26',\n",
       "  '(929) 295-0060',\n",
       "  'Open now',\n",
       "  'ten-ichi-ramen-cobble-hill.bu…'),\n",
       " ('84 E 10th StNew York, NY 10003',\n",
       "  40.7308664,\n",
       "  -73.989951,\n",
       "  'Ramen',\n",
       "  '$$',\n",
       "  '4.0',\n",
       "  '650',\n",
       "  '(917) 639-3549',\n",
       "  'Open now',\n",
       "  'zundo-ya.com'),\n",
       " ('122 Ludlow StNew York, NY 10002',\n",
       "  40.7196298,\n",
       "  -73.9883517,\n",
       "  'Ramen',\n",
       "  '$$',\n",
       "  '4.5',\n",
       "  '106',\n",
       "  '(646) 590-3276',\n",
       "  'Open now',\n",
       "  None),\n",
       " ('125 University PlNew York, NY 10003',\n",
       "  40.7347597,\n",
       "  -73.9919204,\n",
       "  'Ramen',\n",
       "  '$$',\n",
       "  '4.0',\n",
       "  '433',\n",
       "  '(212) 777-2495',\n",
       "  'Open now',\n",
       "  'ichibaramen.com'),\n",
       " ('306 Gold StSte C2Brooklyn, NY 11201',\n",
       "  40.6950707,\n",
       "  -73.9835309,\n",
       "  'Ramen',\n",
       "  '$$',\n",
       "  '4.0',\n",
       "  '75',\n",
       "  '(718) 855-0988',\n",
       "  'Open now',\n",
       "  'menyajiro-ny.com'),\n",
       " ('302 E 49th StNew York, NY 10017',\n",
       "  40.753969,\n",
       "  -73.968722,\n",
       "  'Ramen',\n",
       "  '$$',\n",
       "  '4.0',\n",
       "  '657',\n",
       "  '(212) 308-0791',\n",
       "  'Open now',\n",
       "  'nishidasho-ten.com'),\n",
       " ('374 Johnson AveBrooklyn, NY 11206',\n",
       "  40.707587,\n",
       "  -73.933271,\n",
       "  'Ramen',\n",
       "  '$$',\n",
       "  '3.5',\n",
       "  '950',\n",
       "  '(718) 381-0491',\n",
       "  'Open now',\n",
       "  'ichiranusa.com/location/ichir…'),\n",
       " ('112 Eldridge StNew York, NY 10002',\n",
       "  40.7181291,\n",
       "  -73.9917449,\n",
       "  'Ramen',\n",
       "  '$$',\n",
       "  '4.5',\n",
       "  '134',\n",
       "  '(347) 694-5059',\n",
       "  'Open now',\n",
       "  None),\n",
       " ('2905 BroadwayAstoria, NY 11106',\n",
       "  40.7628026,\n",
       "  -73.926578,\n",
       "  'Ramen',\n",
       "  '$$',\n",
       "  '4.0',\n",
       "  '625',\n",
       "  '(718) 278-5888',\n",
       "  'Open now',\n",
       "  'tamashiiny.com'),\n",
       " ('565 Vanderbilt AveBrooklyn, NY 11238',\n",
       "  40.680784,\n",
       "  -73.967455,\n",
       "  'Asian Fusion',\n",
       "  '$$',\n",
       "  '4.0',\n",
       "  '995',\n",
       "  '(347) 425-9570',\n",
       "  None,\n",
       "  'chukobk.com'),\n",
       " ('132 W 31st StNew York, NY 10001',\n",
       "  40.74839,\n",
       "  -73.99062,\n",
       "  'Ramen',\n",
       "  '$$',\n",
       "  '3.5',\n",
       "  '251',\n",
       "  '(212) 465-0701',\n",
       "  'Open now',\n",
       "  'en.ichiran.com/index.php'),\n",
       " ('249 9th AveNew York, NY 10001',\n",
       "  40.748209,\n",
       "  -74.00047,\n",
       "  'Ramen',\n",
       "  '$$',\n",
       "  '4.0',\n",
       "  '528',\n",
       "  '(646) 852-6787',\n",
       "  None,\n",
       "  'junmenramen.com'),\n",
       " ('129 2nd AveNew York, NY 10003',\n",
       "  40.728511,\n",
       "  -73.9880763,\n",
       "  'Ramen',\n",
       "  '$$',\n",
       "  '4.0',\n",
       "  '850',\n",
       "  '(212) 677-4825',\n",
       "  'Open now',\n",
       "  'misoyanyc.com'),\n",
       " ('248 E 52nd StNew York, NY 10022',\n",
       "  40.7562184833974,\n",
       "  -73.9679722894107,\n",
       "  'Ramen',\n",
       "  '$$',\n",
       "  '4.0',\n",
       "  '952',\n",
       "  '(212) 421-0052',\n",
       "  'Open now',\n",
       "  'tottoramen.com')]"
      ]
     },
     "execution_count": 99,
     "metadata": {},
     "output_type": "execute_result"
    }
   ],
   "source": [
    "info_list"
   ]
  },
  {
   "cell_type": "code",
   "execution_count": 100,
   "metadata": {},
   "outputs": [],
   "source": [
    "#Create a dictionary showing the information of each restaurant\n",
    "business_info={}\n",
    "\n",
    "for i in range(len(name_list)):\n",
    "    business_info[name_list[i]] = info_list[i]        "
   ]
  },
  {
   "cell_type": "code",
   "execution_count": 101,
   "metadata": {},
   "outputs": [
    {
     "data": {
      "text/plain": [
       "{'Ramen Hood': (\"62 Spring StChef's Club CounterNew York, NY 10012\",\n",
       "  40.7223112701284,\n",
       "  -73.9973774072879,\n",
       "  'Ramen',\n",
       "  '$$',\n",
       "  '4.5',\n",
       "  '31',\n",
       "  '',\n",
       "  None,\n",
       "  'chefsclubcounter.com'),\n",
       " 'Ippudo NY': ('65 4th AveNew York, NY 10003',\n",
       "  40.730948,\n",
       "  -73.990287,\n",
       "  'Ramen',\n",
       "  '$$',\n",
       "  '4.0',\n",
       "  '9559',\n",
       "  '',\n",
       "  'Open now',\n",
       "  'ippudony.com'),\n",
       " 'Totto Ramen': ('366 W 52nd StNew York, NY 10019',\n",
       "  40.7643285462369,\n",
       "  -73.9876558773155,\n",
       "  'Ramen',\n",
       "  '$$',\n",
       "  '4.0',\n",
       "  '5002',\n",
       "  '(212) 582-0052',\n",
       "  'Open now',\n",
       "  'tottoramen.com'),\n",
       " 'Oki Poké & Ramen': ('135 E 45th StNew York, NY 10017',\n",
       "  40.7532576637017,\n",
       "  -73.9739739314382,\n",
       "  'Poke',\n",
       "  '$$',\n",
       "  '4.5',\n",
       "  '17',\n",
       "  '(212) 922-1900',\n",
       "  'Open now',\n",
       "  'okipokeramen.com'),\n",
       " 'Menkoi Sato': ('7 Cornelia StNew York, NY 10014',\n",
       "  40.7316536618558,\n",
       "  -74.0017022376845,\n",
       "  'Ramen',\n",
       "  '$$',\n",
       "  '4.5',\n",
       "  '72',\n",
       "  '(212) 727-1050',\n",
       "  'Open now',\n",
       "  None),\n",
       " 'Teppen Ramen': ('159 E 55th StNew York, NY 10022',\n",
       "  40.7592651,\n",
       "  -73.9688038,\n",
       "  'Ramen',\n",
       "  '$$',\n",
       "  '4.5',\n",
       "  '222',\n",
       "  '(212) 355-2974',\n",
       "  'Open now',\n",
       "  'teppenramen.com'),\n",
       " 'TONCHIN NEW YORK': ('13 W 36th StNew York, NY 10018',\n",
       "  40.7502727,\n",
       "  -73.9844951,\n",
       "  'Ramen',\n",
       "  '$$',\n",
       "  '4.5',\n",
       "  '498',\n",
       "  '(646) 692-9912',\n",
       "  'Open now',\n",
       "  'tonchinnewyork.com'),\n",
       " 'Ippudo Westside': ('321 W 51st StNew York, NY 10019',\n",
       "  40.7634897,\n",
       "  -73.9865956,\n",
       "  'Ramen',\n",
       "  '$$',\n",
       "  '4.0',\n",
       "  '3284',\n",
       "  '',\n",
       "  'Open now',\n",
       "  'ippudony.com'),\n",
       " 'Minca': ('536 E 5th StNew York, NY 10009',\n",
       "  40.723998,\n",
       "  -73.982949,\n",
       "  'Ramen',\n",
       "  '$$',\n",
       "  '4.0',\n",
       "  '1580',\n",
       "  '(212) 505-8001',\n",
       "  'Open now',\n",
       "  'newyorkramen.com/minca'),\n",
       " 'Ramen Mafia': ('208 Franklin StBrooklyn, NY 11222',\n",
       "  40.7326251,\n",
       "  -73.9578179,\n",
       "  'Ramen',\n",
       "  '$$',\n",
       "  '4.5',\n",
       "  '27',\n",
       "  '(347) 599-1212',\n",
       "  'Open now',\n",
       "  None),\n",
       " 'Ramen-Ya': ('181 W 4th StNew York, NY 10014',\n",
       "  40.732536,\n",
       "  -74.001681,\n",
       "  'Ramen',\n",
       "  '$$',\n",
       "  '4.0',\n",
       "  '869',\n",
       "  '(212) 989-5440',\n",
       "  'Open now',\n",
       "  'ramenya.nyc'),\n",
       " 'Ramen Spot': ('760 Manhattan AveBrooklyn, NY 11222',\n",
       "  40.7268634,\n",
       "  -73.9523341,\n",
       "  'Ramen',\n",
       "  '$$',\n",
       "  '4.5',\n",
       "  '23',\n",
       "  '(718) 809-2527',\n",
       "  'Open now',\n",
       "  None),\n",
       " 'Momosan Ramen & Sake': ('342 Lexington AveNew York, NY 10016',\n",
       "  40.7499315,\n",
       "  -73.9774703,\n",
       "  'Ramen',\n",
       "  '$$',\n",
       "  '4.0',\n",
       "  '1328',\n",
       "  '(646) 201-5529',\n",
       "  None,\n",
       "  'momosanramen.com'),\n",
       " 'Shinka Ramen & Sake Bar': ('93 Bowery StNew York, NY 10002',\n",
       "  40.7170795322745,\n",
       "  -73.9952574670315,\n",
       "  'Ramen',\n",
       "  '$$',\n",
       "  '4.5',\n",
       "  '145',\n",
       "  '(212) 343-8111',\n",
       "  None,\n",
       "  'shinkaramen.com'),\n",
       " 'Ramen Lab': ('70 Kenmare StNew York, NY 10012',\n",
       "  40.7209918,\n",
       "  -73.9963582,\n",
       "  'Ramen',\n",
       "  '$$',\n",
       "  '4.0',\n",
       "  '291',\n",
       "  '(646) 613-7522',\n",
       "  None,\n",
       "  'ramen-lab.com'),\n",
       " 'Jin Ramen': ('462 Amsterdam AveNew York, NY 10024',\n",
       "  40.785327,\n",
       "  -73.976952,\n",
       "  'Ramen',\n",
       "  '$$',\n",
       "  '4.0',\n",
       "  '702',\n",
       "  '(646) 657-0755',\n",
       "  None,\n",
       "  'jinramen.com'),\n",
       " 'Tenichi Ramen Cobble Hill': ('116 Smith StBrooklyn, NY 11201',\n",
       "  40.6878049,\n",
       "  -73.9899744,\n",
       "  'Ramen',\n",
       "  '$$',\n",
       "  '4.0',\n",
       "  '26',\n",
       "  '(929) 295-0060',\n",
       "  'Open now',\n",
       "  'ten-ichi-ramen-cobble-hill.bu…'),\n",
       " 'Zundo-Ya': ('84 E 10th StNew York, NY 10003',\n",
       "  40.7308664,\n",
       "  -73.989951,\n",
       "  'Ramen',\n",
       "  '$$',\n",
       "  '4.0',\n",
       "  '650',\n",
       "  '(917) 639-3549',\n",
       "  'Open now',\n",
       "  'zundo-ya.com'),\n",
       " 'Ramen Ishida': ('122 Ludlow StNew York, NY 10002',\n",
       "  40.7196298,\n",
       "  -73.9883517,\n",
       "  'Ramen',\n",
       "  '$$',\n",
       "  '4.5',\n",
       "  '106',\n",
       "  '(646) 590-3276',\n",
       "  'Open now',\n",
       "  None),\n",
       " 'Ichiba Ramen': ('125 University PlNew York, NY 10003',\n",
       "  40.7347597,\n",
       "  -73.9919204,\n",
       "  'Ramen',\n",
       "  '$$',\n",
       "  '4.0',\n",
       "  '433',\n",
       "  '(212) 777-2495',\n",
       "  'Open now',\n",
       "  'ichibaramen.com'),\n",
       " 'Menya Jiro- Brooklyn': ('306 Gold StSte C2Brooklyn, NY 11201',\n",
       "  40.6950707,\n",
       "  -73.9835309,\n",
       "  'Ramen',\n",
       "  '$$',\n",
       "  '4.0',\n",
       "  '75',\n",
       "  '(718) 855-0988',\n",
       "  'Open now',\n",
       "  'menyajiro-ny.com'),\n",
       " 'Nishida Sho-ten': ('302 E 49th StNew York, NY 10017',\n",
       "  40.753969,\n",
       "  -73.968722,\n",
       "  'Ramen',\n",
       "  '$$',\n",
       "  '4.0',\n",
       "  '657',\n",
       "  '(212) 308-0791',\n",
       "  'Open now',\n",
       "  'nishidasho-ten.com'),\n",
       " 'ICHIRAN - Brooklyn': ('374 Johnson AveBrooklyn, NY 11206',\n",
       "  40.707587,\n",
       "  -73.933271,\n",
       "  'Ramen',\n",
       "  '$$',\n",
       "  '3.5',\n",
       "  '950',\n",
       "  '(718) 381-0491',\n",
       "  'Open now',\n",
       "  'ichiranusa.com/location/ichir…'),\n",
       " 'Zest Ramen': ('112 Eldridge StNew York, NY 10002',\n",
       "  40.7181291,\n",
       "  -73.9917449,\n",
       "  'Ramen',\n",
       "  '$$',\n",
       "  '4.5',\n",
       "  '134',\n",
       "  '(347) 694-5059',\n",
       "  'Open now',\n",
       "  None),\n",
       " 'Tamashii Ramen': ('2905 BroadwayAstoria, NY 11106',\n",
       "  40.7628026,\n",
       "  -73.926578,\n",
       "  'Ramen',\n",
       "  '$$',\n",
       "  '4.0',\n",
       "  '625',\n",
       "  '(718) 278-5888',\n",
       "  'Open now',\n",
       "  'tamashiiny.com'),\n",
       " 'Chuko': ('565 Vanderbilt AveBrooklyn, NY 11238',\n",
       "  40.680784,\n",
       "  -73.967455,\n",
       "  'Asian Fusion',\n",
       "  '$$',\n",
       "  '4.0',\n",
       "  '995',\n",
       "  '(347) 425-9570',\n",
       "  None,\n",
       "  'chukobk.com'),\n",
       " 'ICHIRAN Midtown': ('132 W 31st StNew York, NY 10001',\n",
       "  40.74839,\n",
       "  -73.99062,\n",
       "  'Ramen',\n",
       "  '$$',\n",
       "  '3.5',\n",
       "  '251',\n",
       "  '(212) 465-0701',\n",
       "  'Open now',\n",
       "  'en.ichiran.com/index.php'),\n",
       " 'Jun-Men Ramen Bar': ('249 9th AveNew York, NY 10001',\n",
       "  40.748209,\n",
       "  -74.00047,\n",
       "  'Ramen',\n",
       "  '$$',\n",
       "  '4.0',\n",
       "  '528',\n",
       "  '(646) 852-6787',\n",
       "  None,\n",
       "  'junmenramen.com'),\n",
       " 'Ramen Misoya': ('129 2nd AveNew York, NY 10003',\n",
       "  40.728511,\n",
       "  -73.9880763,\n",
       "  'Ramen',\n",
       "  '$$',\n",
       "  '4.0',\n",
       "  '850',\n",
       "  '(212) 677-4825',\n",
       "  'Open now',\n",
       "  'misoyanyc.com'),\n",
       " 'Totto Ramen - Midtown East': ('248 E 52nd StNew York, NY 10022',\n",
       "  40.7562184833974,\n",
       "  -73.9679722894107,\n",
       "  'Ramen',\n",
       "  '$$',\n",
       "  '4.0',\n",
       "  '952',\n",
       "  '(212) 421-0052',\n",
       "  'Open now',\n",
       "  'tottoramen.com')}"
      ]
     },
     "execution_count": 101,
     "metadata": {},
     "output_type": "execute_result"
    }
   ],
   "source": [
    "business_info"
   ]
  },
  {
   "cell_type": "code",
   "execution_count": 15,
   "metadata": {},
   "outputs": [],
   "source": [
    "def get_businesses():\n",
    "    business_list = []\n",
    "    \n",
    "    keyword = input('What do you want to eat ? ')\n",
    "    address = input('Where are you ? ')\n",
    "    \n",
    "    #df = pd.DataFrame(columns = ['name','open or closed','latitude','longitude','price range','rating value','review count','category','phone','website'])\n",
    "                                             \n",
    "    url = 'https://www.yelp.com/search?find_desc='+ keyword + '&find_loc=' + address \n",
    "    response = requests.get(url)\n",
    "    try:\n",
    "        results_page = BeautifulSoup(response.content,'lxml')\n",
    "    except:\n",
    "        print(\"we didn't get back result page from yelp correctly\")\n",
    "        \n",
    "    businesses = results_page.find_all('a',{'data-analytics-label':\"biz-name\"})\n",
    "    i = 0\n",
    "    for business in businesses:\n",
    "        name = business.find('span').get_text()\n",
    "        link = 'https://www.yelp.com' + business.get('href')\n",
    "        info_list = get_info(link)\n",
    "        addr,latitude,longitude,category,price_range,rating_value,review_count,phone_number,open_,web = info_list[0],info_list[1],info_list[2],info_list[3],info_list[4],info_list[5],info_list[6],info_list[7],info_list[8],info_list[9]\n",
    "        \n",
    "        #df.loc[i] = [name,open_,latitude,longitude,price_range,rating_value,review_count,category,phone_number,web]\n",
    "        business_list.append([name,open_,latitude,longitude,price_range,rating_value,review_count,category,phone_number,web])\n",
    "        i += 1\n",
    "\n",
    "    return(business_list)"
   ]
  },
  {
   "cell_type": "code",
   "execution_count": 13,
   "metadata": {},
   "outputs": [],
   "source": [
    "url = \"https://www.yelp.com/search?find_desc=burger+&find_loc=new+york\"\n",
    "response = requests.get(url)\n",
    "results_page = BeautifulSoup(response.content,'lxml')\n",
    "businesses = results_page.find_all('a',{'data-analytics-label':\"biz-name\"})\n",
    "# i = 0\n",
    "# for business in businesses:\n",
    "#     name = business.find('span').get_text()\n",
    "#     link = 'https://www.yelp.com' + business.get('href')\n",
    "#     info_list = get_info(link)\n",
    "#     addr,latitude,longitude,category,price_range,rating_value,review_count,phone_number,open_,web = info_list[0],info_list[1],info_list[2],info_list[3],info_list[4],info_list[5],info_list[6],info_list[7],info_list[8],info_list[9]\n",
    "        \n",
    "#     #df.loc[i] = [name,open_,latitude,longitude,price_range,rating_value,review_count,category,phone_number,web]\n",
    "#     business_list.append([name,open_,latitude,longitude,price_range,rating_value,review_count,category,phone_number,web])\n",
    "#     i += 1\n"
   ]
  },
  {
   "cell_type": "code",
   "execution_count": 14,
   "metadata": {},
   "outputs": [
    {
     "data": {
      "text/plain": [
       "[<a class=\"biz-name js-analytics-click\" data-analytics-label=\"biz-name\" data-hovercard-id=\"w5qH0SZVZyioFvkpmA_tdQ\" href=\"/adredir?ad_business_id=HIyfZAMlvjpVqrK4vbxIFA&amp;campaign_id=Aqe9fxTYJJQ0EDKiWFwm6g&amp;click_origin=search_results&amp;placement=above_search&amp;redirect_url=https%3A%2F%2Fwww.yelp.com%2Fbiz%2Fellis-cafe-new-york&amp;request_id=dab61a031de84304&amp;signature=9f8ef3737e71e0ad18b5ad1610ec1b1fe7956863f161dfe96698d8730140cde9&amp;slot=0\"><span>Ellis Cafe</span></a>,\n",
       " <a class=\"biz-name js-analytics-click\" data-analytics-label=\"biz-name\" data-hovercard-id=\"rczx6GjD349yU0IfEZSi7A\" href=\"/biz/burger-and-lobster-new-york-4?osq=burger\"><span>Burger &amp; Lobster</span></a>,\n",
       " <a class=\"biz-name js-analytics-click\" data-analytics-label=\"biz-name\" data-hovercard-id=\"6x8Bb6eHqdegr7Ev2Nfo1g\" href=\"/biz/juanchis-burger-brooklyn?osq=burger\"><span>Juanchi’s Burger</span></a>,\n",
       " <a class=\"biz-name js-analytics-click\" data-analytics-label=\"biz-name\" data-hovercard-id=\"bMUKF1-8MTDNeoId94TdMQ\" href=\"/biz/burgerology-astoria?osq=burger\"><span>Burgerology</span></a>,\n",
       " <a class=\"biz-name js-analytics-click\" data-analytics-label=\"biz-name\" data-hovercard-id=\"J2lrT00jtssNf1VV9JOn_g\" href=\"/biz/pauls-da-burger-joint-new-york-2?osq=burger\"><span>Paul’s Da Burger Joint</span></a>,\n",
       " <a class=\"biz-name js-analytics-click\" data-analytics-label=\"biz-name\" data-hovercard-id=\"8L1otU9R4C2AEbi0VbHBHw\" href=\"/biz/bensons-nyc-new-york?osq=burger\"><span>Benson’s NYC</span></a>,\n",
       " <a class=\"biz-name js-analytics-click\" data-analytics-label=\"biz-name\" data-hovercard-id=\"g-ue_wIcbSdOmBouyPbiTQ\" href=\"/biz/the-burgary-new-york?osq=burger\"><span>The Burgary</span></a>,\n",
       " <a class=\"biz-name js-analytics-click\" data-analytics-label=\"biz-name\" data-hovercard-id=\"foZvl_bWf9r4CfLfbRft5A\" href=\"/biz/two-8-two-bar-and-burger-brooklyn?osq=burger\"><span>Two 8 Two Bar &amp; Burger</span></a>,\n",
       " <a class=\"biz-name js-analytics-click\" data-analytics-label=\"biz-name\" data-hovercard-id=\"vGvJ0PJq3t4eaL7nQI22lg\" href=\"/biz/black-iron-burger-new-york-7?osq=burger\"><span>Black Iron Burger</span></a>,\n",
       " <a class=\"biz-name js-analytics-click\" data-analytics-label=\"biz-name\" data-hovercard-id=\"ASZdq1YgNgwlv4WLE2SDDw\" href=\"/biz/black-iron-burger-new-york-8?osq=burger\"><span>Black Iron Burger</span></a>,\n",
       " <a class=\"biz-name js-analytics-click\" data-analytics-label=\"biz-name\" data-hovercard-id=\"uKlNo6GzTuO7a9R-vf-ypw\" href=\"/biz/breakroom-new-york?osq=burger\"><span>Breakroom</span></a>]"
      ]
     },
     "execution_count": 14,
     "metadata": {},
     "output_type": "execute_result"
    }
   ],
   "source": [
    "businesses"
   ]
  },
  {
   "cell_type": "code",
   "execution_count": 16,
   "metadata": {},
   "outputs": [
    {
     "name": "stdout",
     "output_type": "stream",
     "text": [
      "What do you want to eat ? burger\n",
      "Where are you ? new york\n"
     ]
    },
    {
     "ename": "AttributeError",
     "evalue": "'NoneType' object has no attribute 'get'",
     "output_type": "error",
     "traceback": [
      "\u001b[0;31m---------------------------------------------------------------------------\u001b[0m",
      "\u001b[0;31mAttributeError\u001b[0m                            Traceback (most recent call last)",
      "\u001b[0;32m<ipython-input-16-00d212a7b293>\u001b[0m in \u001b[0;36m<module>\u001b[0;34m()\u001b[0m\n\u001b[0;32m----> 1\u001b[0;31m \u001b[0mget_businesses\u001b[0m\u001b[0;34m(\u001b[0m\u001b[0;34m)\u001b[0m\u001b[0;34m\u001b[0m\u001b[0m\n\u001b[0m",
      "\u001b[0;32m<ipython-input-15-a33ae10e4d4d>\u001b[0m in \u001b[0;36mget_businesses\u001b[0;34m()\u001b[0m\n\u001b[1;32m     19\u001b[0m         \u001b[0mname\u001b[0m \u001b[0;34m=\u001b[0m \u001b[0mbusiness\u001b[0m\u001b[0;34m.\u001b[0m\u001b[0mfind\u001b[0m\u001b[0;34m(\u001b[0m\u001b[0;34m'span'\u001b[0m\u001b[0;34m)\u001b[0m\u001b[0;34m.\u001b[0m\u001b[0mget_text\u001b[0m\u001b[0;34m(\u001b[0m\u001b[0;34m)\u001b[0m\u001b[0;34m\u001b[0m\u001b[0m\n\u001b[1;32m     20\u001b[0m         \u001b[0mlink\u001b[0m \u001b[0;34m=\u001b[0m \u001b[0;34m'https://www.yelp.com'\u001b[0m \u001b[0;34m+\u001b[0m \u001b[0mbusiness\u001b[0m\u001b[0;34m.\u001b[0m\u001b[0mget\u001b[0m\u001b[0;34m(\u001b[0m\u001b[0;34m'href'\u001b[0m\u001b[0;34m)\u001b[0m\u001b[0;34m\u001b[0m\u001b[0m\n\u001b[0;32m---> 21\u001b[0;31m         \u001b[0minfo_list\u001b[0m \u001b[0;34m=\u001b[0m \u001b[0mget_info\u001b[0m\u001b[0;34m(\u001b[0m\u001b[0mlink\u001b[0m\u001b[0;34m)\u001b[0m\u001b[0;34m\u001b[0m\u001b[0m\n\u001b[0m\u001b[1;32m     22\u001b[0m         \u001b[0maddr\u001b[0m\u001b[0;34m,\u001b[0m\u001b[0mlatitude\u001b[0m\u001b[0;34m,\u001b[0m\u001b[0mlongitude\u001b[0m\u001b[0;34m,\u001b[0m\u001b[0mcategory\u001b[0m\u001b[0;34m,\u001b[0m\u001b[0mprice_range\u001b[0m\u001b[0;34m,\u001b[0m\u001b[0mrating_value\u001b[0m\u001b[0;34m,\u001b[0m\u001b[0mreview_count\u001b[0m\u001b[0;34m,\u001b[0m\u001b[0mphone_number\u001b[0m\u001b[0;34m,\u001b[0m\u001b[0mopen_\u001b[0m\u001b[0;34m,\u001b[0m\u001b[0mweb\u001b[0m \u001b[0;34m=\u001b[0m \u001b[0minfo_list\u001b[0m\u001b[0;34m[\u001b[0m\u001b[0;36m0\u001b[0m\u001b[0;34m]\u001b[0m\u001b[0;34m,\u001b[0m\u001b[0minfo_list\u001b[0m\u001b[0;34m[\u001b[0m\u001b[0;36m1\u001b[0m\u001b[0;34m]\u001b[0m\u001b[0;34m,\u001b[0m\u001b[0minfo_list\u001b[0m\u001b[0;34m[\u001b[0m\u001b[0;36m2\u001b[0m\u001b[0;34m]\u001b[0m\u001b[0;34m,\u001b[0m\u001b[0minfo_list\u001b[0m\u001b[0;34m[\u001b[0m\u001b[0;36m3\u001b[0m\u001b[0;34m]\u001b[0m\u001b[0;34m,\u001b[0m\u001b[0minfo_list\u001b[0m\u001b[0;34m[\u001b[0m\u001b[0;36m4\u001b[0m\u001b[0;34m]\u001b[0m\u001b[0;34m,\u001b[0m\u001b[0minfo_list\u001b[0m\u001b[0;34m[\u001b[0m\u001b[0;36m5\u001b[0m\u001b[0;34m]\u001b[0m\u001b[0;34m,\u001b[0m\u001b[0minfo_list\u001b[0m\u001b[0;34m[\u001b[0m\u001b[0;36m6\u001b[0m\u001b[0;34m]\u001b[0m\u001b[0;34m,\u001b[0m\u001b[0minfo_list\u001b[0m\u001b[0;34m[\u001b[0m\u001b[0;36m7\u001b[0m\u001b[0;34m]\u001b[0m\u001b[0;34m,\u001b[0m\u001b[0minfo_list\u001b[0m\u001b[0;34m[\u001b[0m\u001b[0;36m8\u001b[0m\u001b[0;34m]\u001b[0m\u001b[0;34m,\u001b[0m\u001b[0minfo_list\u001b[0m\u001b[0;34m[\u001b[0m\u001b[0;36m9\u001b[0m\u001b[0;34m]\u001b[0m\u001b[0;34m\u001b[0m\u001b[0m\n\u001b[1;32m     23\u001b[0m \u001b[0;34m\u001b[0m\u001b[0m\n",
      "\u001b[0;32m<ipython-input-7-c725bc5a1576>\u001b[0m in \u001b[0;36mget_info\u001b[0;34m(link)\u001b[0m\n\u001b[1;32m     11\u001b[0m         \u001b[0maddr\u001b[0m \u001b[0;34m=\u001b[0m \u001b[0;32mNone\u001b[0m\u001b[0;34m\u001b[0m\u001b[0m\n\u001b[1;32m     12\u001b[0m \u001b[0;34m\u001b[0m\u001b[0m\n\u001b[0;32m---> 13\u001b[0;31m     \u001b[0mjson_map\u001b[0m \u001b[0;34m=\u001b[0m \u001b[0mresults_business_page\u001b[0m\u001b[0;34m.\u001b[0m\u001b[0mfind\u001b[0m\u001b[0;34m(\u001b[0m\u001b[0;34m'div'\u001b[0m\u001b[0;34m,\u001b[0m \u001b[0mclass_\u001b[0m \u001b[0;34m=\u001b[0m \u001b[0;34m\"lightbox-map hidden\"\u001b[0m\u001b[0;34m)\u001b[0m\u001b[0;34m.\u001b[0m\u001b[0mget\u001b[0m\u001b[0;34m(\u001b[0m\u001b[0;34m'data-map-state'\u001b[0m\u001b[0;34m)\u001b[0m\u001b[0;34m\u001b[0m\u001b[0m\n\u001b[0m\u001b[1;32m     14\u001b[0m     \u001b[0mdict_map\u001b[0m \u001b[0;34m=\u001b[0m \u001b[0mjson\u001b[0m\u001b[0;34m.\u001b[0m\u001b[0mloads\u001b[0m\u001b[0;34m(\u001b[0m\u001b[0mjson_map\u001b[0m\u001b[0;34m)\u001b[0m\u001b[0;34m\u001b[0m\u001b[0m\n\u001b[1;32m     15\u001b[0m     \u001b[0mlatitude\u001b[0m \u001b[0;34m=\u001b[0m \u001b[0mdict_map\u001b[0m\u001b[0;34m[\u001b[0m\u001b[0;34m\"markers\"\u001b[0m\u001b[0;34m]\u001b[0m\u001b[0;34m[\u001b[0m\u001b[0;36m1\u001b[0m\u001b[0;34m]\u001b[0m\u001b[0;34m[\u001b[0m\u001b[0;34m\"location\"\u001b[0m\u001b[0;34m]\u001b[0m\u001b[0;34m[\u001b[0m\u001b[0;34m\"latitude\"\u001b[0m\u001b[0;34m]\u001b[0m\u001b[0;34m\u001b[0m\u001b[0m\n",
      "\u001b[0;31mAttributeError\u001b[0m: 'NoneType' object has no attribute 'get'"
     ]
    }
   ],
   "source": [
    "get_businesses()"
   ]
  },
  {
   "cell_type": "code",
   "execution_count": null,
   "metadata": {},
   "outputs": [],
   "source": []
  },
  {
   "cell_type": "code",
   "execution_count": null,
   "metadata": {},
   "outputs": [],
   "source": []
  }
 ],
 "metadata": {
  "kernelspec": {
   "display_name": "Python 3",
   "language": "python",
   "name": "python3"
  },
  "language_info": {
   "codemirror_mode": {
    "name": "ipython",
    "version": 3
   },
   "file_extension": ".py",
   "mimetype": "text/x-python",
   "name": "python",
   "nbconvert_exporter": "python",
   "pygments_lexer": "ipython3",
   "version": "3.6.5"
  }
 },
 "nbformat": 4,
 "nbformat_minor": 2
}
