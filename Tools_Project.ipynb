{
 "cells": [
  {
   "cell_type": "code",
   "execution_count": 1,
   "metadata": {},
   "outputs": [],
   "source": [
    "# scraping libraries to read html code\n",
    "import requests\n",
    "from bs4 import BeautifulSoup\n",
    "import json"
   ]
  },
  {
   "cell_type": "code",
   "execution_count": 2,
   "metadata": {},
   "outputs": [],
   "source": [
    "# pandas library to create dataframe\n",
    "# re for match\n",
    "import pandas as pd\n",
    "import numpy as np\n",
    "import re"
   ]
  },
  {
   "cell_type": "code",
   "execution_count": 3,
   "metadata": {
    "slideshow": {
     "slide_type": "-"
    }
   },
   "outputs": [
    {
     "name": "stdout",
     "output_type": "stream",
     "text": [
      "What do you want to eat ? pizza\n",
      "Where are you ? New York\n"
     ]
    },
    {
     "data": {
      "text/plain": [
       "'https://www.yelp.com/search?find_desc=pizza&find_loc=New York'"
      ]
     },
     "execution_count": 3,
     "metadata": {},
     "output_type": "execute_result"
    }
   ],
   "source": [
    "# Direct to initial results\n",
    "url = 'https://www.yelp.com/search?find_desc='\n",
    "keyword = input('What do you want to eat ? ')\n",
    "address = input('Where are you ? ')\n",
    "\n",
    "url = 'https://www.yelp.com/search?find_desc='+ keyword + '&find_loc=' + address \n",
    "url"
   ]
  },
  {
   "cell_type": "code",
   "execution_count": 4,
   "metadata": {},
   "outputs": [
    {
     "data": {
      "text/plain": [
       "200"
      ]
     },
     "execution_count": 4,
     "metadata": {},
     "output_type": "execute_result"
    }
   ],
   "source": [
    "# Checking if the url is \"valid\", the status code should be 200\n",
    "response = requests.get(url)\n",
    "response.status_code"
   ]
  },
  {
   "cell_type": "code",
   "execution_count": 5,
   "metadata": {},
   "outputs": [],
   "source": [
    "# extract the html code from the web page = https://www.yelp.com/search?find_desc=Restaurants&find_loc=New+York,+NY&start=30\n",
    "results_page = BeautifulSoup(response.content,'lxml')"
   ]
  },
  {
   "cell_type": "code",
   "execution_count": 6,
   "metadata": {},
   "outputs": [],
   "source": [
    "# creating a list of businesses with the html code of the business as elements of the list\n",
    "businesses = results_page.find_all('a',class_ = \"biz-name js-analytics-click\")"
   ]
  },
  {
   "cell_type": "code",
   "execution_count": 7,
   "metadata": {},
   "outputs": [],
   "source": [
    "# selecting the first element (a particular restaurant in our case) of the list businesses and looking in the\n",
    "#ignore the first element of the businesses list, it is an ad by yelp, regular list start from the second (index = 1)\n",
    "# html code for its name\n",
    "business = businesses[1]\n",
    "name = business.find('span').get_text()\n",
    "\n",
    "# getting the link to the yelp page this particular restaurant\n",
    "link = 'https://www.yelp.com' + business.get('href')"
   ]
  },
  {
   "cell_type": "code",
   "execution_count": 8,
   "metadata": {},
   "outputs": [
    {
     "name": "stdout",
     "output_type": "stream",
     "text": [
      "Juliana’s Pizza https://www.yelp.com/biz/julianas-pizza-brooklyn-5?osq=pizza\n"
     ]
    }
   ],
   "source": [
    "print(name,link)"
   ]
  },
  {
   "cell_type": "code",
   "execution_count": 9,
   "metadata": {},
   "outputs": [],
   "source": [
    "# extracting the html code of the web page associated with the first business of our list businesses\n",
    "response_business = requests.get(link)\n",
    "results_business_page = BeautifulSoup(response_business.content,'lxml')"
   ]
  },
  {
   "cell_type": "code",
   "execution_count": 10,
   "metadata": {},
   "outputs": [],
   "source": [
    "# looking in the html page of the restaurant for latitude and longitude coordinates of the restaurant\n",
    "# the json object json_map contains these coordinates\n",
    "json_map = results_business_page.find('div', class_ = \"lightbox-map hidden\").get('data-map-state')\n",
    "\n",
    "# we can convert this json object to a python dictionnary using the following method\n",
    "dict_map = json.loads(json_map)\n",
    "\n",
    "# the relevant keys in this dict are \"markers\", \"location\" and \"latitude\" and \"longitude\"\n",
    "latitude = dict_map[\"markers\"][1][\"location\"][\"latitude\"]\n",
    "longitude = dict_map[\"markers\"][1][\"location\"][\"longitude\"]"
   ]
  },
  {
   "cell_type": "code",
   "execution_count": 11,
   "metadata": {},
   "outputs": [
    {
     "data": {
      "text/plain": [
       "'{\"serviceAreas\": [], \"moMapPossible\": true, \"scrollwheelZoom\": false, \"zoomControlPosition\": \"top_right\", \"minZoomlevel\": null, \"isFullBleed\": false, \"maxZoomlevel\": null, \"zoom\": 15, \"library\": \"google\", \"fitToGeobox\": false, \"hoods\": [], \"adPinColor\": null, \"markers\": [{\"location\": null, \"key\": \"directions_marker\", \"icon\": {\"name\": \"directions\", \"anchorOffset\": [12, 32], \"activeOrigin\": [0, 0], \"scaledSize\": [24, 32], \"regularUri\": \"https://s3-media4.fl.yelpcdn.com/assets/srv0/yelp_maps/79f63ebc20db/assets/img/directions@2x.png\", \"size\": [24, 32], \"activeUri\": \"https://s3-media4.fl.yelpcdn.com/assets/srv0/yelp_maps/7249ab345ac8/assets/img/directions_highlighted@2x.png\", \"regularOrigin\": [0, 0]}}, {\"resourceType\": \"business\", \"url\": \"/biz/julianas-pizza-brooklyn-5\", \"resourceId\": \"ysqgdbSrezXgVwER2kQWKA\", \"shouldOpenInNewTab\": false, \"location\": {\"latitude\": 40.7026153030093, \"longitude\": -73.9934159993549}, \"key\": \"starred_business\", \"hovercardId\": \"35vhJmMTZyntSL3LHb0Ebw\", \"icon\": {\"name\": \"starred\", \"anchorOffset\": [12, 32], \"activeOrigin\": [0, 0], \"scaledSize\": [24, 32], \"regularUri\": \"https://s3-media4.fl.yelpcdn.com/assets/srv0/yelp_maps/7ffd8e34c576/assets/img/annotation_star@2x.png\", \"size\": [24, 32], \"activeUri\": \"https://s3-media3.fl.yelpcdn.com/assets/srv0/yelp_maps/63e0e17c0579/assets/img/annotation_star_highlighted@2x.png\", \"regularOrigin\": [0, 0]}}, {\"location\": null, \"key\": \"current_location\", \"icon\": {\"name\": \"current_location\", \"anchorOffset\": [23, 23], \"activeOrigin\": [0, 0], \"scaledSize\": [46, 46], \"regularUri\": \"https://s3-media2.fl.yelpcdn.com/assets/srv0/yelp_maps/56b9eee3f027/assets/img/current_location_dot@2x.png\", \"size\": [46, 46], \"activeUri\": \"https://s3-media2.fl.yelpcdn.com/assets/srv0/yelp_maps/56b9eee3f027/assets/img/current_location_dot@2x.png\", \"regularOrigin\": [0, 0]}}], \"shouldDrawCheckbox\": false, \"overlayWidth\": 335, \"topBizBounds\": null, \"market\": null, \"center\": {\"latitude\": 40.7026153030093, \"longitude\": -73.9934159993549}}'"
      ]
     },
     "execution_count": 11,
     "metadata": {},
     "output_type": "execute_result"
    }
   ],
   "source": [
    "json_map"
   ]
  },
  {
   "cell_type": "code",
   "execution_count": 12,
   "metadata": {},
   "outputs": [
    {
     "name": "stdout",
     "output_type": "stream",
     "text": [
      "40.7026153030093 -73.9934159993549\n"
     ]
    }
   ],
   "source": [
    "print(latitude,longitude)"
   ]
  },
  {
   "cell_type": "code",
   "execution_count": 13,
   "metadata": {},
   "outputs": [],
   "source": [
    "# The category can be found in the 'a' tag under \"span\", class_ = 'category-str-list' tag, \n",
    "category= results_business_page.find(\"span\", class_ = 'category-str-list').find('a').get_text()"
   ]
  },
  {
   "cell_type": "code",
   "execution_count": 14,
   "metadata": {},
   "outputs": [
    {
     "data": {
      "text/plain": [
       "'Pizza'"
      ]
     },
     "execution_count": 14,
     "metadata": {},
     "output_type": "execute_result"
    }
   ],
   "source": [
    "category"
   ]
  },
  {
   "cell_type": "code",
   "execution_count": 15,
   "metadata": {},
   "outputs": [],
   "source": [
    "# the price range ('$','$$','$$$', or '$$$$') can be found in the \"span\", class_ = 'business-attribute price-range' tag\n",
    "# the price range is not always available, that is why we need to catch errors \n",
    "# if necessary (hence the try: except) structure\n",
    "\n",
    "try:\n",
    "    price_range = results_business_page.find(\"span\", class_ = 'business-attribute price-range').get_text()\n",
    "except:\n",
    "    price_range = None"
   ]
  },
  {
   "cell_type": "code",
   "execution_count": 16,
   "metadata": {},
   "outputs": [
    {
     "name": "stdout",
     "output_type": "stream",
     "text": [
      "$$\n"
     ]
    }
   ],
   "source": [
    "print(price_range)"
   ]
  },
  {
   "cell_type": "code",
   "execution_count": 17,
   "metadata": {},
   "outputs": [],
   "source": [
    "# the ratings associated to a particular restaurant are in the \"div\", itemprop = 'aggregateRating' tag\n",
    "# the rating value (between 0 and 5) can be accessed through ratings (= results_business_page.find(\"div\", \n",
    "# itemprop = 'aggregateRating') at the tag \"meta\" and the attribute 'content'\n",
    "# the number of reviews is available through ratings at the 'span' tag\n",
    "\n",
    "ratings = results_business_page.find(\"div\", itemprop = 'aggregateRating')\n",
    "rating_value = ratings.find(\"meta\").get('content')\n",
    "review_count = ratings.find(\"span\").get_text()"
   ]
  },
  {
   "cell_type": "code",
   "execution_count": 18,
   "metadata": {},
   "outputs": [
    {
     "name": "stdout",
     "output_type": "stream",
     "text": [
      "4.5 1844\n"
     ]
    }
   ],
   "source": [
    "print(rating_value,review_count)"
   ]
  },
  {
   "cell_type": "code",
   "execution_count": 19,
   "metadata": {},
   "outputs": [],
   "source": [
    "# the phone number can be accessed at the tag 'span',itemprop = \"telephone\"\n",
    "# phone numbers are not always available so we need to catch errors using the try:... except: structure\n",
    "\n",
    "try:\n",
    "    phone_number = results_business_page.find('span',itemprop = \"telephone\").get_text().strip()\n",
    "except:\n",
    "    phone_number = None   "
   ]
  },
  {
   "cell_type": "code",
   "execution_count": 20,
   "metadata": {},
   "outputs": [
    {
     "name": "stdout",
     "output_type": "stream",
     "text": [
      "(718) 596-6700\n"
     ]
    }
   ],
   "source": [
    "print(phone_number)"
   ]
  },
  {
   "cell_type": "code",
   "execution_count": 21,
   "metadata": {},
   "outputs": [],
   "source": [
    "# We want to know if the restaurant is currently open: this information is \n",
    "# given at the 'span', class_ = \"nowrap extra open\" tag. This information is not always \n",
    "# available that is why we use the try: ... except:... structure\n",
    "\n",
    "try:\n",
    "    open_ = results_business_page.find('span', class_ = \"nowrap extra open\").get_text()\n",
    "except:\n",
    "    open_ = None"
   ]
  },
  {
   "cell_type": "code",
   "execution_count": 22,
   "metadata": {},
   "outputs": [
    {
     "name": "stdout",
     "output_type": "stream",
     "text": [
      "None\n"
     ]
    }
   ],
   "source": [
    "print(open_)"
   ]
  },
  {
   "cell_type": "code",
   "execution_count": 23,
   "metadata": {},
   "outputs": [
    {
     "data": {
      "text/plain": [
       "'19 Old Fulton StBrooklyn, NY 11201'"
      ]
     },
     "execution_count": 23,
     "metadata": {},
     "output_type": "execute_result"
    }
   ],
   "source": [
    "try:\n",
    "    addr = results_business_page.find('strong', class_ = \"street-address\").get_text().strip()\n",
    "except:\n",
    "    addr = None\n",
    "addr"
   ]
  },
  {
   "cell_type": "code",
   "execution_count": 24,
   "metadata": {},
   "outputs": [
    {
     "data": {
      "text/plain": [
       "'julianaspizza.com'"
      ]
     },
     "execution_count": 24,
     "metadata": {},
     "output_type": "execute_result"
    }
   ],
   "source": [
    "try:\n",
    "    web = results_business_page.find('span', class_ = \"biz-website js-biz-website js-add-url-tagging\").find('a').get_text()\n",
    "except:\n",
    "    web = None\n",
    "web"
   ]
  },
  {
   "cell_type": "code",
   "execution_count": 25,
   "metadata": {},
   "outputs": [],
   "source": [
    "#want to put all infomations we want to get from one business into one funtion\n",
    "#input: specific restaurant url link\n",
    "#output: all details we tested above\n",
    "def get_info(link):\n",
    "    response_business = requests.get(link)\n",
    "    results_business_page = BeautifulSoup(response_business.content,'lxml')\n",
    "    \n",
    "    try:\n",
    "        addr = results_business_page.find('strong', class_ = \"street-address\").get_text().strip()\n",
    "    except:\n",
    "        addr = None\n",
    "\n",
    "    try:\n",
    "        json_map = results_business_page.find('div', class_ = \"lightbox-map hidden\").get('data-map-state')\n",
    "        dict_map = json.loads(json_map)\n",
    "        lat = dict_map[\"markers\"][1][\"location\"][\"latitude\"]\n",
    "        lon = dict_map[\"markers\"][1][\"location\"][\"longitude\"]\n",
    "    except: \n",
    "        json_map = None \n",
    "\n",
    "    try: \n",
    "        category = results_business_page.find(\"span\", class_ = 'category-str-list').find('a').get_text()\n",
    "    except:\n",
    "        category = None\n",
    "        \n",
    "    try:\n",
    "        price_range = results_business_page.find(\"span\", class_ = 'business-attribute price-range').get_text()\n",
    "    except:\n",
    "        price_range = None\n",
    "        \n",
    "    try: \n",
    "        rating_value = results_business_page.find(\"div\", {'itemprop' : \"aggregateRating\"}).find(\"meta\").get('content')\n",
    "    except: \n",
    "        rating_value = None\n",
    "          \n",
    "    try:\n",
    "        phone_number = results_business_page.find('span',itemprop = \"telephone\").get_text().strip()\n",
    "    except:\n",
    "        phone_number = None\n",
    "        \n",
    "    try:\n",
    "        open_ = results_business_page.find('span', class_ = \"nowrap extra open\").get_text()\n",
    "    except:\n",
    "        open_ = 'closed now'\n",
    "        \n",
    "    try:\n",
    "        web = results_business_page.find('span', class_ = \"biz-website js-biz-website js-add-url-tagging\").find('a').get_text()\n",
    "    except:\n",
    "        web = None\n",
    "    \n",
    "    try:\n",
    "        moreinfo = results_business_page.find_all('dl')\n",
    "        delivery = \"No\"\n",
    "        for i in moreinfo[1:]:\n",
    "            try:\n",
    "                attr = i.find('dt',{'class':\"attribute-key\"}).get_text().strip()\n",
    "                yon = i.find('dd').get_text().strip()\n",
    "                if attr == 'Delivery':\n",
    "                    delivery = yon\n",
    "                    break\n",
    "            except:\n",
    "                delivery = delivery\n",
    "\n",
    "    except:\n",
    "        delivery = None\n",
    "        \n",
    "    return(addr,category,price_range,rating_value,phone_number,open_,web,delivery,lat,lon)\n",
    "    "
   ]
  },
  {
   "cell_type": "code",
   "execution_count": 26,
   "metadata": {},
   "outputs": [],
   "source": [
    "#Get a list of url links of all businesses (or maybe the first 30)\n",
    "#so that we could compile a list of details on, for example, the first 30 search-result restaurants\n",
    "link_list = []\n",
    "\n",
    "for i in range(1,len(businesses)):\n",
    "    business = businesses[i]\n",
    "    link = 'https://www.yelp.com' + business.get('href')\n",
    "    link_list.append(link)"
   ]
  },
  {
   "cell_type": "code",
   "execution_count": 27,
   "metadata": {},
   "outputs": [],
   "source": [
    "#Create a list of restaurant names\n",
    "name_list=[]\n",
    "for i in range(1,len(businesses)):\n",
    "    business = businesses[i]\n",
    "    name = business.find('span').get_text()\n",
    "    name_list.append(name)"
   ]
  },
  {
   "cell_type": "code",
   "execution_count": 29,
   "metadata": {},
   "outputs": [],
   "source": [
    "#Create a list of all restaurants' information\n",
    "info_list=[]\n",
    "\n",
    "for i in range(len(link_list)):\n",
    "    info_list.append(get_info(link_list[i]))"
   ]
  },
  {
   "cell_type": "code",
   "execution_count": 30,
   "metadata": {},
   "outputs": [],
   "source": [
    "def get_businesses():\n",
    "    keyword = input('What do you want to eat ? ')\n",
    "    address = input('Where are you ? ')\n",
    "    limit = input('How many results do you want? ')\n",
    "    filters = input('Do you want to sort by \\n 1)price low to high  \\n 2)price high to low  \\n 3)ratings? ')\n",
    "    \n",
    "    #first page - figure out numbers of results per page\n",
    "    url = 'https://www.yelp.com/search?find_desc='+ keyword + '&find_loc=' + address \n",
    "    response = requests.get(url)\n",
    "    try:\n",
    "        results_page = BeautifulSoup(response.content,'lxml')\n",
    "    except:\n",
    "        print(\"we didn't get back result page from yelp correctly\")\n",
    "    noperpage = results_page.find('span',{'class':'pagination-results-window'}).get_text().strip()[10:12]\n",
    "    noperpage = int(noperpage)\n",
    "    businesses = results_page.find_all('a',{'data-analytics-label':\"biz-name\"})[1:]\n",
    "    \n",
    "    #start loop from the second page to get enough number of restaurants\n",
    "    loop_range = (int(limit)-1)//noperpage\n",
    "    for pagination in range(1, loop_range+1):\n",
    "        url = 'https://www.yelp.com/search?find_desc='+ keyword + '&find_loc=' + address + '&start=' + str(pagination*noperpage)\n",
    "        response = requests.get(url)\n",
    "        try:\n",
    "            results_page = BeautifulSoup(response.content,'lxml')\n",
    "        except:\n",
    "            print(\"we didn't get back result page from yelp correctly\")\n",
    "        \n",
    "        businesses.extend(results_page.find_all('a',{'data-analytics-label':\"biz-name\"})[1:])\n",
    "    businesses = businesses[:int(limit)]\n",
    "    \n",
    "    #generate details by get_info and format in dataframe\n",
    "    business_list = []\n",
    "    for business in businesses:\n",
    "        name = business.find('span').get_text()\n",
    "        link = 'https://www.yelp.com' + business.get('href')\n",
    "        addr,category,price_range,rating_value,phone_number,open_,web,delivery,lat,lon= get_info(link)\n",
    "        business_list.append([name,addr,open_,price_range,rating_value,category,phone_number,web,delivery,lat,lon])\n",
    "    df = pd.DataFrame(business_list[:int(limit)+1], columns = ['name','address','open or closed','price range','rating value','category','phone','website','delivery service','lat','lon'])\n",
    "    \n",
    "    #sortby...\n",
    "    pattern = r'rat'\n",
    "    match = bool(re.search(pattern, filters))\n",
    "    if match or filters == '3':\n",
    "        df = df.sort_values(by='rating value',ascending=False)\n",
    "    \n",
    "    elif filters == 'price low to high' or filters == '1':\n",
    "        df['length'] = df['price range'].apply(lambda x: len(x))\n",
    "        df = df.sort_values(by='length',ascending=True)\n",
    "        df = df.drop('length', axis=1)\n",
    "        \n",
    "    elif filters == 'price high to low' or filters == '2':\n",
    "        df['length'] = df['price range'].apply(lambda x: len(x))\n",
    "        df = df.sort_values(by='length',ascending=False)\n",
    "        df = df.drop('length', axis=1)\n",
    "    \n",
    "    return(df)"
   ]
  },
  {
   "cell_type": "code",
   "execution_count": 31,
   "metadata": {},
   "outputs": [
    {
     "name": "stdout",
     "output_type": "stream",
     "text": [
      "What do you want to eat ? pizza\n",
      "Where are you ? New York\n",
      "How many results do you want? 5\n",
      "Do you want to sort by \n",
      " 1)price low to high  \n",
      " 2)price high to low  \n",
      " 3)ratings? price low to high\n"
     ]
    }
   ],
   "source": [
    "res = get_businesses()"
   ]
  },
  {
   "cell_type": "code",
   "execution_count": 34,
   "metadata": {},
   "outputs": [
    {
     "data": {
      "text/html": [
       "<div>\n",
       "<style scoped>\n",
       "    .dataframe tbody tr th:only-of-type {\n",
       "        vertical-align: middle;\n",
       "    }\n",
       "\n",
       "    .dataframe tbody tr th {\n",
       "        vertical-align: top;\n",
       "    }\n",
       "\n",
       "    .dataframe thead th {\n",
       "        text-align: right;\n",
       "    }\n",
       "</style>\n",
       "<table border=\"1\" class=\"dataframe\">\n",
       "  <thead>\n",
       "    <tr style=\"text-align: right;\">\n",
       "      <th></th>\n",
       "      <th>name</th>\n",
       "      <th>address</th>\n",
       "      <th>open or closed</th>\n",
       "      <th>price range</th>\n",
       "      <th>rating value</th>\n",
       "      <th>category</th>\n",
       "      <th>phone</th>\n",
       "      <th>website</th>\n",
       "      <th>delivery service</th>\n",
       "      <th>lat</th>\n",
       "      <th>lon</th>\n",
       "    </tr>\n",
       "  </thead>\n",
       "  <tbody>\n",
       "    <tr>\n",
       "      <th>3</th>\n",
       "      <td>Prince Street Pizza</td>\n",
       "      <td>27 Prince StNew York, NY 10012</td>\n",
       "      <td>Open now</td>\n",
       "      <td>$</td>\n",
       "      <td>4.5</td>\n",
       "      <td>Pizza</td>\n",
       "      <td>(212) 966-4100</td>\n",
       "      <td>princestpizzanewyork.com</td>\n",
       "      <td>Yes</td>\n",
       "      <td>40.722909</td>\n",
       "      <td>-73.994486</td>\n",
       "    </tr>\n",
       "    <tr>\n",
       "      <th>4</th>\n",
       "      <td>Brooklyn Pizza Masters</td>\n",
       "      <td>1055 1st AveNew York, NY 10022</td>\n",
       "      <td>closed now</td>\n",
       "      <td>$</td>\n",
       "      <td>4.5</td>\n",
       "      <td>Pizza</td>\n",
       "      <td>(646) 669-7757</td>\n",
       "      <td>None</td>\n",
       "      <td>Yes</td>\n",
       "      <td>40.758655</td>\n",
       "      <td>-73.963018</td>\n",
       "    </tr>\n",
       "    <tr>\n",
       "      <th>0</th>\n",
       "      <td>Juliana’s Pizza</td>\n",
       "      <td>19 Old Fulton StBrooklyn, NY 11201</td>\n",
       "      <td>closed now</td>\n",
       "      <td>$$</td>\n",
       "      <td>4.5</td>\n",
       "      <td>Pizza</td>\n",
       "      <td>(718) 596-6700</td>\n",
       "      <td>julianaspizza.com</td>\n",
       "      <td>No</td>\n",
       "      <td>40.702615</td>\n",
       "      <td>-73.993416</td>\n",
       "    </tr>\n",
       "    <tr>\n",
       "      <th>1</th>\n",
       "      <td>Macoletta</td>\n",
       "      <td>28-15 24th AveAstoria, NY 11102</td>\n",
       "      <td>closed now</td>\n",
       "      <td>$$</td>\n",
       "      <td>4.5</td>\n",
       "      <td>Pizza</td>\n",
       "      <td>(718) 777-4992</td>\n",
       "      <td>macoletta.com</td>\n",
       "      <td>Yes</td>\n",
       "      <td>40.773242</td>\n",
       "      <td>-73.916415</td>\n",
       "    </tr>\n",
       "    <tr>\n",
       "      <th>2</th>\n",
       "      <td>Lombardi’s Pizza</td>\n",
       "      <td>32 Spring StNew York, NY 10012</td>\n",
       "      <td>closed now</td>\n",
       "      <td>$$</td>\n",
       "      <td>4.0</td>\n",
       "      <td>Pizza</td>\n",
       "      <td>(212) 941-7994</td>\n",
       "      <td>firstpizza.com</td>\n",
       "      <td>Yes</td>\n",
       "      <td>40.721637</td>\n",
       "      <td>-73.995721</td>\n",
       "    </tr>\n",
       "  </tbody>\n",
       "</table>\n",
       "</div>"
      ],
      "text/plain": [
       "                     name                             address open or closed  \\\n",
       "3     Prince Street Pizza      27 Prince StNew York, NY 10012       Open now   \n",
       "4  Brooklyn Pizza Masters      1055 1st AveNew York, NY 10022     closed now   \n",
       "0         Juliana’s Pizza  19 Old Fulton StBrooklyn, NY 11201     closed now   \n",
       "1               Macoletta     28-15 24th AveAstoria, NY 11102     closed now   \n",
       "2        Lombardi’s Pizza      32 Spring StNew York, NY 10012     closed now   \n",
       "\n",
       "  price range rating value category           phone                   website  \\\n",
       "3           $          4.5    Pizza  (212) 966-4100  princestpizzanewyork.com   \n",
       "4           $          4.5    Pizza  (646) 669-7757                      None   \n",
       "0          $$          4.5    Pizza  (718) 596-6700         julianaspizza.com   \n",
       "1          $$          4.5    Pizza  (718) 777-4992             macoletta.com   \n",
       "2          $$          4.0    Pizza  (212) 941-7994            firstpizza.com   \n",
       "\n",
       "  delivery service        lat        lon  \n",
       "3              Yes  40.722909 -73.994486  \n",
       "4              Yes  40.758655 -73.963018  \n",
       "0               No  40.702615 -73.993416  \n",
       "1              Yes  40.773242 -73.916415  \n",
       "2              Yes  40.721637 -73.995721  "
      ]
     },
     "execution_count": 34,
     "metadata": {},
     "output_type": "execute_result"
    }
   ],
   "source": [
    "# print(filters)\n",
    "# print(re.search(pattern, filters))\n",
    "res"
   ]
  },
  {
   "cell_type": "code",
   "execution_count": 35,
   "metadata": {},
   "outputs": [],
   "source": [
    "import folium\n",
    "m = folium.Map(location=[40.8075355, -73.9625727],zoom_start=14)"
   ]
  },
  {
   "cell_type": "code",
   "execution_count": 36,
   "metadata": {
    "scrolled": true
   },
   "outputs": [
    {
     "data": {
      "text/html": [
       "<div style=\"width:100%;\"><div style=\"position:relative;width:100%;height:0;padding-bottom:60%;\"><iframe src=\"data:text/html;charset=utf-8;base64,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\" style=\"position:absolute;width:100%;height:100%;left:0;top:0;border:none !important;\" allowfullscreen webkitallowfullscreen mozallowfullscreen></iframe></div></div>"
      ],
      "text/plain": [
       "<folium.folium.Map at 0x12257fe10>"
      ]
     },
     "execution_count": 36,
     "metadata": {},
     "output_type": "execute_result"
    }
   ],
   "source": [
    "# a marker is created for any restaurant: red for critical situation and orange for not critical\n",
    "for k in range(len(res)):\n",
    "    folium.Marker([res['lat'].iloc[k],res['lon'].iloc[k]],popup=res['name'].iloc[k]).add_to(m)\n",
    "m"
   ]
  },
  {
   "cell_type": "code",
   "execution_count": 65,
   "metadata": {
    "collapsed": true
   },
   "outputs": [
    {
     "data": {
      "text/plain": [
       "[<a class=\"biz-name js-analytics-click\" data-analytics-label=\"biz-name\" data-hovercard-id=\"9DuvvLi4D8pNRx96SH4FDw\" href=\"/adredir?ad_business_id=AMNoZngyjT5wiFxIHuYGiA&amp;campaign_id=m4feyFq9f3E874eCYh3l1A&amp;click_origin=search_results&amp;placement=above_search&amp;redirect_url=https%3A%2F%2Fwww.yelp.com%2Fbiz%2Froclyns-bronx&amp;request_id=48f1ab73aa43f7b3&amp;signature=6532e4143762359db9c627ddbd9cf6e4558c0dec701e889a73bfa7e26417acb3&amp;slot=0\"><span>Roclyn’s</span></a>,\n",
       " <a class=\"biz-name js-analytics-click\" data-analytics-label=\"biz-name\" data-hovercard-id=\"z0XS1eRHD6uK0PN77FI2kg\" href=\"/biz/bap-new-york?osq=lobster\"><span>Bap</span></a>,\n",
       " <a class=\"biz-name js-analytics-click\" data-analytics-label=\"biz-name\" data-hovercard-id=\"LEXrAvYPfshHjC0L6UsHpA\" href=\"/biz/raffettos-new-york-2?osq=lobster\"><span>Raffetto’s</span></a>,\n",
       " <a class=\"biz-name js-analytics-click\" data-analytics-label=\"biz-name\" data-hovercard-id=\"Ze0ZcyeWi7VJm-roBwR1rw\" href=\"/biz/ocean-prime-new-york?osq=lobster\"><span>Ocean Prime</span></a>,\n",
       " <a class=\"biz-name js-analytics-click\" data-analytics-label=\"biz-name\" data-hovercard-id=\"ozrPxTeAtHnhNOG0zY3zXA\" href=\"/biz/the-original-soupman-new-york-7?osq=lobster\"><span>The Original Soupman</span></a>,\n",
       " <a class=\"biz-name js-analytics-click\" data-analytics-label=\"biz-name\" data-hovercard-id=\"eT6hA-oUP2DjC_1DjBwQcQ\" href=\"/biz/rh-rooftop-restaurant-new-york-3?osq=lobster\"><span>RH Rooftop Restaurant</span></a>,\n",
       " <a class=\"biz-name js-analytics-click\" data-analytics-label=\"biz-name\" data-hovercard-id=\"slWLhNJOfocXu8hFG7UhNQ\" href=\"/biz/red-hook-lobster-pound-new-york-3?osq=lobster\"><span>Red Hook Lobster Pound</span></a>,\n",
       " <a class=\"biz-name js-analytics-click\" data-analytics-label=\"biz-name\" data-hovercard-id=\"B_XsBHrbaKL1ugIlWkWPWg\" href=\"/biz/greenpoint-fish-and-lobster-co-long-island-city?osq=lobster\"><span>Greenpoint Fish &amp; Lobster Co.</span></a>,\n",
       " <a class=\"biz-name js-analytics-click\" data-analytics-label=\"biz-name\" data-hovercard-id=\"PWiYeoZHDigXmWCnguXJKA\" href=\"/biz/jordan-lobster-farms-island-park?osq=lobster\"><span>Jordan Lobster Farms</span></a>,\n",
       " <a class=\"biz-name js-analytics-click\" data-analytics-label=\"biz-name\" data-hovercard-id=\"uipis_6Ndz5L24P44Kc4oA\" href=\"/biz/frenchette-new-york-2?osq=lobster\"><span>Frenchette</span></a>,\n",
       " <a class=\"biz-name js-analytics-click\" data-analytics-label=\"biz-name\" data-hovercard-id=\"ATnLpq5F37Hi4q1PiGdt2w\" href=\"/biz/fish-tales-brooklyn?osq=lobster\"><span>Fish Tales</span></a>]"
      ]
     },
     "execution_count": 65,
     "metadata": {},
     "output_type": "execute_result"
    }
   ],
   "source": [
    "#workspace with saved results page\n",
    "url = 'https://www.yelp.com/search?find_desc=lobster&find_loc=new+york&start=60'\n",
    "response = requests.get(url)\n",
    "try:\n",
    "    results_page = BeautifulSoup(response.content,'lxml')\n",
    "except:\n",
    "    print(\"we didn't get back result page from yelp correctly\")\n",
    "  "
   ]
  },
  {
   "cell_type": "code",
   "execution_count": 68,
   "metadata": {},
   "outputs": [
    {
     "data": {
      "text/plain": [
       "[<a class=\"biz-name js-analytics-click\" data-analytics-label=\"biz-name\" data-hovercard-id=\"z0XS1eRHD6uK0PN77FI2kg\" href=\"/biz/bap-new-york?osq=lobster\"><span>Bap</span></a>,\n",
       " <a class=\"biz-name js-analytics-click\" data-analytics-label=\"biz-name\" data-hovercard-id=\"LEXrAvYPfshHjC0L6UsHpA\" href=\"/biz/raffettos-new-york-2?osq=lobster\"><span>Raffetto’s</span></a>,\n",
       " <a class=\"biz-name js-analytics-click\" data-analytics-label=\"biz-name\" data-hovercard-id=\"Ze0ZcyeWi7VJm-roBwR1rw\" href=\"/biz/ocean-prime-new-york?osq=lobster\"><span>Ocean Prime</span></a>,\n",
       " <a class=\"biz-name js-analytics-click\" data-analytics-label=\"biz-name\" data-hovercard-id=\"ozrPxTeAtHnhNOG0zY3zXA\" href=\"/biz/the-original-soupman-new-york-7?osq=lobster\"><span>The Original Soupman</span></a>,\n",
       " <a class=\"biz-name js-analytics-click\" data-analytics-label=\"biz-name\" data-hovercard-id=\"eT6hA-oUP2DjC_1DjBwQcQ\" href=\"/biz/rh-rooftop-restaurant-new-york-3?osq=lobster\"><span>RH Rooftop Restaurant</span></a>,\n",
       " <a class=\"biz-name js-analytics-click\" data-analytics-label=\"biz-name\" data-hovercard-id=\"slWLhNJOfocXu8hFG7UhNQ\" href=\"/biz/red-hook-lobster-pound-new-york-3?osq=lobster\"><span>Red Hook Lobster Pound</span></a>,\n",
       " <a class=\"biz-name js-analytics-click\" data-analytics-label=\"biz-name\" data-hovercard-id=\"B_XsBHrbaKL1ugIlWkWPWg\" href=\"/biz/greenpoint-fish-and-lobster-co-long-island-city?osq=lobster\"><span>Greenpoint Fish &amp; Lobster Co.</span></a>,\n",
       " <a class=\"biz-name js-analytics-click\" data-analytics-label=\"biz-name\" data-hovercard-id=\"PWiYeoZHDigXmWCnguXJKA\" href=\"/biz/jordan-lobster-farms-island-park?osq=lobster\"><span>Jordan Lobster Farms</span></a>,\n",
       " <a class=\"biz-name js-analytics-click\" data-analytics-label=\"biz-name\" data-hovercard-id=\"uipis_6Ndz5L24P44Kc4oA\" href=\"/biz/frenchette-new-york-2?osq=lobster\"><span>Frenchette</span></a>,\n",
       " <a class=\"biz-name js-analytics-click\" data-analytics-label=\"biz-name\" data-hovercard-id=\"ATnLpq5F37Hi4q1PiGdt2w\" href=\"/biz/fish-tales-brooklyn?osq=lobster\"><span>Fish Tales</span></a>,\n",
       " <a class=\"biz-name js-analytics-click\" data-analytics-label=\"biz-name\" data-hovercard-id=\"z0XS1eRHD6uK0PN77FI2kg\" href=\"/biz/bap-new-york?osq=lobster\"><span>Bap</span></a>,\n",
       " <a class=\"biz-name js-analytics-click\" data-analytics-label=\"biz-name\" data-hovercard-id=\"LEXrAvYPfshHjC0L6UsHpA\" href=\"/biz/raffettos-new-york-2?osq=lobster\"><span>Raffetto’s</span></a>,\n",
       " <a class=\"biz-name js-analytics-click\" data-analytics-label=\"biz-name\" data-hovercard-id=\"Ze0ZcyeWi7VJm-roBwR1rw\" href=\"/biz/ocean-prime-new-york?osq=lobster\"><span>Ocean Prime</span></a>,\n",
       " <a class=\"biz-name js-analytics-click\" data-analytics-label=\"biz-name\" data-hovercard-id=\"ozrPxTeAtHnhNOG0zY3zXA\" href=\"/biz/the-original-soupman-new-york-7?osq=lobster\"><span>The Original Soupman</span></a>,\n",
       " <a class=\"biz-name js-analytics-click\" data-analytics-label=\"biz-name\" data-hovercard-id=\"eT6hA-oUP2DjC_1DjBwQcQ\" href=\"/biz/rh-rooftop-restaurant-new-york-3?osq=lobster\"><span>RH Rooftop Restaurant</span></a>,\n",
       " <a class=\"biz-name js-analytics-click\" data-analytics-label=\"biz-name\" data-hovercard-id=\"slWLhNJOfocXu8hFG7UhNQ\" href=\"/biz/red-hook-lobster-pound-new-york-3?osq=lobster\"><span>Red Hook Lobster Pound</span></a>,\n",
       " <a class=\"biz-name js-analytics-click\" data-analytics-label=\"biz-name\" data-hovercard-id=\"B_XsBHrbaKL1ugIlWkWPWg\" href=\"/biz/greenpoint-fish-and-lobster-co-long-island-city?osq=lobster\"><span>Greenpoint Fish &amp; Lobster Co.</span></a>,\n",
       " <a class=\"biz-name js-analytics-click\" data-analytics-label=\"biz-name\" data-hovercard-id=\"PWiYeoZHDigXmWCnguXJKA\" href=\"/biz/jordan-lobster-farms-island-park?osq=lobster\"><span>Jordan Lobster Farms</span></a>,\n",
       " <a class=\"biz-name js-analytics-click\" data-analytics-label=\"biz-name\" data-hovercard-id=\"uipis_6Ndz5L24P44Kc4oA\" href=\"/biz/frenchette-new-york-2?osq=lobster\"><span>Frenchette</span></a>,\n",
       " <a class=\"biz-name js-analytics-click\" data-analytics-label=\"biz-name\" data-hovercard-id=\"ATnLpq5F37Hi4q1PiGdt2w\" href=\"/biz/fish-tales-brooklyn?osq=lobster\"><span>Fish Tales</span></a>]"
      ]
     },
     "execution_count": 68,
     "metadata": {},
     "output_type": "execute_result"
    }
   ],
   "source": [
    "businesses = results_page.find_all('a',{'data-analytics-label':\"biz-name\"})[1:]\n",
    "businesses.extend(businesses)\n",
    "businesses"
   ]
  }
 ],
 "metadata": {
  "kernelspec": {
   "display_name": "Python 3",
   "language": "python",
   "name": "python3"
  },
  "language_info": {
   "codemirror_mode": {
    "name": "ipython",
    "version": 3
   },
   "file_extension": ".py",
   "mimetype": "text/x-python",
   "name": "python",
   "nbconvert_exporter": "python",
   "pygments_lexer": "ipython3",
   "version": "3.7.0"
  }
 },
 "nbformat": 4,
 "nbformat_minor": 2
}
