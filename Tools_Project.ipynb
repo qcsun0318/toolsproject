{
 "cells": [
  {
   "cell_type": "code",
   "execution_count": 9,
   "metadata": {},
   "outputs": [],
   "source": [
    "#This is the notebook for tools_project"
   ]
  },
  {
   "cell_type": "code",
   "execution_count": 10,
   "metadata": {},
   "outputs": [],
   "source": [
    "# scraping libraries to read html code\n",
    "import requests\n",
    "from bs4 import BeautifulSoup\n",
    "import json"
   ]
  },
  {
   "cell_type": "code",
   "execution_count": 11,
   "metadata": {},
   "outputs": [],
   "source": [
    "# pandas library to create dataframe\n",
    "import pandas as pd\n",
    "import numpy as np"
   ]
  },
  {
   "cell_type": "code",
   "execution_count": 12,
   "metadata": {},
   "outputs": [
    {
     "name": "stdout",
     "output_type": "stream",
     "text": [
      "What business are you looking for (Restaurants, Hairdressers,...) ? Restaurants\n",
      "What is your search area : (city,street,neighborhood,...) ? New York\n",
      "https://www.yelp.com/search?find_desc=Restaurants&find_loc=New+York,+NY&start=30\n"
     ]
    }
   ],
   "source": [
    "# Direct to initial results\n",
    "url = 'https://www.yelp.com/search?'\n",
    "business = input('What business are you looking for (Restaurants, Hairdressers,...) ? ')\n",
    "address = input('What is your search area : (city,street,neighborhood,...) ? ')\n",
    "address = address.replace(' ','+')\n",
    "\n",
    "url = 'https://www.yelp.com/search?find_desc=%s&find_loc=%s,+NY&start=30' % (business,address)\n",
    "print(url)"
   ]
  },
  {
   "cell_type": "code",
   "execution_count": 15,
   "metadata": {},
   "outputs": [
    {
     "data": {
      "text/plain": [
       "200"
      ]
     },
     "execution_count": 15,
     "metadata": {},
     "output_type": "execute_result"
    }
   ],
   "source": [
    "# Checking if the url is \"valid\", the status code should be 200\n",
    "response = requests.get(url)\n",
    "response.status_code"
   ]
  },
  {
   "cell_type": "code",
   "execution_count": 14,
   "metadata": {},
   "outputs": [],
   "source": [
    "# extract the html code from the web page = https://www.yelp.com/search?find_desc=Restaurants&find_loc=New+York,+NY&start=30\n",
    "results_page = BeautifulSoup(response.content,'lxml')"
   ]
  },
  {
   "cell_type": "code",
   "execution_count": 16,
   "metadata": {},
   "outputs": [],
   "source": [
    "# creating a list of businesses with the html code of the business as elements of the list\n",
    "businesses = results_page.find_all('li',class_ = \"regular-search-result\")"
   ]
  },
  {
   "cell_type": "code",
   "execution_count": 17,
   "metadata": {},
   "outputs": [],
   "source": [
    "# selecting the first element (a particular restaurant in our case) of the list businesses and looking in the\n",
    "# html code for its name\n",
    "business = businesses[0]\n",
    "a_tag = business.find('a',{'class': \"biz-name js-analytics-click\"})\n",
    "business_name = a_tag.find('span').get_text()\n",
    "\n",
    "# getting the link to the yelp page this perticular restaurant\n",
    "business_link = 'https://www.yelp.com' + a_tag.get('href')"
   ]
  },
  {
   "cell_type": "code",
   "execution_count": 18,
   "metadata": {},
   "outputs": [
    {
     "name": "stdout",
     "output_type": "stream",
     "text": [
      "Cafe Mogador https://www.yelp.com/biz/cafe-mogador-brooklyn?osq=Restaurants\n"
     ]
    }
   ],
   "source": [
    "print(business_name,business_link)"
   ]
  },
  {
   "cell_type": "code",
   "execution_count": 19,
   "metadata": {},
   "outputs": [],
   "source": [
    "# extracting the html code of the web page associated with the first business of our list businesses\n",
    "response_business = requests.get(business_link)\n",
    "results_business_page = BeautifulSoup(response_business.content,'lxml')"
   ]
  },
  {
   "cell_type": "code",
   "execution_count": 20,
   "metadata": {},
   "outputs": [],
   "source": [
    "# looking in the html page of the restaurant for latitude and longitude coordinates of the restaurant\n",
    "# the json object json_map contains these coordinates\n",
    "json_map = results_business_page.find('div', class_ = \"lightbox-map hidden\").get('data-map-state')\n",
    "\n",
    "# we can convert this json object to a python dictionnary using the following method\n",
    "dict_map = json.loads(json_map)\n",
    "\n",
    "# the relevant keys in this dict are \"markers\", \"location\" and \"latitude\" and \"longitude\"\n",
    "latitude = dict_map[\"markers\"][1][\"location\"][\"latitude\"]\n",
    "longitude = dict_map[\"markers\"][1][\"location\"][\"longitude\"]"
   ]
  },
  {
   "cell_type": "code",
   "execution_count": 21,
   "metadata": {},
   "outputs": [
    {
     "data": {
      "text/plain": [
       "'{\"serviceAreas\": [], \"moMapPossible\": true, \"scrollwheelZoom\": false, \"zoomControlPosition\": \"top_right\", \"minZoomlevel\": null, \"isFullBleed\": false, \"maxZoomlevel\": null, \"zoom\": 15, \"library\": \"google\", \"fitToGeobox\": false, \"hoods\": [], \"adPinColor\": null, \"markers\": [{\"location\": null, \"key\": \"directions_marker\", \"icon\": {\"name\": \"directions\", \"anchorOffset\": [12, 32], \"activeOrigin\": [0, 0], \"scaledSize\": [24, 32], \"regularUri\": \"https://s3-media4.fl.yelpcdn.com/assets/srv0/yelp_maps/79f63ebc20db/assets/img/directions@2x.png\", \"size\": [24, 32], \"activeUri\": \"https://s3-media4.fl.yelpcdn.com/assets/srv0/yelp_maps/7249ab345ac8/assets/img/directions_highlighted@2x.png\", \"regularOrigin\": [0, 0]}}, {\"resourceType\": \"business\", \"url\": \"/biz/cafe-mogador-brooklyn\", \"resourceId\": \"jAaVnUKLITkuhzwXIe0vLQ\", \"shouldOpenInNewTab\": false, \"location\": {\"latitude\": 40.719747, \"longitude\": -73.959993}, \"key\": \"starred_business\", \"hovercardId\": \"2Fg2iUXmKBdN5TF8bE0rlg\", \"icon\": {\"name\": \"starred\", \"anchorOffset\": [12, 32], \"activeOrigin\": [0, 0], \"scaledSize\": [24, 32], \"regularUri\": \"https://s3-media4.fl.yelpcdn.com/assets/srv0/yelp_maps/7ffd8e34c576/assets/img/annotation_star@2x.png\", \"size\": [24, 32], \"activeUri\": \"https://s3-media3.fl.yelpcdn.com/assets/srv0/yelp_maps/63e0e17c0579/assets/img/annotation_star_highlighted@2x.png\", \"regularOrigin\": [0, 0]}}, {\"location\": null, \"key\": \"current_location\", \"icon\": {\"name\": \"current_location\", \"anchorOffset\": [23, 23], \"activeOrigin\": [0, 0], \"scaledSize\": [46, 46], \"regularUri\": \"https://s3-media2.fl.yelpcdn.com/assets/srv0/yelp_maps/56b9eee3f027/assets/img/current_location_dot@2x.png\", \"size\": [46, 46], \"activeUri\": \"https://s3-media2.fl.yelpcdn.com/assets/srv0/yelp_maps/56b9eee3f027/assets/img/current_location_dot@2x.png\", \"regularOrigin\": [0, 0]}}], \"shouldDrawCheckbox\": false, \"overlayWidth\": 335, \"topBizBounds\": null, \"market\": null, \"center\": {\"latitude\": 40.719747, \"longitude\": -73.959993}}'"
      ]
     },
     "execution_count": 21,
     "metadata": {},
     "output_type": "execute_result"
    }
   ],
   "source": [
    "json_map"
   ]
  },
  {
   "cell_type": "code",
   "execution_count": 26,
   "metadata": {},
   "outputs": [
    {
     "name": "stdout",
     "output_type": "stream",
     "text": [
      "40.7354179 -73.9829477\n"
     ]
    }
   ],
   "source": [
    "print(latitude,longitude)"
   ]
  },
  {
   "cell_type": "code",
   "execution_count": 31,
   "metadata": {},
   "outputs": [],
   "source": [
    "# The category can be found in the 'a' tag under \"span\", class_ = 'category-str-list' tag, \n",
    "category= results_business_page.find(\"span\", class_ = 'category-str-list').find('a').get_text()"
   ]
  },
  {
   "cell_type": "code",
   "execution_count": 32,
   "metadata": {},
   "outputs": [
    {
     "data": {
      "text/plain": [
       "'Moroccan'"
      ]
     },
     "execution_count": 32,
     "metadata": {},
     "output_type": "execute_result"
    }
   ],
   "source": [
    "category"
   ]
  },
  {
   "cell_type": "code",
   "execution_count": 33,
   "metadata": {},
   "outputs": [],
   "source": [
    "# the price range ('$','$$','$$$', or '$$$$') can be found in the \"span\", class_ = 'business-attribute price-range' tag\n",
    "# the price range is not always available, that is why we need to catch errors \n",
    "# if necessary (hence the try: except) structure\n",
    "\n",
    "try:\n",
    "    price_range = results_business_page.find(\"span\", class_ = 'business-attribute price-range').get_text()\n",
    "except:\n",
    "    price_range = None"
   ]
  },
  {
   "cell_type": "code",
   "execution_count": 34,
   "metadata": {},
   "outputs": [
    {
     "name": "stdout",
     "output_type": "stream",
     "text": [
      "$$\n"
     ]
    }
   ],
   "source": [
    "print(price_range)"
   ]
  },
  {
   "cell_type": "code",
   "execution_count": 35,
   "metadata": {},
   "outputs": [],
   "source": [
    "# the ratings associated to a particular restaurant are in the \"div\", itemprop = 'aggregateRating' tag\n",
    "# the rating value (between 0 and 5) can be accessed through ratings (= results_business_page.find(\"div\", \n",
    "# itemprop = 'aggregateRating') at the tag \"meta\" and the attribute 'content'\n",
    "# the number of reviews is available through ratings at the 'span' tag\n",
    "\n",
    "ratings = results_business_page.find(\"div\", itemprop = 'aggregateRating')\n",
    "rating_value = ratings.find(\"meta\").get('content')\n",
    "review_count = ratings.find(\"span\").get_text()"
   ]
  },
  {
   "cell_type": "code",
   "execution_count": 36,
   "metadata": {},
   "outputs": [
    {
     "name": "stdout",
     "output_type": "stream",
     "text": [
      "4.5 1004\n"
     ]
    }
   ],
   "source": [
    "print(rating_value,review_count)"
   ]
  },
  {
   "cell_type": "code",
   "execution_count": 37,
   "metadata": {},
   "outputs": [],
   "source": [
    "# the phone number can be accessed at the tag 'span',itemprop = \"telephone\"\n",
    "# phone numbers are not always available so we need to catch errors using the try:... except: structure\n",
    "\n",
    "try:\n",
    "    phone_number = results_business_page.find('span',itemprop = \"telephone\").get_text().strip()\n",
    "except:\n",
    "    phone_number = None   "
   ]
  },
  {
   "cell_type": "code",
   "execution_count": 38,
   "metadata": {},
   "outputs": [
    {
     "name": "stdout",
     "output_type": "stream",
     "text": [
      "(718) 486-9222\n"
     ]
    }
   ],
   "source": [
    "print(phone_number)"
   ]
  },
  {
   "cell_type": "code",
   "execution_count": 39,
   "metadata": {},
   "outputs": [],
   "source": [
    "# We want to know if the restaurant is currently open: this information is \n",
    "# given at the 'span', class_ = \"nowrap extra open\" tag. This information is not always \n",
    "# available that is why we use the try: ... except:... structure\n",
    "\n",
    "try:\n",
    "    open_ = results_business_page.find('span', class_ = \"nowrap extra open\").get_text()\n",
    "except:\n",
    "    open_ = None"
   ]
  },
  {
   "cell_type": "code",
   "execution_count": 40,
   "metadata": {},
   "outputs": [
    {
     "name": "stdout",
     "output_type": "stream",
     "text": [
      "Open now\n"
     ]
    }
   ],
   "source": [
    "print(open_)"
   ]
  },
  {
   "cell_type": "code",
   "execution_count": 45,
   "metadata": {},
   "outputs": [
    {
     "data": {
      "text/plain": [
       "'133 Wythe AveBrooklyn, NY 11211'"
      ]
     },
     "execution_count": 45,
     "metadata": {},
     "output_type": "execute_result"
    }
   ],
   "source": [
    "try:\n",
    "    addr = results_business_page.find('strong', class_ = \"street-address\").get_text().strip()\n",
    "except:\n",
    "    addr = None\n",
    "addr"
   ]
  },
  {
   "cell_type": "code",
   "execution_count": 51,
   "metadata": {},
   "outputs": [
    {
     "data": {
      "text/plain": [
       "'cafemogador.com/williamsburg'"
      ]
     },
     "execution_count": 51,
     "metadata": {},
     "output_type": "execute_result"
    }
   ],
   "source": [
    "try:\n",
    "    web = results_business_page.find('span', class_ = \"biz-website js-biz-website js-add-url-tagging\").find('a').get_text()\n",
    "except:\n",
    "    web = None\n",
    "web"
   ]
  },
  {
   "cell_type": "code",
   "execution_count": 53,
   "metadata": {},
   "outputs": [],
   "source": [
    "#want to put all infomations we want to get from one business in to one funtion\n",
    "#input: url link\n",
    "#output: all details we tested above\n",
    "def get_info(link):\n",
    "    response_business = requests.get(business_link)\n",
    "    results_business_page = BeautifulSoup(response_business.content,'lxml')\n",
    "    \n",
    "    try:\n",
    "        addr = results_business_page.find('strong', class_ = \"street-address\").get_text().strip()\n",
    "    except:\n",
    "        addr = None\n",
    "\n",
    "    json_map = results_business_page.find('div', class_ = \"lightbox-map hidden\").get('data-map-state')\n",
    "    dict_map = json.loads(json_map)\n",
    "    latitude = dict_map[\"markers\"][1][\"location\"][\"latitude\"]\n",
    "    longitude = dict_map[\"markers\"][1][\"location\"][\"longitude\"]\n",
    "\n",
    "    category= results_business_page.find(\"span\", class_ = 'category-str-list').find('a').get_text()\n",
    "        \n",
    "    try:\n",
    "        price_range = results_business_page.find(\"span\", class_ = 'business-attribute price-range').get_text()\n",
    "    except:\n",
    "        price_range = None\n",
    "        \n",
    "    ratings = results_business_page.find(\"div\", itemprop = 'aggregateRating')\n",
    "    rating_value = ratings.find(\"meta\").get('content')\n",
    "    review_count = ratings.find(\"span\").get_text()\n",
    "    \n",
    "    try:\n",
    "        phone_number = results_business_page.find('span',itemprop = \"telephone\").get_text().strip()\n",
    "    except:\n",
    "        phone_number = None\n",
    "        \n",
    "    try:\n",
    "        open_ = results_business_page.find('span', class_ = \"nowrap extra open\").get_text()\n",
    "    except:\n",
    "        open_ = None\n",
    "    try:\n",
    "        web = results_business_page.find('span', class_ = \"biz-website js-biz-website js-add-url-tagging\").find('a').get_text()\n",
    "    except:\n",
    "        web = None\n",
    "        \n",
    "    return(addr,latitude,longitude,category,price_range,rating_value,review_count,phone_number,open_,web)\n",
    "    "
   ]
  },
  {
   "cell_type": "code",
   "execution_count": 54,
   "metadata": {},
   "outputs": [
    {
     "data": {
      "text/plain": [
       "('133 Wythe AveBrooklyn, NY 11211',\n",
       " 40.719747,\n",
       " -73.959993,\n",
       " 'Moroccan',\n",
       " '$$',\n",
       " '4.5',\n",
       " '1004',\n",
       " '(718) 486-9222',\n",
       " 'Open now',\n",
       " 'cafemogador.com/williamsburg')"
      ]
     },
     "execution_count": 54,
     "metadata": {},
     "output_type": "execute_result"
    }
   ],
   "source": [
    "#test the function\n",
    "restaurant_url = \"https://www.yelp.com/biz/cafe-mogador-brooklyn?osq=Restaurants\"\n",
    "get_info(restaurant_url)"
   ]
  },
  {
   "cell_type": "code",
   "execution_count": null,
   "metadata": {},
   "outputs": [],
   "source": []
  }
 ],
 "metadata": {
  "kernelspec": {
   "display_name": "Python 3",
   "language": "python",
   "name": "python3"
  },
  "language_info": {
   "codemirror_mode": {
    "name": "ipython",
    "version": 3
   },
   "file_extension": ".py",
   "mimetype": "text/x-python",
   "name": "python",
   "nbconvert_exporter": "python",
   "pygments_lexer": "ipython3",
   "version": "3.6.5"
  }
 },
 "nbformat": 4,
 "nbformat_minor": 2
}
