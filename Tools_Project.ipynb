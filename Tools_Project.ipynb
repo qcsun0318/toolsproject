{
 "cells": [
  {
   "cell_type": "code",
   "execution_count": 25,
   "metadata": {},
   "outputs": [],
   "source": [
    "# scraping libraries to read html code\n",
    "import requests\n",
    "from bs4 import BeautifulSoup\n",
    "import json"
   ]
  },
  {
   "cell_type": "code",
   "execution_count": 26,
   "metadata": {},
   "outputs": [],
   "source": [
    "# pandas library to create dataframe\n",
    "import pandas as pd\n",
    "import numpy as np"
   ]
  },
  {
   "cell_type": "code",
   "execution_count": 95,
   "metadata": {
    "collapsed": true,
    "slideshow": {
     "slide_type": "-"
    }
   },
   "outputs": [
    {
     "name": "stdout",
     "output_type": "stream",
     "text": [
      "What do you want to eat ? burger\n",
      "Where are you ? boston\n"
     ]
    },
    {
     "data": {
      "text/plain": [
       "'https://www.yelp.com/search?find_desc=burger&find_loc=boston'"
      ]
     },
     "execution_count": 95,
     "metadata": {},
     "output_type": "execute_result"
    }
   ],
   "source": [
    "# Direct to initial results\n",
    "url = 'https://www.yelp.com/search?find_desc='\n",
    "keyword = input('What do you want to eat ? ')\n",
    "address = input('Where are you ? ')\n",
    "\n",
    "url = 'https://www.yelp.com/search?find_desc='+ keyword + '&find_loc=' + address \n",
    "url"
   ]
  },
  {
   "cell_type": "code",
   "execution_count": 96,
   "metadata": {},
   "outputs": [
    {
     "data": {
      "text/plain": [
       "200"
      ]
     },
     "execution_count": 96,
     "metadata": {},
     "output_type": "execute_result"
    }
   ],
   "source": [
    "# Checking if the url is \"valid\", the status code should be 200\n",
    "response = requests.get(url)\n",
    "response.status_code"
   ]
  },
  {
   "cell_type": "code",
   "execution_count": 110,
   "metadata": {},
   "outputs": [],
   "source": [
    "# extract the html code from the web page = https://www.yelp.com/search?find_desc=Restaurants&find_loc=New+York,+NY&start=30\n",
    "results_page = BeautifulSoup(response.content,'lxml')"
   ]
  },
  {
   "cell_type": "code",
   "execution_count": 111,
   "metadata": {},
   "outputs": [],
   "source": [
    "# creating a list of businesses with the html code of the business as elements of the list\n",
    "businesses = results_page.find_all('a',class_ = \"biz-name js-analytics-click\")"
   ]
  },
  {
   "cell_type": "code",
   "execution_count": 112,
   "metadata": {},
   "outputs": [],
   "source": [
    "# selecting the first element (a particular restaurant in our case) of the list businesses and looking in the\n",
    "#ignore the first element of the businesses list, it is an ad by yelp, regular list start from the second (index = 1)\n",
    "# html code for its name\n",
    "business = businesses[1]\n",
    "name = business.find('span').get_text()\n",
    "\n",
    "# getting the link to the yelp page this particular restaurant\n",
    "link = 'https://www.yelp.com' + business.get('href')"
   ]
  },
  {
   "cell_type": "code",
   "execution_count": 113,
   "metadata": {},
   "outputs": [
    {
     "name": "stdout",
     "output_type": "stream",
     "text": [
      "Boston Burger Company - Boston https://www.yelp.com/biz/boston-burger-company-boston-boston-2?osq=burger\n"
     ]
    }
   ],
   "source": [
    "print(name,link)"
   ]
  },
  {
   "cell_type": "code",
   "execution_count": 114,
   "metadata": {},
   "outputs": [],
   "source": [
    "# extracting the html code of the web page associated with the first business of our list businesses\n",
    "response_business = requests.get(link)\n",
    "results_business_page = BeautifulSoup(response_business.content,'lxml')"
   ]
  },
  {
   "cell_type": "code",
   "execution_count": 21,
   "metadata": {},
   "outputs": [],
   "source": [
    "# looking in the html page of the restaurant for latitude and longitude coordinates of the restaurant\n",
    "# the json object json_map contains these coordinates\n",
    "json_map = results_business_page.find('div', class_ = \"lightbox-map hidden\").get('data-map-state')\n",
    "\n",
    "# we can convert this json object to a python dictionnary using the following method\n",
    "dict_map = json.loads(json_map)\n",
    "\n",
    "# the relevant keys in this dict are \"markers\", \"location\" and \"latitude\" and \"longitude\"\n",
    "latitude = dict_map[\"markers\"][1][\"location\"][\"latitude\"]\n",
    "longitude = dict_map[\"markers\"][1][\"location\"][\"longitude\"]"
   ]
  },
  {
   "cell_type": "code",
   "execution_count": 78,
   "metadata": {
    "collapsed": true
   },
   "outputs": [
    {
     "data": {
      "text/plain": [
       "'{\"serviceAreas\": [], \"moMapPossible\": true, \"scrollwheelZoom\": false, \"zoomControlPosition\": \"top_right\", \"minZoomlevel\": null, \"isFullBleed\": false, \"maxZoomlevel\": null, \"zoom\": 15, \"library\": \"google\", \"fitToGeobox\": false, \"hoods\": [], \"adPinColor\": null, \"markers\": [{\"location\": null, \"key\": \"directions_marker\", \"icon\": {\"name\": \"directions\", \"anchorOffset\": [12, 32], \"activeOrigin\": [0, 0], \"scaledSize\": [24, 32], \"regularUri\": \"https://s3-media4.fl.yelpcdn.com/assets/srv0/yelp_maps/79f63ebc20db/assets/img/directions@2x.png\", \"size\": [24, 32], \"activeUri\": \"https://s3-media4.fl.yelpcdn.com/assets/srv0/yelp_maps/7249ab345ac8/assets/img/directions_highlighted@2x.png\", \"regularOrigin\": [0, 0]}}, {\"resourceType\": \"business\", \"url\": \"/biz/ramen-hood-new-york\", \"resourceId\": \"oy_FqW6XO8S06pg6nHbhog\", \"shouldOpenInNewTab\": false, \"location\": {\"latitude\": 40.7223112701284, \"longitude\": -73.9973774072879}, \"key\": \"starred_business\", \"hovercardId\": \"xJJUNXIR1JECvREs7j-Mzg\", \"icon\": {\"name\": \"starred\", \"anchorOffset\": [12, 32], \"activeOrigin\": [0, 0], \"scaledSize\": [24, 32], \"regularUri\": \"https://s3-media4.fl.yelpcdn.com/assets/srv0/yelp_maps/7ffd8e34c576/assets/img/annotation_star@2x.png\", \"size\": [24, 32], \"activeUri\": \"https://s3-media3.fl.yelpcdn.com/assets/srv0/yelp_maps/63e0e17c0579/assets/img/annotation_star_highlighted@2x.png\", \"regularOrigin\": [0, 0]}}, {\"location\": null, \"key\": \"current_location\", \"icon\": {\"name\": \"current_location\", \"anchorOffset\": [23, 23], \"activeOrigin\": [0, 0], \"scaledSize\": [46, 46], \"regularUri\": \"https://s3-media2.fl.yelpcdn.com/assets/srv0/yelp_maps/56b9eee3f027/assets/img/current_location_dot@2x.png\", \"size\": [46, 46], \"activeUri\": \"https://s3-media2.fl.yelpcdn.com/assets/srv0/yelp_maps/56b9eee3f027/assets/img/current_location_dot@2x.png\", \"regularOrigin\": [0, 0]}}], \"shouldDrawCheckbox\": false, \"overlayWidth\": 335, \"topBizBounds\": null, \"market\": null, \"center\": {\"latitude\": 40.7223112701284, \"longitude\": -73.9973774072879}}'"
      ]
     },
     "execution_count": 78,
     "metadata": {},
     "output_type": "execute_result"
    }
   ],
   "source": [
    "json_map"
   ]
  },
  {
   "cell_type": "code",
   "execution_count": 79,
   "metadata": {},
   "outputs": [
    {
     "name": "stdout",
     "output_type": "stream",
     "text": [
      "40.7223112701284 -73.9973774072879\n"
     ]
    }
   ],
   "source": [
    "print(latitude,longitude)"
   ]
  },
  {
   "cell_type": "code",
   "execution_count": 80,
   "metadata": {},
   "outputs": [],
   "source": [
    "# The category can be found in the 'a' tag under \"span\", class_ = 'category-str-list' tag, \n",
    "category= results_business_page.find(\"span\", class_ = 'category-str-list').find('a').get_text()"
   ]
  },
  {
   "cell_type": "code",
   "execution_count": 81,
   "metadata": {},
   "outputs": [
    {
     "data": {
      "text/plain": [
       "'Ramen'"
      ]
     },
     "execution_count": 81,
     "metadata": {},
     "output_type": "execute_result"
    }
   ],
   "source": [
    "category"
   ]
  },
  {
   "cell_type": "code",
   "execution_count": 115,
   "metadata": {},
   "outputs": [],
   "source": [
    "# the price range ('$','$$','$$$', or '$$$$') can be found in the \"span\", class_ = 'business-attribute price-range' tag\n",
    "# the price range is not always available, that is why we need to catch errors \n",
    "# if necessary (hence the try: except) structure\n",
    "\n",
    "try:\n",
    "    price_range = results_business_page.find(\"span\", class_ = 'business-attribute price-range').get_text()\n",
    "except:\n",
    "    price_range = None"
   ]
  },
  {
   "cell_type": "code",
   "execution_count": 116,
   "metadata": {},
   "outputs": [
    {
     "name": "stdout",
     "output_type": "stream",
     "text": [
      "$$\n"
     ]
    }
   ],
   "source": [
    "print(price_range)"
   ]
  },
  {
   "cell_type": "code",
   "execution_count": 117,
   "metadata": {},
   "outputs": [],
   "source": [
    "# the ratings associated to a particular restaurant are in the \"div\", itemprop = 'aggregateRating' tag\n",
    "# the rating value (between 0 and 5) can be accessed through ratings (= results_business_page.find(\"div\", \n",
    "# itemprop = 'aggregateRating') at the tag \"meta\" and the attribute 'content'\n",
    "# the number of reviews is available through ratings at the 'span' tag\n",
    "\n",
    "ratings = results_business_page.find(\"div\", itemprop = 'aggregateRating')\n",
    "rating_value = ratings.find(\"meta\").get('content')\n",
    "review_count = ratings.find(\"span\").get_text()"
   ]
  },
  {
   "cell_type": "code",
   "execution_count": 118,
   "metadata": {},
   "outputs": [
    {
     "name": "stdout",
     "output_type": "stream",
     "text": [
      "4.0 801\n"
     ]
    }
   ],
   "source": [
    "print(rating_value,review_count)"
   ]
  },
  {
   "cell_type": "code",
   "execution_count": 119,
   "metadata": {},
   "outputs": [],
   "source": [
    "# the phone number can be accessed at the tag 'span',itemprop = \"telephone\"\n",
    "# phone numbers are not always available so we need to catch errors using the try:... except: structure\n",
    "\n",
    "try:\n",
    "    phone_number = results_business_page.find('span',itemprop = \"telephone\").get_text().strip()\n",
    "except:\n",
    "    phone_number = None   "
   ]
  },
  {
   "cell_type": "code",
   "execution_count": 120,
   "metadata": {},
   "outputs": [
    {
     "name": "stdout",
     "output_type": "stream",
     "text": [
      "(857) 233-4560\n"
     ]
    }
   ],
   "source": [
    "print(phone_number)"
   ]
  },
  {
   "cell_type": "code",
   "execution_count": 66,
   "metadata": {},
   "outputs": [],
   "source": [
    "# We want to know if the restaurant is currently open: this information is \n",
    "# given at the 'span', class_ = \"nowrap extra open\" tag. This information is not always \n",
    "# available that is why we use the try: ... except:... structure\n",
    "\n",
    "try:\n",
    "    open_ = results_business_page.find('span', class_ = \"nowrap extra open\").get_text()\n",
    "except:\n",
    "    open_ = None"
   ]
  },
  {
   "cell_type": "code",
   "execution_count": 67,
   "metadata": {},
   "outputs": [
    {
     "name": "stdout",
     "output_type": "stream",
     "text": [
      "Open now\n"
     ]
    }
   ],
   "source": [
    "print(open_)"
   ]
  },
  {
   "cell_type": "code",
   "execution_count": 121,
   "metadata": {},
   "outputs": [
    {
     "data": {
      "text/plain": [
       "'1100 Boylston StBoston, MA 02215'"
      ]
     },
     "execution_count": 121,
     "metadata": {},
     "output_type": "execute_result"
    }
   ],
   "source": [
    "try:\n",
    "    addr = results_business_page.find('strong', class_ = \"street-address\").get_text().strip()\n",
    "except:\n",
    "    addr = None\n",
    "addr"
   ]
  },
  {
   "cell_type": "code",
   "execution_count": 122,
   "metadata": {},
   "outputs": [
    {
     "data": {
      "text/plain": [
       "'bostonburgerco.com'"
      ]
     },
     "execution_count": 122,
     "metadata": {},
     "output_type": "execute_result"
    }
   ],
   "source": [
    "try:\n",
    "    web = results_business_page.find('span', class_ = \"biz-website js-biz-website js-add-url-tagging\").find('a').get_text()\n",
    "except:\n",
    "    web = None\n",
    "web"
   ]
  },
  {
   "cell_type": "code",
   "execution_count": 44,
   "metadata": {},
   "outputs": [],
   "source": [
    "#want to put all infomations we want to get from one business into one funtion\n",
    "#input: specific restaurant url link\n",
    "#output: all details we tested above\n",
    "def get_info(link):\n",
    "    response_business = requests.get(link)\n",
    "    results_business_page = BeautifulSoup(response_business.content,'lxml')\n",
    "    \n",
    "    try:\n",
    "        addr = results_business_page.find('strong', class_ = \"street-address\").get_text().strip()\n",
    "    except:\n",
    "        addr = None\n",
    "\n",
    "    try:\n",
    "        json_map = results_business_page.find('div', class_ = \"lightbox-map hidden\").get('data-map-state')\n",
    "        dict_map = json.loads(json_map)\n",
    "        lat = dict_map[\"markers\"][1][\"location\"][\"latitude\"]\n",
    "        lon = dict_map[\"markers\"][1][\"location\"][\"longitude\"]\n",
    "    except: \n",
    "        json_map = None \n",
    "\n",
    "    try: \n",
    "        category = results_business_page.find(\"span\", class_ = 'category-str-list').find('a').get_text()\n",
    "    except:\n",
    "        category = None\n",
    "        \n",
    "    try:\n",
    "        price_range = results_business_page.find(\"span\", class_ = 'business-attribute price-range').get_text()\n",
    "    except:\n",
    "        price_range = None\n",
    "        \n",
    "    try: \n",
    "        rating_value = results_business_page.find(\"div\", {'itemprop' : \"aggregateRating\"}).find(\"meta\").get('content')\n",
    "    except: \n",
    "        rating_value = None\n",
    "          \n",
    "    try:\n",
    "        phone_number = results_business_page.find('span',itemprop = \"telephone\").get_text().strip()\n",
    "    except:\n",
    "        phone_number = None\n",
    "        \n",
    "    try:\n",
    "        open_ = results_business_page.find('span', class_ = \"nowrap extra open\").get_text()\n",
    "    except:\n",
    "        open_ = 'closed now'\n",
    "        \n",
    "    try:\n",
    "        web = results_business_page.find('span', class_ = \"biz-website js-biz-website js-add-url-tagging\").find('a').get_text()\n",
    "    except:\n",
    "        web = None\n",
    "    \n",
    "    try:\n",
    "        moreinfo = results_business_page.find_all('dl')\n",
    "        delivery = \"No\"\n",
    "        for i in moreinfo[1:]:\n",
    "            try:\n",
    "                attr = i.find('dt',{'class':\"attribute-key\"}).get_text().strip()\n",
    "                yon = i.find('dd').get_text().strip()\n",
    "                if attr == 'Delivery':\n",
    "                    delivery = yon\n",
    "                    break\n",
    "            except:\n",
    "                delivery = delivery\n",
    "\n",
    "    except:\n",
    "        delivery = None\n",
    "        \n",
    "    return(addr,category,price_range,rating_value,phone_number,open_,web,delivery,lat,lon)\n",
    "    "
   ]
  },
  {
   "cell_type": "code",
   "execution_count": 94,
   "metadata": {},
   "outputs": [],
   "source": [
    "#Get a list of url links of all businesses (or maybe the first 30)\n",
    "#so that we could compile a list of details on, for example, the first 30 search-result restaurants\n",
    "link_list = []\n",
    "\n",
    "for i in range(1,len(businesses)):\n",
    "    business = businesses[i]\n",
    "    link = 'https://www.yelp.com' + business.get('href')\n",
    "    link_list.append(link)"
   ]
  },
  {
   "cell_type": "code",
   "execution_count": 96,
   "metadata": {},
   "outputs": [],
   "source": [
    "#Create a list of restaurant names\n",
    "name_list=[]\n",
    "for i in range(1,len(businesses)):\n",
    "    business = businesses[i]\n",
    "    name = business.find('span').get_text()\n",
    "    name_list.append(name)"
   ]
  },
  {
   "cell_type": "code",
   "execution_count": 98,
   "metadata": {},
   "outputs": [],
   "source": [
    "#Create a list of all restaurants' information\n",
    "info_list=[]\n",
    "\n",
    "for i in range(len(link_list)):\n",
    "    info_list.append(get_info(link_list[i]))"
   ]
  },
  {
   "cell_type": "code",
   "execution_count": 73,
   "metadata": {},
   "outputs": [],
   "source": [
    "def get_businesses():\n",
    "    keyword = input('What do you want to eat ? ')\n",
    "    address = input('Where are you ? ')\n",
    "    limit = input('How many results do you want? ')\n",
    "    filters = input('Do you want to sort by price or by rating? ')\n",
    "    \n",
    "    #first page - figure out numbers of results per page\n",
    "    url = 'https://www.yelp.com/search?find_desc='+ keyword + '&find_loc=' + address \n",
    "    response = requests.get(url)\n",
    "    try:\n",
    "        results_page = BeautifulSoup(response.content,'lxml')\n",
    "    except:\n",
    "        print(\"we didn't get back result page from yelp correctly\")\n",
    "    noperpage = results_page.find('span',{'class':'pagination-results-window'}).get_text().strip()[10:12]\n",
    "    noperpage = int(noperpage)\n",
    "    businesses = results_page.find_all('a',{'data-analytics-label':\"biz-name\"})[1:]\n",
    "    \n",
    "    #start loop from the second page to get enough number of restaurants\n",
    "    loop_range = (int(limit)-1)//noperpage\n",
    "    for pagination in range(1, loop_range+1):\n",
    "        url = 'https://www.yelp.com/search?find_desc='+ keyword + '&find_loc=' + address + '&start=' + str(pagination*noperpage)\n",
    "        response = requests.get(url)\n",
    "        try:\n",
    "            results_page = BeautifulSoup(response.content,'lxml')\n",
    "        except:\n",
    "            print(\"we didn't get back result page from yelp correctly\")\n",
    "        \n",
    "        businesses.extend(results_page.find_all('a',{'data-analytics-label':\"biz-name\"})[1:])\n",
    "    businesses = businesses[:int(limit)]\n",
    "    \n",
    "    #generate details by get_info and format in dataframe\n",
    "    business_list = []\n",
    "    for business in businesses:\n",
    "        name = business.find('span').get_text()\n",
    "        link = 'https://www.yelp.com' + business.get('href')\n",
    "        addr,category,price_range,rating_value,phone_number,open_,web,delivery,lat,lon= get_info(link)\n",
    "        business_list.append([name,addr,open_,price_range,rating_value,category,phone_number,web,delivery,lat,lon])\n",
    "    df = pd.DataFrame(business_list[:int(limit)+1], columns = ['name','address','open or closed','price range','rating value','category','phone','website','delivery service','lat','lon'])\n",
    "    \n",
    "    #sortby...\n",
    "    if filters == 'rates':\n",
    "        df = df.sort_values(by='rating value',ascending=False)\n",
    "        \n",
    "    elif filters == 'price':\n",
    "        df['length'] = df['price range'].apply(lambda x: len(x))\n",
    "        df = df.sort_values(by='length',ascending=False)\n",
    "        df = df.drop('length', axis=1)\n",
    "    \n",
    "    return(df)"
   ]
  },
  {
   "cell_type": "code",
   "execution_count": 74,
   "metadata": {},
   "outputs": [
    {
     "name": "stdout",
     "output_type": "stream",
     "text": [
      "What do you want to eat ? noodles\n",
      "Where are you ? flushing\n",
      "How many results do you want? 12\n",
      "Do you want to sort by price or by rating? rating\n"
     ]
    }
   ],
   "source": [
    "res = get_businesses()"
   ]
  },
  {
   "cell_type": "code",
   "execution_count": 75,
   "metadata": {},
   "outputs": [
    {
     "data": {
      "text/html": [
       "<div>\n",
       "<style scoped>\n",
       "    .dataframe tbody tr th:only-of-type {\n",
       "        vertical-align: middle;\n",
       "    }\n",
       "\n",
       "    .dataframe tbody tr th {\n",
       "        vertical-align: top;\n",
       "    }\n",
       "\n",
       "    .dataframe thead th {\n",
       "        text-align: right;\n",
       "    }\n",
       "</style>\n",
       "<table border=\"1\" class=\"dataframe\">\n",
       "  <thead>\n",
       "    <tr style=\"text-align: right;\">\n",
       "      <th></th>\n",
       "      <th>name</th>\n",
       "      <th>address</th>\n",
       "      <th>open or closed</th>\n",
       "      <th>price range</th>\n",
       "      <th>rating value</th>\n",
       "      <th>category</th>\n",
       "      <th>phone</th>\n",
       "      <th>website</th>\n",
       "      <th>delivery service</th>\n",
       "      <th>lat</th>\n",
       "      <th>lon</th>\n",
       "    </tr>\n",
       "  </thead>\n",
       "  <tbody>\n",
       "    <tr>\n",
       "      <th>0</th>\n",
       "      <td>Bó Noodle House</td>\n",
       "      <td>3907 Prince St 1HQueens, NY 11354</td>\n",
       "      <td>closed now</td>\n",
       "      <td>$$</td>\n",
       "      <td>3.5</td>\n",
       "      <td>Chinese</td>\n",
       "      <td>(718) 683-5919</td>\n",
       "      <td>None</td>\n",
       "      <td>No</td>\n",
       "      <td>40.759389</td>\n",
       "      <td>-73.831890</td>\n",
       "    </tr>\n",
       "    <tr>\n",
       "      <th>1</th>\n",
       "      <td>Shi Miao Dao Yunan Rice Noodle</td>\n",
       "      <td>135-25 40th RdFlushing, NY 11354</td>\n",
       "      <td>Open now</td>\n",
       "      <td>$$</td>\n",
       "      <td>4.5</td>\n",
       "      <td>Noodles</td>\n",
       "      <td>(917) 563-5975</td>\n",
       "      <td>None</td>\n",
       "      <td>No</td>\n",
       "      <td>40.758837</td>\n",
       "      <td>-73.830799</td>\n",
       "    </tr>\n",
       "    <tr>\n",
       "      <th>2</th>\n",
       "      <td>Dunhuang Lanzhou Beef Noodle</td>\n",
       "      <td>136-93 37th AveFlushing, NY 11354</td>\n",
       "      <td>Open now</td>\n",
       "      <td>$</td>\n",
       "      <td>4.0</td>\n",
       "      <td>Chinese</td>\n",
       "      <td>(718) 359-2188</td>\n",
       "      <td>None</td>\n",
       "      <td>No</td>\n",
       "      <td>40.762444</td>\n",
       "      <td>-73.827791</td>\n",
       "    </tr>\n",
       "    <tr>\n",
       "      <th>3</th>\n",
       "      <td>Beef Stew Chop-Shop</td>\n",
       "      <td>37-11 Main StBasement Food CourtQueens, NY 11354</td>\n",
       "      <td>closed now</td>\n",
       "      <td>$</td>\n",
       "      <td>4.0</td>\n",
       "      <td>Noodles</td>\n",
       "      <td></td>\n",
       "      <td>None</td>\n",
       "      <td>No</td>\n",
       "      <td>40.761370</td>\n",
       "      <td>-73.830373</td>\n",
       "    </tr>\n",
       "    <tr>\n",
       "      <th>4</th>\n",
       "      <td>Lamb Noodle Soup</td>\n",
       "      <td>4128 Main StGolden MallFlushing, NY 11355</td>\n",
       "      <td>Open now</td>\n",
       "      <td>$</td>\n",
       "      <td>4.5</td>\n",
       "      <td>Chinese</td>\n",
       "      <td>(516) 234-3100</td>\n",
       "      <td>None</td>\n",
       "      <td>No</td>\n",
       "      <td>40.757168</td>\n",
       "      <td>-73.829317</td>\n",
       "    </tr>\n",
       "    <tr>\n",
       "      <th>5</th>\n",
       "      <td>Kun Sohn Korean Noodle House</td>\n",
       "      <td>35-04 154th StFlushing, NY 11354</td>\n",
       "      <td>closed now</td>\n",
       "      <td>$$</td>\n",
       "      <td>4.5</td>\n",
       "      <td>Korean</td>\n",
       "      <td>(718) 445-2100</td>\n",
       "      <td>None</td>\n",
       "      <td>No</td>\n",
       "      <td>40.765829</td>\n",
       "      <td>-73.810862</td>\n",
       "    </tr>\n",
       "    <tr>\n",
       "      <th>6</th>\n",
       "      <td>Nan Xiang Xiao Long Bao</td>\n",
       "      <td>38-12 Prince StFlushing, NY 11354</td>\n",
       "      <td>Open now</td>\n",
       "      <td>$</td>\n",
       "      <td>4.0</td>\n",
       "      <td>Shanghainese</td>\n",
       "      <td>(718) 321-3838</td>\n",
       "      <td>nan-xiang.com</td>\n",
       "      <td>No</td>\n",
       "      <td>40.759881</td>\n",
       "      <td>-73.832585</td>\n",
       "    </tr>\n",
       "    <tr>\n",
       "      <th>7</th>\n",
       "      <td>Prince Noodle and Cafe 老成都</td>\n",
       "      <td>4009 Prince StFlushing, NY 11354</td>\n",
       "      <td>Open now</td>\n",
       "      <td>$</td>\n",
       "      <td>4.0</td>\n",
       "      <td>Noodles</td>\n",
       "      <td>(718) 888-9295</td>\n",
       "      <td>None</td>\n",
       "      <td>No</td>\n",
       "      <td>40.758565</td>\n",
       "      <td>-73.831513</td>\n",
       "    </tr>\n",
       "    <tr>\n",
       "      <th>8</th>\n",
       "      <td>Lan Zhou Handmade Noodle</td>\n",
       "      <td>4128 Main StGolden Shopping MallFlushing, NY 1...</td>\n",
       "      <td>closed now</td>\n",
       "      <td>$</td>\n",
       "      <td>4.0</td>\n",
       "      <td>Chinese</td>\n",
       "      <td>(347) 757-8208</td>\n",
       "      <td>None</td>\n",
       "      <td>No</td>\n",
       "      <td>40.757178</td>\n",
       "      <td>-73.829317</td>\n",
       "    </tr>\n",
       "    <tr>\n",
       "      <th>9</th>\n",
       "      <td>Flower Brook Mifen House</td>\n",
       "      <td>44-35 Kissena BlvdFlushing, NY 11355</td>\n",
       "      <td>Open now</td>\n",
       "      <td>$</td>\n",
       "      <td>4.5</td>\n",
       "      <td>Chinese</td>\n",
       "      <td>(516) 345-4145</td>\n",
       "      <td>None</td>\n",
       "      <td>Yes</td>\n",
       "      <td>40.753068</td>\n",
       "      <td>-73.821847</td>\n",
       "    </tr>\n",
       "    <tr>\n",
       "      <th>10</th>\n",
       "      <td>Chimama’s Noodle House</td>\n",
       "      <td>45 - 37C Bell BlvdBayside, NY 11361</td>\n",
       "      <td>closed now</td>\n",
       "      <td>$$</td>\n",
       "      <td>4.0</td>\n",
       "      <td>Noodles</td>\n",
       "      <td>(718) 631-8881</td>\n",
       "      <td>None</td>\n",
       "      <td>No</td>\n",
       "      <td>40.759369</td>\n",
       "      <td>-73.768540</td>\n",
       "    </tr>\n",
       "    <tr>\n",
       "      <th>11</th>\n",
       "      <td>Lan Zhou Handmade Noodles</td>\n",
       "      <td>136-20 Roosevelt AveNew World Mall Food CourtF...</td>\n",
       "      <td>closed now</td>\n",
       "      <td>$</td>\n",
       "      <td>4.0</td>\n",
       "      <td>Chinese</td>\n",
       "      <td></td>\n",
       "      <td>None</td>\n",
       "      <td>No</td>\n",
       "      <td>40.759362</td>\n",
       "      <td>-73.829094</td>\n",
       "    </tr>\n",
       "  </tbody>\n",
       "</table>\n",
       "</div>"
      ],
      "text/plain": [
       "                              name  \\\n",
       "0                  Bó Noodle House   \n",
       "1   Shi Miao Dao Yunan Rice Noodle   \n",
       "2     Dunhuang Lanzhou Beef Noodle   \n",
       "3              Beef Stew Chop-Shop   \n",
       "4                 Lamb Noodle Soup   \n",
       "5     Kun Sohn Korean Noodle House   \n",
       "6          Nan Xiang Xiao Long Bao   \n",
       "7       Prince Noodle and Cafe 老成都   \n",
       "8         Lan Zhou Handmade Noodle   \n",
       "9         Flower Brook Mifen House   \n",
       "10          Chimama’s Noodle House   \n",
       "11       Lan Zhou Handmade Noodles   \n",
       "\n",
       "                                              address open or closed  \\\n",
       "0                   3907 Prince St 1HQueens, NY 11354     closed now   \n",
       "1                    135-25 40th RdFlushing, NY 11354       Open now   \n",
       "2                   136-93 37th AveFlushing, NY 11354       Open now   \n",
       "3    37-11 Main StBasement Food CourtQueens, NY 11354     closed now   \n",
       "4           4128 Main StGolden MallFlushing, NY 11355       Open now   \n",
       "5                    35-04 154th StFlushing, NY 11354     closed now   \n",
       "6                   38-12 Prince StFlushing, NY 11354       Open now   \n",
       "7                    4009 Prince StFlushing, NY 11354       Open now   \n",
       "8   4128 Main StGolden Shopping MallFlushing, NY 1...     closed now   \n",
       "9                44-35 Kissena BlvdFlushing, NY 11355       Open now   \n",
       "10                45 - 37C Bell BlvdBayside, NY 11361     closed now   \n",
       "11  136-20 Roosevelt AveNew World Mall Food CourtF...     closed now   \n",
       "\n",
       "   price range rating value      category           phone        website  \\\n",
       "0           $$          3.5       Chinese  (718) 683-5919           None   \n",
       "1           $$          4.5       Noodles  (917) 563-5975           None   \n",
       "2            $          4.0       Chinese  (718) 359-2188           None   \n",
       "3            $          4.0       Noodles                           None   \n",
       "4            $          4.5       Chinese  (516) 234-3100           None   \n",
       "5           $$          4.5        Korean  (718) 445-2100           None   \n",
       "6            $          4.0  Shanghainese  (718) 321-3838  nan-xiang.com   \n",
       "7            $          4.0       Noodles  (718) 888-9295           None   \n",
       "8            $          4.0       Chinese  (347) 757-8208           None   \n",
       "9            $          4.5       Chinese  (516) 345-4145           None   \n",
       "10          $$          4.0       Noodles  (718) 631-8881           None   \n",
       "11           $          4.0       Chinese                           None   \n",
       "\n",
       "   delivery service        lat        lon  \n",
       "0                No  40.759389 -73.831890  \n",
       "1                No  40.758837 -73.830799  \n",
       "2                No  40.762444 -73.827791  \n",
       "3                No  40.761370 -73.830373  \n",
       "4                No  40.757168 -73.829317  \n",
       "5                No  40.765829 -73.810862  \n",
       "6                No  40.759881 -73.832585  \n",
       "7                No  40.758565 -73.831513  \n",
       "8                No  40.757178 -73.829317  \n",
       "9               Yes  40.753068 -73.821847  \n",
       "10               No  40.759369 -73.768540  \n",
       "11               No  40.759362 -73.829094  "
      ]
     },
     "execution_count": 75,
     "metadata": {},
     "output_type": "execute_result"
    }
   ],
   "source": [
    "res"
   ]
  },
  {
   "cell_type": "code",
   "execution_count": null,
   "metadata": {},
   "outputs": [],
   "source": [
    "import folium\n",
    "m = folium.Map(location=[40.8075355, -73.9625727],zoom_start=14)"
   ]
  },
  {
   "cell_type": "code",
   "execution_count": null,
   "metadata": {},
   "outputs": [],
   "source": [
    "# a marker is created for any restaurant: red for critical situation and orange for not critical\n",
    "for k in range(len(res)):\n",
    "    folium.Marker([res['lat'].iloc[k],res['lon'].iloc[k]],popup=res['name'].iloc[k]).add_to(m)\n",
    "m"
   ]
  },
  {
   "cell_type": "code",
   "execution_count": 65,
   "metadata": {},
   "outputs": [
    {
     "data": {
      "text/plain": [
       "[<a class=\"biz-name js-analytics-click\" data-analytics-label=\"biz-name\" data-hovercard-id=\"9DuvvLi4D8pNRx96SH4FDw\" href=\"/adredir?ad_business_id=AMNoZngyjT5wiFxIHuYGiA&amp;campaign_id=m4feyFq9f3E874eCYh3l1A&amp;click_origin=search_results&amp;placement=above_search&amp;redirect_url=https%3A%2F%2Fwww.yelp.com%2Fbiz%2Froclyns-bronx&amp;request_id=48f1ab73aa43f7b3&amp;signature=6532e4143762359db9c627ddbd9cf6e4558c0dec701e889a73bfa7e26417acb3&amp;slot=0\"><span>Roclyn’s</span></a>,\n",
       " <a class=\"biz-name js-analytics-click\" data-analytics-label=\"biz-name\" data-hovercard-id=\"z0XS1eRHD6uK0PN77FI2kg\" href=\"/biz/bap-new-york?osq=lobster\"><span>Bap</span></a>,\n",
       " <a class=\"biz-name js-analytics-click\" data-analytics-label=\"biz-name\" data-hovercard-id=\"LEXrAvYPfshHjC0L6UsHpA\" href=\"/biz/raffettos-new-york-2?osq=lobster\"><span>Raffetto’s</span></a>,\n",
       " <a class=\"biz-name js-analytics-click\" data-analytics-label=\"biz-name\" data-hovercard-id=\"Ze0ZcyeWi7VJm-roBwR1rw\" href=\"/biz/ocean-prime-new-york?osq=lobster\"><span>Ocean Prime</span></a>,\n",
       " <a class=\"biz-name js-analytics-click\" data-analytics-label=\"biz-name\" data-hovercard-id=\"ozrPxTeAtHnhNOG0zY3zXA\" href=\"/biz/the-original-soupman-new-york-7?osq=lobster\"><span>The Original Soupman</span></a>,\n",
       " <a class=\"biz-name js-analytics-click\" data-analytics-label=\"biz-name\" data-hovercard-id=\"eT6hA-oUP2DjC_1DjBwQcQ\" href=\"/biz/rh-rooftop-restaurant-new-york-3?osq=lobster\"><span>RH Rooftop Restaurant</span></a>,\n",
       " <a class=\"biz-name js-analytics-click\" data-analytics-label=\"biz-name\" data-hovercard-id=\"slWLhNJOfocXu8hFG7UhNQ\" href=\"/biz/red-hook-lobster-pound-new-york-3?osq=lobster\"><span>Red Hook Lobster Pound</span></a>,\n",
       " <a class=\"biz-name js-analytics-click\" data-analytics-label=\"biz-name\" data-hovercard-id=\"B_XsBHrbaKL1ugIlWkWPWg\" href=\"/biz/greenpoint-fish-and-lobster-co-long-island-city?osq=lobster\"><span>Greenpoint Fish &amp; Lobster Co.</span></a>,\n",
       " <a class=\"biz-name js-analytics-click\" data-analytics-label=\"biz-name\" data-hovercard-id=\"PWiYeoZHDigXmWCnguXJKA\" href=\"/biz/jordan-lobster-farms-island-park?osq=lobster\"><span>Jordan Lobster Farms</span></a>,\n",
       " <a class=\"biz-name js-analytics-click\" data-analytics-label=\"biz-name\" data-hovercard-id=\"uipis_6Ndz5L24P44Kc4oA\" href=\"/biz/frenchette-new-york-2?osq=lobster\"><span>Frenchette</span></a>,\n",
       " <a class=\"biz-name js-analytics-click\" data-analytics-label=\"biz-name\" data-hovercard-id=\"ATnLpq5F37Hi4q1PiGdt2w\" href=\"/biz/fish-tales-brooklyn?osq=lobster\"><span>Fish Tales</span></a>]"
      ]
     },
     "execution_count": 65,
     "metadata": {},
     "output_type": "execute_result"
    }
   ],
   "source": [
    "#workspace with saved results page\n",
    "url = 'https://www.yelp.com/search?find_desc=lobster&find_loc=new+york&start=60'\n",
    "response = requests.get(url)\n",
    "try:\n",
    "    results_page = BeautifulSoup(response.content,'lxml')\n",
    "except:\n",
    "    print(\"we didn't get back result page from yelp correctly\")\n",
    "  "
   ]
  },
  {
   "cell_type": "code",
   "execution_count": 68,
   "metadata": {},
   "outputs": [
    {
     "data": {
      "text/plain": [
       "[<a class=\"biz-name js-analytics-click\" data-analytics-label=\"biz-name\" data-hovercard-id=\"z0XS1eRHD6uK0PN77FI2kg\" href=\"/biz/bap-new-york?osq=lobster\"><span>Bap</span></a>,\n",
       " <a class=\"biz-name js-analytics-click\" data-analytics-label=\"biz-name\" data-hovercard-id=\"LEXrAvYPfshHjC0L6UsHpA\" href=\"/biz/raffettos-new-york-2?osq=lobster\"><span>Raffetto’s</span></a>,\n",
       " <a class=\"biz-name js-analytics-click\" data-analytics-label=\"biz-name\" data-hovercard-id=\"Ze0ZcyeWi7VJm-roBwR1rw\" href=\"/biz/ocean-prime-new-york?osq=lobster\"><span>Ocean Prime</span></a>,\n",
       " <a class=\"biz-name js-analytics-click\" data-analytics-label=\"biz-name\" data-hovercard-id=\"ozrPxTeAtHnhNOG0zY3zXA\" href=\"/biz/the-original-soupman-new-york-7?osq=lobster\"><span>The Original Soupman</span></a>,\n",
       " <a class=\"biz-name js-analytics-click\" data-analytics-label=\"biz-name\" data-hovercard-id=\"eT6hA-oUP2DjC_1DjBwQcQ\" href=\"/biz/rh-rooftop-restaurant-new-york-3?osq=lobster\"><span>RH Rooftop Restaurant</span></a>,\n",
       " <a class=\"biz-name js-analytics-click\" data-analytics-label=\"biz-name\" data-hovercard-id=\"slWLhNJOfocXu8hFG7UhNQ\" href=\"/biz/red-hook-lobster-pound-new-york-3?osq=lobster\"><span>Red Hook Lobster Pound</span></a>,\n",
       " <a class=\"biz-name js-analytics-click\" data-analytics-label=\"biz-name\" data-hovercard-id=\"B_XsBHrbaKL1ugIlWkWPWg\" href=\"/biz/greenpoint-fish-and-lobster-co-long-island-city?osq=lobster\"><span>Greenpoint Fish &amp; Lobster Co.</span></a>,\n",
       " <a class=\"biz-name js-analytics-click\" data-analytics-label=\"biz-name\" data-hovercard-id=\"PWiYeoZHDigXmWCnguXJKA\" href=\"/biz/jordan-lobster-farms-island-park?osq=lobster\"><span>Jordan Lobster Farms</span></a>,\n",
       " <a class=\"biz-name js-analytics-click\" data-analytics-label=\"biz-name\" data-hovercard-id=\"uipis_6Ndz5L24P44Kc4oA\" href=\"/biz/frenchette-new-york-2?osq=lobster\"><span>Frenchette</span></a>,\n",
       " <a class=\"biz-name js-analytics-click\" data-analytics-label=\"biz-name\" data-hovercard-id=\"ATnLpq5F37Hi4q1PiGdt2w\" href=\"/biz/fish-tales-brooklyn?osq=lobster\"><span>Fish Tales</span></a>,\n",
       " <a class=\"biz-name js-analytics-click\" data-analytics-label=\"biz-name\" data-hovercard-id=\"z0XS1eRHD6uK0PN77FI2kg\" href=\"/biz/bap-new-york?osq=lobster\"><span>Bap</span></a>,\n",
       " <a class=\"biz-name js-analytics-click\" data-analytics-label=\"biz-name\" data-hovercard-id=\"LEXrAvYPfshHjC0L6UsHpA\" href=\"/biz/raffettos-new-york-2?osq=lobster\"><span>Raffetto’s</span></a>,\n",
       " <a class=\"biz-name js-analytics-click\" data-analytics-label=\"biz-name\" data-hovercard-id=\"Ze0ZcyeWi7VJm-roBwR1rw\" href=\"/biz/ocean-prime-new-york?osq=lobster\"><span>Ocean Prime</span></a>,\n",
       " <a class=\"biz-name js-analytics-click\" data-analytics-label=\"biz-name\" data-hovercard-id=\"ozrPxTeAtHnhNOG0zY3zXA\" href=\"/biz/the-original-soupman-new-york-7?osq=lobster\"><span>The Original Soupman</span></a>,\n",
       " <a class=\"biz-name js-analytics-click\" data-analytics-label=\"biz-name\" data-hovercard-id=\"eT6hA-oUP2DjC_1DjBwQcQ\" href=\"/biz/rh-rooftop-restaurant-new-york-3?osq=lobster\"><span>RH Rooftop Restaurant</span></a>,\n",
       " <a class=\"biz-name js-analytics-click\" data-analytics-label=\"biz-name\" data-hovercard-id=\"slWLhNJOfocXu8hFG7UhNQ\" href=\"/biz/red-hook-lobster-pound-new-york-3?osq=lobster\"><span>Red Hook Lobster Pound</span></a>,\n",
       " <a class=\"biz-name js-analytics-click\" data-analytics-label=\"biz-name\" data-hovercard-id=\"B_XsBHrbaKL1ugIlWkWPWg\" href=\"/biz/greenpoint-fish-and-lobster-co-long-island-city?osq=lobster\"><span>Greenpoint Fish &amp; Lobster Co.</span></a>,\n",
       " <a class=\"biz-name js-analytics-click\" data-analytics-label=\"biz-name\" data-hovercard-id=\"PWiYeoZHDigXmWCnguXJKA\" href=\"/biz/jordan-lobster-farms-island-park?osq=lobster\"><span>Jordan Lobster Farms</span></a>,\n",
       " <a class=\"biz-name js-analytics-click\" data-analytics-label=\"biz-name\" data-hovercard-id=\"uipis_6Ndz5L24P44Kc4oA\" href=\"/biz/frenchette-new-york-2?osq=lobster\"><span>Frenchette</span></a>,\n",
       " <a class=\"biz-name js-analytics-click\" data-analytics-label=\"biz-name\" data-hovercard-id=\"ATnLpq5F37Hi4q1PiGdt2w\" href=\"/biz/fish-tales-brooklyn?osq=lobster\"><span>Fish Tales</span></a>]"
      ]
     },
     "execution_count": 68,
     "metadata": {},
     "output_type": "execute_result"
    }
   ],
   "source": [
    "businesses = results_page.find_all('a',{'data-analytics-label':\"biz-name\"})[1:]\n",
    "businesses.extend(businesses)\n",
    "businesses"
   ]
  },
  {
   "cell_type": "code",
   "execution_count": null,
   "metadata": {},
   "outputs": [],
   "source": []
  }
 ],
 "metadata": {
  "kernelspec": {
   "display_name": "Python 3",
   "language": "python",
   "name": "python3"
  },
  "language_info": {
   "codemirror_mode": {
    "name": "ipython",
    "version": 3
   },
   "file_extension": ".py",
   "mimetype": "text/x-python",
   "name": "python",
   "nbconvert_exporter": "python",
   "pygments_lexer": "ipython3",
   "version": "3.6.5"
  }
 },
 "nbformat": 4,
 "nbformat_minor": 2
}
