{
 "cells": [
  {
   "cell_type": "code",
   "execution_count": null,
   "metadata": {},
   "outputs": [],
   "source": [
    "#This is the notebook for tools_project"
   ]
  },
  {
   "cell_type": "code",
   "execution_count": 11,
   "metadata": {},
   "outputs": [],
   "source": [
    "# scraping libraries to read html code\n",
    "import requests\n",
    "from bs4 import BeautifulSoup\n",
    "import json"
   ]
  },
  {
   "cell_type": "code",
   "execution_count": 12,
   "metadata": {},
   "outputs": [],
   "source": [
    "# pandas library to create dataframe\n",
    "import pandas as pd\n",
    "import numpy as np"
   ]
  },
  {
   "cell_type": "code",
   "execution_count": 13,
   "metadata": {},
   "outputs": [
    {
     "name": "stdout",
     "output_type": "stream",
     "text": [
      "What do you want to eat now ? ramen\n",
      "Where are you ? Boston, MA\n"
     ]
    },
    {
     "data": {
      "text/plain": [
       "'https://www.yelp.com/search?find_desc=ramen&find_loc=Boston, MA'"
      ]
     },
     "execution_count": 13,
     "metadata": {},
     "output_type": "execute_result"
    }
   ],
   "source": [
    "# Direct to initial results\n",
    "url = 'https://www.yelp.com/search?find_desc='\n",
    "keyword = input('What do you want to eat now ? ')\n",
    "address = input('Where are you ? ')\n",
    "\n",
    "url = 'https://www.yelp.com/search?find_desc='+ keyword + '&find_loc=' + address \n",
    "url"
   ]
  },
  {
   "cell_type": "code",
   "execution_count": 14,
   "metadata": {},
   "outputs": [
    {
     "data": {
      "text/plain": [
       "200"
      ]
     },
     "execution_count": 14,
     "metadata": {},
     "output_type": "execute_result"
    }
   ],
   "source": [
    "# Checking if the url is \"valid\", the status code should be 200\n",
    "response = requests.get(url)\n",
    "response.status_code"
   ]
  },
  {
   "cell_type": "code",
   "execution_count": 15,
   "metadata": {},
   "outputs": [],
   "source": [
    "# extract the html code from the web page = https://www.yelp.com/search?find_desc=Restaurants&find_loc=New+York,+NY&start=30\n",
    "results_page = BeautifulSoup(response.content,'lxml')"
   ]
  },
  {
   "cell_type": "code",
   "execution_count": 16,
   "metadata": {},
   "outputs": [],
   "source": [
    "# creating a list of businesses with the html code of the business as elements of the list\n",
    "businesses = results_page.find_all('a',class_ = \"biz-name js-analytics-click\")"
   ]
  },
  {
   "cell_type": "code",
   "execution_count": 17,
   "metadata": {},
   "outputs": [
    {
     "data": {
      "text/plain": [
       "[<a class=\"biz-name js-analytics-click\" data-analytics-label=\"biz-name\" data-hovercard-id=\"bOfM3D6YxYDvMy3smHxpQQ\" href=\"/adredir?ad_business_id=UgAVU0n3ysKBVoNWp4OHcg&amp;campaign_id=5qgIavK7B69wOJWJ5kUz6Q&amp;click_origin=search_results&amp;placement=above_search&amp;redirect_url=https%3A%2F%2Fwww.yelp.com%2Fbiz%2Fshabu-and-mein-cambridge-3&amp;request_id=d6e6e25e4f30b625&amp;signature=7c0a55e32e1b52775b88ce08f4ef7102605864b999347aa68106b6a04c4d0b06&amp;slot=0\"><span>Shabu &amp; Mein</span></a>,\n",
       " <a class=\"biz-name js-analytics-click\" data-analytics-label=\"biz-name\" data-hovercard-id=\"G_curU_foguyxUTX9lEuPQ\" href=\"/biz/santouka-back-bay-boston-2?osq=ramen\"><span>Santouka Back Bay</span></a>,\n",
       " <a class=\"biz-name js-analytics-click\" data-analytics-label=\"biz-name\" data-hovercard-id=\"WSBc4WacBAFPf3euLCmGVA\" href=\"/biz/neponset-cafe-boston-2?osq=ramen\"><span>Neponset Cafe</span></a>,\n",
       " <a class=\"biz-name js-analytics-click\" data-analytics-label=\"biz-name\" data-hovercard-id=\"uxIlqP7EZmWWfj6V6Bs6Hg\" href=\"/biz/amateras-ramen-boston?osq=ramen\"><span>アマテラス ラーメン</span></a>,\n",
       " <a class=\"biz-name js-analytics-click\" data-analytics-label=\"biz-name\" data-hovercard-id=\"iVFVIWBdb796o6_n9Ynq_g\" href=\"/biz/santouka-harvard-square-cambridge-3?osq=ramen\"><span>Santouka Harvard Square</span></a>,\n",
       " <a class=\"biz-name js-analytics-click\" data-analytics-label=\"biz-name\" data-hovercard-id=\"aAJQ25y_aZ5WMesyjtGcgg\" href=\"/biz/wens-noodle-and-ramen-%E8%BF%87%E6%A1%A5%E7%B1%B3%E7%BA%BF-boston?osq=ramen\"><span>Wens noodle and Ramen 过桥米线</span></a>,\n",
       " <a class=\"biz-name js-analytics-click\" data-analytics-label=\"biz-name\" data-hovercard-id=\"f0POFsX8wtxVF11X4VS-lA\" href=\"/biz/soup-shack-boston?osq=ramen\"><span>Soup Shack</span></a>,\n",
       " <a class=\"biz-name js-analytics-click\" data-analytics-label=\"biz-name\" data-hovercard-id=\"uTeC7Ax1oHSyLP-_epaTHg\" href=\"/biz/ganko-ittetsu-ramen-brookline?osq=ramen\"><span>Ganko Ittetsu Ramen</span></a>,\n",
       " <a class=\"biz-name js-analytics-click\" data-analytics-label=\"biz-name\" data-hovercard-id=\"Zyw4gcfhkMhxW0ZuuWzWrA\" href=\"/biz/oisa-ramen-boston-2?osq=ramen\"><span>Oisa Ramen</span></a>,\n",
       " <a class=\"biz-name js-analytics-click\" data-analytics-label=\"biz-name\" data-hovercard-id=\"YsuCkQkUBfqbtz-k4tb9ng\" href=\"/biz/yume-wo-katare-cambridge-2?osq=ramen\"><span>Yume Wo Katare</span></a>,\n",
       " <a class=\"biz-name js-analytics-click\" data-analytics-label=\"biz-name\" data-hovercard-id=\"bOfM3D6YxYDvMy3smHxpQQ\" href=\"/biz/shabu-and-mein-cambridge-3?osq=ramen\"><span>Shabu &amp; Mein</span></a>,\n",
       " <a class=\"biz-name js-analytics-click\" data-analytics-label=\"biz-name\" data-hovercard-id=\"y5p8gRJBKbUa-ZIfYJ3vEg\" href=\"/biz/ruckus-boston-2?osq=ramen\"><span>Ruckus</span></a>,\n",
       " <a class=\"biz-name js-analytics-click\" data-analytics-label=\"biz-name\" data-hovercard-id=\"OUFBAuMxIG_Lx4ispyhpxw\" href=\"/biz/tsurumen-davis-somerville?osq=ramen\"><span>Tsurumen Davis</span></a>,\n",
       " <a class=\"biz-name js-analytics-click\" data-analytics-label=\"biz-name\" data-hovercard-id=\"myXygfI9VOywiuhcFfdecQ\" href=\"/biz/pikaichi-medford-2?osq=ramen\"><span>Pikaichi</span></a>,\n",
       " <a class=\"biz-name js-analytics-click\" data-analytics-label=\"biz-name\" data-hovercard-id=\"o9Ay6wgvWRN9JIbWXhlL2A\" href=\"/biz/sakura-sunakku-boston?osq=ramen\"><span>Sakura Sunakku</span></a>,\n",
       " <a class=\"biz-name js-analytics-click\" data-analytics-label=\"biz-name\" data-hovercard-id=\"NSVsLCP74f9oyeVssuqBOA\" href=\"/biz/shin-hakata-ramen-boston-2?osq=ramen\"><span>Shin Hakata Ramen</span></a>,\n",
       " <a class=\"biz-name js-analytics-click\" data-analytics-label=\"biz-name\" data-hovercard-id=\"kjJAEJj4DCkOfZ5CQ3aYSA\" href=\"/biz/shojo-boston-2?osq=ramen\"><span>Shojo</span></a>,\n",
       " <a class=\"biz-name js-analytics-click\" data-analytics-label=\"biz-name\" data-hovercard-id=\"oXandK3u8EasqhOyhHWrtQ\" href=\"/biz/hakata-ramen-and-sushi-waltham-2?osq=ramen\"><span>Hakata Ramen &amp; Sushi</span></a>,\n",
       " <a class=\"biz-name js-analytics-click\" data-analytics-label=\"biz-name\" data-hovercard-id=\"ct2NAPkiHHpXePZXNkuewQ\" href=\"/biz/chiharu-brookline?osq=ramen\"><span>Chiharu</span></a>,\n",
       " <a class=\"biz-name js-analytics-click\" data-analytics-label=\"biz-name\" data-hovercard-id=\"hKvmnRyvHygFFY_0Lacl7w\" href=\"/biz/sushi-kappo-boston?osq=ramen\"><span>Sushi Kappo</span></a>,\n",
       " <a class=\"biz-name js-analytics-click\" data-analytics-label=\"biz-name\" data-hovercard-id=\"kghf4n-ryf3WDsXfdMBQUg\" href=\"/biz/noodle-lab-boston?osq=ramen\"><span>Noodle Lab</span></a>,\n",
       " <a class=\"biz-name js-analytics-click\" data-analytics-label=\"biz-name\" data-hovercard-id=\"AO3X1ebCU6D6U0Q00AUZxw\" href=\"/biz/ittoku-boston?osq=ramen\"><span>Ittoku</span></a>,\n",
       " <a class=\"biz-name js-analytics-click\" data-analytics-label=\"biz-name\" data-hovercard-id=\"09wtP1I6hBsnKGcsSDi1Iw\" href=\"/biz/snappy-kitchen-somerville?osq=ramen\"><span>Snappy Kitchen</span></a>,\n",
       " <a class=\"biz-name js-analytics-click\" data-analytics-label=\"biz-name\" data-hovercard-id=\"kGQRR8rQ_yI2slWW9umgWg\" href=\"/biz/sapporo-ramen-cambridge?osq=ramen\"><span>Sapporo Ramen</span></a>,\n",
       " <a class=\"biz-name js-analytics-click\" data-analytics-label=\"biz-name\" data-hovercard-id=\"DNcnUX-fHA_ya3Rm3ocftw\" href=\"/biz/totto-ramen-allston-2?osq=ramen\"><span>Totto Ramen</span></a>,\n",
       " <a class=\"biz-name js-analytics-click\" data-analytics-label=\"biz-name\" data-hovercard-id=\"auvzCnLJrk70dfEkkVHJdA\" href=\"/biz/hakata-ramen-quincy-3?osq=ramen\"><span>Hakata Ramen</span></a>,\n",
       " <a class=\"biz-name js-analytics-click\" data-analytics-label=\"biz-name\" data-hovercard-id=\"KHG_aLDcCp0oLy5MezZQVw\" href=\"/biz/wens-yunnan-noodle-and-ramen-boston-7?osq=ramen\"><span>Wen’s Yunnan Noodle &amp; Ramen</span></a>,\n",
       " <a class=\"biz-name js-analytics-click\" data-analytics-label=\"biz-name\" data-hovercard-id=\"fQSJGX451dEYvmRZpxCA9w\" href=\"/biz/one-ramen-and-sushi-cambridge-2?osq=ramen\"><span>One Ramen &amp; Sushi</span></a>,\n",
       " <a class=\"biz-name js-analytics-click\" data-analytics-label=\"biz-name\" data-hovercard-id=\"V7RoakmBlMBto8JIR7xPFA\" href=\"/biz/fairy-cafe-quincy?osq=ramen\"><span>Fairy Cafe</span></a>,\n",
       " <a class=\"biz-name js-analytics-click\" data-analytics-label=\"biz-name\" data-hovercard-id=\"avvfUgn10yKbRAlnUF4DWg\" href=\"/biz/yume-ga-arukara-cambridge-2?osq=ramen\"><span>Yume Ga Arukara</span></a>,\n",
       " <a class=\"biz-name js-analytics-click\" data-analytics-label=\"biz-name\" data-hovercard-id=\"Zc914VxjW2NxQrAhY1kUNQ\" href=\"/biz/shuns-kitchen-boston-2?osq=ramen\"><span>Shun’s Kitchen</span></a>]"
      ]
     },
     "execution_count": 17,
     "metadata": {},
     "output_type": "execute_result"
    }
   ],
   "source": [
    "businesses"
   ]
  },
  {
   "cell_type": "code",
   "execution_count": 27,
   "metadata": {},
   "outputs": [],
   "source": [
    "# selecting the first element (a particular restaurant in our case) of the list businesses and looking in the\n",
    "#ignore the first element of the businesses list, it is an ad by yelp, regular list start from the second (index = 1)\n",
    "# html code for its name\n",
    "business = businesses[1]\n",
    "name = business.find('span').get_text()\n",
    "\n",
    "# getting the link to the yelp page this perticular restaurant\n",
    "link = 'https://www.yelp.com' + business.get('href')"
   ]
  },
  {
   "cell_type": "code",
   "execution_count": 28,
   "metadata": {},
   "outputs": [
    {
     "name": "stdout",
     "output_type": "stream",
     "text": [
      "Neponset Cafe https://www.yelp.com/biz/neponset-cafe-boston-2?osq=ramen\n"
     ]
    }
   ],
   "source": [
    "print(name,link)"
   ]
  },
  {
   "cell_type": "code",
   "execution_count": 20,
   "metadata": {},
   "outputs": [],
   "source": [
    "# extracting the html code of the web page associated with the first business of our list businesses\n",
    "response_business = requests.get(link)\n",
    "results_business_page = BeautifulSoup(response_business.content,'lxml')"
   ]
  },
  {
   "cell_type": "code",
   "execution_count": null,
   "metadata": {},
   "outputs": [],
   "source": [
    "# looking in the html page of the restaurant for latitude and longitude coordinates of the restaurant\n",
    "# the json object json_map contains these coordinates\n",
    "json_map = results_business_page.find('div', class_ = \"lightbox-map hidden\").get('data-map-state')\n",
    "\n",
    "# we can convert this json object to a python dictionnary using the following method\n",
    "dict_map = json.loads(json_map)\n",
    "\n",
    "# the relevant keys in this dict are \"markers\", \"location\" and \"latitude\" and \"longitude\"\n",
    "latitude = dict_map[\"markers\"][1][\"location\"][\"latitude\"]\n",
    "longitude = dict_map[\"markers\"][1][\"location\"][\"longitude\"]"
   ]
  },
  {
   "cell_type": "code",
   "execution_count": null,
   "metadata": {},
   "outputs": [],
   "source": [
    "json_map"
   ]
  },
  {
   "cell_type": "code",
   "execution_count": null,
   "metadata": {},
   "outputs": [],
   "source": [
    "print(latitude,longitude)"
   ]
  },
  {
   "cell_type": "code",
   "execution_count": null,
   "metadata": {},
   "outputs": [],
   "source": [
    "# The category can be found in the 'a' tag under \"span\", class_ = 'category-str-list' tag, \n",
    "category= results_business_page.find(\"span\", class_ = 'category-str-list').find('a').get_text()"
   ]
  },
  {
   "cell_type": "code",
   "execution_count": null,
   "metadata": {},
   "outputs": [],
   "source": [
    "category"
   ]
  },
  {
   "cell_type": "code",
   "execution_count": null,
   "metadata": {},
   "outputs": [],
   "source": [
    "# the price range ('$','$$','$$$', or '$$$$') can be found in the \"span\", class_ = 'business-attribute price-range' tag\n",
    "# the price range is not always available, that is why we need to catch errors \n",
    "# if necessary (hence the try: except) structure\n",
    "\n",
    "try:\n",
    "    price_range = results_business_page.find(\"span\", class_ = 'business-attribute price-range').get_text()\n",
    "except:\n",
    "    price_range = None"
   ]
  },
  {
   "cell_type": "code",
   "execution_count": null,
   "metadata": {},
   "outputs": [],
   "source": [
    "print(price_range)"
   ]
  },
  {
   "cell_type": "code",
   "execution_count": null,
   "metadata": {},
   "outputs": [],
   "source": [
    "# the ratings associated to a particular restaurant are in the \"div\", itemprop = 'aggregateRating' tag\n",
    "# the rating value (between 0 and 5) can be accessed through ratings (= results_business_page.find(\"div\", \n",
    "# itemprop = 'aggregateRating') at the tag \"meta\" and the attribute 'content'\n",
    "# the number of reviews is available through ratings at the 'span' tag\n",
    "\n",
    "ratings = results_business_page.find(\"div\", itemprop = 'aggregateRating')\n",
    "rating_value = ratings.find(\"meta\").get('content')\n",
    "review_count = ratings.find(\"span\").get_text()"
   ]
  },
  {
   "cell_type": "code",
   "execution_count": null,
   "metadata": {},
   "outputs": [],
   "source": [
    "print(rating_value,review_count)"
   ]
  },
  {
   "cell_type": "code",
   "execution_count": null,
   "metadata": {},
   "outputs": [],
   "source": [
    "# the phone number can be accessed at the tag 'span',itemprop = \"telephone\"\n",
    "# phone numbers are not always available so we need to catch errors using the try:... except: structure\n",
    "\n",
    "try:\n",
    "    phone_number = results_business_page.find('span',itemprop = \"telephone\").get_text().strip()\n",
    "except:\n",
    "    phone_number = None   "
   ]
  },
  {
   "cell_type": "code",
   "execution_count": null,
   "metadata": {},
   "outputs": [],
   "source": [
    "print(phone_number)"
   ]
  },
  {
   "cell_type": "code",
   "execution_count": null,
   "metadata": {},
   "outputs": [],
   "source": [
    "# We want to know if the restaurant is currently open: this information is \n",
    "# given at the 'span', class_ = \"nowrap extra open\" tag. This information is not always \n",
    "# available that is why we use the try: ... except:... structure\n",
    "\n",
    "try:\n",
    "    open_ = results_business_page.find('span', class_ = \"nowrap extra open\").get_text()\n",
    "except:\n",
    "    open_ = None"
   ]
  },
  {
   "cell_type": "code",
   "execution_count": null,
   "metadata": {},
   "outputs": [],
   "source": [
    "print(open_)"
   ]
  },
  {
   "cell_type": "code",
   "execution_count": null,
   "metadata": {},
   "outputs": [],
   "source": [
    "try:\n",
    "    addr = results_business_page.find('strong', class_ = \"street-address\").get_text().strip()\n",
    "except:\n",
    "    addr = None\n",
    "addr"
   ]
  },
  {
   "cell_type": "code",
   "execution_count": null,
   "metadata": {},
   "outputs": [],
   "source": [
    "try:\n",
    "    web = results_business_page.find('span', class_ = \"biz-website js-biz-website js-add-url-tagging\").find('a').get_text()\n",
    "except:\n",
    "    web = None\n",
    "web"
   ]
  },
  {
   "cell_type": "code",
   "execution_count": null,
   "metadata": {},
   "outputs": [],
   "source": [
    "#want to put all infomations we want to get from one business in to one funtion\n",
    "#input: url link\n",
    "#output: all details we tested above\n",
    "def get_info(link):\n",
    "    response_business = requests.get(business_link)\n",
    "    results_business_page = BeautifulSoup(response_business.content,'lxml')\n",
    "    \n",
    "    try:\n",
    "        addr = results_business_page.find('strong', class_ = \"street-address\").get_text().strip()\n",
    "    except:\n",
    "        addr = None\n",
    "\n",
    "    json_map = results_business_page.find('div', class_ = \"lightbox-map hidden\").get('data-map-state')\n",
    "    dict_map = json.loads(json_map)\n",
    "    latitude = dict_map[\"markers\"][1][\"location\"][\"latitude\"]\n",
    "    longitude = dict_map[\"markers\"][1][\"location\"][\"longitude\"]\n",
    "\n",
    "    category= results_business_page.find(\"span\", class_ = 'category-str-list').find('a').get_text()\n",
    "        \n",
    "    try:\n",
    "        price_range = results_business_page.find(\"span\", class_ = 'business-attribute price-range').get_text()\n",
    "    except:\n",
    "        price_range = None\n",
    "        \n",
    "    ratings = results_business_page.find(\"div\", itemprop = 'aggregateRating')\n",
    "    rating_value = ratings.find(\"meta\").get('content')\n",
    "    review_count = ratings.find(\"span\").get_text()\n",
    "    \n",
    "    try:\n",
    "        phone_number = results_business_page.find('span',itemprop = \"telephone\").get_text().strip()\n",
    "    except:\n",
    "        phone_number = None\n",
    "        \n",
    "    try:\n",
    "        open_ = results_business_page.find('span', class_ = \"nowrap extra open\").get_text()\n",
    "    except:\n",
    "        open_ = None\n",
    "    try:\n",
    "        web = results_business_page.find('span', class_ = \"biz-website js-biz-website js-add-url-tagging\").find('a').get_text()\n",
    "    except:\n",
    "        web = None\n",
    "        \n",
    "    return(addr,latitude,longitude,category,price_range,rating_value,review_count,phone_number,open_,web)\n",
    "    "
   ]
  },
  {
   "cell_type": "code",
   "execution_count": null,
   "metadata": {},
   "outputs": [],
   "source": [
    "#test the function on cafe mogador\n",
    "restaurant_url = \"https://www.yelp.com/biz/cafe-mogador-brooklyn?osq=Restaurants\"\n",
    "get_info(restaurant_url)"
   ]
  },
  {
   "cell_type": "code",
   "execution_count": 29,
   "metadata": {},
   "outputs": [],
   "source": [
    "#Get a list of url links of all businesses (or maybe the first 30)\n",
    "#so that we could compile a list of details on, for example, the first 30 search-result restaurants\n",
    "\n",
    "def linklist():\n",
    "    link_list = []\n",
    "    for i in range(1,len(businesses)):\n",
    "        business = businesses[i]\n",
    "        link = 'https://www.yelp.com' + business.get('href')\n",
    "        link_list.append(link)\n",
    "    return link_list"
   ]
  },
  {
   "cell_type": "code",
   "execution_count": 30,
   "metadata": {},
   "outputs": [
    {
     "data": {
      "text/plain": [
       "['https://www.yelp.com/biz/santouka-back-bay-boston-2?osq=ramen',\n",
       " 'https://www.yelp.com/biz/neponset-cafe-boston-2?osq=ramen',\n",
       " 'https://www.yelp.com/biz/amateras-ramen-boston?osq=ramen',\n",
       " 'https://www.yelp.com/biz/santouka-harvard-square-cambridge-3?osq=ramen',\n",
       " 'https://www.yelp.com/biz/wens-noodle-and-ramen-%E8%BF%87%E6%A1%A5%E7%B1%B3%E7%BA%BF-boston?osq=ramen',\n",
       " 'https://www.yelp.com/biz/soup-shack-boston?osq=ramen',\n",
       " 'https://www.yelp.com/biz/ganko-ittetsu-ramen-brookline?osq=ramen',\n",
       " 'https://www.yelp.com/biz/oisa-ramen-boston-2?osq=ramen',\n",
       " 'https://www.yelp.com/biz/yume-wo-katare-cambridge-2?osq=ramen',\n",
       " 'https://www.yelp.com/biz/shabu-and-mein-cambridge-3?osq=ramen',\n",
       " 'https://www.yelp.com/biz/ruckus-boston-2?osq=ramen',\n",
       " 'https://www.yelp.com/biz/tsurumen-davis-somerville?osq=ramen',\n",
       " 'https://www.yelp.com/biz/pikaichi-medford-2?osq=ramen',\n",
       " 'https://www.yelp.com/biz/sakura-sunakku-boston?osq=ramen',\n",
       " 'https://www.yelp.com/biz/shin-hakata-ramen-boston-2?osq=ramen',\n",
       " 'https://www.yelp.com/biz/shojo-boston-2?osq=ramen',\n",
       " 'https://www.yelp.com/biz/hakata-ramen-and-sushi-waltham-2?osq=ramen',\n",
       " 'https://www.yelp.com/biz/chiharu-brookline?osq=ramen',\n",
       " 'https://www.yelp.com/biz/sushi-kappo-boston?osq=ramen',\n",
       " 'https://www.yelp.com/biz/noodle-lab-boston?osq=ramen',\n",
       " 'https://www.yelp.com/biz/ittoku-boston?osq=ramen',\n",
       " 'https://www.yelp.com/biz/snappy-kitchen-somerville?osq=ramen',\n",
       " 'https://www.yelp.com/biz/sapporo-ramen-cambridge?osq=ramen',\n",
       " 'https://www.yelp.com/biz/totto-ramen-allston-2?osq=ramen',\n",
       " 'https://www.yelp.com/biz/hakata-ramen-quincy-3?osq=ramen',\n",
       " 'https://www.yelp.com/biz/wens-yunnan-noodle-and-ramen-boston-7?osq=ramen',\n",
       " 'https://www.yelp.com/biz/one-ramen-and-sushi-cambridge-2?osq=ramen',\n",
       " 'https://www.yelp.com/biz/fairy-cafe-quincy?osq=ramen',\n",
       " 'https://www.yelp.com/biz/yume-ga-arukara-cambridge-2?osq=ramen',\n",
       " 'https://www.yelp.com/biz/shuns-kitchen-boston-2?osq=ramen']"
      ]
     },
     "execution_count": 30,
     "metadata": {},
     "output_type": "execute_result"
    }
   ],
   "source": [
    "linklist()"
   ]
  },
  {
   "cell_type": "code",
   "execution_count": null,
   "metadata": {},
   "outputs": [],
   "source": []
  }
 ],
 "metadata": {
  "kernelspec": {
   "display_name": "Python 3",
   "language": "python",
   "name": "python3"
  },
  "language_info": {
   "codemirror_mode": {
    "name": "ipython",
    "version": 3
   },
   "file_extension": ".py",
   "mimetype": "text/x-python",
   "name": "python",
   "nbconvert_exporter": "python",
   "pygments_lexer": "ipython3",
   "version": "3.6.5"
  }
 },
 "nbformat": 4,
 "nbformat_minor": 2
}
